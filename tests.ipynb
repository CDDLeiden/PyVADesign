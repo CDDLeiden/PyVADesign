{
 "cells": [
  {
   "cell_type": "markdown",
   "metadata": {},
   "source": [
    "### 1. Importing Required Modules and Packages"
   ]
  },
  {
   "cell_type": "code",
   "execution_count": 44,
   "metadata": {},
   "outputs": [],
   "source": [
    "import os\n",
    "import sys\n",
    "\n",
    "sys.path.append('..')\n",
    "os.environ[\"OMP_NUM_THREADS\"] = '1'  # KMeans is not parallelized, so set to 1 thread\n",
    "\n",
    "from src.mutation import Mutation\n",
    "from src.sequence import Vector, Gene\n",
    "from src.eblocks import Eblock, EblockDesign\n",
    "import biotite.sequence as seq\n",
    "from src.primer import DesignPrimers\n",
    "from src.plot import Plot\n",
    "\n",
    "%reload_ext autoreload\n",
    "%autoreload 2"
   ]
  },
  {
   "cell_type": "markdown",
   "metadata": {},
   "source": [
    "### 2. Loading and Analyzing the Gene Sequence\n",
    "\n",
    "The desired mutations should be added to a txt file. \n",
    "Here, we create a Mutation() object and parse the specified mutations. "
   ]
  },
  {
   "cell_type": "code",
   "execution_count": 46,
   "metadata": {},
   "outputs": [
    {
     "name": "stdout",
     "output_type": "stream",
     "text": [
      "The selected mutations are:\n",
      "\tCombined  \tG53E, I87F, A96H\n",
      "\tMutation  \tQ94Q      \n",
      "\tMutation  \tY105W     \n",
      "\tDeletion  \tN114-G117 \n",
      "\tCombined  \tE150N, L169I, S160G, F192R, A179G\n",
      "\tInsert    \tG161-WQLNTLHY\n",
      "\tInsert    \tE162-ASNVCEEG\n",
      "\tInsert    \tR173-VRR  \n",
      "\tInsert    \tA175-GF   \n",
      "\tCombined  \tA179F, H198K, I185K, R215W\n",
      "\tCombined  \tE194G, C243D, A240P, H236K, T201F\n",
      "\tMutation  \tD233Y     \n",
      "\tDeletion  \tI274-D276 \n",
      "\tDeletion  \tS354-F357 \n",
      "\tDeletion  \tS369-G375 \n",
      "\tDeletion  \tE433-Y437 \n",
      "\tInsert    \tI477-SS   \n",
      "\tInsert    \tA478-PMCLKPSE\n",
      "\tMutation  \tE509F     \n",
      "\tCombined  \tA511A, E534T, P559V, E552C\n",
      "\tMutation  \tQ528Y     \n",
      "\tDeletion  \tA530-G532 \n",
      "\tDeletion  \tA540-A546 \n",
      "\tMutation  \tI596W     \n",
      "\tCombined  \tG609I, P618L, Y625M, L612T\n",
      "\tInsert    \tL627-QQVN \n",
      "\tCombined  \tL628F, G669V\n",
      "\tCombined  \tV636W, K683H, V660D\n",
      "\tCombined  \tD640A, Y679G, K683A, P643T, D681M\n",
      "\tCombined  \tG655Y, R686R\n",
      "\tMutation  \tK742V     \n",
      "\tMutation  \tL801M     \n",
      "\tMutation  \tA824R     \n",
      "\tDeletion  \tK910-A913 \n",
      "\tDeletion  \tG951-T957 \n",
      "\tInsert    \tG956-SGYHATFC\n",
      "\tInsert    \tG1028-NPKCDKWGD\n",
      "\tInsert    \tA1092-SYVYGTA\n",
      "\tMutation  \tV1126H    \n",
      "\tDeletion  \tD1150-A1156\n"
     ]
    }
   ],
   "source": [
    "# Create a Mutation object and parse the input mutations from the files/ directory\n",
    "\n",
    "mutations_file = \"/zfsdata/data/rosan/eBlocks/testset_input/Mtb_pINIT_DnaE1/datasets/N10/N10_9_mutations.txt\"\n",
    "\n",
    "mutation_instance = Mutation()\n",
    "mutation_instance.parse_mutations(mutations_file)\n",
    "\n",
    "# Print the mutations that were parsed\n",
    "mutation_instance.print_mutations()"
   ]
  },
  {
   "cell_type": "markdown",
   "metadata": {},
   "source": [
    "Next, we read the gene sequence and the vector that contains our gene of interest."
   ]
  },
  {
   "cell_type": "code",
   "execution_count": 47,
   "metadata": {},
   "outputs": [],
   "source": [
    "# Create a Plasmid object and parse the input plasmid from the files/ directory\n",
    "\n",
    "# Read sequence\n",
    "sequence_file = \"/zfsdata/data/rosan/eBlocks/testset_input/Mtb_pINIT_DnaE1/A0QX55.fasta\"\n",
    "vector_file = \"/zfsdata/data/rosan/eBlocks/testset_input/Mtb_pINIT_DnaE1/dnae1-pinit.gb\"\n",
    "\n",
    "gene_instance = Gene()\n",
    "gene_instance.parse_sequence(sequence_file)\n",
    "vector_instance = Vector(gene=gene_instance)\n",
    "vector_instance.parse_vector(vector_file)"
   ]
  },
  {
   "cell_type": "markdown",
   "metadata": {},
   "source": [
    "We also define an output directory for the generated files and create a snapgene object for visualization"
   ]
  },
  {
   "cell_type": "markdown",
   "metadata": {},
   "source": [
    "We create an eBlockDesign instance that can initiate the design of the eblocks. Here, we choose as optimization method cost_optimization that aims to use as little basepairs as possible. Another option would be to do amount_optimization, that aims to cluster as many mutations as possible together, to get the lowest number of different eBlocks"
   ]
  },
  {
   "cell_type": "code",
   "execution_count": 48,
   "metadata": {},
   "outputs": [],
   "source": [
    "# Create an Eblocks object based on the input mutations and the gene sequence\n",
    "\n",
    "output_dir = \"/zfsdata/data/rosan/eBlocks/testset_output/Mtb_pINIT_DnaE1/N10\"\n",
    "\n",
    "design_instance = EblockDesign(mutation_instance=mutation_instance,\n",
    "                            gene_instance=gene_instance,\n",
    "                            vector_instance=vector_instance,\n",
    "                            output_dir=output_dir,\n",
    "                            verbose=True,\n",
    "                            cost_optimization=True,\n",
    "                            amount_optimization=False)"
   ]
  },
  {
   "cell_type": "code",
   "execution_count": null,
   "metadata": {},
   "outputs": [],
   "source": [
    "# Create a Plots object and check the input vector\n",
    "\n",
    "# Create the Plot object\n",
    "plot_instance = Plot(mutation_instance=mutation_instance,\n",
    "                    eblocks_design_instance=design_instance,\n",
    "                    vector_instance=vector_instance,\n",
    "                    gene_instance=gene_instance,\n",
    "                    output_dir=output_dir,\n",
    "                    show=True)\n",
    "\n",
    "# Check the input vector\n",
    "# plot_instance.plot_vector(figsize=(5, 5))"
   ]
  },
  {
   "cell_type": "code",
   "execution_count": null,
   "metadata": {},
   "outputs": [],
   "source": [
    "# Run the eBlocks design and print the results\n",
    "# design_instance.max_eblock_length = 1400\n",
    "design_instance.run_design_eblocks()\n"
   ]
  },
  {
   "cell_type": "code",
   "execution_count": null,
   "metadata": {},
   "outputs": [],
   "source": [
    "plot_instance.plot_eblocks_mutations(figure_length=25,\n",
    "                                     figure_width=5)"
   ]
  },
  {
   "cell_type": "code",
   "execution_count": null,
   "metadata": {},
   "outputs": [],
   "source": [
    "# Primer3 settings\n",
    "settingsfile = '/home/rosan/git/design_gene_blocks/settings/primer3-settings-mild.txt'\n",
    "seq_settingsfile = '/home/rosan/git/design_gene_blocks/settings/primer3-seq-settings.txt'\n",
    "\n",
    "primers_instance = DesignPrimers(mutation_instance=mutation_instance,\n",
    "                eblocks_design_instance=design_instance,\n",
    "                primers_settingsfile=settingsfile,\n",
    "                seqprimers_settingsfile=seq_settingsfile,\n",
    "                vector_instance=vector_instance,\n",
    "                output_dir=output_dir)\n",
    "\n",
    "primers_instance.run_design()"
   ]
  },
  {
   "cell_type": "markdown",
   "metadata": {},
   "source": [
    "In the process, for each mutation a different eBlock is created and a .gb file is made to easily view the clone in a sequence editor. "
   ]
  },
  {
   "cell_type": "markdown",
   "metadata": {},
   "source": []
  },
  {
   "cell_type": "code",
   "execution_count": null,
   "metadata": {},
   "outputs": [],
   "source": [
    "sequence_file = 'files/A0QX55.fasta'\n",
    "vector_file = 'files/vector.dna'\n",
    "\n",
    "sequence_instance = Plasmid()\n",
    "sequence_instance.parse_vector(vector_file)\n",
    "sequence_instance.parse_sequence(sequence_file)\n",
    "\n",
    "sequence_instance.description"
   ]
  },
  {
   "cell_type": "code",
   "execution_count": 23,
   "metadata": {},
   "outputs": [],
   "source": [
    "from Bio import SeqIO\n",
    "\n",
    "def read_single_fasta(fp: str) -> str:\n",
    "    \"\"\"\n",
    "    This function reads a single fasta file and returns the sequence.\n",
    "    \"\"\"\n",
    "    for num, record in enumerate(SeqIO.parse(fp, \"fasta\")):\n",
    "        sequence = record.seq\n",
    "        seqid = record.id\n",
    "        if num > 0:\n",
    "            raise ValueError(\"Please provide a single sequence in FASTA format.\")\n",
    "    return sequence, seqid\n",
    "\n",
    "def read_single_fasta(fp: str) -> str:\n",
    "    \"\"\"\n",
    "    This function reads a single fasta file and returns the sequence.\n",
    "    \"\"\"\n",
    "    record = next(SeqIO.parse(fp, \"fasta\"))  # Read the first and only record\n",
    "    sequence = record.seq\n",
    "    seqid = record.id\n",
    "    return sequence, seqid"
   ]
  },
  {
   "cell_type": "code",
   "execution_count": null,
   "metadata": {},
   "outputs": [],
   "source": [
    "seq, seqid = read_single_fasta(sequence_file)\n",
    "print(seq, seqid)\n",
    "seq, seqid = read_single_fasta2(sequence_file)\n",
    "print(seq, seqid)"
   ]
  },
  {
   "cell_type": "code",
   "execution_count": null,
   "metadata": {},
   "outputs": [],
   "source": []
  }
 ],
 "metadata": {
  "kernelspec": {
   "display_name": "design_gene_blocks",
   "language": "python",
   "name": "python3"
  },
  "language_info": {
   "codemirror_mode": {
    "name": "ipython",
    "version": 3
   },
   "file_extension": ".py",
   "mimetype": "text/x-python",
   "name": "python",
   "nbconvert_exporter": "python",
   "pygments_lexer": "ipython3",
   "version": "3.10.15"
  }
 },
 "nbformat": 4,
 "nbformat_minor": 2
}
