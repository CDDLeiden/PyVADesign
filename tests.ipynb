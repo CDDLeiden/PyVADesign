{
 "cells": [
  {
   "cell_type": "markdown",
   "metadata": {},
   "source": [
    "### 1. Importing Required Modules and Packages"
   ]
  },
  {
   "cell_type": "code",
   "execution_count": 2,
   "metadata": {},
   "outputs": [],
   "source": [
    "import os\n",
    "import sys\n",
    "\n",
    "sys.path.append('..')\n",
    "os.environ[\"OMP_NUM_THREADS\"] = '1'  # KMeans is not parallelized, so set to 1 thread\n",
    "\n",
    "from src.mutation import Mutation\n",
    "from src.sequence import Plasmid\n",
    "from src.eblocks import Eblock, EblockDesign\n",
    "import biotite.sequence as seq\n",
    "from src.primer import DesignPrimers\n",
    "from src.plot import Plot\n",
    "from src.utils import Utils, SnapGene\n",
    "\n",
    "%reload_ext autoreload\n",
    "%autoreload 2"
   ]
  },
  {
   "cell_type": "markdown",
   "metadata": {},
   "source": [
    "### 2. Loading and Analyzing the Gene Sequence\n",
    "\n",
    "The desired mutations should be added to a txt file. \n",
    "Here, we create a Mutation() object and parse the specified mutations. "
   ]
  },
  {
   "cell_type": "code",
   "execution_count": null,
   "metadata": {},
   "outputs": [],
   "source": [
    "# Create a Mutation object and parse the input mutations from the files/ directory\n",
    "\n",
    "mutations_file = 'files/mutations.txt'\n",
    "\n",
    "mutation_instance = Mutation()\n",
    "mutation_instance.parse_mutations(mutations_file)\n",
    "\n",
    "# Print the mutations that were parsed\n",
    "mutation_instance.print_mutations()"
   ]
  },
  {
   "cell_type": "markdown",
   "metadata": {},
   "source": [
    "Next, we read the gene sequence and the vector that contains our gene of interest."
   ]
  },
  {
   "cell_type": "code",
   "execution_count": null,
   "metadata": {},
   "outputs": [],
   "source": [
    "# Create a Plasmid object and parse the input plasmid from the files/ directory\n",
    "\n",
    "sequence_file = 'files/A0QX55.fasta'\n",
    "vector_file = 'files/vector.dna'\n",
    "\n",
    "sequence_instance = Plasmid()\n",
    "sequence_instance.parse_vector(vector_file)\n",
    "sequence_instance.parse_sequence(sequence_file)"
   ]
  },
  {
   "cell_type": "markdown",
   "metadata": {},
   "source": [
    "We also define an output directory for the generated files and create a snapgene object for visualization"
   ]
  },
  {
   "cell_type": "code",
   "execution_count": 5,
   "metadata": {},
   "outputs": [],
   "source": [
    "# Create a SnapGene instance to write the eBlocks features to a snapgene file\n",
    "\n",
    "# Set output directory\n",
    "output_dir = '0925-output'\n",
    "\n",
    "snapgene_instance = SnapGene(sequence_instance=sequence_instance,\n",
    "                             output_dir=output_dir)"
   ]
  },
  {
   "cell_type": "markdown",
   "metadata": {},
   "source": [
    "We create an eBlockDesign instance that can initiate the design of the eblocks. Here, we choose as optimization method cost_optimization that aims to use as little basepairs as possible. Another option would be to do amount_optimization, that aims to cluster as many mutations as possible together, to get the lowest number of different eBlocks"
   ]
  },
  {
   "cell_type": "code",
   "execution_count": 6,
   "metadata": {},
   "outputs": [],
   "source": [
    "# Create an Eblocks object based on the input mutations and the gene sequence\n",
    "\n",
    "design_instance = EblockDesign(mutation_instance=mutation_instance,\n",
    "                               sequence_instance=sequence_instance,\n",
    "                               output_dir=output_dir,\n",
    "                               verbose=True,\n",
    "                               cost_optimization=False,\n",
    "                               amount_optimization=True)"
   ]
  },
  {
   "cell_type": "code",
   "execution_count": null,
   "metadata": {},
   "outputs": [],
   "source": [
    "# Create a Plots object and check the input vector\n",
    "\n",
    "# Create the Plot object\n",
    "plot_instance = Plot(mutation_instance=mutation_instance,\n",
    "                     eblocks_design_instance=design_instance,\n",
    "                     sequence_instance=sequence_instance,\n",
    "                     output_dir=output_dir,\n",
    "                     show=True)\n",
    "\n",
    "# Check the input vector\n",
    "plot_instance.plot_vector(figsize=(5, 5));"
   ]
  },
  {
   "cell_type": "code",
   "execution_count": 8,
   "metadata": {},
   "outputs": [],
   "source": [
    "# TODO Add DnaE1 gene sequence to vector\n",
    "# TODO What are the other things in the vector that do not have a name?"
   ]
  },
  {
   "cell_type": "markdown",
   "metadata": {},
   "source": [
    "In our vector we can see that our vector contains the SacB gene, has an origin of replication and contains a CmR (chloramphenicol) resistance marker"
   ]
  },
  {
   "cell_type": "code",
   "execution_count": 9,
   "metadata": {},
   "outputs": [],
   "source": [
    "\n",
    "# TODO Show eBlocks in vector as well\n",
    "# TODO Add plasmid visaulization of eBlock features\n",
    "\n",
    "\n",
    "# from Bio import SeqIO\n",
    "# from Bio.Graphics import GenomeDiagram\n",
    "# from Bio.SeqFeature import SeqFeature, FeatureLocation\n",
    "\n",
    "# # Parse the plasmid sequence\n",
    "# plasmid_seq_record = SeqIO.read(\"plasmid_sequence.fasta\", \"fasta\")\n",
    "\n",
    "# # Create a GenomeDiagram object\n",
    "# gd_diagram = GenomeDiagram.Diagram(\"Plasmid Map\")\n",
    "\n",
    "# # Add the sequence track\n",
    "# gd_track = gd_diagram.new_track(1, name=\"Plasmid\")\n",
    "# gd_feature_set = gd_track.new_set()\n",
    "\n",
    "# # Add the plasmid sequence\n",
    "# gd_feature_set.add_feature(SeqFeature(FeatureLocation(0, len(plasmid_seq_record))), color=\"black\")\n",
    "\n",
    "# # Parse the GFF3 file to extract features\n",
    "# # Assuming you have a function parse_gff3() that returns feature information\n",
    "# features = parse_gff3(\"plasmid_features.gff3\")\n",
    "\n",
    "# # Add the features to the plasmid map\n",
    "# for feature in features:\n",
    "#     start = feature.start\n",
    "#     end = feature.end\n",
    "#     name = feature.attributes[\"Name\"]\n",
    "#     gd_feature_set.add_feature(SeqFeature(FeatureLocation(start, end)), color=\"blue\", label=True, label_position=\"middle\", label_size=8, label_angle=0, label_strand=0, name=name)\n",
    "\n",
    "# # Draw the plasmid map\n",
    "# gd_diagram.draw(format=\"linear\", pagesize=(15*len(plasmid_seq_record), 400), fragments=1)\n",
    "# gd_diagram.write(\"plasmid_map.png\", \"png\")\n"
   ]
  },
  {
   "cell_type": "code",
   "execution_count": null,
   "metadata": {},
   "outputs": [],
   "source": [
    "# Run the eBlocks design and print the results\n",
    "\n",
    "design_instance.run_design_eblocks()"
   ]
  },
  {
   "cell_type": "markdown",
   "metadata": {},
   "source": [
    "In the process, for each mutation a different eBlock is created and a .gb file is made to easily view the clone in a sequence editor. "
   ]
  },
  {
   "cell_type": "markdown",
   "metadata": {},
   "source": []
  },
  {
   "cell_type": "code",
   "execution_count": null,
   "metadata": {},
   "outputs": [],
   "source": [
    "# Now that we have designed the eblocks, we can visualize them using the Plot class\n",
    "\n",
    "plot_instance.plot_eblocks_mutations(figure_length=20,\n",
    "                                     figure_width=5)"
   ]
  },
  {
   "cell_type": "code",
   "execution_count": null,
   "metadata": {},
   "outputs": [],
   "source": [
    "sequence_file = 'files/A0QX55.fasta'\n",
    "vector_file = 'files/vector.dna'\n",
    "\n",
    "sequence_instance = Plasmid()\n",
    "sequence_instance.parse_vector(vector_file)\n",
    "sequence_instance.parse_sequence(sequence_file)\n",
    "\n",
    "sequence_instance.description"
   ]
  },
  {
   "cell_type": "code",
   "execution_count": 23,
   "metadata": {},
   "outputs": [],
   "source": [
    "from Bio import SeqIO\n",
    "\n",
    "def read_single_fasta(fp: str) -> str:\n",
    "    \"\"\"\n",
    "    This function reads a single fasta file and returns the sequence.\n",
    "    \"\"\"\n",
    "    for num, record in enumerate(SeqIO.parse(fp, \"fasta\")):\n",
    "        sequence = record.seq\n",
    "        seqid = record.id\n",
    "        if num > 0:\n",
    "            raise ValueError(\"Please provide a single sequence in FASTA format.\")\n",
    "    return sequence, seqid\n",
    "\n",
    "def read_single_fasta(fp: str) -> str:\n",
    "    \"\"\"\n",
    "    This function reads a single fasta file and returns the sequence.\n",
    "    \"\"\"\n",
    "    record = next(SeqIO.parse(fp, \"fasta\"))  # Read the first and only record\n",
    "    sequence = record.seq\n",
    "    seqid = record.id\n",
    "    return sequence, seqid"
   ]
  },
  {
   "cell_type": "code",
   "execution_count": null,
   "metadata": {},
   "outputs": [],
   "source": [
    "seq, seqid = read_single_fasta(sequence_file)\n",
    "print(seq, seqid)\n",
    "seq, seqid = read_single_fasta2(sequence_file)\n",
    "print(seq, seqid)"
   ]
  },
  {
   "cell_type": "code",
   "execution_count": null,
   "metadata": {},
   "outputs": [],
   "source": []
  }
 ],
 "metadata": {
  "kernelspec": {
   "display_name": "eblocks_3",
   "language": "python",
   "name": "python3"
  },
  "language_info": {
   "codemirror_mode": {
    "name": "ipython",
    "version": 3
   },
   "file_extension": ".py",
   "mimetype": "text/x-python",
   "name": "python",
   "nbconvert_exporter": "python",
   "pygments_lexer": "ipython3",
   "version": "3.12.3"
  }
 },
 "nbformat": 4,
 "nbformat_minor": 2
}
