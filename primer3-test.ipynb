{
 "cells": [
  {
   "cell_type": "markdown",
   "metadata": {},
   "source": [
    "### 1. Importing Required Modules and Packages"
   ]
  },
  {
   "cell_type": "code",
   "execution_count": 1,
   "metadata": {},
   "outputs": [],
   "source": [
    "import os\n",
    "import sys\n",
    "\n",
    "from src.mutation import Mutation\n",
    "from src.sequence import Vector, Gene\n",
    "from src.eblocks import Eblock, EblockDesign\n",
    "import biotite.sequence as seq\n",
    "from src.primer import DesignPrimers\n",
    "from src.plot import Plot\n",
    "from src.utils import SnapGene\n",
    "\n",
    "%reload_ext autoreload\n",
    "%autoreload 2"
   ]
  },
  {
   "cell_type": "markdown",
   "metadata": {},
   "source": [
    "### 2. Loading and Analyzing the Gene Sequence\n",
    "\n",
    "The desired mutations should be added to a txt file. \n",
    "Here, we create a Mutation() object and parse the specified mutations. "
   ]
  },
  {
   "cell_type": "code",
   "execution_count": 2,
   "metadata": {},
   "outputs": [
    {
     "name": "stdout",
     "output_type": "stream",
     "text": [
      "The selected mutations are:\n",
      "\tMutation  \tS5K       \n",
      "\tMutation  \tV35Y      \n",
      "\tMutation  \tT84Y      \n",
      "\tInsert    \tR204-FTSMM\n",
      "\tMutation  \tS251R     \n",
      "\tCombined  \tS267M, D276I, D304L\n",
      "\tDeletion  \tS285-Q294 \n",
      "\tMutation  \tD326M     \n",
      "\tMutation  \tA327G     \n",
      "\tMutation  \tI352C     \n",
      "\tMutation  \tP380Y     \n",
      "\tMutation  \tR416H     \n",
      "\tMutation  \tD428G     \n",
      "\tMutation  \tY507V     \n",
      "\tInsert    \tG535-DDVIIC\n",
      "\tMutation  \tE556R     \n",
      "\tCombined  \tN593I, L639S, G635L, S616V, D640E, V617L, P618G, L619V\n",
      "\tMutation  \tD611G     \n",
      "\tMutation  \tP694P     \n",
      "\tMutation  \tQ716L     \n",
      "\tMutation  \tV867L     \n",
      "\tDeletion  \tA899-V904 \n",
      "\tCombined  \tV968Q, I1013Y\n",
      "\tMutation  \tL1002K    \n",
      "\tMutation  \tL1052E    \n",
      "\tMutation  \tF1061T    \n",
      "\tMutation  \tV1084M    \n",
      "\tMutation  \tL1157T    \n"
     ]
    }
   ],
   "source": [
    "# Create a Mutation object and parse the input mutations from the files/ directory\n",
    "\n",
    "mutations_file = os.path.join('example_data', 'Msmegmatis_DnaE1', 'Msmegmatis_DnaE1_mutations_N=27.txt')\n",
    "\n",
    "mutation_instance = Mutation()\n",
    "mutation_instance.parse_mutations(mutations_file)\n",
    "\n",
    "# Print the mutations that were parsed\n",
    "mutation_instance.print_mutations()"
   ]
  },
  {
   "cell_type": "markdown",
   "metadata": {},
   "source": [
    "Next, we read the gene sequence and the vector that contains our gene of interest."
   ]
  },
  {
   "cell_type": "code",
   "execution_count": 3,
   "metadata": {},
   "outputs": [
    {
     "name": "stdout",
     "output_type": "stream",
     "text": [
      "7871\n"
     ]
    }
   ],
   "source": [
    "# Create a Plasmid object and parse the input plasmid from the files/ directory\n",
    "\n",
    "sequence_file = os.path.join('example_data', 'Msmegmatis_DnaE1', 'A0QX55.fasta')\n",
    "vector_file = os.path.join('example_data', 'Msmegmatis_DnaE1', 'vector.dna')\n",
    "\n",
    "gene_instance = Gene()\n",
    "gene_instance.parse_sequence(sequence_file)\n",
    "\n",
    "vector_instance = Vector(gene=gene_instance)\n",
    "vector_instance.parse_vector(vector_file)\n",
    "print(vector_instance.length)"
   ]
  },
  {
   "cell_type": "markdown",
   "metadata": {},
   "source": [
    "We also define an output directory for the generated files and create a snapgene object for visualization"
   ]
  },
  {
   "cell_type": "code",
   "execution_count": 4,
   "metadata": {},
   "outputs": [],
   "source": [
    "# Create a SnapGene instance to write the eBlocks features to a snapgene file\n",
    "\n",
    "# Set output directory\n",
    "output_dir = os.path.join('tutorial_output')\n",
    "\n",
    "snapgene_instance = SnapGene(vector_instance=vector_instance,\n",
    "                             gene_instance=gene_instance,\n",
    "                             output_dir=output_dir)"
   ]
  },
  {
   "cell_type": "markdown",
   "metadata": {},
   "source": [
    "We create an eBlockDesign instance that can initiate the design of the eblocks. Here, we choose as optimization method cost_optimization that aims to use as little basepairs as possible. Another option would be to do amount_optimization, that aims to cluster as many mutations as possible together, to get the lowest number of different eBlocks"
   ]
  },
  {
   "cell_type": "code",
   "execution_count": 5,
   "metadata": {},
   "outputs": [],
   "source": [
    "# Create an Eblocks object based on the input mutations and the gene sequence\n",
    "\n",
    "design_instance = EblockDesign(mutation_instance=mutation_instance,\n",
    "                               vector_instance=vector_instance,\n",
    "                               gene_instance=gene_instance,\n",
    "                               output_dir=output_dir,\n",
    "                               verbose=False,\n",
    "                               cost_optimization=False,\n",
    "                               amount_optimization=True)"
   ]
  },
  {
   "cell_type": "code",
   "execution_count": 6,
   "metadata": {},
   "outputs": [],
   "source": [
    "# TODO Add DnaE1 gene sequence to vector\n",
    "# TODO What are the other things in the vector that do not have a name?"
   ]
  },
  {
   "cell_type": "markdown",
   "metadata": {},
   "source": [
    "In our vector we can see that our vector contains the SacB gene, has an origin of replication and contains a CmR (chloramphenicol) resistance marker"
   ]
  },
  {
   "cell_type": "code",
   "execution_count": 7,
   "metadata": {},
   "outputs": [
    {
     "ename": "KeyboardInterrupt",
     "evalue": "",
     "output_type": "error",
     "traceback": [
      "\u001b[1;31m---------------------------------------------------------------------------\u001b[0m",
      "\u001b[1;31mKeyboardInterrupt\u001b[0m                         Traceback (most recent call last)",
      "Cell \u001b[1;32mIn[7], line 3\u001b[0m\n\u001b[0;32m      1\u001b[0m \u001b[38;5;66;03m# Run the eBlocks design and print the results\u001b[39;00m\n\u001b[1;32m----> 3\u001b[0m \u001b[43mdesign_instance\u001b[49m\u001b[38;5;241;43m.\u001b[39;49m\u001b[43mrun_design_eblocks\u001b[49m\u001b[43m(\u001b[49m\u001b[43m)\u001b[49m\n",
      "File \u001b[1;32mc:\\Users\\Rosan\\Documents\\git\\my_repositories\\design_gene_blocks\\src\\eblocks.py:106\u001b[0m, in \u001b[0;36mEblockDesign.run_design_eblocks\u001b[1;34m(self)\u001b[0m\n\u001b[0;32m    102\u001b[0m \u001b[38;5;28mself\u001b[39m\u001b[38;5;241m.\u001b[39mprint_line(\u001b[38;5;124mf\u001b[39m\u001b[38;5;124m\"\u001b[39m\u001b[38;5;124mCalculating relative codon frequencies, based on the selected genome id \u001b[39m\u001b[38;5;132;01m{\u001b[39;00m\u001b[38;5;28mself\u001b[39m\u001b[38;5;241m.\u001b[39mcodon_usage\u001b[38;5;132;01m}\u001b[39;00m\u001b[38;5;124m ...\u001b[39m\u001b[38;5;124m\"\u001b[39m)\n\u001b[0;32m    103\u001b[0m codonusage \u001b[38;5;241m=\u001b[39m CodonUsage(\n\u001b[0;32m    104\u001b[0m     genome_id\u001b[38;5;241m=\u001b[39m\u001b[38;5;28mself\u001b[39m\u001b[38;5;241m.\u001b[39mcodon_usage,\n\u001b[0;32m    105\u001b[0m     output_dir\u001b[38;5;241m=\u001b[39m\u001b[38;5;28mself\u001b[39m\u001b[38;5;241m.\u001b[39moutput_dir)\n\u001b[1;32m--> 106\u001b[0m \u001b[38;5;28mself\u001b[39m\u001b[38;5;241m.\u001b[39mmost_abundant_codons \u001b[38;5;241m=\u001b[39m \u001b[43mcodonusage\u001b[49m\u001b[38;5;241;43m.\u001b[39;49m\u001b[43mrun\u001b[49m\u001b[43m(\u001b[49m\u001b[43m)\u001b[49m\n\u001b[0;32m    108\u001b[0m \u001b[38;5;28mself\u001b[39m\u001b[38;5;241m.\u001b[39mprint_line(\u001b[38;5;124m\"\u001b[39m\u001b[38;5;124mStarting eBlock design ...\u001b[39m\u001b[38;5;124m\"\u001b[39m)  \u001b[38;5;66;03m# Divide the target gene into clusters based on the position of the mutations\u001b[39;00m\n\u001b[0;32m    109\u001b[0m cluster_instance \u001b[38;5;241m=\u001b[39m Clustering(  \n\u001b[0;32m    110\u001b[0m     mutation_instance\u001b[38;5;241m=\u001b[39m\u001b[38;5;28mself\u001b[39m\u001b[38;5;241m.\u001b[39mmutation_instance,\n\u001b[0;32m    111\u001b[0m     vector_instance\u001b[38;5;241m=\u001b[39m\u001b[38;5;28mself\u001b[39m\u001b[38;5;241m.\u001b[39mvector_instance,\n\u001b[1;32m   (...)\u001b[0m\n\u001b[0;32m    118\u001b[0m     bp_price\u001b[38;5;241m=\u001b[39m\u001b[38;5;28mself\u001b[39m\u001b[38;5;241m.\u001b[39mbp_price,\n\u001b[0;32m    119\u001b[0m     verbose\u001b[38;5;241m=\u001b[39m\u001b[38;5;28mself\u001b[39m\u001b[38;5;241m.\u001b[39mverbose)\n",
      "File \u001b[1;32mc:\\Users\\Rosan\\Documents\\git\\my_repositories\\design_gene_blocks\\src\\utils.py:185\u001b[0m, in \u001b[0;36mCodonUsage.run\u001b[1;34m(self)\u001b[0m\n\u001b[0;32m    183\u001b[0m genome \u001b[38;5;241m=\u001b[39m \u001b[38;5;28mself\u001b[39m\u001b[38;5;241m.\u001b[39mget_genome_features()\n\u001b[0;32m    184\u001b[0m codon_counter \u001b[38;5;241m=\u001b[39m CodonUsage\u001b[38;5;241m.\u001b[39mcount_codons(genome)\n\u001b[1;32m--> 185\u001b[0m codon_counter \u001b[38;5;241m=\u001b[39m \u001b[43mCodonUsage\u001b[49m\u001b[38;5;241;43m.\u001b[39;49m\u001b[43mget_codon_usage\u001b[49m\u001b[43m(\u001b[49m\u001b[43mgenome\u001b[49m\u001b[43m,\u001b[49m\u001b[43m \u001b[49m\u001b[43mcodon_counter\u001b[49m\u001b[43m)\u001b[49m\n\u001b[0;32m    186\u001b[0m relative_frequencies \u001b[38;5;241m=\u001b[39m CodonUsage\u001b[38;5;241m.\u001b[39mget_relative_frequencies(genome, codon_counter)\n\u001b[0;32m    187\u001b[0m \u001b[38;5;66;03m# self.relative_frequencies_to_csv(relative_frequencies)\u001b[39;00m\n",
      "File \u001b[1;32mc:\\Users\\Rosan\\Documents\\git\\my_repositories\\design_gene_blocks\\src\\utils.py:235\u001b[0m, in \u001b[0;36mCodonUsage.get_codon_usage\u001b[1;34m(genome, codon_counter)\u001b[0m\n\u001b[0;32m    231\u001b[0m \u001b[38;5;250m\u001b[39m\u001b[38;5;124;03m\"\"\"\u001b[39;00m\n\u001b[0;32m    232\u001b[0m \u001b[38;5;124;03mGet the codon usage of a genome\u001b[39;00m\n\u001b[0;32m    233\u001b[0m \u001b[38;5;124;03m\"\"\"\u001b[39;00m\n\u001b[0;32m    234\u001b[0m \u001b[38;5;28;01mfor\u001b[39;00m feature \u001b[38;5;129;01min\u001b[39;00m genome\u001b[38;5;241m.\u001b[39mannotation:\n\u001b[1;32m--> 235\u001b[0m     cds \u001b[38;5;241m=\u001b[39m \u001b[43mgenome\u001b[49m\u001b[43m[\u001b[49m\u001b[43mfeature\u001b[49m\u001b[43m]\u001b[49m  \u001b[38;5;66;03m# Get the coding sequence\u001b[39;00m\n\u001b[0;32m    236\u001b[0m     \u001b[38;5;28;01mif\u001b[39;00m \u001b[38;5;28mlen\u001b[39m(cds) \u001b[38;5;241m%\u001b[39m \u001b[38;5;241m3\u001b[39m \u001b[38;5;241m!=\u001b[39m \u001b[38;5;241m0\u001b[39m:  \u001b[38;5;66;03m# malformed CDS\u001b[39;00m\n\u001b[0;32m    237\u001b[0m         \u001b[38;5;28;01mcontinue\u001b[39;00m\n",
      "File \u001b[1;32mc:\\Users\\Rosan\\Anaconda3\\envs\\test-eblocks\\Lib\\site-packages\\biotite\\sequence\\annotation.py:754\u001b[0m, in \u001b[0;36mAnnotatedSequence.__getitem__\u001b[1;34m(self, index)\u001b[0m\n\u001b[0;32m    752\u001b[0m         \u001b[38;5;28;01mif\u001b[39;00m loc\u001b[38;5;241m.\u001b[39mstrand \u001b[38;5;241m==\u001b[39m Location\u001b[38;5;241m.\u001b[39mStrand\u001b[38;5;241m.\u001b[39mREVERSE:\n\u001b[0;32m    753\u001b[0m             add_seq \u001b[38;5;241m=\u001b[39m add_seq\u001b[38;5;241m.\u001b[39mreverse()\u001b[38;5;241m.\u001b[39mcomplement()\n\u001b[1;32m--> 754\u001b[0m         \u001b[43msub_seq\u001b[49m\u001b[43m \u001b[49m\u001b[38;5;241;43m+\u001b[39;49m\u001b[38;5;241;43m=\u001b[39;49m\u001b[43m \u001b[49m\u001b[43madd_seq\u001b[49m\n\u001b[0;32m    755\u001b[0m     \u001b[38;5;28;01mreturn\u001b[39;00m sub_seq\n\u001b[0;32m    757\u001b[0m \u001b[38;5;28;01melif\u001b[39;00m \u001b[38;5;28misinstance\u001b[39m(index, \u001b[38;5;28mslice\u001b[39m):\n\u001b[0;32m    758\u001b[0m     \u001b[38;5;66;03m# Sequence start correction\u001b[39;00m\n",
      "File \u001b[1;32mc:\\Users\\Rosan\\Anaconda3\\envs\\test-eblocks\\Lib\\site-packages\\biotite\\sequence\\sequence.py:339\u001b[0m, in \u001b[0;36mSequence.__add__\u001b[1;34m(self, sequence)\u001b[0m\n\u001b[0;32m    337\u001b[0m \u001b[38;5;28;01mdef\u001b[39;00m \u001b[38;5;21m__add__\u001b[39m(\u001b[38;5;28mself\u001b[39m, sequence):\n\u001b[0;32m    338\u001b[0m     \u001b[38;5;28;01mif\u001b[39;00m \u001b[38;5;28mself\u001b[39m\u001b[38;5;241m.\u001b[39mget_alphabet()\u001b[38;5;241m.\u001b[39mextends(sequence\u001b[38;5;241m.\u001b[39mget_alphabet()):\n\u001b[1;32m--> 339\u001b[0m         new_code \u001b[38;5;241m=\u001b[39m \u001b[43mnp\u001b[49m\u001b[38;5;241;43m.\u001b[39;49m\u001b[43mconcatenate\u001b[49m\u001b[43m(\u001b[49m\u001b[43m(\u001b[49m\u001b[38;5;28;43mself\u001b[39;49m\u001b[38;5;241;43m.\u001b[39;49m\u001b[43m_seq_code\u001b[49m\u001b[43m,\u001b[49m\u001b[43m \u001b[49m\u001b[43msequence\u001b[49m\u001b[38;5;241;43m.\u001b[39;49m\u001b[43m_seq_code\u001b[49m\u001b[43m)\u001b[49m\u001b[43m)\u001b[49m\n\u001b[0;32m    340\u001b[0m         new_seq \u001b[38;5;241m=\u001b[39m \u001b[38;5;28mself\u001b[39m\u001b[38;5;241m.\u001b[39mcopy(new_code)\n\u001b[0;32m    341\u001b[0m         \u001b[38;5;28;01mreturn\u001b[39;00m new_seq\n",
      "\u001b[1;31mKeyboardInterrupt\u001b[0m: "
     ]
    }
   ],
   "source": [
    "# Run the eBlocks design and print the results\n",
    "\n",
    "design_instance.run_design_eblocks()"
   ]
  },
  {
   "cell_type": "code",
   "execution_count": 9,
   "metadata": {},
   "outputs": [
    {
     "name": "stdout",
     "output_type": "stream",
     "text": [
      "eBlock-1 ccgctcttctAtgagcggttcatctgcggggtcctccttcgtgcacctgcacaaccacaccgagtattcgatgctggacggtgccgcgaagatcacgcccatgctcgccgaggtggagcggctggggatgcccgcggtggggatgaccgaccacggaaacatgttcggtgccagcgagttctacaactccgcgaccaaggccgggatcaagccgatcatcggcgtggaggcatacatcgcgccgggctcgcggttcgacacccggcgcatcctgtggggtgaccccagccaaaaggccgacgacgtctccggcagcggctcctacacgcacctgacgatgatggccgagaacgccaccggtctgcgcaacctgttcaagctgtcctcgcatgcttccttcgagggccagctgagcaagtggtcgcgcatggacgccgagctcatcgccgaacacgccgagggcatcatcatcaccaccggatgcccgtcgggggaggtgcagacccgcctgcggctcggccaggatcgggaggcgctcgaagccgcggcgaagtggcgggagatcgtcggaccggacaactacttccttgagctgatggaccacgggctgaccatcgaacgccgggtccgtgacggtctgctcgagatcggacgcgcgctcaacattccgcctcttgccaccaatgactgccactacgtgacccgcgacgccgcccacaaccatgaggctttgttgtgtgtgcagaccggcaagaccctctcggatccgaatcgcttcaagttcgacggtgacggctactacctgaagtcggccgccgagatgcgccagatctgggacgacgaagtgccgggcgcgtgtgactccaccttgttgatcgccgaacgggtgcagtcctacgccgacgtgtggacaccgcgcgaccggatgcccgtgtttccggtgcccgatgggcatgaccaggcgtcctggctgcgtcacgaggtggacgccgggcttcgccggcgatttccggccggtccgccggacgggtaccgcgagcgcgccgcctacgagatcgacgtcatctgctccaaaggtttcccatcgtactttctgatcgtcgccgacctgatcagctacgcgcggtcggcgggcataagggtgggtcccggccgcggctcggccgccggctcgctggtcgcctacgcgctgggcatcaccgacatcgacccgattccacacggtctgctgttcgagcggttcctcaaccccgagcgcacctcgatgcccgacatcgatatcgacttcgacgaccggcgccgcggtgagatggtgcgct\n",
      "eBlock-2 caccgatcccagccacgaacggtacaaggaggccgccgaggtccgcggcctgatcgaaaccgacccggacgtacgcaccatctaccagaccgcacgcgggttggaaggcctgatccgcaacgcgggtgtgcacgcctgcgcggtgatcatgagcagcgagccgctgactgaggccatcccgttgtggaagcggccgcaggacggggccatcatcaccggctgggattacccggcgtgcgaggccatcggtctgctgaaaatggacttcctgggcctgcggaacctgacgatcatcggcgacgcgatcgacaacgtcagggccaacaggggtatcgacctcgacctggaatccgtgccgctggacgacaaggccacctatgagctgctgggccgcggcgacaccctgggcgtgttccagctcgacggcgggcccatgcgcgacctgctgcgccgcatgcagccgaccgggttcgaagacgtcgtcgccgttatcgcgctgtaccggcccggcccgatgggcatgaacgcacacaacgactatgccgaccgcaagaacaaccggcaggccatcaaacctattcacccggaactcgaagaaccgctgcgcgagatcctcgccgagacctacggcctcatcgtctatcaagagcagatcatgcgcatcgcgcagaaggtgg\n",
      "eBlock-3 cgggctgggcgcggtgcgcaacgttggcgctaatgtcgtgggctcgttgctccaaacccgcaacgacaagggcaagttcaccgacttttcggactacctgaacaagatcgacatctcggcgtgcaacaagaaggtgaccgaatcgctgatcaaggcgggtgcgttcgactcgctggggcatgcccgcaagggtcttttcctggtgcacagcgatgcggtggactcggtgctgggcaccaagaaggccgaggcactggggcagttcgatctcttcggcagcaatgatgatgggaccggcaccgcagatcccgtgttcaccatcaaggtgcccgatgatgagtgggaggacaaacacaaactcgccctagagcgcgagatgctgggactgtacgtctcggggcatcccctcaacggtgtggcacacttgctggctgcccaggtcgacaccgcgatcccagcgatcctcgacggcgatgtccccaacgatgcccaagtgcgggtgggcggcatcctggcgtcggtgaaccggagggtcaacaaaaacggaatgccatgggcttcagcgcaattggaggatctcacgggcggcatcgaggtgatgttcttcccgcacacctactccagctatggtgccgacatcgtcgacgatgccgtcgtgctggtcaacgccaaggtggcggtccgtgacgaccgcatcgcattgatcgccaatgacctcacagtgcccgacttttccaacgccgaggtggagcggccgctggcggtcagcttgcccacccggcagtgcacctttgacaaggtgagtgcgctcaaacaggtgttggcgcgccaccccggcacctcgcaggtgcatctgcggctcatcagcggagaccggatcaccacgctggcacttgatcagtcgttgcgggtgacgccgt\n"
     ]
    }
   ],
   "source": [
    "for i in design_instance.wt_eblocks:\n",
    "    print(i.name, i.sequence)"
   ]
  },
  {
   "cell_type": "markdown",
   "metadata": {},
   "source": [
    "In the process, for each mutation a different eBlock is created and a .gb file is made to easily view the clone in a sequence editor. "
   ]
  },
  {
   "cell_type": "markdown",
   "metadata": {},
   "source": []
  },
  {
   "cell_type": "code",
   "execution_count": 10,
   "metadata": {},
   "outputs": [],
   "source": [
    "# Remove all files in the output directory\n",
    "import os\n",
    "import shutil\n",
    "\n",
    "def remove_all_files_and_folders(directory):\n",
    "    # Check if the directory exists\n",
    "    if os.path.exists(directory):\n",
    "        shutil.rmtree(directory)  # Remove the entire directory and its contents\n",
    "        os.makedirs(directory)      # Recreate the empty directory\n",
    "    else:\n",
    "        print(f\"The directory {directory} does not exist.\")\n",
    "\n",
    "# Specify your directory here\n",
    "remove_all_files_and_folders('tutorial_output')\n"
   ]
  },
  {
   "cell_type": "code",
   "execution_count": 8,
   "metadata": {},
   "outputs": [
    {
     "name": "stdout",
     "output_type": "stream",
     "text": [
      "7871\n",
      "1509\n",
      "677\n"
     ]
    }
   ],
   "source": [
    "# try primer3\n",
    "\n",
    "import primer3\n",
    "\n",
    "# Your sequence\n",
    "sequence = \"tggccgctcttctAtgagcggttcatctgcggggtcctccttcgtgcacctgcacaaccacaccgagtattcgatgctggacggtgccgcgaagatcacgcccatgctcgccgaggtggagcggctggggatgcccgcggtggggatgaccgaccacggaaacatgttcggtgccagcgagttctacaactccgcgaccaaggccgggatcaagccgatcatcggcgtggaggcatacatcgcgccgggctcgcggttcgacacccggcgcatcctgtggggtgaccccagccaaaaggccgacgacgtctccggcagcggctcctacacgcacctgacgatgatggccgagaacgccaccggtctgcgcaacctgttcaagctgtcctcgcatgcttccttcgagggccagctgagcaagtggtcgcgcatggacgccgagctcatcgccgaacacgccgagggcatcatcatcaccaccggatgcccgtcgggggaggtgcagacccgcctgcggctcggccaggatcgggaggcgctcgaagccgcggcgaagtggcgggagatcgtcggaccggacaactacttccttgagctgatggaccacgggctgaccatcgaacgccgggtccgtgacggtctgctcgagatcggacgcgcgctcaacattccgcctcttgccaccaatgactgccactacgtgacccgcgacgccgcccacaaccatgaggctttgttgtgtgtgcagaccggcaagaccctctcggatccgaatcgcttcaagttcgacggtgacggctactacctgaagtcggccgccgagatgcgccagatctgggacgacgaagtgccgggcgcgtgtgactccaccttgttgatcgccgaacgggtgcagtcctacgccgacgtgtggacaccgcgcgaccggatgcccgtgtttccggtgcccgatgggcatgaccaggcgtcctggctgcgtcacgaggtggacgccgggcttcgccggcgatttccggccggtccgccggacgggtaccgcgagcgcgccgcctacgagatcgacgtcatctgctccaaaggtttcccatcgtactttctgatcgtcgccgacctgatcagctacgcgcggtcggcgggcataagggtgggtcccggccgcggctcggccgccggctcgctggtcgcctacgcgctgggcatcaccgacatcgacccgattccacacggtctgctgttcgagcggttcctcaaccccgagcgcacctcgatgcccgacatcgatatcgacttcgacgaccggcgccgcggtgagatggtgcgctacgcagccgacaagtggggccacgaccgggtcgcgcaggtcatcaccttcggcaccatcaaaaccaaagcggcgctgaaggattcggcgcgaatccactacgggcagcccgggttcgccatcgccgaccggatcaccaaggcgttgccgccggcgatcatggccaaagacatcccgctgtctgggatcaccgatcccagccacgaacggtacaaggaggccgccgaggtccgcggcctgatcgaaaccgacccggacgtacgcaccatctaccagaccgcacgcgggttggaaggcctgatccgcaacgcgggtgtgcacgcctgcgcggtgatcatgagcagcgagccgctgactgaggccatcccgttgtggaagcggccgcaggacggggccatcatcaccggctgggattacccggcgtgcgaggccatcggtctgctgaaaatggacttcctgggcctgcggaacctgacgatcatcggcgacgcgatcgacaacgtcagggccaacaggggtatcgacctcgacctggaatccgtgccgctggacgacaaggccacctatgagctgctgggccgcggcgacaccctgggcgtgttccagctcgacggcgggcccatgcgcgacctgctgcgccgcatgcagccgaccgggttcgaagacgtcgtcgccgttatcgcgctgtaccggcccggcccgatgggcatgaacgcacacaacgactatgccgaccgcaagaacaaccggcaggccatcaaacctattcacccggaactcgaagaaccgctgcgcgagatcctcgccgagacctacggcctcatcgtctatcaagagcagatcatgcgcatcgcgcagaaggtggcgagctactcgttggcccgcgccgacattctacgcaaggccatgggcaagaagaaacgcgaggtgctggagaaggagttcgagggcttctccgatggcatgcaggccaacgggttctctccggcggccatcaaggcgctgtgggacaccatcctgccgttcgctgactacgcgttcaacaagtcacatgccgccggctacggcatggtgtcctactggacggcctacctcaaggccaactatcccgccgagtacatggccggtctgttgacgtcggtcggcgacgataaagacaaggccgcggtttatctggccgactgccgcaagctcggcatcaccgtgctcccgcccgacgtcaacgaatctggcttgaacttcgcatcggtcggccaagacatccgctacgggctgggcgcggtgcgcaacgttggcgctaatgtcgtgggctcgttgctccaaacccgcaacgacaagggcaagttcaccgacttttcggactacctgaacaagatcgacatctcggcgtgcaacaagaaggtgaccgaatcgctgatcaaggcgggtgcgttcgactcgctggggcatgcccgcaagggtcttttcctggtgcacagcgatgcggtggactcggtgctgggcaccaagaaggccgaggcactggggcagttcgatctcttcggcagcaatgatgatgggaccggcaccgcagatcccgtgttcaccatcaaggtgcccgatgatgagtgggaggacaaacacaaactcgccctagagcgcgagatgctgggactgtacgtctcggggcatcccctcaacggtgtggcacacttgctggctgcccaggtcgacaccgcgatcccagcgatcctcgacggcgatgtccccaacgatgcccaagtgcgggtgggcggcatcctggcgtcggtgaaccggagggtcaacaaaaacggaatgccatgggcttcagcgcaattggaggatctcacgggcggcatcgaggtgatgttcttcccgcacacctactccagctatggtgccgacatcgtcgacgatgccgtcgtgctggtcaacgccaaggtggcggtccgtgacgaccgcatcgcattgatcgccaatgacctcacagtgcccgacttttccaacgccgaggtggagcggccgctggcggtcagcttgcccacccggcagtgcacctttgacaaggtgagtgcgctcaaacaggtgttggcgcgccaccccggcacctcgcaggtgcatctgcggctcatcagcggagaccggatcaccacgctggcacttgatcagtcgttgcgggtgacgccgtcgccggcgttgatgggtgacctcaaggagctgctcggccctggatgtctggggagttagtgaagagcggccaccgaggccgggagcggatttgaacgttgcgaagcaacggcccggagggtggcgggcaggacgcccgccataaactgccaggcatcaaattaagcagaaggccatcctgacggatggcctttttgcgtttctacaaactcttttgtttatttttctaaatacattcaaatatgtatccgctcatgaattccccgcgcgcgatgccctttcgtcttcgaataaatacctgtgacggaagatcacttcgcagaataaataaatcctggtgtccctgttgataccgggaagccctgggccaacttttggcgaaaatgagacgttgatcggcacgtaagaggttccaactttcaccataatgaaataagatcactaccgggcgtattttttgagttatcgagattttcaggagctaaggaagctaaaatggagaaaaaaatcactggatataccaccgttgatatatcccaatggcatcgtaaagaacattttgaggcatttcagtcagttgctcaatgtacctataaccagaccgttcagctggatattacggcctttttaaagaccgtaaagaaaaataagcacaagttttatccggcctttattcacattcttgcccgcctgatgaatgctcatccggaatttcgtatggcaatgaaagacggtgagctggtgatatgggatagtgttcacccttgttacaccgttttccatgagcaaactgaaacgttttcatcgctctggagtgaataccacgacgatttccggcagtttctacacatatattcgcaagatgtggcgtgttacggtgaaaacctggcctatttccctaaagggtttattgagaatatgtttttcgtctcagccaatccctgggtgagtttcaccagttttgatttaaacgtggcgaatatggacaacttcttcgcccccgttttcactatgggcaaatattatacgcaaggcgacaaggtgctgatgccgctggcgattcaggttcatcatgccgtctgtgatggcttccatgtcggcagaatgcttaatgaattacaacagtactgcgatgagtggcagggcggggcgtaatttttttaaggcagttattggtgcccttaaacgcctggttgctacgcctgaataagtgataataagcggatgaatggcagaaattcgagcccgcctaatgagcgggcttttttttagcccgcctaatgagcgggcttttttttcgaaagcaaattcgacccatcgcgcgcggggagtcaactcagcaaaagttcgatttattcaacaaagccacgttgtgtctcaaaatctctgatgttacattgcacaagataaaaatatatcatcatgcatgaccaaaatcccttaacgtgagttttcgttccactgagcgtcagaccccgtagaaaagatcaaaggatcttcttgagatcctttttttctgcgcgtaatctgctgcttgcaaacaaaaaaaccaccgctaccagcggtggtttgtttgccggatcaagagctaccaactctttttccgaaggtaactggcttcagcagagcgcagataccaaatactgtccttctagtgtagccgtagttaggccaccacttcaagaactctgtagcaccgcctacatacctcgctctgctaatcctgttaccagtggctgctgccagtggcgataagtcgtgtcttaccgggttggactcaagacgatagttaccggataaggcgcagcggtcgggctgaacggggggttcgtgcacacagcccagcttggagcgaacgacctacaccgaactgagatacctacagcgtgagctatgagaaagcgccacgcttcccgaagggagaaaggcggacaggtatccggtaagcggcagggtcggaacaggagagcgcacgagggagcttccagggggaaacgcctggtatctttatagtcctgtcgggtttcgccacctctgacttgagcgtcgatttttgtgatgctcgtcaggggggcggagcctatggaaaaacgccagcaacgcggcctttttacggttcctggccttttgctggccttttgctcacatgttctttcctgcgttatcccctgattctgtggataaccgtattaccgcctttgagtgagctgataccgctcgccgcagccgaacgaccgagcgcagcgagtcagtgagcgaggaagcggaagatcgggcccagccggcccacatatacctgccgttcactattatttagtgaaatgagatattatgatattttctgaattgtgattaaaaaggcaactttatgcccatgcaacagaaactataaaaaatacagagaatgaaaagaaacagatagattttttagttctttaggcccgtagtctgcaaatccttttatgattttctatcaaacaaaagaggaaaatagaccagttgcaatccaaacgagagtctaatagaatgaggtcgaaaagtaaatcgcgcgggtttgttactgataaagcaggcaagacctaaaatgtgtaaagggcaaagtgtatactttggcgtcaccccttacatattttaggtctttttttattgtgcgtaactaacttgccatcttcaaacaggagggctggaagaagcagaccgctaacacagtacataaaaaaggagacatgaacgatgaacatcaaaaagtttgcaaaacaagcaacagtattaacctttactaccgcactgctggcaggaggcgcaactcaagcgtttgcgaaagaaacgaaccaaaagccatataaggaaacatacggcatttcccatattacacgccatgatatgctgcaaatccctgaacagcaaaaaaatgaaaaatataaagttcctgagttcgattcgtccacaattaaaaatatctcttctgcaaaaggcctggacgtttgggacagctggccattacaaaacactgacggcactgtcgcaaactatcacggctaccacatcgtctttgcattagccggagatcctaaaaatgcggatgacacatcgatttacatgttctatcaaaaagtcggcgaaacttctattgacagctggaaaaacgctggccgcgtctttaaagacagcgacaaattcgatgcaaatgattctatcctaaaagaccaaacacaagaatggtcaggttcagccacatttacatctgacggaaaaatccgtttattctacactgatttctccggtaaacattacggcaaacaaacactgacaactgcacaagttaacgtatcagcatcagacagctctttgaacatcaacggtgtagaggattataaatcaatctttgacggtgacggaaaaacgtatcaaaatgtacagcagttcatcgatgaaggcaactacagctcaggcgacaaccatacgctgagagatcctcactacgtagaagataaaggccacaaatacttagtatttgaagcaaacactggaactgaagatggctaccaaggcgaagaatctttatttaacaaagcatactatggcaaaagcacatcattcttccgtcaagaaagtcaaaaacttctgcaaagcgataaaaaacgcacggctgagttagcaaacggcgctctcggtatgattgagctaaacgatgattacacactgaaaaaagtgatgaaaccgctgattgcatctaacacagtaacagatgaaattgaacgcgcgaacgtctttaaaatgaacggcaaatggtacctgttcactgactcccgcggatcaaaaatgacgattgacggcattacgtctaacgatatttacatgcttggttatgtttctaattctttaactggcccatacaagccgctgaacaaaactggccttgtgttaaaaatggatcttgatcctaacgatgtaacctttacttactcacacttcgctgtacctcaagcgaaaggaaacaatgtcgtgattacaagctatatgacaaacagaggattctacgcagacaaacaatcaacgtttgcgcctagcttcctgctgaacatcaaaggcaagaaaacatctgttgtcaaagacagcatccttgaacaaggacaattaacagttaacaaataaaaacgcaaaagaaaatgccgatatcctattggcattgcggccgcggtctcggcggtgggtcgtctagaggcatcaaataaaacgaaaggctcagtcgaaagactgggcctttcgttttatctgttgtttgtcggtgaacgctctcctgagtaggacaaatccgccgccctagacctagcggccggccgcaagcgctgcacggcctggt\"\n",
    "print(len(sequence))\n",
    "\n",
    "sequence_cover = \"caccgatcccagccacgaacggtacaaggaggccgccgaggtccgcggcctgatcgaaaccgacccggacgtacgcaccatctaccagaccgcacgcgggttggaaggcctgatccgcaacgcgggtgtgcacgcctgcgcggtgatcatgagcagcgagccgctgactgaggccatcccgttgtggaagcggccgcaggacggggccatcatcaccggctgggattacccggcgtgcgaggccatcggtctgctgaaaatggacttcctgggcctgcggaacctgacgatcatcggcgacgcgatcgacaacgtcagggccaacaggggtatcgacctcgacctggaatccgtgccgctggacgacaaggccacctatgagctgctgggccgcggcgacaccctgggcgtgttccagctcgacggcgggcccatgcgcgacctgctgcgccgcatgcagccgaccgggttcgaagacgtcgtcgccgttatcgcgctgtaccggcccggcccgatgggcatgaacgcacacaacgactatgccgaccgcaagaacaaccggcaggccatcaaacctattcacccggaactcgaagaaccgctgcgcgagatcctcgccgagacctacggcctcatcgtctatcaagagcagatcatgcgcatcgcgcagaaggtgg\"\n",
    "idx = sequence.find(sequence_cover)\n",
    "print(idx)\n",
    "print(len(sequence_cover))"
   ]
  },
  {
   "cell_type": "code",
   "execution_count": 9,
   "metadata": {},
   "outputs": [
    {
     "name": "stdout",
     "output_type": "stream",
     "text": [
      "960\n"
     ]
    }
   ],
   "source": [
    "sequence_template = 'GCTTGCATGCCTGCAGGTCGACTCTAGAGGATCCCCCTACATTTTAGCATCAGTGAGTACAGCATGCTTACTGGAAGAGAGGGTCATGCAACAGATTAGGAGGTAAGTTTGCAAAGGCAGGCTAAGGAGGAGACGCACTGAATGCCATGGTAAGAACTCTGGACATAAAAATATTGGAAGTTGTTGAGCAAGTNAAAAAAATGTTTGGAAGTGTTACTTTAGCAATGGCAAGAATGATAGTATGGAATAGATTGGCAGAATGAAGGCAAAATGATTAGACATATTGCATTAAGGTAAAAAATGATAACTGAAGAATTATGTGCCACACTTATTAATAAGAAAGAATATGTGAACCTTGCAGATGTTTCCCTCTAGTAG'\n",
    "sequence_template = 'tggccgctcttctAtgagcggttcatctgcggggtcctccttcgtgcacctgcacaaccacaccgagtattcgatgctggacggtgccgcgaagatcacgcccatgctcgccgaggtggagcggctggggatgcccgcggtggggatgaccgaccacggaaacatgttcggtgccagcgagttctacaactccgcgaccaaggccgggatcaagccgatcatcggcgtggaggcatacatcgcgccgggctcgcggttcgacacccggcgcatcctgtggggtgaccccagccaaaaggccgacgacgtctccggcagcggctcctacacgcacctgacgatgatggccgagaacgccaccggtctgcgcaacctgttcaagctgtcc'\n",
    "sequence_template = 'atatcgacttcgacgaccggcgccgcggtgagatggtgcgctacgcagccgacaagtggggccacgaccgggtcgcgcaggtcatcaccttcggcaccatcaaaaccaaagcggcgctgaaggattcggcgcgaatccactacgggcagcccgggttcgccatcgccgaccggatcaccaaggcgttgccgccggcgatcatggccaaagacatcccgctgtctgggatcaccgatcccagccacgaacggtacaaggaggccgccgaggtccgcggcctgatcgaaaccgacccggacgtacgcaccatctaccagaccgcacgcgggttggaaggcctgatccgcaacgcgggtgtgcacgcctgcgcggtgatcatgagcagcgagccgctgactgaggccatcccgttgtggaagcggccgcaggacggggccatcatcaccggctgggattacccggcgtgcgaggccatcggtctgctgaaaatggacttcctgggcctgcggaacctgacgatcatcggcgacgcgatcgacaacgtcagggccaacaggggtatcgacctcgacctggaatccgtgccgctggacgacaaggccacctatgagctgctgggccgcggcgacaccctgggcgtgttccagctcgacggcgggcccatgcgcgacctgctgcgccgcatgcagccgaccgggttcgaagacgtcgtcgccgttatcgcgctgtaccggcccggcccgatgggcatgaacgcacacaacgactatgccgaccgcaagaacaaccggcaggccatcaaacctattcacccggaactcgaagaaccgctgcgcgagatcctcgccgagacctacggcctcatcgtctatcaagagcagatcatgcgcatcgcgcagaaggtggcgagctactcgttggcccgcgccgacattctacgcaaggccatgggcaagaaga'\n",
    "print(len(sequence_template))\n",
    "\n",
    "# Define the deletion region\n",
    "\n",
    "\n",
    "# 'SEQUENCE_FORCE_LEFT_START': 230,\n",
    "# 'SEQUENCE_FORCE_RIGHT_START': 906,"
   ]
  },
  {
   "cell_type": "code",
   "execution_count": 10,
   "metadata": {},
   "outputs": [
    {
     "name": "stdout",
     "output_type": "stream",
     "text": [
      "100 Error\n",
      "101 Error\n",
      "102 Error\n",
      "103 Error\n",
      "104 Error\n",
      "105 Error\n",
      "106 Error\n",
      "107 Error\n",
      "108 Error\n",
      "109 Error\n",
      "110 Error\n",
      "111 Error\n",
      "112 Error\n",
      "113 Error\n",
      "114 Error\n",
      "115 Error\n",
      "116 Error\n",
      "117 Error\n",
      "118 Error\n",
      "119 Error\n",
      "120 Error\n",
      "121 Error\n",
      "122 Error\n",
      "123 Error\n",
      "124 Error\n",
      "125 Error\n",
      "126 Error\n",
      "127 Error\n",
      "128 Error\n",
      "129 Error\n",
      "130 Error\n",
      "131 Error\n",
      "132 Error\n",
      "133 Error\n",
      "134 Error\n",
      "135 Error\n",
      "136 Error\n",
      "137 Error\n",
      "138 Error\n",
      "139 Error\n",
      "140 Error\n",
      "141 Error\n",
      "142 Error\n",
      "143 Error\n",
      "144 Error\n",
      "145 Error\n",
      "146 Error\n",
      "147 Error\n",
      "148 Error\n",
      "149 Error\n",
      "150 Error\n",
      "151 Error\n",
      "152 Error\n",
      "153 Error\n",
      "154 Error\n",
      "155 Error\n",
      "156 Error\n",
      "157 Error\n",
      "158 Error\n",
      "159 Error\n",
      "160 Error\n",
      "161 Error\n",
      "162 Error\n",
      "163 Error\n",
      "164 Error\n",
      "165 Error\n",
      "166 Error\n",
      "167 Error\n",
      "168 Error\n",
      "169 Error\n",
      "170 Error\n",
      "171 Error\n",
      "172 Error\n",
      "173 Error\n",
      "174 Error\n",
      "175 Error\n",
      "176 Error\n",
      "177 Error\n",
      "178 Error\n",
      "179 Error\n",
      "180 Error\n",
      "181 Error\n",
      "182 Error\n",
      "183 Error\n",
      "184 Error\n",
      "185 Error\n",
      "186 Error\n",
      "187 Error\n",
      "188 Error\n",
      "189 Error\n"
     ]
    }
   ],
   "source": [
    "# Running Primer3 using included region and target region\n",
    "deletion_start = 100 # inclusive\n",
    "deletion_end = 190    # inclusive\n",
    "\n",
    "while True:\n",
    "\n",
    "    if deletion_start >= deletion_end:\n",
    "        break\n",
    "\n",
    "    try:\n",
    "        result = primer3.bindings.design_primers(\n",
    "            seq_args={\n",
    "                'SEQUENCE_ID': 'MH1000',\n",
    "                'SEQUENCE_TEMPLATE': sequence_template,\n",
    "                'SEQUENCE_INCLUDED_REGION': [0, 960],\n",
    "                'SEQUENCE_FORCE_LEFT_START': deletion_start,\n",
    "                'SEQUENCE_FORCE_RIGHT_START': deletion_end,\n",
    "            },\n",
    "            global_args={\n",
    "                'PRIMER_OPT_SIZE': 28,\n",
    "                'PRIMER_PICK_INTERNAL_OLIGO': 1,\n",
    "                'PRIMER_INTERNAL_MAX_SELF_END': 8,\n",
    "                'PRIMER_MIN_SIZE': 18,\n",
    "                'PRIMER_MAX_SIZE': 35,\n",
    "                'PRIMER_OPT_TM': 70.0,\n",
    "                'PRIMER_MIN_TM': 0.0,\n",
    "                'PRIMER_MAX_TM': 100.0,\n",
    "                'PRIMER_MIN_GC': 20.0,\n",
    "                'PRIMER_MAX_GC': 80.0,\n",
    "                'PRIMER_MAX_POLY_X': 100,\n",
    "                'PRIMER_INTERNAL_MAX_POLY_X': 100,\n",
    "                'PRIMER_SALT_MONOVALENT': 50.0,\n",
    "                'PRIMER_DNA_CONC': 50.0,\n",
    "                'PRIMER_MAX_NS_ACCEPTED': 0,\n",
    "                'PRIMER_MAX_SELF_ANY': 12,\n",
    "                'PRIMER_MAX_SELF_END': 8,\n",
    "                'PRIMER_PAIR_MAX_COMPL_ANY': 12,\n",
    "                'PRIMER_PAIR_MAX_COMPL_END': 8,\n",
    "                'PRIMER_PRODUCT_SIZE_RANGE': [\n",
    "                    [75, 100],[100, 125],[125, 150],  \n",
    "                    [150, 175],[175, 200],[200, 225],\n",
    "                    [300, 320],[320, 340],[300, 400]\n",
    "                ]\n",
    "            })\n",
    "        print(result['PRIMER_LEFT_0_SEQUENCE'])\n",
    "        print(result['PRIMER_RIGHT_0_SEQUENCE'])\n",
    "        break\n",
    "    except:\n",
    "        print(f'{deletion_start} Error')\n",
    "        deletion_start += 1"
   ]
  },
  {
   "cell_type": "code",
   "execution_count": 15,
   "metadata": {},
   "outputs": [
    {
     "data": {
      "text/plain": [
       "{'PRIMER_LEFT_EXPLAIN': 'considered 8, high tm 8, ok 0',\n",
       " 'PRIMER_RIGHT_EXPLAIN': 'considered 0, ok 0',\n",
       " 'PRIMER_INTERNAL_EXPLAIN': 'considered 0, ok 0',\n",
       " 'PRIMER_PAIR_EXPLAIN': 'considered 0, ok 0',\n",
       " 'PRIMER_LEFT_NUM_RETURNED': 0,\n",
       " 'PRIMER_RIGHT_NUM_RETURNED': 0,\n",
       " 'PRIMER_INTERNAL_NUM_RETURNED': 0,\n",
       " 'PRIMER_PAIR_NUM_RETURNED': 0,\n",
       " 'PRIMER_PAIR': [],\n",
       " 'PRIMER_LEFT': [],\n",
       " 'PRIMER_RIGHT': [],\n",
       " 'PRIMER_INTERNAL': []}"
      ]
     },
     "execution_count": 15,
     "metadata": {},
     "output_type": "execute_result"
    }
   ],
   "source": [
    "# left_start_range = 206\n",
    "# left_end_range = 220\n",
    "# right_start_range = 744\n",
    "# right_end_range = 758\n",
    "\n",
    "# left = left_start_range\n",
    "# right = right_start_range  \n",
    "\n",
    "sequence_template = 'ccaccggatgcccgtcgggggaggtgcagacccgcctgcggctcggccaggatcgggaggcgctcgaagccgcggcgaagtggcgggagatcgtcggaccggacaactacttccttgagctgatggaccacgggctgaccatcgaacgccgggtccgtgacggtctgctcgagatcggacgcgcgctcaacattccgcctcttgccaccaatgactgccactacgtgacccgcgacgccgcccacaaccatgaggctttgttgtgtgtgcagaccggcaagaccctctcggatccgaatcgcttcaagttcgacggtgacggctactacctgaagtcggccgccgagatgcgccagatctgggacgacgaagtgccgggcgcgtgtgactccaccttgttgatcgccgaacgggtgcagtcctacgccgacgtgtggacaccgcgcgaccggatgcccgtgtttccggtgcccgatgggcatgaccaggcgtcctggctgcgtcacgaggtggacgccgggcttcgccggcgatttccggccggtccgccggacgggtaccgcgagcgcgccgcctacgagatcgacgtcatctgctccaaaggtttcccatcgtactttctgatcgtcgccgacctgatcagctacgcgcggtcggcgggcataagggtgggtcccggccgcggctcggccgccggctcgctggtcgcctacgcgctgggcatcaccgacatcgacccgattccacacggtctgctgttcgagcggttcctcaaccccgagcgcacctcgatgcccgacatcgatatcgacttcgacgaccggcgccgcggtgagatggtgcgctacgcagccgacaagtggggccacgaccgggtcgcgcaggtcatcaccttcggcaccatcaaaaccaaagcggcgctgaaggattcggcgcgaatccactacgggcagcccgggttcgccatcgccgaccggatcaccaaggcgttgccgccggcgatcatggccaaagacatcccgctgtctgggatcaccgatcccagccacgaacggtacaaggaggccgccgaggtccgcggcctgatcgaaaccgacccggacgtacgcaccatctaccagaccgcacgcgggttggaaggcctgatccgcaacgcgggtgtgcacgcctgcgcggtgatcatgagcagcgagccgctgactgaggccatcccgttgtggaagcggccgcaggacggggccatcatcaccggctgggattacccggcgtgcgaggccatcggtctgctgaaaatggacttcctgggcctgcggaacctgacgatcatcggcgacgcgatcgacaacgtcagggccaacaggggtatcgacctcgacctggaatccgtgccgctggacgacaaggccacctatgagctgctgggccgcggcgacaccctgggcgtgttccagctcgacggcgggcccatgcgcgacctgctgcgccgcatgcagccgaccgggttcgaagacgtcgtcgccgttatcgcgctgtaccggcccggcccgatgggcatgaacgcacacaacgactatgccgaccgcaagaacaaccggcaggccatcaaacctattcacccggaactcgaagaaccgctgcgcgagatcctcgccgagacctacggcctcatcgtctatcaagagcagatcatgcgcatcgcgcagaaggtggcgagctactcgttggcccgcgccgacattctacgcaaggccatgggcaagaagaaacgcgaggtgctggagaaggagttcgagggcttctccgatggcatgcaggccaacgggttctctccggcggccatcaaggcgctgtgggacaccatcctgccgttcgctgactacgcgttcaacaagtcacatgccgccggctacggcatggtgtcctactggacggcctacctcaaggccaactatcccgccgagtacatggccggtctgttgacgtcggtcggcgacgataaagacaaggccgcggtttatctggccgactgccgcaagctcggcatcaccgtgctcccgcccgacgtcaacgaatctggcttgaacttcgcatcggtcggccaagacatccgctacgggctgggcgcggtgcgcaacgttggcgctaatgtcgtgggctcgttgctccaaacccgcaacgacaagggcaagttcaccgacttttcggactacctgaacaagatcgacatctcggcgtgcaacaagaaggtgaccgaatcgctgatcaaggcgggtgcgttcgactcgctggggcatgcccgcaagggtcttttcctggtgcacagcgatgcggtggactcggtgctgggcaccaagaaggccgaggcactggggcagttcgatctcttcggcagcaatgatgatgggaccggcaccgcagatcccgtgttcaccatcaaggtgcccgatgatgagtgggaggacaaacacaaactcgccctagagcgcgagatgctgggactgtacgtctcggggcatcccctcaacggtgtggcacacttgctggctgcccaggtcgacaccgcgatcccagcgatcctcgacggcgatgtccccaacgatgcccaagtgcgggtgggcggcatcctggcgtcggtgaaccggagggtcaacaaaaacggaatgccatgggcttcagcgcaattggaggatctcacgggcggcatcgaggtgatgttcttcccgcacacctactccagctatggtgccgacatcgtcgacgatgccgtcgtgctggtcaacgccaaggtggcggtccgtgacgaccgcatcgcattgatcgccaatgacctcacagtgcccgacttttccaacgccgaggtggagcggccgctggcggtcagcttgcccacccggcagtgcacctttgacaaggtgagtgcgctcaaacaggtgttggcgcgccaccccggcacctcgcaggtgcatctgcggctcatcagcggagaccggatcaccacgctggcacttgatcagtcgttgcgggtgacgccgtcgccggcgttgatgggtgacctcaaggagctgctcggccctggatgtctggggagttagtgaagagcggccaccgaggccgggagcggatttgaacgttgcgaagcaacggcccggagggtggcgggcaggacgcccgccataaactgccaggcatcaaattaagcagaaggccatcctgacggatggcctttttgcgtttctacaaactcttttgtttatttttctaaatacattcaaatatgtatccgctcatgaattccccgcgcgcgatgccctttcgtcttcgaataaatacctgtgacggaagatcacttcgcagaataaataaatcctggtgtccctgttgataccgggaagccctgggccaacttttggcgaaaatgagacgttgatcggcacgtaagaggttccaactttcaccataatgaaataagatcactaccgggcgtattttttgagttatcgagattttcaggagctaaggaagctaaaatggagaaaaaaatcactggatataccaccgttgatatatcccaatggcatcgtaaagaacattttgaggcatttcagtcagttgctcaatgtacctataaccagaccgttcagctggatattacggcctttttaaagaccgtaaagaaaaataagcacaagttttatccggcctttattcacattcttgcccgcctgatgaatgctcatccggaatttcgtatggcaatgaaagacggtgagctggtgatatgggatagtgttcacccttgttacaccgttttccatgagcaaactgaaacgttttcatcgctctggagtgaataccacgacgatttccggcagtttctacacatatattcgcaagatgtggcgtgttacggtgaaaacctggcctatttccctaaagggtttattgagaatatgtttttcgtctcagccaatccctgggtgagtttcaccagttttgatttaaacgtggcgaatatggacaacttcttcgcccccgttttcactatgggcaaatattatacgcaaggcgacaaggtgctgatgccgctggcgattcaggttcatcatgccgtctgtgatggcttccatgtcggcagaatgcttaatgaattacaacagtactgcgatgagtggcagggcggggcgtaatttttttaaggcagttattggtgcccttaaacgcctggttgctacgcctgaataagtgataataagcggatgaatggcagaaattcgagcccgcctaatgagcgggcttttttttagcccgcctaatgagcgggcttttttttcgaaagcaaattcgacccatcgcgcgcggggagtcaactcagcaaaagttcgatttattcaacaaagccacgttgtgtctcaaaatctctgatgttacattgcacaagataaaaatatatcatcatgcatgaccaaaatcccttaacgtgagttttcgttccactgagcgtcagaccccgtagaaaagatcaaaggatcttcttgagatcctttttttctgcgcgtaatctgctgcttgcaaacaaaaaaaccaccgctaccagcggtggtttgtttgccggatcaagagctaccaactctttttccgaaggtaactggcttcagcagagcgcagataccaaatactgtccttctagtgtagccgtagttaggccaccacttcaagaactctgtagcaccgcctacatacctcgctctgctaatcctgttaccagtggctgctgccagtggcgataagtcgtgtcttaccgggttggactcaagacgatagttaccggataaggcgcagcggtcgggctgaacggggggttcgtgcacacagcccagcttggagcgaacgacctacaccgaactgagatacctacagcgtgagctatgagaaagcgccacgcttcccgaagggagaaaggcggacaggtatccggtaagcggcagggtcggaacaggagagcgcacgagggagcttccagggggaaacgcctggtatctttatagtcctgtcgggtttcgccacctctgacttgagcgtcgatttttgtgatgctcgtcaggggggcggagcctatggaaaaacgccagcaacgcggcctttttacggttcctggccttttgctggccttttgctcacatgttctttcctgcgttatcccctgattctgtggataaccgtattaccgcctttgagtgagctgataccgctcgccgcagccgaacgaccgagcgcagcgagtcagtgagcgaggaagcggaagatcgggcccagccggcccacatatacctgccgttcactattatttagtgaaatgagatattatgatattttctgaattgtgattaaaaaggcaactttatgcccatgcaacagaaactataaaaaatacagagaatgaaaagaaacagatagattttttagttctttaggcccgtagtctgcaaatccttttatgattttctatcaaacaaaagaggaaaatagaccagttgcaatccaaacgagagtctaatagaatgaggtcgaaaagtaaatcgcgcgggtttgttactgataaagcaggcaagacctaaaatgtgtaaagggcaaagtgtatactttggcgtcaccccttacatattttaggtctttttttattgtgcgtaactaacttgccatcttcaaacaggagggctggaagaagcagaccgctaacacagtacataaaaaaggagacatgaacgatgaacatcaaaaagtttgcaaaacaagcaacagtattaacctttactaccgcactgctggcaggaggcgcaactcaagcgtttgcgaaagaaacgaaccaaaagccatataaggaaacatacggcatttcccatattacacgccatgatatgctgcaaatccctgaacagcaaaaaaatgaaaaatataaagttcctgagttcgattcgtccacaattaaaaatatctcttctgcaaaaggcctggacgtttgggacagctggccattacaaaacactgacggcactgtcgcaaactatcacggctaccacatcgtctttgcattagccggagatcctaaaaatgcggatgacacatcgatttacatgttctatcaaaaagtcggcgaaacttctattgacagctggaaaaacgctggccgcgtctttaaagacagcgacaaattcgatgcaaatgattctatcctaaaagaccaaacacaagaatggtcaggttcagccacatttacatctgacggaaaaatccgtttattctacactgatttctccggtaaacattacggcaaacaaacactgacaactgcacaagttaacgtatcagcatcagacagctctttgaacatcaacggtgtagaggattataaatcaatctttgacggtgacggaaaaacgtatcaaaatgtacagcagttcatcgatgaaggcaactacagctcaggcgacaaccatacgctgagagatcctcactacgtagaagataaaggccacaaatacttagtatttgaagcaaacactggaactgaagatggctaccaaggcgaagaatctttatttaacaaagcatactatggcaaaagcacatcattcttccgtcaagaaagtcaaaaacttctgcaaagcgataaaaaacgcacggctgagttagcaaacggcgctctcggtatgattgagctaaacgatgattacacactgaaaaaagtgatgaaaccgctgattgcatctaacacagtaacagatgaaattgaacgcgcgaacgtctttaaaatgaacggcaaatggtacctgttcactgactcccgcggatcaaaaatgacgattgacggcattacgtctaacgatatttacatgcttggttatgtttctaattctttaactggcccatacaagccgctgaacaaaactggccttgtgttaaaaatggatcttgatcctaacgatgtaacctttacttactcacacttcgctgtacctcaagcgaaaggaaacaatgtcgtgattacaagctatatgacaaacagaggattctacgcagacaaacaatcaacgtttgcgcctagcttcctgctgaacatcaaaggcaagaaaacatctgttgtcaaagacagcatccttgaacaaggacaattaacagttaacaaataaaaacgcaaaagaaaatgccgatatcctattggcattgcggccgcggtctcggcggtgggtcgtctagaggcatcaaataaaacgaaaggctcagtcgaaagactgggcctttcgttttatctgttgtttgtcggtgaacgctctcctgagtaggacaaatccgccgccctagacctagcggccggccgcaagcgctgcacggcctggttggccgctcttctAtgagcggttcatctgcggggtcctccttcgtgcacctgcacaaccacaccgagtattcgatgctggacggtgccgcgaagatcacgcccatgctcgccgaggtggagcggctggggatgcccgcggtggggatgaccgaccacggaaacatgttcggtgccagcgagttctacaactccgcgaccaaggccgggatcaagccgatcatcggcgtggaggcatacatcgcgccgggctcgcggttcgacacccggcgcatcctgtggggtgaccccagccaaaaggccgacgacgtctccggcagcggctcctacacgcacctgacgatgatggccgagaacgccaccggtctgcgcaacctgttcaagctgtcctcgcatgcttccttcgagggccagctgagcaagtggtcgcgcatggacgccgagctcatcgccgaacacgccgagggcatcatcatca'\n",
    "\n",
    "\n",
    "# 463 473 7398 7408\n",
    "result = primer3.bindings.design_primers(\n",
    "            seq_args={\n",
    "                'SEQUENCE_ID': 'MH1000',\n",
    "                'SEQUENCE_TEMPLATE': sequence_template,\n",
    "                'SEQUENCE_INCLUDED_REGION': [0, 960],\n",
    "                'SEQUENCE_FORCE_LEFT_START': 463,  # 757\n",
    "                'SEQUENCE_FORCE_RIGHT_START': 7398,  #215\n",
    "            },\n",
    "            global_args={\n",
    "                'PRIMER_OPT_SIZE': 20,\n",
    "                'PRIMER_PICK_INTERNAL_OLIGO': 1,\n",
    "                'PRIMER_INTERNAL_MAX_SELF_END': 8,\n",
    "                'PRIMER_MIN_SIZE': 18,\n",
    "                'PRIMER_MAX_SIZE': 25,\n",
    "                'PRIMER_OPT_TM': 60.0,\n",
    "                'PRIMER_MIN_TM': 57.0,\n",
    "                'PRIMER_MAX_TM': 63.0,\n",
    "                'PRIMER_MIN_GC': 20.0,\n",
    "                'PRIMER_MAX_GC': 80.0,\n",
    "                'PRIMER_MAX_POLY_X': 100,\n",
    "                'PRIMER_INTERNAL_MAX_POLY_X': 100,\n",
    "                'PRIMER_SALT_MONOVALENT': 50.0,\n",
    "                'PRIMER_DNA_CONC': 50.0,\n",
    "                'PRIMER_MAX_NS_ACCEPTED': 0,\n",
    "                'PRIMER_MAX_SELF_ANY': 12,\n",
    "                'PRIMER_MAX_SELF_END': 8,\n",
    "                'PRIMER_PAIR_MAX_COMPL_ANY': 12,\n",
    "                'PRIMER_PAIR_MAX_COMPL_END': 8,\n",
    "                'PRIMER_PAIR_MAX_DIFF_TM': 5.0,\n",
    "                'PRIMER_PRODUCT_SIZE_RANGE': [\n",
    "                    [75,100],[100,125],[125,150],\n",
    "                    [150,175],[175,200],[200,225],\n",
    "                    [300,320],[320,340],[300,400],\n",
    "                    [400,500],[500,600],[600,700],\n",
    "                ],})\n",
    "\n",
    "result"
   ]
  },
  {
   "cell_type": "code",
   "execution_count": 14,
   "metadata": {},
   "outputs": [
    {
     "ename": "KeyError",
     "evalue": "'COORDS'",
     "output_type": "error",
     "traceback": [
      "\u001b[1;31m---------------------------------------------------------------------------\u001b[0m",
      "\u001b[1;31mKeyError\u001b[0m                                  Traceback (most recent call last)",
      "Cell \u001b[1;32mIn[14], line 1\u001b[0m\n\u001b[1;32m----> 1\u001b[0m \u001b[43mresult\u001b[49m\u001b[43m[\u001b[49m\u001b[38;5;124;43m'\u001b[39;49m\u001b[38;5;124;43mCOORDS\u001b[39;49m\u001b[38;5;124;43m'\u001b[39;49m\u001b[43m]\u001b[49m\n",
      "\u001b[1;31mKeyError\u001b[0m: 'COORDS'"
     ]
    }
   ],
   "source": [
    "result['COORDS']"
   ]
  },
  {
   "cell_type": "code",
   "execution_count": 22,
   "metadata": {},
   "outputs": [],
   "source": [
    "def circular_index(index, sequence_length):\n",
    "    \"\"\"\n",
    "    This function returns the circular (=positive) index in a sequence.\n",
    "    \"\"\"\n",
    "    return (index + sequence_length) % sequence_length\n",
    "\n",
    "\n",
    "def find_primerpair(sequence, fw_range_start, fw_range_end, rv_range_start, rv_range_end, i_start, i_end):\n",
    "       \n",
    "    left = fw_range_start\n",
    "    right = rv_range_start \n",
    "\n",
    "    while True:\n",
    "        try:\n",
    "            result = primer3.bindings.design_primers(\n",
    "                seq_args={\n",
    "                    'SEQUENCE_ID': 'MH1000',\n",
    "                    'SEQUENCE_TEMPLATE': sequence,\n",
    "                    'SEQUENCE_INCLUDED_REGION': [0, len(sequence)],\n",
    "                    'SEQUENCE_FORCE_LEFT_START': left,\n",
    "                    'SEQUENCE_FORCE_RIGHT_START': right,\n",
    "                },\n",
    "                global_args={\n",
    "                    'PRIMER_OPT_SIZE': 20,\n",
    "                    'PRIMER_PICK_INTERNAL_OLIGO': 1,\n",
    "                    'PRIMER_INTERNAL_MAX_SELF_END': 8,\n",
    "                    'PRIMER_MIN_SIZE': 8,\n",
    "                    'PRIMER_MAX_SIZE': 25,\n",
    "                    'PRIMER_OPT_TM': 60.0,\n",
    "                    'PRIMER_MIN_TM': 57.0,\n",
    "                    'PRIMER_MAX_TM': 63.0,\n",
    "                    'PRIMER_MIN_GC': 20.0,\n",
    "                    'PRIMER_MAX_GC': 80.0,\n",
    "                    'PRIMER_MAX_POLY_X': 100,\n",
    "                    'PRIMER_INTERNAL_MAX_POLY_X': 100,\n",
    "                    'PRIMER_SALT_MONOVALENT': 50.0,\n",
    "                    'PRIMER_DNA_CONC': 50.0,\n",
    "                    'PRIMER_MAX_NS_ACCEPTED': 0,\n",
    "                    'PRIMER_MAX_SELF_ANY': 12,\n",
    "                    'PRIMER_MAX_SELF_END': 8,\n",
    "                    'PRIMER_PAIR_MAX_COMPL_ANY': 12,\n",
    "                    'PRIMER_PAIR_MAX_COMPL_END': 8,\n",
    "                    'PRIMER_PAIR_MAX_DIFF_TM': 5.0,\n",
    "                    'PRIMER_PRODUCT_SIZE_RANGE': [\n",
    "                        [75,100],[100,125],[125,150],\n",
    "                        [150,175],[175,200],[i_start, i_end],\n",
    "                    ],})\n",
    "        \n",
    "            fw = result['PRIMER_LEFT_0_SEQUENCE']\n",
    "            rv = result['PRIMER_RIGHT_0_SEQUENCE']\n",
    "            print(result)\n",
    "            return fw, rv\n",
    "\n",
    "        except KeyError:\n",
    "            # Increment the left pointer\n",
    "            if left < fw_range_end:\n",
    "                left += 1\n",
    "            # If the left pointer has reached its maximum, reset and increment the right pointer\n",
    "            elif right < rv_range_end:\n",
    "                left = fw_range_start  # Reset left to the start range\n",
    "                right += 1\n",
    "            else:\n",
    "                # If both pointers have reached their limits, exit the loop\n",
    "                fw = None\n",
    "                rv = None\n",
    "                return fw, rv"
   ]
  },
  {
   "cell_type": "code",
   "execution_count": 23,
   "metadata": {},
   "outputs": [
    {
     "name": "stdout",
     "output_type": "stream",
     "text": [
      "{'PRIMER_LEFT_EXPLAIN': 'considered 18, GC content failed 1, low tm 6, high tm 9, high hairpin stability 2, ok 0', 'PRIMER_RIGHT_EXPLAIN': 'considered 18, low tm 7, high tm 9, ok 2', 'PRIMER_INTERNAL_EXPLAIN': 'considered 78495, GC content failed 2100, low tm 37340, high tm 16649, ok 22406', 'PRIMER_PAIR_EXPLAIN': 'considered 20, unacceptable product size 20, ok 0', 'PRIMER_LEFT_NUM_RETURNED': 0, 'PRIMER_RIGHT_NUM_RETURNED': 0, 'PRIMER_INTERNAL_NUM_RETURNED': 0, 'PRIMER_PAIR_NUM_RETURNED': 0, 'PRIMER_PAIR': [], 'PRIMER_LEFT': [], 'PRIMER_RIGHT': [], 'PRIMER_INTERNAL': []}\n",
      "{'PRIMER_LEFT_EXPLAIN': 'considered 18, GC content failed 5, low tm 3, high tm 9, high hairpin stability 1, ok 0', 'PRIMER_RIGHT_EXPLAIN': 'considered 18, low tm 7, high tm 9, ok 2', 'PRIMER_INTERNAL_EXPLAIN': 'considered 78495, GC content failed 2100, low tm 37340, high tm 16649, ok 22406', 'PRIMER_PAIR_EXPLAIN': 'considered 10, unacceptable product size 10, ok 0', 'PRIMER_LEFT_NUM_RETURNED': 0, 'PRIMER_RIGHT_NUM_RETURNED': 0, 'PRIMER_INTERNAL_NUM_RETURNED': 0, 'PRIMER_PAIR_NUM_RETURNED': 0, 'PRIMER_PAIR': [], 'PRIMER_LEFT': [], 'PRIMER_RIGHT': [], 'PRIMER_INTERNAL': []}\n",
      "{'PRIMER_LEFT_EXPLAIN': 'considered 18, GC content failed 2, low tm 5, high tm 8, high hairpin stability 3, ok 0', 'PRIMER_RIGHT_EXPLAIN': 'considered 18, low tm 7, high tm 9, ok 2', 'PRIMER_INTERNAL_EXPLAIN': 'considered 78495, GC content failed 2100, low tm 37340, high tm 16649, ok 22406', 'PRIMER_PAIR_EXPLAIN': 'considered 30, unacceptable product size 30, ok 0', 'PRIMER_LEFT_NUM_RETURNED': 0, 'PRIMER_RIGHT_NUM_RETURNED': 0, 'PRIMER_INTERNAL_NUM_RETURNED': 0, 'PRIMER_PAIR_NUM_RETURNED': 0, 'PRIMER_PAIR': [], 'PRIMER_LEFT': [], 'PRIMER_RIGHT': [], 'PRIMER_INTERNAL': []}\n",
      "{'PRIMER_LEFT_EXPLAIN': 'considered 18, GC content failed 1, low tm 6, high tm 7, high hairpin stability 4, ok 0', 'PRIMER_RIGHT_EXPLAIN': 'considered 18, low tm 7, high tm 9, ok 2', 'PRIMER_INTERNAL_EXPLAIN': 'considered 78495, GC content failed 2100, low tm 37340, high tm 16649, ok 22406', 'PRIMER_PAIR_EXPLAIN': 'considered 40, unacceptable product size 40, ok 0', 'PRIMER_LEFT_NUM_RETURNED': 0, 'PRIMER_RIGHT_NUM_RETURNED': 0, 'PRIMER_INTERNAL_NUM_RETURNED': 0, 'PRIMER_PAIR_NUM_RETURNED': 0, 'PRIMER_PAIR': [], 'PRIMER_LEFT': [], 'PRIMER_RIGHT': [], 'PRIMER_INTERNAL': []}\n",
      "{'PRIMER_LEFT_EXPLAIN': 'considered 18, low tm 8, high tm 7, high hairpin stability 3, ok 0', 'PRIMER_RIGHT_EXPLAIN': 'considered 18, low tm 7, high tm 9, ok 2', 'PRIMER_INTERNAL_EXPLAIN': 'considered 78495, GC content failed 2100, low tm 37340, high tm 16649, ok 22406', 'PRIMER_PAIR_EXPLAIN': 'considered 30, unacceptable product size 30, ok 0', 'PRIMER_LEFT_NUM_RETURNED': 0, 'PRIMER_RIGHT_NUM_RETURNED': 0, 'PRIMER_INTERNAL_NUM_RETURNED': 0, 'PRIMER_PAIR_NUM_RETURNED': 0, 'PRIMER_PAIR': [], 'PRIMER_LEFT': [], 'PRIMER_RIGHT': [], 'PRIMER_INTERNAL': []}\n",
      "{'PRIMER_LEFT_EXPLAIN': 'considered 18, low tm 8, high tm 7, high hairpin stability 3, ok 0', 'PRIMER_RIGHT_EXPLAIN': 'considered 18, low tm 7, high tm 9, ok 2', 'PRIMER_INTERNAL_EXPLAIN': 'considered 78495, GC content failed 2100, low tm 37340, high tm 16649, ok 22406', 'PRIMER_PAIR_EXPLAIN': 'considered 30, unacceptable product size 30, ok 0', 'PRIMER_LEFT_NUM_RETURNED': 0, 'PRIMER_RIGHT_NUM_RETURNED': 0, 'PRIMER_INTERNAL_NUM_RETURNED': 0, 'PRIMER_PAIR_NUM_RETURNED': 0, 'PRIMER_PAIR': [], 'PRIMER_LEFT': [], 'PRIMER_RIGHT': [], 'PRIMER_INTERNAL': []}\n",
      "{'PRIMER_LEFT_EXPLAIN': 'considered 18, GC content failed 1, low tm 7, high tm 7, high hairpin stability 3, ok 0', 'PRIMER_RIGHT_EXPLAIN': 'considered 18, low tm 7, high tm 9, ok 2', 'PRIMER_INTERNAL_EXPLAIN': 'considered 78495, GC content failed 2100, low tm 37340, high tm 16649, ok 22406', 'PRIMER_PAIR_EXPLAIN': 'considered 30, unacceptable product size 30, ok 0', 'PRIMER_LEFT_NUM_RETURNED': 0, 'PRIMER_RIGHT_NUM_RETURNED': 0, 'PRIMER_INTERNAL_NUM_RETURNED': 0, 'PRIMER_PAIR_NUM_RETURNED': 0, 'PRIMER_PAIR': [], 'PRIMER_LEFT': [], 'PRIMER_RIGHT': [], 'PRIMER_INTERNAL': []}\n",
      "{'PRIMER_LEFT_EXPLAIN': 'considered 18, low tm 9, high tm 6, ok 3', 'PRIMER_RIGHT_EXPLAIN': 'considered 18, low tm 7, high tm 9, high hairpin stability 2, ok 0', 'PRIMER_INTERNAL_EXPLAIN': 'considered 78495, GC content failed 2100, low tm 37340, high tm 16649, ok 22406', 'PRIMER_PAIR_EXPLAIN': 'considered 30, unacceptable product size 30, ok 0', 'PRIMER_LEFT_NUM_RETURNED': 0, 'PRIMER_RIGHT_NUM_RETURNED': 0, 'PRIMER_INTERNAL_NUM_RETURNED': 0, 'PRIMER_PAIR_NUM_RETURNED': 0, 'PRIMER_PAIR': [], 'PRIMER_LEFT': [], 'PRIMER_RIGHT': [], 'PRIMER_INTERNAL': []}\n",
      "{'PRIMER_LEFT_EXPLAIN': 'considered 18, low tm 9, high tm 7, ok 2', 'PRIMER_RIGHT_EXPLAIN': 'considered 18, low tm 7, high tm 9, high hairpin stability 2, ok 0', 'PRIMER_INTERNAL_EXPLAIN': 'considered 78495, GC content failed 2100, low tm 37340, high tm 16649, ok 22406', 'PRIMER_PAIR_EXPLAIN': 'considered 20, unacceptable product size 20, ok 0', 'PRIMER_LEFT_NUM_RETURNED': 0, 'PRIMER_RIGHT_NUM_RETURNED': 0, 'PRIMER_INTERNAL_NUM_RETURNED': 0, 'PRIMER_PAIR_NUM_RETURNED': 0, 'PRIMER_PAIR': [], 'PRIMER_LEFT': [], 'PRIMER_RIGHT': [], 'PRIMER_INTERNAL': []}\n",
      "{'PRIMER_LEFT_EXPLAIN': 'considered 18, low tm 9, high tm 7, ok 2', 'PRIMER_RIGHT_EXPLAIN': 'considered 18, low tm 7, high tm 9, high hairpin stability 2, ok 0', 'PRIMER_INTERNAL_EXPLAIN': 'considered 78495, GC content failed 2100, low tm 37340, high tm 16649, ok 22406', 'PRIMER_PAIR_EXPLAIN': 'considered 20, unacceptable product size 20, ok 0', 'PRIMER_LEFT_NUM_RETURNED': 0, 'PRIMER_RIGHT_NUM_RETURNED': 0, 'PRIMER_INTERNAL_NUM_RETURNED': 0, 'PRIMER_PAIR_NUM_RETURNED': 0, 'PRIMER_PAIR': [], 'PRIMER_LEFT': [], 'PRIMER_RIGHT': [], 'PRIMER_INTERNAL': []}\n",
      "{'PRIMER_LEFT_EXPLAIN': 'considered 18, low tm 9, high tm 6, ok 3', 'PRIMER_RIGHT_EXPLAIN': 'considered 18, low tm 7, high tm 9, high hairpin stability 2, ok 0', 'PRIMER_INTERNAL_EXPLAIN': 'considered 78495, GC content failed 2100, low tm 37340, high tm 16649, ok 22406', 'PRIMER_PAIR_EXPLAIN': 'considered 30, unacceptable product size 30, ok 0', 'PRIMER_LEFT_NUM_RETURNED': 0, 'PRIMER_RIGHT_NUM_RETURNED': 0, 'PRIMER_INTERNAL_NUM_RETURNED': 0, 'PRIMER_PAIR_NUM_RETURNED': 0, 'PRIMER_PAIR': [], 'PRIMER_LEFT': [], 'PRIMER_RIGHT': [], 'PRIMER_INTERNAL': []}\n",
      "{'PRIMER_LEFT_EXPLAIN': 'considered 18, GC content failed 1, low tm 6, high tm 9, high hairpin stability 2, ok 0', 'PRIMER_RIGHT_EXPLAIN': 'considered 18, low tm 7, high tm 9, ok 2', 'PRIMER_INTERNAL_EXPLAIN': 'considered 78495, GC content failed 2100, low tm 37340, high tm 16649, ok 22406', 'PRIMER_PAIR_EXPLAIN': 'considered 20, unacceptable product size 20, ok 0', 'PRIMER_LEFT_NUM_RETURNED': 0, 'PRIMER_RIGHT_NUM_RETURNED': 0, 'PRIMER_INTERNAL_NUM_RETURNED': 0, 'PRIMER_PAIR_NUM_RETURNED': 0, 'PRIMER_PAIR': [], 'PRIMER_LEFT': [], 'PRIMER_RIGHT': [], 'PRIMER_INTERNAL': []}\n",
      "{'PRIMER_LEFT_EXPLAIN': 'considered 18, GC content failed 5, low tm 3, high tm 9, high hairpin stability 1, ok 0', 'PRIMER_RIGHT_EXPLAIN': 'considered 18, low tm 7, high tm 9, ok 2', 'PRIMER_INTERNAL_EXPLAIN': 'considered 78495, GC content failed 2100, low tm 37340, high tm 16649, ok 22406', 'PRIMER_PAIR_EXPLAIN': 'considered 10, unacceptable product size 10, ok 0', 'PRIMER_LEFT_NUM_RETURNED': 0, 'PRIMER_RIGHT_NUM_RETURNED': 0, 'PRIMER_INTERNAL_NUM_RETURNED': 0, 'PRIMER_PAIR_NUM_RETURNED': 0, 'PRIMER_PAIR': [], 'PRIMER_LEFT': [], 'PRIMER_RIGHT': [], 'PRIMER_INTERNAL': []}\n",
      "{'PRIMER_LEFT_EXPLAIN': 'considered 18, GC content failed 2, low tm 5, high tm 8, high hairpin stability 3, ok 0', 'PRIMER_RIGHT_EXPLAIN': 'considered 18, low tm 7, high tm 9, ok 2', 'PRIMER_INTERNAL_EXPLAIN': 'considered 78495, GC content failed 2100, low tm 37340, high tm 16649, ok 22406', 'PRIMER_PAIR_EXPLAIN': 'considered 30, unacceptable product size 30, ok 0', 'PRIMER_LEFT_NUM_RETURNED': 0, 'PRIMER_RIGHT_NUM_RETURNED': 0, 'PRIMER_INTERNAL_NUM_RETURNED': 0, 'PRIMER_PAIR_NUM_RETURNED': 0, 'PRIMER_PAIR': [], 'PRIMER_LEFT': [], 'PRIMER_RIGHT': [], 'PRIMER_INTERNAL': []}\n",
      "{'PRIMER_LEFT_EXPLAIN': 'considered 18, GC content failed 1, low tm 6, high tm 7, high hairpin stability 4, ok 0', 'PRIMER_RIGHT_EXPLAIN': 'considered 18, low tm 7, high tm 9, ok 2', 'PRIMER_INTERNAL_EXPLAIN': 'considered 78495, GC content failed 2100, low tm 37340, high tm 16649, ok 22406', 'PRIMER_PAIR_EXPLAIN': 'considered 40, unacceptable product size 40, ok 0', 'PRIMER_LEFT_NUM_RETURNED': 0, 'PRIMER_RIGHT_NUM_RETURNED': 0, 'PRIMER_INTERNAL_NUM_RETURNED': 0, 'PRIMER_PAIR_NUM_RETURNED': 0, 'PRIMER_PAIR': [], 'PRIMER_LEFT': [], 'PRIMER_RIGHT': [], 'PRIMER_INTERNAL': []}\n",
      "{'PRIMER_LEFT_EXPLAIN': 'considered 18, low tm 8, high tm 7, high hairpin stability 3, ok 0', 'PRIMER_RIGHT_EXPLAIN': 'considered 18, low tm 7, high tm 9, ok 2', 'PRIMER_INTERNAL_EXPLAIN': 'considered 78495, GC content failed 2100, low tm 37340, high tm 16649, ok 22406', 'PRIMER_PAIR_EXPLAIN': 'considered 30, unacceptable product size 30, ok 0', 'PRIMER_LEFT_NUM_RETURNED': 0, 'PRIMER_RIGHT_NUM_RETURNED': 0, 'PRIMER_INTERNAL_NUM_RETURNED': 0, 'PRIMER_PAIR_NUM_RETURNED': 0, 'PRIMER_PAIR': [], 'PRIMER_LEFT': [], 'PRIMER_RIGHT': [], 'PRIMER_INTERNAL': []}\n",
      "{'PRIMER_LEFT_EXPLAIN': 'considered 18, low tm 8, high tm 7, high hairpin stability 3, ok 0', 'PRIMER_RIGHT_EXPLAIN': 'considered 18, low tm 7, high tm 9, ok 2', 'PRIMER_INTERNAL_EXPLAIN': 'considered 78495, GC content failed 2100, low tm 37340, high tm 16649, ok 22406', 'PRIMER_PAIR_EXPLAIN': 'considered 30, unacceptable product size 30, ok 0', 'PRIMER_LEFT_NUM_RETURNED': 0, 'PRIMER_RIGHT_NUM_RETURNED': 0, 'PRIMER_INTERNAL_NUM_RETURNED': 0, 'PRIMER_PAIR_NUM_RETURNED': 0, 'PRIMER_PAIR': [], 'PRIMER_LEFT': [], 'PRIMER_RIGHT': [], 'PRIMER_INTERNAL': []}\n",
      "{'PRIMER_LEFT_EXPLAIN': 'considered 18, GC content failed 1, low tm 7, high tm 7, high hairpin stability 3, ok 0', 'PRIMER_RIGHT_EXPLAIN': 'considered 18, low tm 7, high tm 9, ok 2', 'PRIMER_INTERNAL_EXPLAIN': 'considered 78495, GC content failed 2100, low tm 37340, high tm 16649, ok 22406', 'PRIMER_PAIR_EXPLAIN': 'considered 30, unacceptable product size 30, ok 0', 'PRIMER_LEFT_NUM_RETURNED': 0, 'PRIMER_RIGHT_NUM_RETURNED': 0, 'PRIMER_INTERNAL_NUM_RETURNED': 0, 'PRIMER_PAIR_NUM_RETURNED': 0, 'PRIMER_PAIR': [], 'PRIMER_LEFT': [], 'PRIMER_RIGHT': [], 'PRIMER_INTERNAL': []}\n",
      "{'PRIMER_LEFT_EXPLAIN': 'considered 18, low tm 9, high tm 6, ok 3', 'PRIMER_RIGHT_EXPLAIN': 'considered 18, low tm 7, high tm 9, high hairpin stability 2, ok 0', 'PRIMER_INTERNAL_EXPLAIN': 'considered 78495, GC content failed 2100, low tm 37340, high tm 16649, ok 22406', 'PRIMER_PAIR_EXPLAIN': 'considered 30, unacceptable product size 30, ok 0', 'PRIMER_LEFT_NUM_RETURNED': 0, 'PRIMER_RIGHT_NUM_RETURNED': 0, 'PRIMER_INTERNAL_NUM_RETURNED': 0, 'PRIMER_PAIR_NUM_RETURNED': 0, 'PRIMER_PAIR': [], 'PRIMER_LEFT': [], 'PRIMER_RIGHT': [], 'PRIMER_INTERNAL': []}\n",
      "{'PRIMER_LEFT_EXPLAIN': 'considered 18, low tm 9, high tm 7, ok 2', 'PRIMER_RIGHT_EXPLAIN': 'considered 18, low tm 7, high tm 9, high hairpin stability 2, ok 0', 'PRIMER_INTERNAL_EXPLAIN': 'considered 78495, GC content failed 2100, low tm 37340, high tm 16649, ok 22406', 'PRIMER_PAIR_EXPLAIN': 'considered 20, unacceptable product size 20, ok 0', 'PRIMER_LEFT_NUM_RETURNED': 0, 'PRIMER_RIGHT_NUM_RETURNED': 0, 'PRIMER_INTERNAL_NUM_RETURNED': 0, 'PRIMER_PAIR_NUM_RETURNED': 0, 'PRIMER_PAIR': [], 'PRIMER_LEFT': [], 'PRIMER_RIGHT': [], 'PRIMER_INTERNAL': []}\n",
      "{'PRIMER_LEFT_EXPLAIN': 'considered 18, low tm 9, high tm 7, ok 2', 'PRIMER_RIGHT_EXPLAIN': 'considered 18, low tm 7, high tm 9, high hairpin stability 2, ok 0', 'PRIMER_INTERNAL_EXPLAIN': 'considered 78495, GC content failed 2100, low tm 37340, high tm 16649, ok 22406', 'PRIMER_PAIR_EXPLAIN': 'considered 20, unacceptable product size 20, ok 0', 'PRIMER_LEFT_NUM_RETURNED': 0, 'PRIMER_RIGHT_NUM_RETURNED': 0, 'PRIMER_INTERNAL_NUM_RETURNED': 0, 'PRIMER_PAIR_NUM_RETURNED': 0, 'PRIMER_PAIR': [], 'PRIMER_LEFT': [], 'PRIMER_RIGHT': [], 'PRIMER_INTERNAL': []}\n",
      "{'PRIMER_LEFT_EXPLAIN': 'considered 18, low tm 9, high tm 6, ok 3', 'PRIMER_RIGHT_EXPLAIN': 'considered 18, low tm 7, high tm 9, high hairpin stability 2, ok 0', 'PRIMER_INTERNAL_EXPLAIN': 'considered 78495, GC content failed 2100, low tm 37340, high tm 16649, ok 22406', 'PRIMER_PAIR_EXPLAIN': 'considered 30, unacceptable product size 30, ok 0', 'PRIMER_LEFT_NUM_RETURNED': 0, 'PRIMER_RIGHT_NUM_RETURNED': 0, 'PRIMER_INTERNAL_NUM_RETURNED': 0, 'PRIMER_PAIR_NUM_RETURNED': 0, 'PRIMER_PAIR': [], 'PRIMER_LEFT': [], 'PRIMER_RIGHT': [], 'PRIMER_INTERNAL': []}\n",
      "{'PRIMER_LEFT_EXPLAIN': 'considered 18, GC content failed 1, low tm 6, high tm 9, high hairpin stability 2, ok 0', 'PRIMER_RIGHT_EXPLAIN': 'considered 18, low tm 7, high tm 9, ok 2', 'PRIMER_INTERNAL_EXPLAIN': 'considered 78495, GC content failed 2100, low tm 37340, high tm 16649, ok 22406', 'PRIMER_PAIR_EXPLAIN': 'considered 20, unacceptable product size 20, ok 0', 'PRIMER_LEFT_NUM_RETURNED': 0, 'PRIMER_RIGHT_NUM_RETURNED': 0, 'PRIMER_INTERNAL_NUM_RETURNED': 0, 'PRIMER_PAIR_NUM_RETURNED': 0, 'PRIMER_PAIR': [], 'PRIMER_LEFT': [], 'PRIMER_RIGHT': [], 'PRIMER_INTERNAL': []}\n",
      "{'PRIMER_LEFT_EXPLAIN': 'considered 18, GC content failed 5, low tm 3, high tm 9, high hairpin stability 1, ok 0', 'PRIMER_RIGHT_EXPLAIN': 'considered 18, low tm 7, high tm 9, ok 2', 'PRIMER_INTERNAL_EXPLAIN': 'considered 78495, GC content failed 2100, low tm 37340, high tm 16649, ok 22406', 'PRIMER_PAIR_EXPLAIN': 'considered 10, unacceptable product size 10, ok 0', 'PRIMER_LEFT_NUM_RETURNED': 0, 'PRIMER_RIGHT_NUM_RETURNED': 0, 'PRIMER_INTERNAL_NUM_RETURNED': 0, 'PRIMER_PAIR_NUM_RETURNED': 0, 'PRIMER_PAIR': [], 'PRIMER_LEFT': [], 'PRIMER_RIGHT': [], 'PRIMER_INTERNAL': []}\n",
      "{'PRIMER_LEFT_EXPLAIN': 'considered 18, GC content failed 2, low tm 5, high tm 8, high hairpin stability 3, ok 0', 'PRIMER_RIGHT_EXPLAIN': 'considered 18, low tm 7, high tm 9, ok 2', 'PRIMER_INTERNAL_EXPLAIN': 'considered 78495, GC content failed 2100, low tm 37340, high tm 16649, ok 22406', 'PRIMER_PAIR_EXPLAIN': 'considered 30, unacceptable product size 30, ok 0', 'PRIMER_LEFT_NUM_RETURNED': 0, 'PRIMER_RIGHT_NUM_RETURNED': 0, 'PRIMER_INTERNAL_NUM_RETURNED': 0, 'PRIMER_PAIR_NUM_RETURNED': 0, 'PRIMER_PAIR': [], 'PRIMER_LEFT': [], 'PRIMER_RIGHT': [], 'PRIMER_INTERNAL': []}\n",
      "{'PRIMER_LEFT_EXPLAIN': 'considered 18, GC content failed 1, low tm 6, high tm 7, high hairpin stability 4, ok 0', 'PRIMER_RIGHT_EXPLAIN': 'considered 18, low tm 7, high tm 9, ok 2', 'PRIMER_INTERNAL_EXPLAIN': 'considered 78495, GC content failed 2100, low tm 37340, high tm 16649, ok 22406', 'PRIMER_PAIR_EXPLAIN': 'considered 40, unacceptable product size 40, ok 0', 'PRIMER_LEFT_NUM_RETURNED': 0, 'PRIMER_RIGHT_NUM_RETURNED': 0, 'PRIMER_INTERNAL_NUM_RETURNED': 0, 'PRIMER_PAIR_NUM_RETURNED': 0, 'PRIMER_PAIR': [], 'PRIMER_LEFT': [], 'PRIMER_RIGHT': [], 'PRIMER_INTERNAL': []}\n",
      "{'PRIMER_LEFT_EXPLAIN': 'considered 18, low tm 8, high tm 7, high hairpin stability 3, ok 0', 'PRIMER_RIGHT_EXPLAIN': 'considered 18, low tm 7, high tm 9, ok 2', 'PRIMER_INTERNAL_EXPLAIN': 'considered 78495, GC content failed 2100, low tm 37340, high tm 16649, ok 22406', 'PRIMER_PAIR_EXPLAIN': 'considered 30, unacceptable product size 30, ok 0', 'PRIMER_LEFT_NUM_RETURNED': 0, 'PRIMER_RIGHT_NUM_RETURNED': 0, 'PRIMER_INTERNAL_NUM_RETURNED': 0, 'PRIMER_PAIR_NUM_RETURNED': 0, 'PRIMER_PAIR': [], 'PRIMER_LEFT': [], 'PRIMER_RIGHT': [], 'PRIMER_INTERNAL': []}\n",
      "{'PRIMER_LEFT_EXPLAIN': 'considered 18, low tm 8, high tm 7, high hairpin stability 3, ok 0', 'PRIMER_RIGHT_EXPLAIN': 'considered 18, low tm 7, high tm 9, ok 2', 'PRIMER_INTERNAL_EXPLAIN': 'considered 78495, GC content failed 2100, low tm 37340, high tm 16649, ok 22406', 'PRIMER_PAIR_EXPLAIN': 'considered 30, unacceptable product size 30, ok 0', 'PRIMER_LEFT_NUM_RETURNED': 0, 'PRIMER_RIGHT_NUM_RETURNED': 0, 'PRIMER_INTERNAL_NUM_RETURNED': 0, 'PRIMER_PAIR_NUM_RETURNED': 0, 'PRIMER_PAIR': [], 'PRIMER_LEFT': [], 'PRIMER_RIGHT': [], 'PRIMER_INTERNAL': []}\n",
      "{'PRIMER_LEFT_EXPLAIN': 'considered 18, GC content failed 1, low tm 7, high tm 7, high hairpin stability 3, ok 0', 'PRIMER_RIGHT_EXPLAIN': 'considered 18, low tm 7, high tm 9, ok 2', 'PRIMER_INTERNAL_EXPLAIN': 'considered 78495, GC content failed 2100, low tm 37340, high tm 16649, ok 22406', 'PRIMER_PAIR_EXPLAIN': 'considered 30, unacceptable product size 30, ok 0', 'PRIMER_LEFT_NUM_RETURNED': 0, 'PRIMER_RIGHT_NUM_RETURNED': 0, 'PRIMER_INTERNAL_NUM_RETURNED': 0, 'PRIMER_PAIR_NUM_RETURNED': 0, 'PRIMER_PAIR': [], 'PRIMER_LEFT': [], 'PRIMER_RIGHT': [], 'PRIMER_INTERNAL': []}\n",
      "{'PRIMER_LEFT_EXPLAIN': 'considered 18, low tm 9, high tm 6, ok 3', 'PRIMER_RIGHT_EXPLAIN': 'considered 18, low tm 7, high tm 9, high hairpin stability 2, ok 0', 'PRIMER_INTERNAL_EXPLAIN': 'considered 78495, GC content failed 2100, low tm 37340, high tm 16649, ok 22406', 'PRIMER_PAIR_EXPLAIN': 'considered 30, unacceptable product size 30, ok 0', 'PRIMER_LEFT_NUM_RETURNED': 0, 'PRIMER_RIGHT_NUM_RETURNED': 0, 'PRIMER_INTERNAL_NUM_RETURNED': 0, 'PRIMER_PAIR_NUM_RETURNED': 0, 'PRIMER_PAIR': [], 'PRIMER_LEFT': [], 'PRIMER_RIGHT': [], 'PRIMER_INTERNAL': []}\n",
      "{'PRIMER_LEFT_EXPLAIN': 'considered 18, low tm 9, high tm 7, ok 2', 'PRIMER_RIGHT_EXPLAIN': 'considered 18, low tm 7, high tm 9, high hairpin stability 2, ok 0', 'PRIMER_INTERNAL_EXPLAIN': 'considered 78495, GC content failed 2100, low tm 37340, high tm 16649, ok 22406', 'PRIMER_PAIR_EXPLAIN': 'considered 20, unacceptable product size 20, ok 0', 'PRIMER_LEFT_NUM_RETURNED': 0, 'PRIMER_RIGHT_NUM_RETURNED': 0, 'PRIMER_INTERNAL_NUM_RETURNED': 0, 'PRIMER_PAIR_NUM_RETURNED': 0, 'PRIMER_PAIR': [], 'PRIMER_LEFT': [], 'PRIMER_RIGHT': [], 'PRIMER_INTERNAL': []}\n",
      "{'PRIMER_LEFT_EXPLAIN': 'considered 18, low tm 9, high tm 7, ok 2', 'PRIMER_RIGHT_EXPLAIN': 'considered 18, low tm 7, high tm 9, high hairpin stability 2, ok 0', 'PRIMER_INTERNAL_EXPLAIN': 'considered 78495, GC content failed 2100, low tm 37340, high tm 16649, ok 22406', 'PRIMER_PAIR_EXPLAIN': 'considered 20, unacceptable product size 20, ok 0', 'PRIMER_LEFT_NUM_RETURNED': 0, 'PRIMER_RIGHT_NUM_RETURNED': 0, 'PRIMER_INTERNAL_NUM_RETURNED': 0, 'PRIMER_PAIR_NUM_RETURNED': 0, 'PRIMER_PAIR': [], 'PRIMER_LEFT': [], 'PRIMER_RIGHT': [], 'PRIMER_INTERNAL': []}\n",
      "{'PRIMER_LEFT_EXPLAIN': 'considered 18, low tm 9, high tm 6, ok 3', 'PRIMER_RIGHT_EXPLAIN': 'considered 18, low tm 7, high tm 9, high hairpin stability 2, ok 0', 'PRIMER_INTERNAL_EXPLAIN': 'considered 78495, GC content failed 2100, low tm 37340, high tm 16649, ok 22406', 'PRIMER_PAIR_EXPLAIN': 'considered 30, unacceptable product size 30, ok 0', 'PRIMER_LEFT_NUM_RETURNED': 0, 'PRIMER_RIGHT_NUM_RETURNED': 0, 'PRIMER_INTERNAL_NUM_RETURNED': 0, 'PRIMER_PAIR_NUM_RETURNED': 0, 'PRIMER_PAIR': [], 'PRIMER_LEFT': [], 'PRIMER_RIGHT': [], 'PRIMER_INTERNAL': []}\n",
      "{'PRIMER_LEFT_EXPLAIN': 'considered 18, GC content failed 1, low tm 6, high tm 9, high hairpin stability 2, ok 0', 'PRIMER_RIGHT_EXPLAIN': 'considered 18, GC content failed 1, low tm 6, high tm 9, ok 2', 'PRIMER_INTERNAL_EXPLAIN': 'considered 78495, GC content failed 2100, low tm 37340, high tm 16649, ok 22406', 'PRIMER_PAIR_EXPLAIN': 'considered 20, unacceptable product size 20, ok 0', 'PRIMER_LEFT_NUM_RETURNED': 0, 'PRIMER_RIGHT_NUM_RETURNED': 0, 'PRIMER_INTERNAL_NUM_RETURNED': 0, 'PRIMER_PAIR_NUM_RETURNED': 0, 'PRIMER_PAIR': [], 'PRIMER_LEFT': [], 'PRIMER_RIGHT': [], 'PRIMER_INTERNAL': []}\n",
      "{'PRIMER_LEFT_EXPLAIN': 'considered 18, GC content failed 5, low tm 3, high tm 9, high hairpin stability 1, ok 0', 'PRIMER_RIGHT_EXPLAIN': 'considered 18, GC content failed 1, low tm 6, high tm 9, ok 2', 'PRIMER_INTERNAL_EXPLAIN': 'considered 78495, GC content failed 2100, low tm 37340, high tm 16649, ok 22406', 'PRIMER_PAIR_EXPLAIN': 'considered 10, unacceptable product size 10, ok 0', 'PRIMER_LEFT_NUM_RETURNED': 0, 'PRIMER_RIGHT_NUM_RETURNED': 0, 'PRIMER_INTERNAL_NUM_RETURNED': 0, 'PRIMER_PAIR_NUM_RETURNED': 0, 'PRIMER_PAIR': [], 'PRIMER_LEFT': [], 'PRIMER_RIGHT': [], 'PRIMER_INTERNAL': []}\n",
      "{'PRIMER_LEFT_EXPLAIN': 'considered 18, GC content failed 2, low tm 5, high tm 8, high hairpin stability 3, ok 0', 'PRIMER_RIGHT_EXPLAIN': 'considered 18, GC content failed 1, low tm 6, high tm 9, ok 2', 'PRIMER_INTERNAL_EXPLAIN': 'considered 78495, GC content failed 2100, low tm 37340, high tm 16649, ok 22406', 'PRIMER_PAIR_EXPLAIN': 'considered 30, unacceptable product size 30, ok 0', 'PRIMER_LEFT_NUM_RETURNED': 0, 'PRIMER_RIGHT_NUM_RETURNED': 0, 'PRIMER_INTERNAL_NUM_RETURNED': 0, 'PRIMER_PAIR_NUM_RETURNED': 0, 'PRIMER_PAIR': [], 'PRIMER_LEFT': [], 'PRIMER_RIGHT': [], 'PRIMER_INTERNAL': []}\n",
      "{'PRIMER_LEFT_EXPLAIN': 'considered 18, GC content failed 1, low tm 6, high tm 7, high hairpin stability 4, ok 0', 'PRIMER_RIGHT_EXPLAIN': 'considered 18, GC content failed 1, low tm 6, high tm 9, ok 2', 'PRIMER_INTERNAL_EXPLAIN': 'considered 78495, GC content failed 2100, low tm 37340, high tm 16649, ok 22406', 'PRIMER_PAIR_EXPLAIN': 'considered 40, unacceptable product size 40, ok 0', 'PRIMER_LEFT_NUM_RETURNED': 0, 'PRIMER_RIGHT_NUM_RETURNED': 0, 'PRIMER_INTERNAL_NUM_RETURNED': 0, 'PRIMER_PAIR_NUM_RETURNED': 0, 'PRIMER_PAIR': [], 'PRIMER_LEFT': [], 'PRIMER_RIGHT': [], 'PRIMER_INTERNAL': []}\n",
      "{'PRIMER_LEFT_EXPLAIN': 'considered 18, low tm 8, high tm 7, high hairpin stability 3, ok 0', 'PRIMER_RIGHT_EXPLAIN': 'considered 18, GC content failed 1, low tm 6, high tm 9, ok 2', 'PRIMER_INTERNAL_EXPLAIN': 'considered 78495, GC content failed 2100, low tm 37340, high tm 16649, ok 22406', 'PRIMER_PAIR_EXPLAIN': 'considered 30, unacceptable product size 30, ok 0', 'PRIMER_LEFT_NUM_RETURNED': 0, 'PRIMER_RIGHT_NUM_RETURNED': 0, 'PRIMER_INTERNAL_NUM_RETURNED': 0, 'PRIMER_PAIR_NUM_RETURNED': 0, 'PRIMER_PAIR': [], 'PRIMER_LEFT': [], 'PRIMER_RIGHT': [], 'PRIMER_INTERNAL': []}\n",
      "{'PRIMER_LEFT_EXPLAIN': 'considered 18, low tm 8, high tm 7, high hairpin stability 3, ok 0', 'PRIMER_RIGHT_EXPLAIN': 'considered 18, GC content failed 1, low tm 6, high tm 9, ok 2', 'PRIMER_INTERNAL_EXPLAIN': 'considered 78495, GC content failed 2100, low tm 37340, high tm 16649, ok 22406', 'PRIMER_PAIR_EXPLAIN': 'considered 30, unacceptable product size 30, ok 0', 'PRIMER_LEFT_NUM_RETURNED': 0, 'PRIMER_RIGHT_NUM_RETURNED': 0, 'PRIMER_INTERNAL_NUM_RETURNED': 0, 'PRIMER_PAIR_NUM_RETURNED': 0, 'PRIMER_PAIR': [], 'PRIMER_LEFT': [], 'PRIMER_RIGHT': [], 'PRIMER_INTERNAL': []}\n",
      "{'PRIMER_LEFT_EXPLAIN': 'considered 18, GC content failed 1, low tm 7, high tm 7, high hairpin stability 3, ok 0', 'PRIMER_RIGHT_EXPLAIN': 'considered 18, GC content failed 1, low tm 6, high tm 9, ok 2', 'PRIMER_INTERNAL_EXPLAIN': 'considered 78495, GC content failed 2100, low tm 37340, high tm 16649, ok 22406', 'PRIMER_PAIR_EXPLAIN': 'considered 30, unacceptable product size 30, ok 0', 'PRIMER_LEFT_NUM_RETURNED': 0, 'PRIMER_RIGHT_NUM_RETURNED': 0, 'PRIMER_INTERNAL_NUM_RETURNED': 0, 'PRIMER_PAIR_NUM_RETURNED': 0, 'PRIMER_PAIR': [], 'PRIMER_LEFT': [], 'PRIMER_RIGHT': [], 'PRIMER_INTERNAL': []}\n",
      "{'PRIMER_LEFT_EXPLAIN': 'considered 18, low tm 9, high tm 6, ok 3', 'PRIMER_RIGHT_EXPLAIN': 'considered 18, GC content failed 1, low tm 6, high tm 9, high hairpin stability 2, ok 0', 'PRIMER_INTERNAL_EXPLAIN': 'considered 78495, GC content failed 2100, low tm 37340, high tm 16649, ok 22406', 'PRIMER_PAIR_EXPLAIN': 'considered 30, unacceptable product size 30, ok 0', 'PRIMER_LEFT_NUM_RETURNED': 0, 'PRIMER_RIGHT_NUM_RETURNED': 0, 'PRIMER_INTERNAL_NUM_RETURNED': 0, 'PRIMER_PAIR_NUM_RETURNED': 0, 'PRIMER_PAIR': [], 'PRIMER_LEFT': [], 'PRIMER_RIGHT': [], 'PRIMER_INTERNAL': []}\n",
      "{'PRIMER_LEFT_EXPLAIN': 'considered 18, low tm 9, high tm 7, ok 2', 'PRIMER_RIGHT_EXPLAIN': 'considered 18, GC content failed 1, low tm 6, high tm 9, high hairpin stability 2, ok 0', 'PRIMER_INTERNAL_EXPLAIN': 'considered 78495, GC content failed 2100, low tm 37340, high tm 16649, ok 22406', 'PRIMER_PAIR_EXPLAIN': 'considered 20, unacceptable product size 20, ok 0', 'PRIMER_LEFT_NUM_RETURNED': 0, 'PRIMER_RIGHT_NUM_RETURNED': 0, 'PRIMER_INTERNAL_NUM_RETURNED': 0, 'PRIMER_PAIR_NUM_RETURNED': 0, 'PRIMER_PAIR': [], 'PRIMER_LEFT': [], 'PRIMER_RIGHT': [], 'PRIMER_INTERNAL': []}\n",
      "{'PRIMER_LEFT_EXPLAIN': 'considered 18, low tm 9, high tm 7, ok 2', 'PRIMER_RIGHT_EXPLAIN': 'considered 18, GC content failed 1, low tm 6, high tm 9, high hairpin stability 2, ok 0', 'PRIMER_INTERNAL_EXPLAIN': 'considered 78495, GC content failed 2100, low tm 37340, high tm 16649, ok 22406', 'PRIMER_PAIR_EXPLAIN': 'considered 20, unacceptable product size 20, ok 0', 'PRIMER_LEFT_NUM_RETURNED': 0, 'PRIMER_RIGHT_NUM_RETURNED': 0, 'PRIMER_INTERNAL_NUM_RETURNED': 0, 'PRIMER_PAIR_NUM_RETURNED': 0, 'PRIMER_PAIR': [], 'PRIMER_LEFT': [], 'PRIMER_RIGHT': [], 'PRIMER_INTERNAL': []}\n",
      "{'PRIMER_LEFT_EXPLAIN': 'considered 18, low tm 9, high tm 6, ok 3', 'PRIMER_RIGHT_EXPLAIN': 'considered 18, GC content failed 1, low tm 6, high tm 9, high hairpin stability 2, ok 0', 'PRIMER_INTERNAL_EXPLAIN': 'considered 78495, GC content failed 2100, low tm 37340, high tm 16649, ok 22406', 'PRIMER_PAIR_EXPLAIN': 'considered 30, unacceptable product size 30, ok 0', 'PRIMER_LEFT_NUM_RETURNED': 0, 'PRIMER_RIGHT_NUM_RETURNED': 0, 'PRIMER_INTERNAL_NUM_RETURNED': 0, 'PRIMER_PAIR_NUM_RETURNED': 0, 'PRIMER_PAIR': [], 'PRIMER_LEFT': [], 'PRIMER_RIGHT': [], 'PRIMER_INTERNAL': []}\n",
      "{'PRIMER_LEFT_EXPLAIN': 'considered 18, GC content failed 1, low tm 6, high tm 9, high hairpin stability 2, ok 0', 'PRIMER_RIGHT_EXPLAIN': 'considered 18, low tm 7, high tm 9, ok 2', 'PRIMER_INTERNAL_EXPLAIN': 'considered 78495, GC content failed 2100, low tm 37340, high tm 16649, ok 22406', 'PRIMER_PAIR_EXPLAIN': 'considered 20, unacceptable product size 20, ok 0', 'PRIMER_LEFT_NUM_RETURNED': 0, 'PRIMER_RIGHT_NUM_RETURNED': 0, 'PRIMER_INTERNAL_NUM_RETURNED': 0, 'PRIMER_PAIR_NUM_RETURNED': 0, 'PRIMER_PAIR': [], 'PRIMER_LEFT': [], 'PRIMER_RIGHT': [], 'PRIMER_INTERNAL': []}\n",
      "{'PRIMER_LEFT_EXPLAIN': 'considered 18, GC content failed 5, low tm 3, high tm 9, high hairpin stability 1, ok 0', 'PRIMER_RIGHT_EXPLAIN': 'considered 18, low tm 7, high tm 9, ok 2', 'PRIMER_INTERNAL_EXPLAIN': 'considered 78495, GC content failed 2100, low tm 37340, high tm 16649, ok 22406', 'PRIMER_PAIR_EXPLAIN': 'considered 10, unacceptable product size 10, ok 0', 'PRIMER_LEFT_NUM_RETURNED': 0, 'PRIMER_RIGHT_NUM_RETURNED': 0, 'PRIMER_INTERNAL_NUM_RETURNED': 0, 'PRIMER_PAIR_NUM_RETURNED': 0, 'PRIMER_PAIR': [], 'PRIMER_LEFT': [], 'PRIMER_RIGHT': [], 'PRIMER_INTERNAL': []}\n",
      "{'PRIMER_LEFT_EXPLAIN': 'considered 18, GC content failed 2, low tm 5, high tm 8, high hairpin stability 3, ok 0', 'PRIMER_RIGHT_EXPLAIN': 'considered 18, low tm 7, high tm 9, ok 2', 'PRIMER_INTERNAL_EXPLAIN': 'considered 78495, GC content failed 2100, low tm 37340, high tm 16649, ok 22406', 'PRIMER_PAIR_EXPLAIN': 'considered 30, unacceptable product size 30, ok 0', 'PRIMER_LEFT_NUM_RETURNED': 0, 'PRIMER_RIGHT_NUM_RETURNED': 0, 'PRIMER_INTERNAL_NUM_RETURNED': 0, 'PRIMER_PAIR_NUM_RETURNED': 0, 'PRIMER_PAIR': [], 'PRIMER_LEFT': [], 'PRIMER_RIGHT': [], 'PRIMER_INTERNAL': []}\n",
      "{'PRIMER_LEFT_EXPLAIN': 'considered 18, GC content failed 1, low tm 6, high tm 7, high hairpin stability 4, ok 0', 'PRIMER_RIGHT_EXPLAIN': 'considered 18, low tm 7, high tm 9, ok 2', 'PRIMER_INTERNAL_EXPLAIN': 'considered 78495, GC content failed 2100, low tm 37340, high tm 16649, ok 22406', 'PRIMER_PAIR_EXPLAIN': 'considered 40, unacceptable product size 40, ok 0', 'PRIMER_LEFT_NUM_RETURNED': 0, 'PRIMER_RIGHT_NUM_RETURNED': 0, 'PRIMER_INTERNAL_NUM_RETURNED': 0, 'PRIMER_PAIR_NUM_RETURNED': 0, 'PRIMER_PAIR': [], 'PRIMER_LEFT': [], 'PRIMER_RIGHT': [], 'PRIMER_INTERNAL': []}\n",
      "{'PRIMER_LEFT_EXPLAIN': 'considered 18, low tm 8, high tm 7, high hairpin stability 3, ok 0', 'PRIMER_RIGHT_EXPLAIN': 'considered 18, low tm 7, high tm 9, ok 2', 'PRIMER_INTERNAL_EXPLAIN': 'considered 78495, GC content failed 2100, low tm 37340, high tm 16649, ok 22406', 'PRIMER_PAIR_EXPLAIN': 'considered 30, unacceptable product size 30, ok 0', 'PRIMER_LEFT_NUM_RETURNED': 0, 'PRIMER_RIGHT_NUM_RETURNED': 0, 'PRIMER_INTERNAL_NUM_RETURNED': 0, 'PRIMER_PAIR_NUM_RETURNED': 0, 'PRIMER_PAIR': [], 'PRIMER_LEFT': [], 'PRIMER_RIGHT': [], 'PRIMER_INTERNAL': []}\n",
      "{'PRIMER_LEFT_EXPLAIN': 'considered 18, low tm 8, high tm 7, high hairpin stability 3, ok 0', 'PRIMER_RIGHT_EXPLAIN': 'considered 18, low tm 7, high tm 9, ok 2', 'PRIMER_INTERNAL_EXPLAIN': 'considered 78495, GC content failed 2100, low tm 37340, high tm 16649, ok 22406', 'PRIMER_PAIR_EXPLAIN': 'considered 30, unacceptable product size 30, ok 0', 'PRIMER_LEFT_NUM_RETURNED': 0, 'PRIMER_RIGHT_NUM_RETURNED': 0, 'PRIMER_INTERNAL_NUM_RETURNED': 0, 'PRIMER_PAIR_NUM_RETURNED': 0, 'PRIMER_PAIR': [], 'PRIMER_LEFT': [], 'PRIMER_RIGHT': [], 'PRIMER_INTERNAL': []}\n",
      "{'PRIMER_LEFT_EXPLAIN': 'considered 18, GC content failed 1, low tm 7, high tm 7, high hairpin stability 3, ok 0', 'PRIMER_RIGHT_EXPLAIN': 'considered 18, low tm 7, high tm 9, ok 2', 'PRIMER_INTERNAL_EXPLAIN': 'considered 78495, GC content failed 2100, low tm 37340, high tm 16649, ok 22406', 'PRIMER_PAIR_EXPLAIN': 'considered 30, unacceptable product size 30, ok 0', 'PRIMER_LEFT_NUM_RETURNED': 0, 'PRIMER_RIGHT_NUM_RETURNED': 0, 'PRIMER_INTERNAL_NUM_RETURNED': 0, 'PRIMER_PAIR_NUM_RETURNED': 0, 'PRIMER_PAIR': [], 'PRIMER_LEFT': [], 'PRIMER_RIGHT': [], 'PRIMER_INTERNAL': []}\n",
      "{'PRIMER_LEFT_EXPLAIN': 'considered 18, low tm 9, high tm 6, ok 3', 'PRIMER_RIGHT_EXPLAIN': 'considered 18, low tm 7, high tm 9, high hairpin stability 2, ok 0', 'PRIMER_INTERNAL_EXPLAIN': 'considered 78495, GC content failed 2100, low tm 37340, high tm 16649, ok 22406', 'PRIMER_PAIR_EXPLAIN': 'considered 30, unacceptable product size 30, ok 0', 'PRIMER_LEFT_NUM_RETURNED': 0, 'PRIMER_RIGHT_NUM_RETURNED': 0, 'PRIMER_INTERNAL_NUM_RETURNED': 0, 'PRIMER_PAIR_NUM_RETURNED': 0, 'PRIMER_PAIR': [], 'PRIMER_LEFT': [], 'PRIMER_RIGHT': [], 'PRIMER_INTERNAL': []}\n",
      "{'PRIMER_LEFT_EXPLAIN': 'considered 18, low tm 9, high tm 7, ok 2', 'PRIMER_RIGHT_EXPLAIN': 'considered 18, low tm 7, high tm 9, high hairpin stability 2, ok 0', 'PRIMER_INTERNAL_EXPLAIN': 'considered 78495, GC content failed 2100, low tm 37340, high tm 16649, ok 22406', 'PRIMER_PAIR_EXPLAIN': 'considered 20, unacceptable product size 20, ok 0', 'PRIMER_LEFT_NUM_RETURNED': 0, 'PRIMER_RIGHT_NUM_RETURNED': 0, 'PRIMER_INTERNAL_NUM_RETURNED': 0, 'PRIMER_PAIR_NUM_RETURNED': 0, 'PRIMER_PAIR': [], 'PRIMER_LEFT': [], 'PRIMER_RIGHT': [], 'PRIMER_INTERNAL': []}\n",
      "{'PRIMER_LEFT_EXPLAIN': 'considered 18, low tm 9, high tm 7, ok 2', 'PRIMER_RIGHT_EXPLAIN': 'considered 18, low tm 7, high tm 9, high hairpin stability 2, ok 0', 'PRIMER_INTERNAL_EXPLAIN': 'considered 78495, GC content failed 2100, low tm 37340, high tm 16649, ok 22406', 'PRIMER_PAIR_EXPLAIN': 'considered 20, unacceptable product size 20, ok 0', 'PRIMER_LEFT_NUM_RETURNED': 0, 'PRIMER_RIGHT_NUM_RETURNED': 0, 'PRIMER_INTERNAL_NUM_RETURNED': 0, 'PRIMER_PAIR_NUM_RETURNED': 0, 'PRIMER_PAIR': [], 'PRIMER_LEFT': [], 'PRIMER_RIGHT': [], 'PRIMER_INTERNAL': []}\n",
      "{'PRIMER_LEFT_EXPLAIN': 'considered 18, low tm 9, high tm 6, ok 3', 'PRIMER_RIGHT_EXPLAIN': 'considered 18, low tm 7, high tm 9, high hairpin stability 2, ok 0', 'PRIMER_INTERNAL_EXPLAIN': 'considered 78495, GC content failed 2100, low tm 37340, high tm 16649, ok 22406', 'PRIMER_PAIR_EXPLAIN': 'considered 30, unacceptable product size 30, ok 0', 'PRIMER_LEFT_NUM_RETURNED': 0, 'PRIMER_RIGHT_NUM_RETURNED': 0, 'PRIMER_INTERNAL_NUM_RETURNED': 0, 'PRIMER_PAIR_NUM_RETURNED': 0, 'PRIMER_PAIR': [], 'PRIMER_LEFT': [], 'PRIMER_RIGHT': [], 'PRIMER_INTERNAL': []}\n",
      "{'PRIMER_LEFT_EXPLAIN': 'considered 18, GC content failed 1, low tm 6, high tm 9, high hairpin stability 2, ok 0', 'PRIMER_RIGHT_EXPLAIN': 'considered 18, GC content failed 1, low tm 7, high tm 9, ok 1', 'PRIMER_INTERNAL_EXPLAIN': 'considered 78495, GC content failed 2100, low tm 37340, high tm 16649, ok 22406', 'PRIMER_PAIR_EXPLAIN': 'considered 10, unacceptable product size 10, ok 0', 'PRIMER_LEFT_NUM_RETURNED': 0, 'PRIMER_RIGHT_NUM_RETURNED': 0, 'PRIMER_INTERNAL_NUM_RETURNED': 0, 'PRIMER_PAIR_NUM_RETURNED': 0, 'PRIMER_PAIR': [], 'PRIMER_LEFT': [], 'PRIMER_RIGHT': [], 'PRIMER_INTERNAL': []}\n",
      "{'PRIMER_LEFT_EXPLAIN': 'considered 18, GC content failed 5, low tm 3, high tm 9, high hairpin stability 1, ok 0', 'PRIMER_RIGHT_EXPLAIN': 'considered 18, GC content failed 1, low tm 7, high tm 9, ok 1', 'PRIMER_INTERNAL_EXPLAIN': 'considered 78495, GC content failed 2100, low tm 37340, high tm 16649, ok 22406', 'PRIMER_PAIR_EXPLAIN': 'considered 5, unacceptable product size 5, ok 0', 'PRIMER_LEFT_NUM_RETURNED': 0, 'PRIMER_RIGHT_NUM_RETURNED': 0, 'PRIMER_INTERNAL_NUM_RETURNED': 0, 'PRIMER_PAIR_NUM_RETURNED': 0, 'PRIMER_PAIR': [], 'PRIMER_LEFT': [], 'PRIMER_RIGHT': [], 'PRIMER_INTERNAL': []}\n",
      "{'PRIMER_LEFT_EXPLAIN': 'considered 18, GC content failed 2, low tm 5, high tm 8, high hairpin stability 3, ok 0', 'PRIMER_RIGHT_EXPLAIN': 'considered 18, GC content failed 1, low tm 7, high tm 9, ok 1', 'PRIMER_INTERNAL_EXPLAIN': 'considered 78495, GC content failed 2100, low tm 37340, high tm 16649, ok 22406', 'PRIMER_PAIR_EXPLAIN': 'considered 15, unacceptable product size 15, ok 0', 'PRIMER_LEFT_NUM_RETURNED': 0, 'PRIMER_RIGHT_NUM_RETURNED': 0, 'PRIMER_INTERNAL_NUM_RETURNED': 0, 'PRIMER_PAIR_NUM_RETURNED': 0, 'PRIMER_PAIR': [], 'PRIMER_LEFT': [], 'PRIMER_RIGHT': [], 'PRIMER_INTERNAL': []}\n",
      "{'PRIMER_LEFT_EXPLAIN': 'considered 18, GC content failed 1, low tm 6, high tm 7, high hairpin stability 4, ok 0', 'PRIMER_RIGHT_EXPLAIN': 'considered 18, GC content failed 1, low tm 7, high tm 9, ok 1', 'PRIMER_INTERNAL_EXPLAIN': 'considered 78495, GC content failed 2100, low tm 37340, high tm 16649, ok 22406', 'PRIMER_PAIR_EXPLAIN': 'considered 20, unacceptable product size 20, ok 0', 'PRIMER_LEFT_NUM_RETURNED': 0, 'PRIMER_RIGHT_NUM_RETURNED': 0, 'PRIMER_INTERNAL_NUM_RETURNED': 0, 'PRIMER_PAIR_NUM_RETURNED': 0, 'PRIMER_PAIR': [], 'PRIMER_LEFT': [], 'PRIMER_RIGHT': [], 'PRIMER_INTERNAL': []}\n",
      "{'PRIMER_LEFT_EXPLAIN': 'considered 18, low tm 8, high tm 7, high hairpin stability 3, ok 0', 'PRIMER_RIGHT_EXPLAIN': 'considered 18, GC content failed 1, low tm 7, high tm 9, ok 1', 'PRIMER_INTERNAL_EXPLAIN': 'considered 78495, GC content failed 2100, low tm 37340, high tm 16649, ok 22406', 'PRIMER_PAIR_EXPLAIN': 'considered 15, unacceptable product size 15, ok 0', 'PRIMER_LEFT_NUM_RETURNED': 0, 'PRIMER_RIGHT_NUM_RETURNED': 0, 'PRIMER_INTERNAL_NUM_RETURNED': 0, 'PRIMER_PAIR_NUM_RETURNED': 0, 'PRIMER_PAIR': [], 'PRIMER_LEFT': [], 'PRIMER_RIGHT': [], 'PRIMER_INTERNAL': []}\n",
      "{'PRIMER_LEFT_EXPLAIN': 'considered 18, low tm 8, high tm 7, high hairpin stability 3, ok 0', 'PRIMER_RIGHT_EXPLAIN': 'considered 18, GC content failed 1, low tm 7, high tm 9, ok 1', 'PRIMER_INTERNAL_EXPLAIN': 'considered 78495, GC content failed 2100, low tm 37340, high tm 16649, ok 22406', 'PRIMER_PAIR_EXPLAIN': 'considered 15, unacceptable product size 15, ok 0', 'PRIMER_LEFT_NUM_RETURNED': 0, 'PRIMER_RIGHT_NUM_RETURNED': 0, 'PRIMER_INTERNAL_NUM_RETURNED': 0, 'PRIMER_PAIR_NUM_RETURNED': 0, 'PRIMER_PAIR': [], 'PRIMER_LEFT': [], 'PRIMER_RIGHT': [], 'PRIMER_INTERNAL': []}\n",
      "{'PRIMER_LEFT_EXPLAIN': 'considered 18, GC content failed 1, low tm 7, high tm 7, high hairpin stability 3, ok 0', 'PRIMER_RIGHT_EXPLAIN': 'considered 18, GC content failed 1, low tm 7, high tm 9, ok 1', 'PRIMER_INTERNAL_EXPLAIN': 'considered 78495, GC content failed 2100, low tm 37340, high tm 16649, ok 22406', 'PRIMER_PAIR_EXPLAIN': 'considered 15, unacceptable product size 15, ok 0', 'PRIMER_LEFT_NUM_RETURNED': 0, 'PRIMER_RIGHT_NUM_RETURNED': 0, 'PRIMER_INTERNAL_NUM_RETURNED': 0, 'PRIMER_PAIR_NUM_RETURNED': 0, 'PRIMER_PAIR': [], 'PRIMER_LEFT': [], 'PRIMER_RIGHT': [], 'PRIMER_INTERNAL': []}\n",
      "{'PRIMER_LEFT_EXPLAIN': 'considered 18, low tm 9, high tm 6, ok 3', 'PRIMER_RIGHT_EXPLAIN': 'considered 18, GC content failed 1, low tm 7, high tm 9, high hairpin stability 1, ok 0', 'PRIMER_INTERNAL_EXPLAIN': 'considered 78495, GC content failed 2100, low tm 37340, high tm 16649, ok 22406', 'PRIMER_PAIR_EXPLAIN': 'considered 15, unacceptable product size 15, ok 0', 'PRIMER_LEFT_NUM_RETURNED': 0, 'PRIMER_RIGHT_NUM_RETURNED': 0, 'PRIMER_INTERNAL_NUM_RETURNED': 0, 'PRIMER_PAIR_NUM_RETURNED': 0, 'PRIMER_PAIR': [], 'PRIMER_LEFT': [], 'PRIMER_RIGHT': [], 'PRIMER_INTERNAL': []}\n",
      "{'PRIMER_LEFT_EXPLAIN': 'considered 18, low tm 9, high tm 7, ok 2', 'PRIMER_RIGHT_EXPLAIN': 'considered 18, GC content failed 1, low tm 7, high tm 9, high hairpin stability 1, ok 0', 'PRIMER_INTERNAL_EXPLAIN': 'considered 78495, GC content failed 2100, low tm 37340, high tm 16649, ok 22406', 'PRIMER_PAIR_EXPLAIN': 'considered 10, unacceptable product size 10, ok 0', 'PRIMER_LEFT_NUM_RETURNED': 0, 'PRIMER_RIGHT_NUM_RETURNED': 0, 'PRIMER_INTERNAL_NUM_RETURNED': 0, 'PRIMER_PAIR_NUM_RETURNED': 0, 'PRIMER_PAIR': [], 'PRIMER_LEFT': [], 'PRIMER_RIGHT': [], 'PRIMER_INTERNAL': []}\n",
      "{'PRIMER_LEFT_EXPLAIN': 'considered 18, low tm 9, high tm 7, ok 2', 'PRIMER_RIGHT_EXPLAIN': 'considered 18, GC content failed 1, low tm 7, high tm 9, high hairpin stability 1, ok 0', 'PRIMER_INTERNAL_EXPLAIN': 'considered 78495, GC content failed 2100, low tm 37340, high tm 16649, ok 22406', 'PRIMER_PAIR_EXPLAIN': 'considered 10, unacceptable product size 10, ok 0', 'PRIMER_LEFT_NUM_RETURNED': 0, 'PRIMER_RIGHT_NUM_RETURNED': 0, 'PRIMER_INTERNAL_NUM_RETURNED': 0, 'PRIMER_PAIR_NUM_RETURNED': 0, 'PRIMER_PAIR': [], 'PRIMER_LEFT': [], 'PRIMER_RIGHT': [], 'PRIMER_INTERNAL': []}\n",
      "{'PRIMER_LEFT_EXPLAIN': 'considered 18, low tm 9, high tm 6, ok 3', 'PRIMER_RIGHT_EXPLAIN': 'considered 18, GC content failed 1, low tm 7, high tm 9, high hairpin stability 1, ok 0', 'PRIMER_INTERNAL_EXPLAIN': 'considered 78495, GC content failed 2100, low tm 37340, high tm 16649, ok 22406', 'PRIMER_PAIR_EXPLAIN': 'considered 15, unacceptable product size 15, ok 0', 'PRIMER_LEFT_NUM_RETURNED': 0, 'PRIMER_RIGHT_NUM_RETURNED': 0, 'PRIMER_INTERNAL_NUM_RETURNED': 0, 'PRIMER_PAIR_NUM_RETURNED': 0, 'PRIMER_PAIR': [], 'PRIMER_LEFT': [], 'PRIMER_RIGHT': [], 'PRIMER_INTERNAL': []}\n",
      "{'PRIMER_LEFT_EXPLAIN': 'considered 18, GC content failed 1, low tm 6, high tm 9, high hairpin stability 2, ok 0', 'PRIMER_RIGHT_EXPLAIN': 'considered 18, low tm 8, high tm 8, ok 2', 'PRIMER_INTERNAL_EXPLAIN': 'considered 78495, GC content failed 2100, low tm 37340, high tm 16649, ok 22406', 'PRIMER_PAIR_EXPLAIN': 'considered 20, unacceptable product size 20, ok 0', 'PRIMER_LEFT_NUM_RETURNED': 0, 'PRIMER_RIGHT_NUM_RETURNED': 0, 'PRIMER_INTERNAL_NUM_RETURNED': 0, 'PRIMER_PAIR_NUM_RETURNED': 0, 'PRIMER_PAIR': [], 'PRIMER_LEFT': [], 'PRIMER_RIGHT': [], 'PRIMER_INTERNAL': []}\n",
      "{'PRIMER_LEFT_EXPLAIN': 'considered 18, GC content failed 5, low tm 3, high tm 9, high hairpin stability 1, ok 0', 'PRIMER_RIGHT_EXPLAIN': 'considered 18, low tm 8, high tm 8, ok 2', 'PRIMER_INTERNAL_EXPLAIN': 'considered 78495, GC content failed 2100, low tm 37340, high tm 16649, ok 22406', 'PRIMER_PAIR_EXPLAIN': 'considered 10, unacceptable product size 10, ok 0', 'PRIMER_LEFT_NUM_RETURNED': 0, 'PRIMER_RIGHT_NUM_RETURNED': 0, 'PRIMER_INTERNAL_NUM_RETURNED': 0, 'PRIMER_PAIR_NUM_RETURNED': 0, 'PRIMER_PAIR': [], 'PRIMER_LEFT': [], 'PRIMER_RIGHT': [], 'PRIMER_INTERNAL': []}\n",
      "{'PRIMER_LEFT_EXPLAIN': 'considered 18, GC content failed 2, low tm 5, high tm 8, high hairpin stability 3, ok 0', 'PRIMER_RIGHT_EXPLAIN': 'considered 18, low tm 8, high tm 8, ok 2', 'PRIMER_INTERNAL_EXPLAIN': 'considered 78495, GC content failed 2100, low tm 37340, high tm 16649, ok 22406', 'PRIMER_PAIR_EXPLAIN': 'considered 30, unacceptable product size 30, ok 0', 'PRIMER_LEFT_NUM_RETURNED': 0, 'PRIMER_RIGHT_NUM_RETURNED': 0, 'PRIMER_INTERNAL_NUM_RETURNED': 0, 'PRIMER_PAIR_NUM_RETURNED': 0, 'PRIMER_PAIR': [], 'PRIMER_LEFT': [], 'PRIMER_RIGHT': [], 'PRIMER_INTERNAL': []}\n",
      "{'PRIMER_LEFT_EXPLAIN': 'considered 18, GC content failed 1, low tm 6, high tm 7, high hairpin stability 4, ok 0', 'PRIMER_RIGHT_EXPLAIN': 'considered 18, low tm 8, high tm 8, ok 2', 'PRIMER_INTERNAL_EXPLAIN': 'considered 78495, GC content failed 2100, low tm 37340, high tm 16649, ok 22406', 'PRIMER_PAIR_EXPLAIN': 'considered 40, unacceptable product size 40, ok 0', 'PRIMER_LEFT_NUM_RETURNED': 0, 'PRIMER_RIGHT_NUM_RETURNED': 0, 'PRIMER_INTERNAL_NUM_RETURNED': 0, 'PRIMER_PAIR_NUM_RETURNED': 0, 'PRIMER_PAIR': [], 'PRIMER_LEFT': [], 'PRIMER_RIGHT': [], 'PRIMER_INTERNAL': []}\n",
      "{'PRIMER_LEFT_EXPLAIN': 'considered 18, low tm 8, high tm 7, high hairpin stability 3, ok 0', 'PRIMER_RIGHT_EXPLAIN': 'considered 18, low tm 8, high tm 8, ok 2', 'PRIMER_INTERNAL_EXPLAIN': 'considered 78495, GC content failed 2100, low tm 37340, high tm 16649, ok 22406', 'PRIMER_PAIR_EXPLAIN': 'considered 30, unacceptable product size 30, ok 0', 'PRIMER_LEFT_NUM_RETURNED': 0, 'PRIMER_RIGHT_NUM_RETURNED': 0, 'PRIMER_INTERNAL_NUM_RETURNED': 0, 'PRIMER_PAIR_NUM_RETURNED': 0, 'PRIMER_PAIR': [], 'PRIMER_LEFT': [], 'PRIMER_RIGHT': [], 'PRIMER_INTERNAL': []}\n",
      "{'PRIMER_LEFT_EXPLAIN': 'considered 18, low tm 8, high tm 7, high hairpin stability 3, ok 0', 'PRIMER_RIGHT_EXPLAIN': 'considered 18, low tm 8, high tm 8, ok 2', 'PRIMER_INTERNAL_EXPLAIN': 'considered 78495, GC content failed 2100, low tm 37340, high tm 16649, ok 22406', 'PRIMER_PAIR_EXPLAIN': 'considered 30, unacceptable product size 30, ok 0', 'PRIMER_LEFT_NUM_RETURNED': 0, 'PRIMER_RIGHT_NUM_RETURNED': 0, 'PRIMER_INTERNAL_NUM_RETURNED': 0, 'PRIMER_PAIR_NUM_RETURNED': 0, 'PRIMER_PAIR': [], 'PRIMER_LEFT': [], 'PRIMER_RIGHT': [], 'PRIMER_INTERNAL': []}\n",
      "{'PRIMER_LEFT_EXPLAIN': 'considered 18, GC content failed 1, low tm 7, high tm 7, high hairpin stability 3, ok 0', 'PRIMER_RIGHT_EXPLAIN': 'considered 18, low tm 8, high tm 8, ok 2', 'PRIMER_INTERNAL_EXPLAIN': 'considered 78495, GC content failed 2100, low tm 37340, high tm 16649, ok 22406', 'PRIMER_PAIR_EXPLAIN': 'considered 30, unacceptable product size 30, ok 0', 'PRIMER_LEFT_NUM_RETURNED': 0, 'PRIMER_RIGHT_NUM_RETURNED': 0, 'PRIMER_INTERNAL_NUM_RETURNED': 0, 'PRIMER_PAIR_NUM_RETURNED': 0, 'PRIMER_PAIR': [], 'PRIMER_LEFT': [], 'PRIMER_RIGHT': [], 'PRIMER_INTERNAL': []}\n",
      "{'PRIMER_LEFT_EXPLAIN': 'considered 18, low tm 9, high tm 6, ok 3', 'PRIMER_RIGHT_EXPLAIN': 'considered 18, low tm 8, high tm 8, high hairpin stability 1, ok 1', 'PRIMER_INTERNAL_EXPLAIN': 'considered 78495, GC content failed 2100, low tm 37340, high tm 16649, high any compl 6, high hairpin stability 9, ok 22391', 'PRIMER_PAIR_EXPLAIN': 'considered 33, unacceptable product size 30, ok 3', 'PRIMER_LEFT_NUM_RETURNED': 3, 'PRIMER_RIGHT_NUM_RETURNED': 3, 'PRIMER_INTERNAL_NUM_RETURNED': 3, 'PRIMER_PAIR_NUM_RETURNED': 3, 'PRIMER_PAIR': [{'PENALTY': 7.389456365633009, 'COMPL_ANY_TH': 0.0, 'COMPL_END_TH': 0.0, 'PRODUCT_SIZE': 6935, 'PRODUCT_TM': 89.84547178713098}, {'PENALTY': 8.966054285014081, 'COMPL_ANY_TH': 0.0, 'COMPL_END_TH': 0.0, 'PRODUCT_SIZE': 6935, 'PRODUCT_TM': 89.84547178713098}, {'PENALTY': 9.191900197454913, 'COMPL_ANY_TH': 0.0, 'COMPL_END_TH': 0.0, 'PRODUCT_SIZE': 6935, 'PRODUCT_TM': 89.84547178713098}], 'PRIMER_LEFT': [{'PENALTY': 2.2032517068304855, 'SEQUENCE': 'cccgatgggcatgaccag', 'COORDS': [470, 18], 'TM': 60.203251706830486, 'GC_PERCENT': 66.66666666666667, 'SELF_ANY_TH': 27.678991609883553, 'SELF_END_TH': 13.497165901997732, 'HAIRPIN_TH': 45.201400890315426, 'END_STABILITY': 4.0}, {'PENALTY': 3.7798496262115577, 'SEQUENCE': 'cccgatgggcatgaccagg', 'COORDS': [470, 19], 'TM': 62.77984962621156, 'GC_PERCENT': 68.42105263157895, 'SELF_ANY_TH': 27.678991609883553, 'SELF_END_TH': 22.105004425918366, 'HAIRPIN_TH': 45.201400890315426, 'END_STABILITY': 4.45}, {'PENALTY': 4.00569553865239, 'SEQUENCE': 'cccgatgggcatgacca', 'COORDS': [470, 17], 'TM': 58.99430446134761, 'GC_PERCENT': 64.70588235294117, 'SELF_ANY_TH': 26.053893642636638, 'SELF_END_TH': 26.053893642636638, 'HAIRPIN_TH': 46.23744271336113, 'END_STABILITY': 4.02}], 'PRIMER_RIGHT': [{'PENALTY': 5.186204658802524, 'SEQUENCE': 'agagcggccaaccagg', 'COORDS': [7404, 16], 'TM': 58.813795341197476, 'GC_PERCENT': 68.75, 'SELF_ANY_TH': 2.236646359005192, 'SELF_END_TH': 0.0, 'HAIRPIN_TH': 41.83913830563273, 'END_STABILITY': 4.45}, {'PENALTY': 5.186204658802524, 'SEQUENCE': 'agagcggccaaccagg', 'COORDS': [7404, 16], 'TM': 58.813795341197476, 'GC_PERCENT': 68.75, 'SELF_ANY_TH': 2.236646359005192, 'SELF_END_TH': 0.0, 'HAIRPIN_TH': 41.83913830563273, 'END_STABILITY': 4.45}, {'PENALTY': 5.186204658802524, 'SEQUENCE': 'agagcggccaaccagg', 'COORDS': [7404, 16], 'TM': 58.813795341197476, 'GC_PERCENT': 68.75, 'SELF_ANY_TH': 2.236646359005192, 'SELF_END_TH': 0.0, 'HAIRPIN_TH': 41.83913830563273, 'END_STABILITY': 4.45}], 'PRIMER_INTERNAL': [{'PENALTY': 0.021578954679455364, 'SEQUENCE': 'caaacaggtgttggcgcgcc', 'COORDS': [2923, 20], 'TM': 59.978421045320545, 'GC_PERCENT': 65.0, 'SELF_ANY_TH': 38.40558149698387, 'SELF_END_TH': 38.40558149698387, 'HAIRPIN_TH': 34.71130427324374}, {'PENALTY': 0.021578954679455364, 'SEQUENCE': 'caaacaggtgttggcgcgcc', 'COORDS': [2923, 20], 'TM': 59.978421045320545, 'GC_PERCENT': 65.0, 'SELF_ANY_TH': 38.40558149698387, 'SELF_END_TH': 38.40558149698387, 'HAIRPIN_TH': 34.71130427324374}, {'PENALTY': 0.021578954679455364, 'SEQUENCE': 'caaacaggtgttggcgcgcc', 'COORDS': [2923, 20], 'TM': 59.978421045320545, 'GC_PERCENT': 65.0, 'SELF_ANY_TH': 38.40558149698387, 'SELF_END_TH': 38.40558149698387, 'HAIRPIN_TH': 34.71130427324374}], 'PRIMER_PAIR_0_PENALTY': 7.389456365633009, 'PRIMER_LEFT_0_PENALTY': 2.2032517068304855, 'PRIMER_RIGHT_0_PENALTY': 5.186204658802524, 'PRIMER_INTERNAL_0_PENALTY': 0.021578954679455364, 'PRIMER_LEFT_0_SEQUENCE': 'cccgatgggcatgaccag', 'PRIMER_RIGHT_0_SEQUENCE': 'agagcggccaaccagg', 'PRIMER_INTERNAL_0_SEQUENCE': 'caaacaggtgttggcgcgcc', 'PRIMER_LEFT_0': [470, 18], 'PRIMER_RIGHT_0': [7404, 16], 'PRIMER_INTERNAL_0': [2923, 20], 'PRIMER_LEFT_0_TM': 60.203251706830486, 'PRIMER_RIGHT_0_TM': 58.813795341197476, 'PRIMER_INTERNAL_0_TM': 59.978421045320545, 'PRIMER_LEFT_0_GC_PERCENT': 66.66666666666667, 'PRIMER_RIGHT_0_GC_PERCENT': 68.75, 'PRIMER_INTERNAL_0_GC_PERCENT': 65.0, 'PRIMER_LEFT_0_SELF_ANY_TH': 27.678991609883553, 'PRIMER_RIGHT_0_SELF_ANY_TH': 2.236646359005192, 'PRIMER_INTERNAL_0_SELF_ANY_TH': 38.40558149698387, 'PRIMER_LEFT_0_SELF_END_TH': 13.497165901997732, 'PRIMER_RIGHT_0_SELF_END_TH': 0.0, 'PRIMER_INTERNAL_0_SELF_END_TH': 38.40558149698387, 'PRIMER_LEFT_0_HAIRPIN_TH': 45.201400890315426, 'PRIMER_RIGHT_0_HAIRPIN_TH': 41.83913830563273, 'PRIMER_INTERNAL_0_HAIRPIN_TH': 34.71130427324374, 'PRIMER_LEFT_0_END_STABILITY': 4.0, 'PRIMER_RIGHT_0_END_STABILITY': 4.45, 'PRIMER_PAIR_0_COMPL_ANY_TH': 0.0, 'PRIMER_PAIR_0_COMPL_END_TH': 0.0, 'PRIMER_PAIR_0_PRODUCT_SIZE': 6935, 'PRIMER_PAIR_0_PRODUCT_TM': 89.84547178713098, 'PRIMER_PAIR_1_PENALTY': 8.966054285014081, 'PRIMER_LEFT_1_PENALTY': 3.7798496262115577, 'PRIMER_RIGHT_1_PENALTY': 5.186204658802524, 'PRIMER_INTERNAL_1_PENALTY': 0.021578954679455364, 'PRIMER_LEFT_1_SEQUENCE': 'cccgatgggcatgaccagg', 'PRIMER_RIGHT_1_SEQUENCE': 'agagcggccaaccagg', 'PRIMER_INTERNAL_1_SEQUENCE': 'caaacaggtgttggcgcgcc', 'PRIMER_LEFT_1': [470, 19], 'PRIMER_RIGHT_1': [7404, 16], 'PRIMER_INTERNAL_1': [2923, 20], 'PRIMER_LEFT_1_TM': 62.77984962621156, 'PRIMER_RIGHT_1_TM': 58.813795341197476, 'PRIMER_INTERNAL_1_TM': 59.978421045320545, 'PRIMER_LEFT_1_GC_PERCENT': 68.42105263157895, 'PRIMER_RIGHT_1_GC_PERCENT': 68.75, 'PRIMER_INTERNAL_1_GC_PERCENT': 65.0, 'PRIMER_LEFT_1_SELF_ANY_TH': 27.678991609883553, 'PRIMER_RIGHT_1_SELF_ANY_TH': 2.236646359005192, 'PRIMER_INTERNAL_1_SELF_ANY_TH': 38.40558149698387, 'PRIMER_LEFT_1_SELF_END_TH': 22.105004425918366, 'PRIMER_RIGHT_1_SELF_END_TH': 0.0, 'PRIMER_INTERNAL_1_SELF_END_TH': 38.40558149698387, 'PRIMER_LEFT_1_HAIRPIN_TH': 45.201400890315426, 'PRIMER_RIGHT_1_HAIRPIN_TH': 41.83913830563273, 'PRIMER_INTERNAL_1_HAIRPIN_TH': 34.71130427324374, 'PRIMER_LEFT_1_END_STABILITY': 4.45, 'PRIMER_RIGHT_1_END_STABILITY': 4.45, 'PRIMER_PAIR_1_COMPL_ANY_TH': 0.0, 'PRIMER_PAIR_1_COMPL_END_TH': 0.0, 'PRIMER_PAIR_1_PRODUCT_SIZE': 6935, 'PRIMER_PAIR_1_PRODUCT_TM': 89.84547178713098, 'PRIMER_PAIR_2_PENALTY': 9.191900197454913, 'PRIMER_LEFT_2_PENALTY': 4.00569553865239, 'PRIMER_RIGHT_2_PENALTY': 5.186204658802524, 'PRIMER_INTERNAL_2_PENALTY': 0.021578954679455364, 'PRIMER_LEFT_2_SEQUENCE': 'cccgatgggcatgacca', 'PRIMER_RIGHT_2_SEQUENCE': 'agagcggccaaccagg', 'PRIMER_INTERNAL_2_SEQUENCE': 'caaacaggtgttggcgcgcc', 'PRIMER_LEFT_2': [470, 17], 'PRIMER_RIGHT_2': [7404, 16], 'PRIMER_INTERNAL_2': [2923, 20], 'PRIMER_LEFT_2_TM': 58.99430446134761, 'PRIMER_RIGHT_2_TM': 58.813795341197476, 'PRIMER_INTERNAL_2_TM': 59.978421045320545, 'PRIMER_LEFT_2_GC_PERCENT': 64.70588235294117, 'PRIMER_RIGHT_2_GC_PERCENT': 68.75, 'PRIMER_INTERNAL_2_GC_PERCENT': 65.0, 'PRIMER_LEFT_2_SELF_ANY_TH': 26.053893642636638, 'PRIMER_RIGHT_2_SELF_ANY_TH': 2.236646359005192, 'PRIMER_INTERNAL_2_SELF_ANY_TH': 38.40558149698387, 'PRIMER_LEFT_2_SELF_END_TH': 26.053893642636638, 'PRIMER_RIGHT_2_SELF_END_TH': 0.0, 'PRIMER_INTERNAL_2_SELF_END_TH': 38.40558149698387, 'PRIMER_LEFT_2_HAIRPIN_TH': 46.23744271336113, 'PRIMER_RIGHT_2_HAIRPIN_TH': 41.83913830563273, 'PRIMER_INTERNAL_2_HAIRPIN_TH': 34.71130427324374, 'PRIMER_LEFT_2_END_STABILITY': 4.02, 'PRIMER_RIGHT_2_END_STABILITY': 4.45, 'PRIMER_PAIR_2_COMPL_ANY_TH': 0.0, 'PRIMER_PAIR_2_COMPL_END_TH': 0.0, 'PRIMER_PAIR_2_PRODUCT_SIZE': 6935, 'PRIMER_PAIR_2_PRODUCT_TM': 89.84547178713098}\n"
     ]
    },
    {
     "data": {
      "text/plain": [
       "('cccgatgggcatgaccag', 'agagcggccaaccagg')"
      ]
     },
     "execution_count": 23,
     "metadata": {},
     "output_type": "execute_result"
    }
   ],
   "source": [
    "find_primerpair(sequence_template, 463, 473, 7398, 7408, 6874, 6974)"
   ]
  },
  {
   "cell_type": "code",
   "execution_count": null,
   "metadata": {},
   "outputs": [],
   "source": []
  },
  {
   "cell_type": "code",
   "execution_count": 16,
   "metadata": {},
   "outputs": [
    {
     "name": "stdout",
     "output_type": "stream",
     "text": [
      "7871\n",
      "eBlock-1 3 1322 1319 ccgctcttctAtgagcggttcatctgcggggtcctccttcgtgcacctgcacaaccacaccgagtattcgatgctggacggtgccgcgaagatcacgcccatgctcgccgaggtggagcggctggggatgcccgcggtggggatgaccgaccacggaaacatgttcggtgccagcgagttctacaactccgcgaccaaggccgggatcaagccgatcatcggcgtggaggcatacatcgcgccgggctcgcggttcgacacccggcgcatcctgtggggtgaccccagccaaaaggccgacgacgtctccggcagcggctcctacacgcacctgacgatgatggccgagaacgccaccggtctgcgcaacctgttcaagctgtcctcgcatgcttccttcgagggccagctgagcaagtggtcgcgcatggacgccgagctcatcgccgaacacgccgagggcatcatcatcaccaccggatgcccgtcgggggaggtgcagacccgcctgcggctcggccaggatcgggaggcgctcgaagccgcggcgaagtggcgggagatcgtcggaccggacaactacttccttgagctgatggaccacgggctgaccatcgaacgccgggtccgtgacggtctgctcgagatcggacgcgcgctcaacattccgcctcttgccaccaatgactgccactacgtgacccgcgacgccgcccacaaccatgaggctttgttgtgtgtgcagaccggcaagaccctctcggatccgaatcgcttcaagttcgacggtgacggctactacctgaagtcggccgccgagatgcgccagatctgggacgacgaagtgccgggcgcgtgtgactccaccttgttgatcgccgaacgggtgcagtcctacgccgacgtgtggacaccgcgcgaccggatgcccgtgtttccggtgcccgatgggcatgaccaggcgtcctggctgcgtcacgaggtggacgccgggcttcgccggcgatttccggccggtccgccggacgggtaccgcgagcgcgccgcctacgagatcgacgtcatctgctccaaaggtttcccatcgtactttctgatcgtcgccgacctgatcagctacgcgcggtcggcgggcataagggtgggtcccggccgcggctcggccgccggctcgctggtcgcctacgcgctgggcatcaccgacatcgacccgattccacacggtctgctgttcgagcggttcctcaaccccgagcgcacctcgatgcccgacatcgatatcgacttcgacgaccggcgccgcggtgagatggtgcgct\n",
      "middle index 662\n",
      "length result 6552\n",
      "sequence template tcaacattccgcctcttgccaccaatgactgccactacgtgacccgcgacgccgcccacaaccatgaggctttgttgtgtgtgcagaccggcaagaccctctcggatccgaatcgcttcaagttcgacggtgacggctactacctgaagtcggccgccgagatgcgccagatctgggacgacgaagtgccgggcgcgtgtgactccaccttgttgatcgccgaacgggtgcagtcctacgccgacgtgtggacaccgcgcgaccggatgcccgtgtttccggtgcccgatgggcatgaccaggcgtcctggctgcgtcacgaggtggacgccgggcttcgccggcgatttccggccggtccgccggacgggtaccgcgagcgcgccgcctacgagatcgacgtcatctgctccaaaggtttcccatcgtactttctgatcgtcgccgacctgatcagctacgcgcggtcggcgggcataagggtgggtcccggccgcggctcggccgccggctcgctggtcgcctacgcgctgggcatcaccgacatcgacccgattccacacggtctgctgttcgagcggttcctcaaccccgagcgcacctcgatgcccgacatcgatatcgacttcgacgaccggcgccgcggtgagatggtgcgctacgcagccgacaagtggggccacgaccgggtcgcgcaggtcatcaccttcggcaccatcaaaaccaaagcggcgctgaaggattcggcgcgaatccactacgggcagcccgggttcgccatcgccgaccggatcaccaaggcgttgccgccggcgatcatggccaaagacatcccgctgtctgggatcaccgatcccagccacgaacggtacaaggaggccgccgaggtccgcggcctgatcgaaaccgacccggacgtacgcaccatctaccagaccgcacgcgggttggaaggcctgatccgcaacgcgggtgtgcacgcctgcgcggtgatcatgagcagcgagccgctgactgaggccatcccgttgtggaagcggccgcaggacggggccatcatcaccggctgggattacccggcgtgcgaggccatcggtctgctgaaaatggacttcctgggcctgcggaacctgacgatcatcggcgacgcgatcgacaacgtcagggccaacaggggtatcgacctcgacctggaatccgtgccgctggacgacaaggccacctatgagctgctgggccgcggcgacaccctgggcgtgttccagctcgacggcgggcccatgcgcgacctgctgcgccgcatgcagccgaccgggttcgaagacgtcgtcgccgttatcgcgctgtaccggcccggcccgatgggcatgaacgcacacaacgactatgccgaccgcaagaacaaccggcaggccatcaaacctattcacccggaactcgaagaaccgctgcgcgagatcctcgccgagacctacggcctcatcgtctatcaagagcagatcatgcgcatcgcgcagaaggtggcgagctactcgttggcccgcgccgacattctacgcaaggccatgggcaagaagaaacgcgaggtgctggagaaggagttcgagggcttctccgatggcatgcaggccaacgggttctctccggcggccatcaaggcgctgtgggacaccatcctgccgttcgctgactacgcgttcaacaagtcacatgccgccggctacggcatggtgtcctactggacggcctacctcaaggccaactatcccgccgagtacatggccggtctgttgacgtcggtcggcgacgataaagacaaggccgcggtttatctggccgactgccgcaagctcggcatcaccgtgctcccgcccgacgtcaacgaatctggcttgaacttcgcatcggtcggccaagacatccgctacgggctgggcgcggtgcgcaacgttggcgctaatgtcgtgggctcgttgctccaaacccgcaacgacaagggcaagttcaccgacttttcggactacctgaacaagatcgacatctcggcgtgcaacaagaaggtgaccgaatcgctgatcaaggcgggtgcgttcgactcgctggggcatgcccgcaagggtcttttcctggtgcacagcgatgcggtggactcggtgctgggcaccaagaaggccgaggcactggggcagttcgatctcttcggcagcaatgatgatgggaccggcaccgcagatcccgtgttcaccatcaaggtgcccgatgatgagtgggaggacaaacacaaactcgccctagagcgcgagatgctgggactgtacgtctcggggcatcccctcaacggtgtggcacacttgctggctgcccaggtcgacaccgcgatcccagcgatcctcgacggcgatgtccccaacgatgcccaagtgcgggtgggcggcatcctggcgtcggtgaaccggagggtcaacaaaaacggaatgccatgggcttcagcgcaattggaggatctcacgggcggcatcgaggtgatgttcttcccgcacacctactccagctatggtgccgacatcgtcgacgatgccgtcgtgctggtcaacgccaaggtggcggtccgtgacgaccgcatcgcattgatcgccaatgacctcacagtgcccgacttttccaacgccgaggtggagcggccgctggcggtcagcttgcccacccggcagtgcacctttgacaaggtgagtgcgctcaaacaggtgttggcgcgccaccccggcacctcgcaggtgcatctgcggctcatcagcggagaccggatcaccacgctggcacttgatcagtcgttgcgggtgacgccgtcgccggcgttgatgggtgacctcaaggagctgctcggccctggatgtctggggagttagtgaagagcggccaccgaggccgggagcggatttgaacgttgcgaagcaacggcccggagggtggcgggcaggacgcccgccataaactgccaggcatcaaattaagcagaaggccatcctgacggatggcctttttgcgtttctacaaactcttttgtttatttttctaaatacattcaaatatgtatccgctcatgaattccccgcgcgcgatgccctttcgtcttcgaataaatacctgtgacggaagatcacttcgcagaataaataaatcctggtgtccctgttgataccgggaagccctgggccaacttttggcgaaaatgagacgttgatcggcacgtaagaggttccaactttcaccataatgaaataagatcactaccgggcgtattttttgagttatcgagattttcaggagctaaggaagctaaaatggagaaaaaaatcactggatataccaccgttgatatatcccaatggcatcgtaaagaacattttgaggcatttcagtcagttgctcaatgtacctataaccagaccgttcagctggatattacggcctttttaaagaccgtaaagaaaaataagcacaagttttatccggcctttattcacattcttgcccgcctgatgaatgctcatccggaatttcgtatggcaatgaaagacggtgagctggtgatatgggatagtgttcacccttgttacaccgttttccatgagcaaactgaaacgttttcatcgctctggagtgaataccacgacgatttccggcagtttctacacatatattcgcaagatgtggcgtgttacggtgaaaacctggcctatttccctaaagggtttattgagaatatgtttttcgtctcagccaatccctgggtgagtttcaccagttttgatttaaacgtggcgaatatggacaacttcttcgcccccgttttcactatgggcaaatattatacgcaaggcgacaaggtgctgatgccgctggcgattcaggttcatcatgccgtctgtgatggcttccatgtcggcagaatgcttaatgaattacaacagtactgcgatgagtggcagggcggggcgtaatttttttaaggcagttattggtgcccttaaacgcctggttgctacgcctgaataagtgataataagcggatgaatggcagaaattcgagcccgcctaatgagcgggcttttttttagcccgcctaatgagcgggcttttttttcgaaagcaaattcgacccatcgcgcgcggggagtcaactcagcaaaagttcgatttattcaacaaagccacgttgtgtctcaaaatctctgatgttacattgcacaagataaaaatatatcatcatgcatgaccaaaatcccttaacgtgagttttcgttccactgagcgtcagaccccgtagaaaagatcaaaggatcttcttgagatcctttttttctgcgcgtaatctgctgcttgcaaacaaaaaaaccaccgctaccagcggtggtttgtttgccggatcaagagctaccaactctttttccgaaggtaactggcttcagcagagcgcagataccaaatactgtccttctagtgtagccgtagttaggccaccacttcaagaactctgtagcaccgcctacatacctcgctctgctaatcctgttaccagtggctgctgccagtggcgataagtcgtgtcttaccgggttggactcaagacgatagttaccggataaggcgcagcggtcgggctgaacggggggttcgtgcacacagcccagcttggagcgaacgacctacaccgaactgagatacctacagcgtgagctatgagaaagcgccacgcttcccgaagggagaaaggcggacaggtatccggtaagcggcagggtcggaacaggagagcgcacgagggagcttccagggggaaacgcctggtatctttatagtcctgtcgggtttcgccacctctgacttgagcgtcgatttttgtgatgctcgtcaggggggcggagcctatggaaaaacgccagcaacgcggcctttttacggttcctggccttttgctggccttttgctcacatgttctttcctgcgttatcccctgattctgtggataaccgtattaccgcctttgagtgagctgataccgctcgccgcagccgaacgaccgagcgcagcgagtcagtgagcgaggaagcggaagatcgggcccagccggcccacatatacctgccgttcactattatttagtgaaatgagatattatgatattttctgaattgtgattaaaaaggcaactttatgcccatgcaacagaaactataaaaaatacagagaatgaaaagaaacagatagattttttagttctttaggcccgtagtctgcaaatccttttatgattttctatcaaacaaaagaggaaaatagaccagttgcaatccaaacgagagtctaatagaatgaggtcgaaaagtaaatcgcgcgggtttgttactgataaagcaggcaagacctaaaatgtgtaaagggcaaagtgtatactttggcgtcaccccttacatattttaggtctttttttattgtgcgtaactaacttgccatcttcaaacaggagggctggaagaagcagaccgctaacacagtacataaaaaaggagacatgaacgatgaacatcaaaaagtttgcaaaacaagcaacagtattaacctttactaccgcactgctggcaggaggcgcaactcaagcgtttgcgaaagaaacgaaccaaaagccatataaggaaacatacggcatttcccatattacacgccatgatatgctgcaaatccctgaacagcaaaaaaatgaaaaatataaagttcctgagttcgattcgtccacaattaaaaatatctcttctgcaaaaggcctggacgtttgggacagctggccattacaaaacactgacggcactgtcgcaaactatcacggctaccacatcgtctttgcattagccggagatcctaaaaatgcggatgacacatcgatttacatgttctatcaaaaagtcggcgaaacttctattgacagctggaaaaacgctggccgcgtctttaaagacagcgacaaattcgatgcaaatgattctatcctaaaagaccaaacacaagaatggtcaggttcagccacatttacatctgacggaaaaatccgtttattctacactgatttctccggtaaacattacggcaaacaaacactgacaactgcacaagttaacgtatcagcatcagacagctctttgaacatcaacggtgtagaggattataaatcaatctttgacggtgacggaaaaacgtatcaaaatgtacagcagttcatcgatgaaggcaactacagctcaggcgacaaccatacgctgagagatcctcactacgtagaagataaaggccacaaatacttagtatttgaagcaaacactggaactgaagatggctaccaaggcgaagaatctttatttaacaaagcatactatggcaaaagcacatcattcttccgtcaagaaagtcaaaaacttctgcaaagcgataaaaaacgcacggctgagttagcaaacggcgctctcggtatgattgagctaaacgatgattacacactgaaaaaagtgatgaaaccgctgattgcatctaacacagtaacagatgaaattgaacgcgcgaacgtctttaaaatgaacggcaaatggtacctgttcactgactcccgcggatcaaaaatgacgattgacggcattacgtctaacgatatttacatgcttggttatgtttctaattctttaactggcccatacaagccgctgaacaaaactggccttgtgttaaaaatggatcttgatcctaacgatgtaacctttacttactcacacttcgctgtacctcaagcgaaaggaaacaatgtcgtgattacaagctatatgacaaacagaggattctacgcagacaaacaatcaacgtttgcgcctagcttcctgctgaacatcaaaggcaagaaaacatctgttgtcaaagacagcatccttgaacaaggacaattaacagttaacaaataaaaacgcaaaagaaaatgccgatatcctattggcattgcggccgcggtctcggcggtgggtcgtctagaggcatcaaataaaacgaaaggctcagtcgaaagactgggcctttcgttttatctgttgtttgtcggtgaacgctctcctgagtaggacaaatccgccgccctagacctagcggccggccgcaagcgctgcacggcctggttggccgctcttctAtgagcggttcatctgcggggtcctccttcgtgcacctgcacaaccacaccgagtattcgatgctggacggtgccgcgaagatcacgcccatgctcgccgaggtggagcggctggggatgcccgcggtggggatgaccgaccacggaaacatgttcggtgccagcgagttctacaactccgcgaccaaggccgggatcaagccgatcatcggcgtggaggcatacatcgcgccgggctcgcggttcgacacccggcgcatcctgtggggtgaccccagccaaaaggccgacgacgtctccggcagcggctcctacacgcacctgacgatgatggccgagaacgccaccggtctgcgcaacctgttcaagctgtcctcgcatgcttccttcgagggccagctgagcaagtggtcgcgcatggacgccgagctcatcgccgaacacgccgagggcatcatcatcaccaccggatgcccgtcgggggaggtgcagacccgcctgcggctcggccaggatcgggaggcgctcgaagccgcggcgaagtggcgggagatcgtcggaccggacaactacttccttgagctgatggaccacgggctgaccatcgaacgccgggtccgtgacggtctgctcgagatcggacgcgcgc\n",
      "half eblock 659\n",
      "644 659 7212 7227\n",
      "------------------------------------------------------------------------------------\n",
      "eBlock-2 1509 2186 677 caccgatcccagccacgaacggtacaaggaggccgccgaggtccgcggcctgatcgaaaccgacccggacgtacgcaccatctaccagaccgcacgcgggttggaaggcctgatccgcaacgcgggtgtgcacgcctgcgcggtgatcatgagcagcgagccgctgactgaggccatcccgttgtggaagcggccgcaggacggggccatcatcaccggctgggattacccggcgtgcgaggccatcggtctgctgaaaatggacttcctgggcctgcggaacctgacgatcatcggcgacgcgatcgacaacgtcagggccaacaggggtatcgacctcgacctggaatccgtgccgctggacgacaaggccacctatgagctgctgggccgcggcgacaccctgggcgtgttccagctcgacggcgggcccatgcgcgacctgctgcgccgcatgcagccgaccgggttcgaagacgtcgtcgccgttatcgcgctgtaccggcccggcccgatgggcatgaacgcacacaacgactatgccgaccgcaagaacaaccggcaggccatcaaacctattcacccggaactcgaagaaccgctgcgcgagatcctcgccgagacctacggcctcatcgtctatcaagagcagatcatgcgcatcgcgcagaaggtgg\n",
      "middle index 1847\n",
      "length result 7194\n",
      "sequence template tcgacctggaatccgtgccgctggacgacaaggccacctatgagctgctgggccgcggcgacaccctgggcgtgttccagctcgacggcgggcccatgcgcgacctgctgcgccgcatgcagccgaccgggttcgaagacgtcgtcgccgttatcgcgctgtaccggcccggcccgatgggcatgaacgcacacaacgactatgccgaccgcaagaacaaccggcaggccatcaaacctattcacccggaactcgaagaaccgctgcgcgagatcctcgccgagacctacggcctcatcgtctatcaagagcagatcatgcgcatcgcgcagaaggtggcgagctactcgttggcccgcgccgacattctacgcaaggccatgggcaagaagaaacgcgaggtgctggagaaggagttcgagggcttctccgatggcatgcaggccaacgggttctctccggcggccatcaaggcgctgtgggacaccatcctgccgttcgctgactacgcgttcaacaagtcacatgccgccggctacggcatggtgtcctactggacggcctacctcaaggccaactatcccgccgagtacatggccggtctgttgacgtcggtcggcgacgataaagacaaggccgcggtttatctggccgactgccgcaagctcggcatcaccgtgctcccgcccgacgtcaacgaatctggcttgaacttcgcatcggtcggccaagacatccgctacgggctgggcgcggtgcgcaacgttggcgctaatgtcgtgggctcgttgctccaaacccgcaacgacaagggcaagttcaccgacttttcggactacctgaacaagatcgacatctcggcgtgcaacaagaaggtgaccgaatcgctgatcaaggcgggtgcgttcgactcgctggggcatgcccgcaagggtcttttcctggtgcacagcgatgcggtggactcggtgctgggcaccaagaaggccgaggcactggggcagttcgatctcttcggcagcaatgatgatgggaccggcaccgcagatcccgtgttcaccatcaaggtgcccgatgatgagtgggaggacaaacacaaactcgccctagagcgcgagatgctgggactgtacgtctcggggcatcccctcaacggtgtggcacacttgctggctgcccaggtcgacaccgcgatcccagcgatcctcgacggcgatgtccccaacgatgcccaagtgcgggtgggcggcatcctggcgtcggtgaaccggagggtcaacaaaaacggaatgccatgggcttcagcgcaattggaggatctcacgggcggcatcgaggtgatgttcttcccgcacacctactccagctatggtgccgacatcgtcgacgatgccgtcgtgctggtcaacgccaaggtggcggtccgtgacgaccgcatcgcattgatcgccaatgacctcacagtgcccgacttttccaacgccgaggtggagcggccgctggcggtcagcttgcccacccggcagtgcacctttgacaaggtgagtgcgctcaaacaggtgttggcgcgccaccccggcacctcgcaggtgcatctgcggctcatcagcggagaccggatcaccacgctggcacttgatcagtcgttgcgggtgacgccgtcgccggcgttgatgggtgacctcaaggagctgctcggccctggatgtctggggagttagtgaagagcggccaccgaggccgggagcggatttgaacgttgcgaagcaacggcccggagggtggcgggcaggacgcccgccataaactgccaggcatcaaattaagcagaaggccatcctgacggatggcctttttgcgtttctacaaactcttttgtttatttttctaaatacattcaaatatgtatccgctcatgaattccccgcgcgcgatgccctttcgtcttcgaataaatacctgtgacggaagatcacttcgcagaataaataaatcctggtgtccctgttgataccgggaagccctgggccaacttttggcgaaaatgagacgttgatcggcacgtaagaggttccaactttcaccataatgaaataagatcactaccgggcgtattttttgagttatcgagattttcaggagctaaggaagctaaaatggagaaaaaaatcactggatataccaccgttgatatatcccaatggcatcgtaaagaacattttgaggcatttcagtcagttgctcaatgtacctataaccagaccgttcagctggatattacggcctttttaaagaccgtaaagaaaaataagcacaagttttatccggcctttattcacattcttgcccgcctgatgaatgctcatccggaatttcgtatggcaatgaaagacggtgagctggtgatatgggatagtgttcacccttgttacaccgttttccatgagcaaactgaaacgttttcatcgctctggagtgaataccacgacgatttccggcagtttctacacatatattcgcaagatgtggcgtgttacggtgaaaacctggcctatttccctaaagggtttattgagaatatgtttttcgtctcagccaatccctgggtgagtttcaccagttttgatttaaacgtggcgaatatggacaacttcttcgcccccgttttcactatgggcaaatattatacgcaaggcgacaaggtgctgatgccgctggcgattcaggttcatcatgccgtctgtgatggcttccatgtcggcagaatgcttaatgaattacaacagtactgcgatgagtggcagggcggggcgtaatttttttaaggcagttattggtgcccttaaacgcctggttgctacgcctgaataagtgataataagcggatgaatggcagaaattcgagcccgcctaatgagcgggcttttttttagcccgcctaatgagcgggcttttttttcgaaagcaaattcgacccatcgcgcgcggggagtcaactcagcaaaagttcgatttattcaacaaagccacgttgtgtctcaaaatctctgatgttacattgcacaagataaaaatatatcatcatgcatgaccaaaatcccttaacgtgagttttcgttccactgagcgtcagaccccgtagaaaagatcaaaggatcttcttgagatcctttttttctgcgcgtaatctgctgcttgcaaacaaaaaaaccaccgctaccagcggtggtttgtttgccggatcaagagctaccaactctttttccgaaggtaactggcttcagcagagcgcagataccaaatactgtccttctagtgtagccgtagttaggccaccacttcaagaactctgtagcaccgcctacatacctcgctctgctaatcctgttaccagtggctgctgccagtggcgataagtcgtgtcttaccgggttggactcaagacgatagttaccggataaggcgcagcggtcgggctgaacggggggttcgtgcacacagcccagcttggagcgaacgacctacaccgaactgagatacctacagcgtgagctatgagaaagcgccacgcttcccgaagggagaaaggcggacaggtatccggtaagcggcagggtcggaacaggagagcgcacgagggagcttccagggggaaacgcctggtatctttatagtcctgtcgggtttcgccacctctgacttgagcgtcgatttttgtgatgctcgtcaggggggcggagcctatggaaaaacgccagcaacgcggcctttttacggttcctggccttttgctggccttttgctcacatgttctttcctgcgttatcccctgattctgtggataaccgtattaccgcctttgagtgagctgataccgctcgccgcagccgaacgaccgagcgcagcgagtcagtgagcgaggaagcggaagatcgggcccagccggcccacatatacctgccgttcactattatttagtgaaatgagatattatgatattttctgaattgtgattaaaaaggcaactttatgcccatgcaacagaaactataaaaaatacagagaatgaaaagaaacagatagattttttagttctttaggcccgtagtctgcaaatccttttatgattttctatcaaacaaaagaggaaaatagaccagttgcaatccaaacgagagtctaatagaatgaggtcgaaaagtaaatcgcgcgggtttgttactgataaagcaggcaagacctaaaatgtgtaaagggcaaagtgtatactttggcgtcaccccttacatattttaggtctttttttattgtgcgtaactaacttgccatcttcaaacaggagggctggaagaagcagaccgctaacacagtacataaaaaaggagacatgaacgatgaacatcaaaaagtttgcaaaacaagcaacagtattaacctttactaccgcactgctggcaggaggcgcaactcaagcgtttgcgaaagaaacgaaccaaaagccatataaggaaacatacggcatttcccatattacacgccatgatatgctgcaaatccctgaacagcaaaaaaatgaaaaatataaagttcctgagttcgattcgtccacaattaaaaatatctcttctgcaaaaggcctggacgtttgggacagctggccattacaaaacactgacggcactgtcgcaaactatcacggctaccacatcgtctttgcattagccggagatcctaaaaatgcggatgacacatcgatttacatgttctatcaaaaagtcggcgaaacttctattgacagctggaaaaacgctggccgcgtctttaaagacagcgacaaattcgatgcaaatgattctatcctaaaagaccaaacacaagaatggtcaggttcagccacatttacatctgacggaaaaatccgtttattctacactgatttctccggtaaacattacggcaaacaaacactgacaactgcacaagttaacgtatcagcatcagacagctctttgaacatcaacggtgtagaggattataaatcaatctttgacggtgacggaaaaacgtatcaaaatgtacagcagttcatcgatgaaggcaactacagctcaggcgacaaccatacgctgagagatcctcactacgtagaagataaaggccacaaatacttagtatttgaagcaaacactggaactgaagatggctaccaaggcgaagaatctttatttaacaaagcatactatggcaaaagcacatcattcttccgtcaagaaagtcaaaaacttctgcaaagcgataaaaaacgcacggctgagttagcaaacggcgctctcggtatgattgagctaaacgatgattacacactgaaaaaagtgatgaaaccgctgattgcatctaacacagtaacagatgaaattgaacgcgcgaacgtctttaaaatgaacggcaaatggtacctgttcactgactcccgcggatcaaaaatgacgattgacggcattacgtctaacgatatttacatgcttggttatgtttctaattctttaactggcccatacaagccgctgaacaaaactggccttgtgttaaaaatggatcttgatcctaacgatgtaacctttacttactcacacttcgctgtacctcaagcgaaaggaaacaatgtcgtgattacaagctatatgacaaacagaggattctacgcagacaaacaatcaacgtttgcgcctagcttcctgctgaacatcaaaggcaagaaaacatctgttgtcaaagacagcatccttgaacaaggacaattaacagttaacaaataaaaacgcaaaagaaaatgccgatatcctattggcattgcggccgcggtctcggcggtgggtcgtctagaggcatcaaataaaacgaaaggctcagtcgaaagactgggcctttcgttttatctgttgtttgtcggtgaacgctctcctgagtaggacaaatccgccgccctagacctagcggccggccgcaagcgctgcacggcctggttggccgctcttctAtgagcggttcatctgcggggtcctccttcgtgcacctgcacaaccacaccgagtattcgatgctggacggtgccgcgaagatcacgcccatgctcgccgaggtggagcggctggggatgcccgcggtggggatgaccgaccacggaaacatgttcggtgccagcgagttctacaactccgcgaccaaggccgggatcaagccgatcatcggcgtggaggcatacatcgcgccgggctcgcggttcgacacccggcgcatcctgtggggtgaccccagccaaaaggccgacgacgtctccggcagcggctcctacacgcacctgacgatgatggccgagaacgccaccggtctgcgcaacctgttcaagctgtcctcgcatgcttccttcgagggccagctgagcaagtggtcgcgcatggacgccgagctcatcgccgaacacgccgagggcatcatcatcaccaccggatgcccgtcgggggaggtgcagacccgcctgcggctcggccaggatcgggaggcgctcgaagccgcggcgaagtggcgggagatcgtcggaccggacaactacttccttgagctgatggaccacgggctgaccatcgaacgccgggtccgtgacggtctgctcgagatcggacgcgcgctcaacattccgcctcttgccaccaatgactgccactacgtgacccgcgacgccgcccacaaccatgaggctttgttgtgtgtgcagaccggcaagaccctctcggatccgaatcgcttcaagttcgacggtgacggctactacctgaagtcggccgccgagatgcgccagatctgggacgacgaagtgccgggcgcgtgtgactccaccttgttgatcgccgaacgggtgcagtcctacgccgacgtgtggacaccgcgcgaccggatgcccgtgtttccggtgcccgatgggcatgaccaggcgtcctggctgcgtcacgaggtggacgccgggcttcgccggcgatttccggccggtccgccggacgggtaccgcgagcgcgccgcctacgagatcgacgtcatctgctccaaaggtttcccatcgtactttctgatcgtcgccgacctgatcagctacgcgcggtcggcgggcataagggtgggtcccggccgcggctcggccgccggctcgctggtcgcctacgcgctgggcatcaccgacatcgacccgattccacacggtctgctgttcgagcggttcctcaaccccgagcgcacctcgatgcccgacatcgatatcgacttcgacgaccggcgccgcggtgagatggtgcgctacgcagccgacaagtggggccacgaccgggtcgcgcaggtcatcaccttcggcaccatcaaaaccaaagcggcgctgaaggattcggcgcgaatccactacgggcagcccgggttcgccatcgccgaccggatcaccaaggcgttgccgccggcgatcatggccaaagacatcccgctgtctgggatcaccgatcccagccacgaacggtacaaggaggccgccgaggtccgcggcctgatcgaaaccgacccggacgtacgcaccatctaccagaccgcacgcgggttggaaggcctgatccgcaacgcgggtgtgcacgcctgcgcggtgatcatgagcagcgagccgctgactgaggccatcccgttgtggaagcggccgcaggacggggccatcatcaccggctgggattacccggcgtgcgaggccatcggtctgctgaaaatggacttcctgggcctgcggaacctgacgatcatcggcgacgcgatcgacaacgtcagggccaacaggggtatcgacc\n",
      "half eblock 338\n",
      "323 338 7533 7548\n",
      "------------------------------------------------------------------------------------\n",
      "eBlock-3 2589 3509 920 cgggctgggcgcggtgcgcaacgttggcgctaatgtcgtgggctcgttgctccaaacccgcaacgacaagggcaagttcaccgacttttcggactacctgaacaagatcgacatctcggcgtgcaacaagaaggtgaccgaatcgctgatcaaggcgggtgcgttcgactcgctggggcatgcccgcaagggtcttttcctggtgcacagcgatgcggtggactcggtgctgggcaccaagaaggccgaggcactggggcagttcgatctcttcggcagcaatgatgatgggaccggcaccgcagatcccgtgttcaccatcaaggtgcccgatgatgagtgggaggacaaacacaaactcgccctagagcgcgagatgctgggactgtacgtctcggggcatcccctcaacggtgtggcacacttgctggctgcccaggtcgacaccgcgatcccagcgatcctcgacggcgatgtccccaacgatgcccaagtgcgggtgggcggcatcctggcgtcggtgaaccggagggtcaacaaaaacggaatgccatgggcttcagcgcaattggaggatctcacgggcggcatcgaggtgatgttcttcccgcacacctactccagctatggtgccgacatcgtcgacgatgccgtcgtgctggtcaacgccaaggtggcggtccgtgacgaccgcatcgcattgatcgccaatgacctcacagtgcccgacttttccaacgccgaggtggagcggccgctggcggtcagcttgcccacccggcagtgcacctttgacaaggtgagtgcgctcaaacaggtgttggcgcgccaccccggcacctcgcaggtgcatctgcggctcatcagcggagaccggatcaccacgctggcacttgatcagtcgttgcgggtgacgccgt\n",
      "middle index 3049\n",
      "length result 6951\n",
      "sequence template atcctcgacggcgatgtccccaacgatgcccaagtgcgggtgggcggcatcctggcgtcggtgaaccggagggtcaacaaaaacggaatgccatgggcttcagcgcaattggaggatctcacgggcggcatcgaggtgatgttcttcccgcacacctactccagctatggtgccgacatcgtcgacgatgccgtcgtgctggtcaacgccaaggtggcggtccgtgacgaccgcatcgcattgatcgccaatgacctcacagtgcccgacttttccaacgccgaggtggagcggccgctggcggtcagcttgcccacccggcagtgcacctttgacaaggtgagtgcgctcaaacaggtgttggcgcgccaccccggcacctcgcaggtgcatctgcggctcatcagcggagaccggatcaccacgctggcacttgatcagtcgttgcgggtgacgccgtcgccggcgttgatgggtgacctcaaggagctgctcggccctggatgtctggggagttagtgaagagcggccaccgaggccgggagcggatttgaacgttgcgaagcaacggcccggagggtggcgggcaggacgcccgccataaactgccaggcatcaaattaagcagaaggccatcctgacggatggcctttttgcgtttctacaaactcttttgtttatttttctaaatacattcaaatatgtatccgctcatgaattccccgcgcgcgatgccctttcgtcttcgaataaatacctgtgacggaagatcacttcgcagaataaataaatcctggtgtccctgttgataccgggaagccctgggccaacttttggcgaaaatgagacgttgatcggcacgtaagaggttccaactttcaccataatgaaataagatcactaccgggcgtattttttgagttatcgagattttcaggagctaaggaagctaaaatggagaaaaaaatcactggatataccaccgttgatatatcccaatggcatcgtaaagaacattttgaggcatttcagtcagttgctcaatgtacctataaccagaccgttcagctggatattacggcctttttaaagaccgtaaagaaaaataagcacaagttttatccggcctttattcacattcttgcccgcctgatgaatgctcatccggaatttcgtatggcaatgaaagacggtgagctggtgatatgggatagtgttcacccttgttacaccgttttccatgagcaaactgaaacgttttcatcgctctggagtgaataccacgacgatttccggcagtttctacacatatattcgcaagatgtggcgtgttacggtgaaaacctggcctatttccctaaagggtttattgagaatatgtttttcgtctcagccaatccctgggtgagtttcaccagttttgatttaaacgtggcgaatatggacaacttcttcgcccccgttttcactatgggcaaatattatacgcaaggcgacaaggtgctgatgccgctggcgattcaggttcatcatgccgtctgtgatggcttccatgtcggcagaatgcttaatgaattacaacagtactgcgatgagtggcagggcggggcgtaatttttttaaggcagttattggtgcccttaaacgcctggttgctacgcctgaataagtgataataagcggatgaatggcagaaattcgagcccgcctaatgagcgggcttttttttagcccgcctaatgagcgggcttttttttcgaaagcaaattcgacccatcgcgcgcggggagtcaactcagcaaaagttcgatttattcaacaaagccacgttgtgtctcaaaatctctgatgttacattgcacaagataaaaatatatcatcatgcatgaccaaaatcccttaacgtgagttttcgttccactgagcgtcagaccccgtagaaaagatcaaaggatcttcttgagatcctttttttctgcgcgtaatctgctgcttgcaaacaaaaaaaccaccgctaccagcggtggtttgtttgccggatcaagagctaccaactctttttccgaaggtaactggcttcagcagagcgcagataccaaatactgtccttctagtgtagccgtagttaggccaccacttcaagaactctgtagcaccgcctacatacctcgctctgctaatcctgttaccagtggctgctgccagtggcgataagtcgtgtcttaccgggttggactcaagacgatagttaccggataaggcgcagcggtcgggctgaacggggggttcgtgcacacagcccagcttggagcgaacgacctacaccgaactgagatacctacagcgtgagctatgagaaagcgccacgcttcccgaagggagaaaggcggacaggtatccggtaagcggcagggtcggaacaggagagcgcacgagggagcttccagggggaaacgcctggtatctttatagtcctgtcgggtttcgccacctctgacttgagcgtcgatttttgtgatgctcgtcaggggggcggagcctatggaaaaacgccagcaacgcggcctttttacggttcctggccttttgctggccttttgctcacatgttctttcctgcgttatcccctgattctgtggataaccgtattaccgcctttgagtgagctgataccgctcgccgcagccgaacgaccgagcgcagcgagtcagtgagcgaggaagcggaagatcgggcccagccggcccacatatacctgccgttcactattatttagtgaaatgagatattatgatattttctgaattgtgattaaaaaggcaactttatgcccatgcaacagaaactataaaaaatacagagaatgaaaagaaacagatagattttttagttctttaggcccgtagtctgcaaatccttttatgattttctatcaaacaaaagaggaaaatagaccagttgcaatccaaacgagagtctaatagaatgaggtcgaaaagtaaatcgcgcgggtttgttactgataaagcaggcaagacctaaaatgtgtaaagggcaaagtgtatactttggcgtcaccccttacatattttaggtctttttttattgtgcgtaactaacttgccatcttcaaacaggagggctggaagaagcagaccgctaacacagtacataaaaaaggagacatgaacgatgaacatcaaaaagtttgcaaaacaagcaacagtattaacctttactaccgcactgctggcaggaggcgcaactcaagcgtttgcgaaagaaacgaaccaaaagccatataaggaaacatacggcatttcccatattacacgccatgatatgctgcaaatccctgaacagcaaaaaaatgaaaaatataaagttcctgagttcgattcgtccacaattaaaaatatctcttctgcaaaaggcctggacgtttgggacagctggccattacaaaacactgacggcactgtcgcaaactatcacggctaccacatcgtctttgcattagccggagatcctaaaaatgcggatgacacatcgatttacatgttctatcaaaaagtcggcgaaacttctattgacagctggaaaaacgctggccgcgtctttaaagacagcgacaaattcgatgcaaatgattctatcctaaaagaccaaacacaagaatggtcaggttcagccacatttacatctgacggaaaaatccgtttattctacactgatttctccggtaaacattacggcaaacaaacactgacaactgcacaagttaacgtatcagcatcagacagctctttgaacatcaacggtgtagaggattataaatcaatctttgacggtgacggaaaaacgtatcaaaatgtacagcagttcatcgatgaaggcaactacagctcaggcgacaaccatacgctgagagatcctcactacgtagaagataaaggccacaaatacttagtatttgaagcaaacactggaactgaagatggctaccaaggcgaagaatctttatttaacaaagcatactatggcaaaagcacatcattcttccgtcaagaaagtcaaaaacttctgcaaagcgataaaaaacgcacggctgagttagcaaacggcgctctcggtatgattgagctaaacgatgattacacactgaaaaaagtgatgaaaccgctgattgcatctaacacagtaacagatgaaattgaacgcgcgaacgtctttaaaatgaacggcaaatggtacctgttcactgactcccgcggatcaaaaatgacgattgacggcattacgtctaacgatatttacatgcttggttatgtttctaattctttaactggcccatacaagccgctgaacaaaactggccttgtgttaaaaatggatcttgatcctaacgatgtaacctttacttactcacacttcgctgtacctcaagcgaaaggaaacaatgtcgtgattacaagctatatgacaaacagaggattctacgcagacaaacaatcaacgtttgcgcctagcttcctgctgaacatcaaaggcaagaaaacatctgttgtcaaagacagcatccttgaacaaggacaattaacagttaacaaataaaaacgcaaaagaaaatgccgatatcctattggcattgcggccgcggtctcggcggtgggtcgtctagaggcatcaaataaaacgaaaggctcagtcgaaagactgggcctttcgttttatctgttgtttgtcggtgaacgctctcctgagtaggacaaatccgccgccctagacctagcggccggccgcaagcgctgcacggcctggttggccgctcttctAtgagcggttcatctgcggggtcctccttcgtgcacctgcacaaccacaccgagtattcgatgctggacggtgccgcgaagatcacgcccatgctcgccgaggtggagcggctggggatgcccgcggtggggatgaccgaccacggaaacatgttcggtgccagcgagttctacaactccgcgaccaaggccgggatcaagccgatcatcggcgtggaggcatacatcgcgccgggctcgcggttcgacacccggcgcatcctgtggggtgaccccagccaaaaggccgacgacgtctccggcagcggctcctacacgcacctgacgatgatggccgagaacgccaccggtctgcgcaacctgttcaagctgtcctcgcatgcttccttcgagggccagctgagcaagtggtcgcgcatggacgccgagctcatcgccgaacacgccgagggcatcatcatcaccaccggatgcccgtcgggggaggtgcagacccgcctgcggctcggccaggatcgggaggcgctcgaagccgcggcgaagtggcgggagatcgtcggaccggacaactacttccttgagctgatggaccacgggctgaccatcgaacgccgggtccgtgacggtctgctcgagatcggacgcgcgctcaacattccgcctcttgccaccaatgactgccactacgtgacccgcgacgccgcccacaaccatgaggctttgttgtgtgtgcagaccggcaagaccctctcggatccgaatcgcttcaagttcgacggtgacggctactacctgaagtcggccgccgagatgcgccagatctgggacgacgaagtgccgggcgcgtgtgactccaccttgttgatcgccgaacgggtgcagtcctacgccgacgtgtggacaccgcgcgaccggatgcccgtgtttccggtgcccgatgggcatgaccaggcgtcctggctgcgtcacgaggtggacgccgggcttcgccggcgatttccggccggtccgccggacgggtaccgcgagcgcgccgcctacgagatcgacgtcatctgctccaaaggtttcccatcgtactttctgatcgtcgccgacctgatcagctacgcgcggtcggcgggcataagggtgggtcccggccgcggctcggccgccggctcgctggtcgcctacgcgctgggcatcaccgacatcgacccgattccacacggtctgctgttcgagcggttcctcaaccccgagcgcacctcgatgcccgacatcgatatcgacttcgacgaccggcgccgcggtgagatggtgcgctacgcagccgacaagtggggccacgaccgggtcgcgcaggtcatcaccttcggcaccatcaaaaccaaagcggcgctgaaggattcggcgcgaatccactacgggcagcccgggttcgccatcgccgaccggatcaccaaggcgttgccgccggcgatcatggccaaagacatcccgctgtctgggatcaccgatcccagccacgaacggtacaaggaggccgccgaggtccgcggcctgatcgaaaccgacccggacgtacgcaccatctaccagaccgcacgcgggttggaaggcctgatccgcaacgcgggtgtgcacgcctgcgcggtgatcatgagcagcgagccgctgactgaggccatcccgttgtggaagcggccgcaggacggggccatcatcaccggctgggattacccggcgtgcgaggccatcggtctgctgaaaatggacttcctgggcctgcggaacctgacgatcatcggcgacgcgatcgacaacgtcagggccaacaggggtatcgacctcgacctggaatccgtgccgctggacgacaaggccacctatgagctgctgggccgcggcgacaccctgggcgtgttccagctcgacggcgggcccatgcgcgacctgctgcgccgcatgcagccgaccgggttcgaagacgtcgtcgccgttatcgcgctgtaccggcccggcccgatgggcatgaacgcacacaacgactatgccgaccgcaagaacaaccggcaggccatcaaacctattcacccggaactcgaagaaccgctgcgcgagatcctcgccgagacctacggcctcatcgtctatcaagagcagatcatgcgcatcgcgcagaaggtggcgagctactcgttggcccgcgccgacattctacgcaaggccatgggcaagaagaaacgcgaggtgctggagaaggagttcgagggcttctccgatggcatgcaggccaacgggttctctccggcggccatcaaggcgctgtgggacaccatcctgccgttcgctgactacgcgttcaacaagtcacatgccgccggctacggcatggtgtcctactggacggcctacctcaaggccaactatcccgccgagtacatggccggtctgttgacgtcggtcggcgacgataaagacaaggccgcggtttatctggccgactgccgcaagctcggcatcaccgtgctcccgcccgacgtcaacgaatctggcttgaacttcgcatcggtcggccaagacatccgctacgggctgggcgcggtgcgcaacgttggcgctaatgtcgtgggctcgttgctccaaacccgcaacgacaagggcaagttcaccgacttttcggactacctgaacaagatcgacatctcggcgtgcaacaagaaggtgaccgaatcgctgatcaaggcgggtgcgttcgactcgctggggcatgcccgcaagggtcttttcctggtgcacagcgatgcggtggactcggtgctgggcaccaagaaggccgaggcactggggcagttcgatctcttcggcagcaatgatgatgggaccggcaccgcagatcccgtgttcaccatcaaggtgcccgatgatgagtgggaggacaaacacaaactcgccctagagcgcgagatgctgggactgtacgtctcggggcatcccctcaacggtgtggcacacttgctggctgcccaggtcgacaccgcgatcccagcg\n",
      "half eblock 460\n",
      "445 460 7411 7426\n",
      "------------------------------------------------------------------------------------\n"
     ]
    }
   ],
   "source": [
    "# Process the sequence to allow for primer design with primer3\n",
    "\n",
    "min_OH = 15 # TODO fetch from the design instance\n",
    "primer_results = {}\n",
    "\n",
    "\n",
    "print(vector_instance.length)\n",
    "for eblock in design_instance.wt_eblocks:\n",
    "    print(eblock.name, eblock.start_index, eblock.end_index, len(eblock.sequence), eblock.sequence)\n",
    "\n",
    "    # Find the middle index of the eblock\n",
    "    middle_index = (eblock.start_index + eblock.end_index) // 2\n",
    "    print(\"middle index\", middle_index)\n",
    "\n",
    "    length_result = len(vector_instance.vector.seq) - len(eblock.sequence)\n",
    "    print(\"length result\", length_result)\n",
    "    len_start = length_result - 50\n",
    "    len_end = length_result + 50\n",
    "\n",
    "    # refactor the sequence\n",
    "    # sequence_template = vector_instance.vector.seq[middle_index:] + vector_instance.vector.seq[:middle_index]\n",
    "    sequence_template = vector_instance.vector.seq[middle_index:] + vector_instance.vector.seq[:middle_index]\n",
    "    print(\"sequence template\", sequence_template)\n",
    "\n",
    "    oh_sequence_left = eblock.end_index - min_OH\n",
    "    oh_sequence_right = eblock.start_index + min_OH\n",
    "\n",
    "    half_eblock = len(eblock.sequence) // 2\n",
    "    print(\"half eblock\", half_eblock)\n",
    "    fw_end_range = circular_index(half_eblock, len(vector_instance.vector.seq))\n",
    "    fw_start_range = circular_index(half_eblock - min_OH, len(vector_instance.vector.seq))\n",
    "\n",
    "    rv_start_range = circular_index(len(vector_instance.vector.seq) - half_eblock, len(vector_instance.vector.seq))\n",
    "    rv_end_range = circular_index(len(vector_instance.vector.seq) - half_eblock + min_OH, len(vector_instance.vector.seq))\n",
    "\n",
    "    print(fw_start_range, fw_end_range, rv_start_range, rv_end_range)\n",
    "    fw, rv = find_primerpair(sequence_template, fw_start_range, fw_end_range, rv_start_range, rv_end_range, len_start, len_end)\n",
    "    primer_results[eblock.name] = fw, rv\n",
    "\n",
    "    print('------------------------------------------------------------------------------------')\n"
   ]
  },
  {
   "cell_type": "code",
   "execution_count": 17,
   "metadata": {},
   "outputs": [
    {
     "name": "stdout",
     "output_type": "stream",
     "text": [
      "eBlock-1 ('ggtgagatggtgcgctacg', 'agagcggccaaccagg')\n",
      "eBlock-2 ('atcgcgcagaaggtggc', 'tgatcccagacagcggg')\n",
      "eBlock-3 ('cgggtgacgccgtcg', 'gtagcggatgtcttggcc')\n"
     ]
    }
   ],
   "source": [
    "for key, value in primer_results.items():\n",
    "    print(key, value)"
   ]
  },
  {
   "cell_type": "code",
   "execution_count": 19,
   "metadata": {},
   "outputs": [],
   "source": [
    "### DESIGN SEQUENCING PRIMERS USING PRIMER 3\n",
    "\n",
    "# PRIMER_TASK=pick_sequencing_primers\n",
    "\n",
    "# circularity not a problem for sequencing primer\n",
    "# for each eBlock design a FW and RV primer to sequence the start and the end of the eBlock"
   ]
  },
  {
   "cell_type": "code",
   "execution_count": null,
   "metadata": {},
   "outputs": [],
   "source": []
  },
  {
   "cell_type": "code",
   "execution_count": 127,
   "metadata": {},
   "outputs": [],
   "source": [
    "def design_sequencing_primer(sequence, start, end, direction):\n",
    "    try:\n",
    "        result = primer3.bindings.design_primers(\n",
    "            seq_args={\n",
    "                'SEQUENCE_ID': 'SEQ0001',\n",
    "                'SEQUENCE_TEMPLATE': sequence,\n",
    "                'SEQUENCE_TARGET': [start, end],  # Avoid target region\n",
    "            },\n",
    "            global_args={\n",
    "                # Optimized parameters for sequencing primers\n",
    "                'PRIMER_TASK': 'pick_sequencing_primers',\n",
    "                'PRIMER_OPT_SIZE': 18,  # Optimal size for sequencing primer\n",
    "                'PRIMER_MIN_SIZE': 18,\n",
    "                'PRIMER_MAX_SIZE': 25,\n",
    "                'PRIMER_OPT_TM': 58.0,  # Optimal melting temperature for sequencing\n",
    "                'PRIMER_MIN_TM': 55.0,\n",
    "                'PRIMER_MAX_TM': 60.0,\n",
    "                'PRIMER_MIN_GC': 40.0,  # Balanced GC content\n",
    "                'PRIMER_MAX_GC': 60.0,\n",
    "                'PRIMER_MAX_POLY_X': 5,  # Avoid long homopolymer runs\n",
    "                'PRIMER_MAX_NS_ACCEPTED': 0,  # No degenerate bases allowed\n",
    "                'PRIMER_MAX_SELF_ANY': 8,  # Minimize self-complementarity\n",
    "                'PRIMER_MAX_SELF_END': 3,\n",
    "                'PRIMER_SALT_MONOVALENT': 50.0,\n",
    "                'PRIMER_DNA_CONC': 50.0,\n",
    "            })\n",
    "\n",
    "        # Check if a forward sequencing primer was found\n",
    "        # if direction == 'LEFT':\n",
    "        #     if 'PRIMER_LEFT_0_SEQUENCE' in result:\n",
    "        #         seqprimer = result['PRIMER_LEFT_0_SEQUENCE']\n",
    "        #         return seqprimer\n",
    "            \n",
    "        # elif direction == \"RIGHT\":\n",
    "        #     if 'PRIMER_RIGHT_0_SEQUENCE' in result:\n",
    "        #         seqprimer = result['PRIMER_RIGHT_0_SEQUENCE']\n",
    "        #         return seqprimer, result\n",
    "        return result\n",
    "            \n",
    "        # else:\n",
    "        #     raise ValueError(\"Invalid direction. Please specify 'LEFT' or 'RIGHT'.\")\n",
    "\n",
    "    except KeyError:  # If no suitable primer is found\n",
    "        print(f\"No sequencing primer found for {sequence}\")\n",
    "        return None\n",
    "    \n",
    "# Find primer closest to the end of the sequence\n",
    "def find_closest_higher_index(numbers, target):\n",
    "    higher_numbers = [num for num in numbers if num > target]\n",
    "    if not higher_numbers:\n",
    "        return None\n",
    "    closest_higher = min(higher_numbers)\n",
    "    return numbers.index(closest_higher)\n"
   ]
  },
  {
   "cell_type": "code",
   "execution_count": 151,
   "metadata": {},
   "outputs": [
    {
     "name": "stdout",
     "output_type": "stream",
     "text": [
      "eBlock-1 3 1322 1319 ccgctcttctAtgagcggttcatctgcggggtcctccttcgtgcacctgcacaaccacaccgagtattcgatgctggacggtgccgcgaagatcacgcccatgctcgccgaggtggagcggctggggatgcccgcggtggggatgaccgaccacggaaacatgttcggtgccagcgagttctacaactccgcgaccaaggccgggatcaagccgatcatcggcgtggaggcatacatcgcgccgggctcgcggttcgacacccggcgcatcctgtggggtgaccccagccaaaaggccgacgacgtctccggcagcggctcctacacgcacctgacgatgatggccgagaacgccaccggtctgcgcaacctgttcaagctgtcctcgcatgcttccttcgagggccagctgagcaagtggtcgcgcatggacgccgagctcatcgccgaacacgccgagggcatcatcatcaccaccggatgcccgtcgggggaggtgcagacccgcctgcggctcggccaggatcgggaggcgctcgaagccgcggcgaagtggcgggagatcgtcggaccggacaactacttccttgagctgatggaccacgggctgaccatcgaacgccgggtccgtgacggtctgctcgagatcggacgcgcgctcaacattccgcctcttgccaccaatgactgccactacgtgacccgcgacgccgcccacaaccatgaggctttgttgtgtgtgcagaccggcaagaccctctcggatccgaatcgcttcaagttcgacggtgacggctactacctgaagtcggccgccgagatgcgccagatctgggacgacgaagtgccgggcgcgtgtgactccaccttgttgatcgccgaacgggtgcagtcctacgccgacgtgtggacaccgcgcgaccggatgcccgtgtttccggtgcccgatgggcatgaccaggcgtcctggctgcgtcacgaggtggacgccgggcttcgccggcgatttccggccggtccgccggacgggtaccgcgagcgcgccgcctacgagatcgacgtcatctgctccaaaggtttcccatcgtactttctgatcgtcgccgacctgatcagctacgcgcggtcggcgggcataagggtgggtcccggccgcggctcggccgccggctcgctggtcgcctacgcgctgggcatcaccgacatcgacccgattccacacggtctgctgttcgagcggttcctcaaccccgagcgcacctcgatgcccgacatcgatatcgacttcgacgaccggcgccgcggtgagatggtgcgct\n",
      "7774\n",
      "103\n",
      "Changing 0-point of vector\n",
      "903\n",
      "1103\n",
      "rv start 1222\n",
      "rv end 1422\n",
      "[1387, 1888, 2378, 2887]\n",
      "1\n",
      "eBlock-2 1509 2186 677 caccgatcccagccacgaacggtacaaggaggccgccgaggtccgcggcctgatcgaaaccgacccggacgtacgcaccatctaccagaccgcacgcgggttggaaggcctgatccgcaacgcgggtgtgcacgcctgcgcggtgatcatgagcagcgagccgctgactgaggccatcccgttgtggaagcggccgcaggacggggccatcatcaccggctgggattacccggcgtgcgaggccatcggtctgctgaaaatggacttcctgggcctgcggaacctgacgatcatcggcgacgcgatcgacaacgtcagggccaacaggggtatcgacctcgacctggaatccgtgccgctggacgacaaggccacctatgagctgctgggccgcggcgacaccctgggcgtgttccagctcgacggcgggcccatgcgcgacctgctgcgccgcatgcagccgaccgggttcgaagacgtcgtcgccgttatcgcgctgtaccggcccggcccgatgggcatgaacgcacacaacgactatgccgaccgcaagaacaaccggcaggccatcaaacctattcacccggaactcgaagaaccgctgcgcgagatcctcgccgagacctacggcctcatcgtctatcaagagcagatcatgcgcatcgcgcagaaggtgg\n",
      "1409\n",
      "1609\n",
      "rv start 2086\n",
      "rv end 2286\n",
      "[2153, 2671, 3158, 3689, 4176]\n",
      "1\n",
      "eBlock-3 2589 3509 920 cgggctgggcgcggtgcgcaacgttggcgctaatgtcgtgggctcgttgctccaaacccgcaacgacaagggcaagttcaccgacttttcggactacctgaacaagatcgacatctcggcgtgcaacaagaaggtgaccgaatcgctgatcaaggcgggtgcgttcgactcgctggggcatgcccgcaagggtcttttcctggtgcacagcgatgcggtggactcggtgctgggcaccaagaaggccgaggcactggggcagttcgatctcttcggcagcaatgatgatgggaccggcaccgcagatcccgtgttcaccatcaaggtgcccgatgatgagtgggaggacaaacacaaactcgccctagagcgcgagatgctgggactgtacgtctcggggcatcccctcaacggtgtggcacacttgctggctgcccaggtcgacaccgcgatcccagcgatcctcgacggcgatgtccccaacgatgcccaagtgcgggtgggcggcatcctggcgtcggtgaaccggagggtcaacaaaaacggaatgccatgggcttcagcgcaattggaggatctcacgggcggcatcgaggtgatgttcttcccgcacacctactccagctatggtgccgacatcgtcgacgatgccgtcgtgctggtcaacgccaaggtggcggtccgtgacgaccgcatcgcattgatcgccaatgacctcacagtgcccgacttttccaacgccgaggtggagcggccgctggcggtcagcttgcccacccggcagtgcacctttgacaaggtgagtgcgctcaaacaggtgttggcgcgccaccccggcacctcgcaggtgcatctgcggctcatcagcggagaccggatcaccacgctggcacttgatcagtcgttgcgggtgacgccgt\n",
      "2489\n",
      "2689\n",
      "rv start 3409\n",
      "rv end 3609\n",
      "[3666, 4176, 4667, 5146, 5637]\n",
      "0\n"
     ]
    }
   ],
   "source": [
    "seqresults = {}\n",
    "\n",
    "for eblock in design_instance.wt_eblocks:\n",
    "    print(eblock.name, eblock.start_index, eblock.end_index, len(eblock.sequence), eblock.sequence)\n",
    "\n",
    "    start = circular_index(eblock.start_index - 100, len(vector_instance.vector.seq))\n",
    "    print(start)\n",
    "    end = circular_index(start + 200, len(vector_instance.vector.seq))\n",
    "    print(end)\n",
    "    if start > end:\n",
    "        print(\"Changing 0-point of vector\")\n",
    "        sequence = vector_instance.vector.seq[-1000:] + vector_instance.vector.seq[0:-1000]  # Change the 0-point of the sequence\n",
    "        idx_eblock = sequence.find(eblock.sequence)\n",
    "        start = circular_index(idx_eblock - 100, len(vector_instance.vector.seq))\n",
    "        print(start)\n",
    "        end = circular_index(start + 200, len(vector_instance.vector.seq))\n",
    "        print(end)\n",
    "    else:\n",
    "        sequence = vector_instance.vector.seq\n",
    "\n",
    "    # Obtain FW sequence\n",
    "    result  = design_sequencing_primer(sequence=sequence, start=start, end=end, direction=\"LEFT\")\n",
    "    fw_result = result['PRIMER_LEFT_0_SEQUENCE']\n",
    "    seqresults[eblock.name] = [(\"forward\", fw_result)]\n",
    "\n",
    "    # Obtain RV sequence\n",
    "    start = circular_index(eblock.end_index - 100 , len(vector_instance.vector.seq))\n",
    "    print(\"rv start\", start)\n",
    "    end = circular_index(start + 200, len(vector_instance.vector.seq))\n",
    "    print(\"rv end\", end)\n",
    "    result  = design_sequencing_primer(sequence=vector_instance.vector.seq, start=start, end=end, direction=\"RIGHT\")\n",
    "\n",
    "    possible_starts = []\n",
    "    for i in range(len(result) - 1):\n",
    "        try:\n",
    "            possible_starts.append(int(result['PRIMER_RIGHT'][i]['COORDS'][0]))\n",
    "        except:\n",
    "            break\n",
    "    \n",
    "    print(possible_starts)\n",
    "    index = find_closest_higher_index(possible_starts, end)\n",
    "    print(index)\n",
    "    rv_results = result['PRIMER_RIGHT'][index]['SEQUENCE']\n",
    "    seqresults[eblock.name].append([\"rv\", rv_results])\n",
    "    "
   ]
  },
  {
   "cell_type": "code",
   "execution_count": 153,
   "metadata": {},
   "outputs": [],
   "source": [
    "result  = design_sequencing_primer(sequence=sequence, start=start, end=end, direction=\"LEFT\")"
   ]
  },
  {
   "cell_type": "code",
   "execution_count": 157,
   "metadata": {},
   "outputs": [
    {
     "data": {
      "text/plain": [
       "[{'PENALTY': 0.6769995249792373,\n",
       "  'SEQUENCE': 'accgcatcgcattgatcg',\n",
       "  'COORDS': [3278, 18],\n",
       "  'TM': 58.67699952497924,\n",
       "  'GC_PERCENT': 55.55555555555556,\n",
       "  'SELF_ANY_TH': 0.0,\n",
       "  'SELF_END_TH': 0.0,\n",
       "  'HAIRPIN_TH': 34.13116417772386,\n",
       "  'END_STABILITY': 3.69},\n",
       " {'PENALTY': 0.10932641121172537,\n",
       "  'SEQUENCE': 'gcgatgccctttcgtctt',\n",
       "  'COORDS': [3777, 18],\n",
       "  'TM': 58.109326411211725,\n",
       "  'GC_PERCENT': 55.55555555555556,\n",
       "  'SELF_ANY_TH': 0.0,\n",
       "  'SELF_END_TH': 0.0,\n",
       "  'HAIRPIN_TH': 38.80567609355916,\n",
       "  'END_STABILITY': 3.01},\n",
       " {'PENALTY': 1.4127219289466098,\n",
       "  'SEQUENCE': 'acaccgttttccatgagca',\n",
       "  'COORDS': [4277, 19],\n",
       "  'TM': 57.58727807105339,\n",
       "  'GC_PERCENT': 47.36842105263158,\n",
       "  'SELF_ANY_TH': 0.0,\n",
       "  'SELF_END_TH': 0.0,\n",
       "  'HAIRPIN_TH': 0.0,\n",
       "  'END_STABILITY': 4.26},\n",
       " {'PENALTY': 0.2426023275804141,\n",
       "  'SEQUENCE': 'gcctaatgagcgggcttt',\n",
       "  'COORDS': [4783, 18],\n",
       "  'TM': 57.757397672419586,\n",
       "  'GC_PERCENT': 55.55555555555556,\n",
       "  'SELF_ANY_TH': 0.0,\n",
       "  'SELF_END_TH': 0.0,\n",
       "  'HAIRPIN_TH': 42.309714081163065,\n",
       "  'END_STABILITY': 3.51},\n",
       " {'PENALTY': 0.3062450674001411,\n",
       "  'SEQUENCE': 'accgggttggactcaaga',\n",
       "  'COORDS': [5273, 18],\n",
       "  'TM': 57.69375493259986,\n",
       "  'GC_PERCENT': 55.55555555555556,\n",
       "  'SELF_ANY_TH': 6.321193812222816,\n",
       "  'SELF_END_TH': 0.0,\n",
       "  'HAIRPIN_TH': 42.0023112647836,\n",
       "  'END_STABILITY': 3.02}]"
      ]
     },
     "execution_count": 157,
     "metadata": {},
     "output_type": "execute_result"
    }
   ],
   "source": [
    "result['PRIMER_LEFT'][]"
   ]
  },
  {
   "cell_type": "code",
   "execution_count": 154,
   "metadata": {},
   "outputs": [
    {
     "data": {
      "text/plain": [
       "{'PRIMER_WARNING': 'Increase PRIMER_NUM_RETURN to obtain all sequencing primers',\n",
       " 'PRIMER_LEFT_EXPLAIN': 'sequencing locations 8, considered 2419, GC content failed 1255, low tm 187, high tm 512, high hairpin stability 113, long poly-x seq 28, ok 8',\n",
       " 'PRIMER_RIGHT_EXPLAIN': 'sequencing locations 8, considered 2425, GC content failed 1192, low tm 174, high tm 610, high hairpin stability 56, long poly-x seq 29, ok 8',\n",
       " 'PRIMER_PAIR_EXPLAIN': 'considered 0, ok 0',\n",
       " 'PRIMER_LEFT_NUM_RETURNED': 5,\n",
       " 'PRIMER_RIGHT_NUM_RETURNED': 5,\n",
       " 'PRIMER_INTERNAL_NUM_RETURNED': 0,\n",
       " 'PRIMER_PAIR_NUM_RETURNED': 0,\n",
       " 'PRIMER_PAIR': [],\n",
       " 'PRIMER_LEFT': [{'PENALTY': 0.6769995249792373,\n",
       "   'SEQUENCE': 'accgcatcgcattgatcg',\n",
       "   'COORDS': [3278, 18],\n",
       "   'TM': 58.67699952497924,\n",
       "   'GC_PERCENT': 55.55555555555556,\n",
       "   'SELF_ANY_TH': 0.0,\n",
       "   'SELF_END_TH': 0.0,\n",
       "   'HAIRPIN_TH': 34.13116417772386,\n",
       "   'END_STABILITY': 3.69},\n",
       "  {'PENALTY': 0.10932641121172537,\n",
       "   'SEQUENCE': 'gcgatgccctttcgtctt',\n",
       "   'COORDS': [3777, 18],\n",
       "   'TM': 58.109326411211725,\n",
       "   'GC_PERCENT': 55.55555555555556,\n",
       "   'SELF_ANY_TH': 0.0,\n",
       "   'SELF_END_TH': 0.0,\n",
       "   'HAIRPIN_TH': 38.80567609355916,\n",
       "   'END_STABILITY': 3.01},\n",
       "  {'PENALTY': 1.4127219289466098,\n",
       "   'SEQUENCE': 'acaccgttttccatgagca',\n",
       "   'COORDS': [4277, 19],\n",
       "   'TM': 57.58727807105339,\n",
       "   'GC_PERCENT': 47.36842105263158,\n",
       "   'SELF_ANY_TH': 0.0,\n",
       "   'SELF_END_TH': 0.0,\n",
       "   'HAIRPIN_TH': 0.0,\n",
       "   'END_STABILITY': 4.26},\n",
       "  {'PENALTY': 0.2426023275804141,\n",
       "   'SEQUENCE': 'gcctaatgagcgggcttt',\n",
       "   'COORDS': [4783, 18],\n",
       "   'TM': 57.757397672419586,\n",
       "   'GC_PERCENT': 55.55555555555556,\n",
       "   'SELF_ANY_TH': 0.0,\n",
       "   'SELF_END_TH': 0.0,\n",
       "   'HAIRPIN_TH': 42.309714081163065,\n",
       "   'END_STABILITY': 3.51},\n",
       "  {'PENALTY': 0.3062450674001411,\n",
       "   'SEQUENCE': 'accgggttggactcaaga',\n",
       "   'COORDS': [5273, 18],\n",
       "   'TM': 57.69375493259986,\n",
       "   'GC_PERCENT': 55.55555555555556,\n",
       "   'SELF_ANY_TH': 6.321193812222816,\n",
       "   'SELF_END_TH': 0.0,\n",
       "   'HAIRPIN_TH': 42.0023112647836,\n",
       "   'END_STABILITY': 3.02}],\n",
       " 'PRIMER_RIGHT': [{'PENALTY': 2.233506451611788,\n",
       "   'SEQUENCE': 'tgatgcctggcagtttatgg',\n",
       "   'COORDS': [3666, 20],\n",
       "   'TM': 58.23350645161179,\n",
       "   'GC_PERCENT': 50.0,\n",
       "   'SELF_ANY_TH': 27.198215450520593,\n",
       "   'SELF_END_TH': 0.0,\n",
       "   'HAIRPIN_TH': 43.65434684378221,\n",
       "   'END_STABILITY': 2.74},\n",
       "  {'PENALTY': 1.7139358546660333,\n",
       "   'SEQUENCE': 'ggccggataaaacttgtgc',\n",
       "   'COORDS': [4176, 19],\n",
       "   'TM': 57.28606414533397,\n",
       "   'GC_PERCENT': 52.63157894736842,\n",
       "   'SELF_ANY_TH': 5.04613386687322,\n",
       "   'SELF_END_TH': 0.0,\n",
       "   'HAIRPIN_TH': 0.0,\n",
       "   'END_STABILITY': 4.57},\n",
       "  {'PENALTY': 0.7094330503136916,\n",
       "   'SEQUENCE': 'aaaaattacgccccgccc',\n",
       "   'COORDS': [4667, 18],\n",
       "   'TM': 58.70943305031369,\n",
       "   'GC_PERCENT': 55.55555555555556,\n",
       "   'SELF_ANY_TH': 0.0,\n",
       "   'SELF_END_TH': 0.0,\n",
       "   'HAIRPIN_TH': 0.0,\n",
       "   'END_STABILITY': 6.13},\n",
       "  {'PENALTY': 0.378774974123985,\n",
       "   'SEQUENCE': 'tggtatctgcgctctgct',\n",
       "   'COORDS': [5146, 18],\n",
       "   'TM': 58.378774974123985,\n",
       "   'GC_PERCENT': 55.55555555555556,\n",
       "   'SELF_ANY_TH': 9.732052967213463,\n",
       "   'SELF_END_TH': 0.0,\n",
       "   'HAIRPIN_TH': 46.62582415259857,\n",
       "   'END_STABILITY': 4.24},\n",
       "  {'PENALTY': 0.17430517058966188,\n",
       "   'SEQUENCE': 'caaaaggccaggaaccgt',\n",
       "   'COORDS': [5637, 18],\n",
       "   'TM': 57.82569482941034,\n",
       "   'GC_PERCENT': 55.55555555555556,\n",
       "   'SELF_ANY_TH': 5.008729417456038,\n",
       "   'SELF_END_TH': 0.0,\n",
       "   'HAIRPIN_TH': 0.0,\n",
       "   'END_STABILITY': 4.83}],\n",
       " 'PRIMER_INTERNAL': [],\n",
       " 'PRIMER_LEFT_0_PENALTY': 0.6769995249792373,\n",
       " 'PRIMER_RIGHT_0_PENALTY': 2.233506451611788,\n",
       " 'PRIMER_LEFT_0_SEQUENCE': 'accgcatcgcattgatcg',\n",
       " 'PRIMER_RIGHT_0_SEQUENCE': 'tgatgcctggcagtttatgg',\n",
       " 'PRIMER_LEFT_0': [3278, 18],\n",
       " 'PRIMER_RIGHT_0': [3666, 20],\n",
       " 'PRIMER_LEFT_0_TM': 58.67699952497924,\n",
       " 'PRIMER_RIGHT_0_TM': 58.23350645161179,\n",
       " 'PRIMER_LEFT_0_GC_PERCENT': 55.55555555555556,\n",
       " 'PRIMER_RIGHT_0_GC_PERCENT': 50.0,\n",
       " 'PRIMER_LEFT_0_SELF_ANY_TH': 0.0,\n",
       " 'PRIMER_RIGHT_0_SELF_ANY_TH': 27.198215450520593,\n",
       " 'PRIMER_LEFT_0_SELF_END_TH': 0.0,\n",
       " 'PRIMER_RIGHT_0_SELF_END_TH': 0.0,\n",
       " 'PRIMER_LEFT_0_HAIRPIN_TH': 34.13116417772386,\n",
       " 'PRIMER_RIGHT_0_HAIRPIN_TH': 43.65434684378221,\n",
       " 'PRIMER_LEFT_0_END_STABILITY': 3.69,\n",
       " 'PRIMER_RIGHT_0_END_STABILITY': 2.74,\n",
       " 'PRIMER_LEFT_1_PENALTY': 0.10932641121172537,\n",
       " 'PRIMER_RIGHT_1_PENALTY': 1.7139358546660333,\n",
       " 'PRIMER_LEFT_1_SEQUENCE': 'gcgatgccctttcgtctt',\n",
       " 'PRIMER_RIGHT_1_SEQUENCE': 'ggccggataaaacttgtgc',\n",
       " 'PRIMER_LEFT_1': [3777, 18],\n",
       " 'PRIMER_RIGHT_1': [4176, 19],\n",
       " 'PRIMER_LEFT_1_TM': 58.109326411211725,\n",
       " 'PRIMER_RIGHT_1_TM': 57.28606414533397,\n",
       " 'PRIMER_LEFT_1_GC_PERCENT': 55.55555555555556,\n",
       " 'PRIMER_RIGHT_1_GC_PERCENT': 52.63157894736842,\n",
       " 'PRIMER_LEFT_1_SELF_ANY_TH': 0.0,\n",
       " 'PRIMER_RIGHT_1_SELF_ANY_TH': 5.04613386687322,\n",
       " 'PRIMER_LEFT_1_SELF_END_TH': 0.0,\n",
       " 'PRIMER_RIGHT_1_SELF_END_TH': 0.0,\n",
       " 'PRIMER_LEFT_1_HAIRPIN_TH': 38.80567609355916,\n",
       " 'PRIMER_RIGHT_1_HAIRPIN_TH': 0.0,\n",
       " 'PRIMER_LEFT_1_END_STABILITY': 3.01,\n",
       " 'PRIMER_RIGHT_1_END_STABILITY': 4.57,\n",
       " 'PRIMER_LEFT_2_PENALTY': 1.4127219289466098,\n",
       " 'PRIMER_RIGHT_2_PENALTY': 0.7094330503136916,\n",
       " 'PRIMER_LEFT_2_SEQUENCE': 'acaccgttttccatgagca',\n",
       " 'PRIMER_RIGHT_2_SEQUENCE': 'aaaaattacgccccgccc',\n",
       " 'PRIMER_LEFT_2': [4277, 19],\n",
       " 'PRIMER_RIGHT_2': [4667, 18],\n",
       " 'PRIMER_LEFT_2_TM': 57.58727807105339,\n",
       " 'PRIMER_RIGHT_2_TM': 58.70943305031369,\n",
       " 'PRIMER_LEFT_2_GC_PERCENT': 47.36842105263158,\n",
       " 'PRIMER_RIGHT_2_GC_PERCENT': 55.55555555555556,\n",
       " 'PRIMER_LEFT_2_SELF_ANY_TH': 0.0,\n",
       " 'PRIMER_RIGHT_2_SELF_ANY_TH': 0.0,\n",
       " 'PRIMER_LEFT_2_SELF_END_TH': 0.0,\n",
       " 'PRIMER_RIGHT_2_SELF_END_TH': 0.0,\n",
       " 'PRIMER_LEFT_2_HAIRPIN_TH': 0.0,\n",
       " 'PRIMER_RIGHT_2_HAIRPIN_TH': 0.0,\n",
       " 'PRIMER_LEFT_2_END_STABILITY': 4.26,\n",
       " 'PRIMER_RIGHT_2_END_STABILITY': 6.13,\n",
       " 'PRIMER_LEFT_3_PENALTY': 0.2426023275804141,\n",
       " 'PRIMER_RIGHT_3_PENALTY': 0.378774974123985,\n",
       " 'PRIMER_LEFT_3_SEQUENCE': 'gcctaatgagcgggcttt',\n",
       " 'PRIMER_RIGHT_3_SEQUENCE': 'tggtatctgcgctctgct',\n",
       " 'PRIMER_LEFT_3': [4783, 18],\n",
       " 'PRIMER_RIGHT_3': [5146, 18],\n",
       " 'PRIMER_LEFT_3_TM': 57.757397672419586,\n",
       " 'PRIMER_RIGHT_3_TM': 58.378774974123985,\n",
       " 'PRIMER_LEFT_3_GC_PERCENT': 55.55555555555556,\n",
       " 'PRIMER_RIGHT_3_GC_PERCENT': 55.55555555555556,\n",
       " 'PRIMER_LEFT_3_SELF_ANY_TH': 0.0,\n",
       " 'PRIMER_RIGHT_3_SELF_ANY_TH': 9.732052967213463,\n",
       " 'PRIMER_LEFT_3_SELF_END_TH': 0.0,\n",
       " 'PRIMER_RIGHT_3_SELF_END_TH': 0.0,\n",
       " 'PRIMER_LEFT_3_HAIRPIN_TH': 42.309714081163065,\n",
       " 'PRIMER_RIGHT_3_HAIRPIN_TH': 46.62582415259857,\n",
       " 'PRIMER_LEFT_3_END_STABILITY': 3.51,\n",
       " 'PRIMER_RIGHT_3_END_STABILITY': 4.24,\n",
       " 'PRIMER_LEFT_4_PENALTY': 0.3062450674001411,\n",
       " 'PRIMER_RIGHT_4_PENALTY': 0.17430517058966188,\n",
       " 'PRIMER_LEFT_4_SEQUENCE': 'accgggttggactcaaga',\n",
       " 'PRIMER_RIGHT_4_SEQUENCE': 'caaaaggccaggaaccgt',\n",
       " 'PRIMER_LEFT_4': [5273, 18],\n",
       " 'PRIMER_RIGHT_4': [5637, 18],\n",
       " 'PRIMER_LEFT_4_TM': 57.69375493259986,\n",
       " 'PRIMER_RIGHT_4_TM': 57.82569482941034,\n",
       " 'PRIMER_LEFT_4_GC_PERCENT': 55.55555555555556,\n",
       " 'PRIMER_RIGHT_4_GC_PERCENT': 55.55555555555556,\n",
       " 'PRIMER_LEFT_4_SELF_ANY_TH': 6.321193812222816,\n",
       " 'PRIMER_RIGHT_4_SELF_ANY_TH': 5.008729417456038,\n",
       " 'PRIMER_LEFT_4_SELF_END_TH': 0.0,\n",
       " 'PRIMER_RIGHT_4_SELF_END_TH': 0.0,\n",
       " 'PRIMER_LEFT_4_HAIRPIN_TH': 42.0023112647836,\n",
       " 'PRIMER_RIGHT_4_HAIRPIN_TH': 0.0,\n",
       " 'PRIMER_LEFT_4_END_STABILITY': 3.02,\n",
       " 'PRIMER_RIGHT_4_END_STABILITY': 4.83}"
      ]
     },
     "execution_count": 154,
     "metadata": {},
     "output_type": "execute_result"
    }
   ],
   "source": [
    "result"
   ]
  },
  {
   "cell_type": "code",
   "execution_count": 145,
   "metadata": {},
   "outputs": [],
   "source": [
    "# result.keys()"
   ]
  },
  {
   "cell_type": "code",
   "execution_count": 144,
   "metadata": {},
   "outputs": [],
   "source": [
    "# result['PRIMER_RIGHT'][1]['SEQUENCE']"
   ]
  },
  {
   "cell_type": "code",
   "execution_count": 118,
   "metadata": {},
   "outputs": [],
   "source": [
    "# for i in result:\n",
    "#     print(i['PRIMER_RIGHT'])"
   ]
  },
  {
   "cell_type": "code",
   "execution_count": 117,
   "metadata": {},
   "outputs": [],
   "source": [
    "# result['PRIMER_RIGHT']"
   ]
  },
  {
   "cell_type": "code",
   "execution_count": 143,
   "metadata": {},
   "outputs": [],
   "source": [
    "# result.keys()"
   ]
  },
  {
   "cell_type": "code",
   "execution_count": 142,
   "metadata": {},
   "outputs": [],
   "source": [
    "# result['PRIMER_LEFT_0']"
   ]
  },
  {
   "cell_type": "code",
   "execution_count": 141,
   "metadata": {},
   "outputs": [],
   "source": [
    "# result['PRIMER_RIGHT'][0]['COORDS']"
   ]
  },
  {
   "cell_type": "code",
   "execution_count": 152,
   "metadata": {},
   "outputs": [
    {
     "name": "stdout",
     "output_type": "stream",
     "text": [
      "eBlock-1 [('forward', 'tgttgtcaaagacagcatcct'), ['rv', 'cataggtggccttgtcgtc']]\n",
      "eBlock-2 [('forward', 'tgcccgacatcgatatcg'), ['rv', 'cggtgaacttgcccttgt']]\n",
      "eBlock-3 [('forward', 'acggcatggtgtcctact'), ['rv', 'tgatgcctggcagtttatgg']]\n"
     ]
    }
   ],
   "source": [
    "for key, value in seqresults.items():\n",
    "    print(key, value)"
   ]
  },
  {
   "cell_type": "code",
   "execution_count": null,
   "metadata": {},
   "outputs": [],
   "source": []
  }
 ],
 "metadata": {
  "kernelspec": {
   "display_name": "eblocks_3",
   "language": "python",
   "name": "python3"
  },
  "language_info": {
   "codemirror_mode": {
    "name": "ipython",
    "version": 3
   },
   "file_extension": ".py",
   "mimetype": "text/x-python",
   "name": "python",
   "nbconvert_exporter": "python",
   "pygments_lexer": "ipython3",
   "version": "3.11.10"
  }
 },
 "nbformat": 4,
 "nbformat_minor": 2
}
