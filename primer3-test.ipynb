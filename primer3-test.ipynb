{
 "cells": [
  {
   "cell_type": "markdown",
   "metadata": {},
   "source": [
    "### 1. Importing Required Modules and Packages"
   ]
  },
  {
   "cell_type": "code",
   "execution_count": 1,
   "metadata": {},
   "outputs": [],
   "source": [
    "import os\n",
    "import sys\n",
    "\n",
    "from src.mutation import Mutation\n",
    "from src.sequence import Vector, Gene\n",
    "from src.eblocks import Eblock, EblockDesign\n",
    "import biotite.sequence as seq\n",
    "from src.primer import DesignPrimers\n",
    "from src.plot import Plot\n",
    "from src.utils import SnapGene\n",
    "\n",
    "%reload_ext autoreload\n",
    "%autoreload 2"
   ]
  },
  {
   "cell_type": "markdown",
   "metadata": {},
   "source": [
    "### 2. Loading and Analyzing the Gene Sequence\n",
    "\n",
    "The desired mutations should be added to a txt file. \n",
    "Here, we create a Mutation() object and parse the specified mutations. "
   ]
  },
  {
   "cell_type": "code",
   "execution_count": 2,
   "metadata": {},
   "outputs": [
    {
     "name": "stdout",
     "output_type": "stream",
     "text": [
      "The selected mutations are:\n",
      "\tMutation  \tS5K       \n",
      "\tMutation  \tV35Y      \n",
      "\tMutation  \tT84Y      \n",
      "\tInsert    \tR204-FTSMM\n",
      "\tMutation  \tS251R     \n",
      "\tCombined  \tS267M, D276I, D304L\n",
      "\tDeletion  \tS285-Q294 \n",
      "\tMutation  \tD326M     \n",
      "\tMutation  \tA327G     \n",
      "\tMutation  \tI352C     \n",
      "\tMutation  \tP380Y     \n",
      "\tMutation  \tR416H     \n",
      "\tMutation  \tD428G     \n",
      "\tMutation  \tY507V     \n",
      "\tInsert    \tG535-DDVIIC\n",
      "\tMutation  \tE556R     \n",
      "\tCombined  \tN593I, L639S, G635L, S616V, D640E, V617L, P618G, L619V\n",
      "\tMutation  \tD611G     \n",
      "\tMutation  \tP694P     \n",
      "\tMutation  \tQ716L     \n",
      "\tMutation  \tV867L     \n",
      "\tDeletion  \tA899-V904 \n",
      "\tCombined  \tV968Q, I1013Y\n",
      "\tMutation  \tL1002K    \n",
      "\tMutation  \tL1052E    \n",
      "\tMutation  \tF1061T    \n",
      "\tMutation  \tV1084M    \n",
      "\tMutation  \tL1157T    \n"
     ]
    }
   ],
   "source": [
    "# Create a Mutation object and parse the input mutations from the files/ directory\n",
    "\n",
    "mutations_file = os.path.join('example_data', 'Msmegmatis_DnaE1', 'Msmegmatis_DnaE1_mutations_N=27.txt')\n",
    "\n",
    "mutation_instance = Mutation()\n",
    "mutation_instance.parse_mutations(mutations_file)\n",
    "\n",
    "# Print the mutations that were parsed\n",
    "mutation_instance.print_mutations()"
   ]
  },
  {
   "cell_type": "markdown",
   "metadata": {},
   "source": [
    "Next, we read the gene sequence and the vector that contains our gene of interest."
   ]
  },
  {
   "cell_type": "code",
   "execution_count": 3,
   "metadata": {},
   "outputs": [
    {
     "name": "stdout",
     "output_type": "stream",
     "text": [
      "7871\n"
     ]
    }
   ],
   "source": [
    "# Create a Plasmid object and parse the input plasmid from the files/ directory\n",
    "\n",
    "sequence_file = os.path.join('example_data', 'Msmegmatis_DnaE1', 'A0QX55.fasta')\n",
    "vector_file = os.path.join('example_data', 'Msmegmatis_DnaE1', 'vector.dna')\n",
    "\n",
    "gene_instance = Gene()\n",
    "gene_instance.parse_sequence(sequence_file)\n",
    "\n",
    "vector_instance = Vector(gene=gene_instance)\n",
    "vector_instance.parse_vector(vector_file)\n",
    "print(vector_instance.length)"
   ]
  },
  {
   "cell_type": "markdown",
   "metadata": {},
   "source": [
    "We also define an output directory for the generated files and create a snapgene object for visualization"
   ]
  },
  {
   "cell_type": "code",
   "execution_count": 4,
   "metadata": {},
   "outputs": [],
   "source": [
    "# Create a SnapGene instance to write the eBlocks features to a snapgene file\n",
    "\n",
    "# Set output directory\n",
    "output_dir = os.path.join('tutorial_output')\n",
    "\n",
    "snapgene_instance = SnapGene(vector_instance=vector_instance,\n",
    "                             gene_instance=gene_instance,\n",
    "                             output_dir=output_dir)"
   ]
  },
  {
   "cell_type": "markdown",
   "metadata": {},
   "source": [
    "We create an eBlockDesign instance that can initiate the design of the eblocks. Here, we choose as optimization method cost_optimization that aims to use as little basepairs as possible. Another option would be to do amount_optimization, that aims to cluster as many mutations as possible together, to get the lowest number of different eBlocks"
   ]
  },
  {
   "cell_type": "code",
   "execution_count": 26,
   "metadata": {},
   "outputs": [],
   "source": [
    "# Create an Eblocks object based on the input mutations and the gene sequence\n",
    "\n",
    "design_instance = EblockDesign(mutation_instance=mutation_instance,\n",
    "                               vector_instance=vector_instance,\n",
    "                               gene_instance=gene_instance,\n",
    "                               output_dir=output_dir,\n",
    "                               verbose=False,\n",
    "                               cost_optimization=True,\n",
    "                               amount_optimization=False)"
   ]
  },
  {
   "cell_type": "code",
   "execution_count": 6,
   "metadata": {},
   "outputs": [],
   "source": [
    "# TODO Add DnaE1 gene sequence to vector\n",
    "# TODO What are the other things in the vector that do not have a name?"
   ]
  },
  {
   "cell_type": "markdown",
   "metadata": {},
   "source": [
    "In our vector we can see that our vector contains the SacB gene, has an origin of replication and contains a CmR (chloramphenicol) resistance marker"
   ]
  },
  {
   "cell_type": "code",
   "execution_count": 27,
   "metadata": {},
   "outputs": [],
   "source": [
    "# Run the eBlocks design and print the results\n",
    "\n",
    "design_instance.run_design_eblocks()"
   ]
  },
  {
   "cell_type": "code",
   "execution_count": 9,
   "metadata": {},
   "outputs": [
    {
     "name": "stdout",
     "output_type": "stream",
     "text": [
      "eBlock-1 ccgctcttctAtgagcggttcatctgcggggtcctccttcgtgcacctgcacaaccacaccgagtattcgatgctggacggtgccgcgaagatcacgcccatgctcgccgaggtggagcggctggggatgcccgcggtggggatgaccgaccacggaaacatgttcggtgccagcgagttctacaactccgcgaccaaggccgggatcaagccgatcatcggcgtggaggcatacatcgcgccgggctcgcggttcgacacccggcgcatcctgtggggtgaccccagccaaaaggccgacgacgtctccggcagcggctcctacacgcacctgacgatgatggccgagaacgccaccggtctgcgcaacctgttcaagctgtcctcgcatgcttccttcgagggccagctgagcaagtggtcgcgcatggacgccgagctcatcgccgaacacgccgagggcatcatcatcaccaccggatgcccgtcgggggaggtgcagacccgcctgcggctcggccaggatcgggaggcgctcgaagccgcggcgaagtggcgggagatcgtcggaccggacaactacttccttgagctgatggaccacgggctgaccatcgaacgccgggtccgtgacggtctgctcgagatcggacgcgcgctcaacattccgcctcttgccaccaatgactgccactacgtgacccgcgacgccgcccacaaccatgaggctttgttgtgtgtgcagaccggcaagaccctctcggatccgaatcgcttcaagttcgacggtgacggctactacctgaagtcggccgccgagatgcgccagatctgggacgacgaagtgccgggcgcgtgtgactccaccttgttgatcgccgaacgggtgcagtcctacgccgacgtgtggacaccgcgcgaccggatgcccgtgtttccggtgcccgatgggcatgaccaggcgtcctggctgcgtcacgaggtggacgccgggcttcgccggcgatttccggccggtccgccggacgggtaccgcgagcgcgccgcctacgagatcgacgtcatctgctccaaaggtttcccatcgtactttctgatcgtcgccgacctgatcagctacgcgcggtcggcgggcataagggtgggtcccggccgcggctcggccgccggctcgctggtcgcctacgcgctgggcatcaccgacatcgacccgattccacacggtctgctgttcgagcggttcctcaaccccgagcgcacctcgatgcccgacatcgatatcgacttcgacgaccggcgccgcggtgagatggtgcgct\n",
      "eBlock-2 caccgatcccagccacgaacggtacaaggaggccgccgaggtccgcggcctgatcgaaaccgacccggacgtacgcaccatctaccagaccgcacgcgggttggaaggcctgatccgcaacgcgggtgtgcacgcctgcgcggtgatcatgagcagcgagccgctgactgaggccatcccgttgtggaagcggccgcaggacggggccatcatcaccggctgggattacccggcgtgcgaggccatcggtctgctgaaaatggacttcctgggcctgcggaacctgacgatcatcggcgacgcgatcgacaacgtcagggccaacaggggtatcgacctcgacctggaatccgtgccgctggacgacaaggccacctatgagctgctgggccgcggcgacaccctgggcgtgttccagctcgacggcgggcccatgcgcgacctgctgcgccgcatgcagccgaccgggttcgaagacgtcgtcgccgttatcgcgctgtaccggcccggcccgatgggcatgaacgcacacaacgactatgccgaccgcaagaacaaccggcaggccatcaaacctattcacccggaactcgaagaaccgctgcgcgagatcctcgccgagacctacggcctcatcgtctatcaagagcagatcatgcgcatcgcgcagaaggtgg\n",
      "eBlock-3 cgggctgggcgcggtgcgcaacgttggcgctaatgtcgtgggctcgttgctccaaacccgcaacgacaagggcaagttcaccgacttttcggactacctgaacaagatcgacatctcggcgtgcaacaagaaggtgaccgaatcgctgatcaaggcgggtgcgttcgactcgctggggcatgcccgcaagggtcttttcctggtgcacagcgatgcggtggactcggtgctgggcaccaagaaggccgaggcactggggcagttcgatctcttcggcagcaatgatgatgggaccggcaccgcagatcccgtgttcaccatcaaggtgcccgatgatgagtgggaggacaaacacaaactcgccctagagcgcgagatgctgggactgtacgtctcggggcatcccctcaacggtgtggcacacttgctggctgcccaggtcgacaccgcgatcccagcgatcctcgacggcgatgtccccaacgatgcccaagtgcgggtgggcggcatcctggcgtcggtgaaccggagggtcaacaaaaacggaatgccatgggcttcagcgcaattggaggatctcacgggcggcatcgaggtgatgttcttcccgcacacctactccagctatggtgccgacatcgtcgacgatgccgtcgtgctggtcaacgccaaggtggcggtccgtgacgaccgcatcgcattgatcgccaatgacctcacagtgcccgacttttccaacgccgaggtggagcggccgctggcggtcagcttgcccacccggcagtgcacctttgacaaggtgagtgcgctcaaacaggtgttggcgcgccaccccggcacctcgcaggtgcatctgcggctcatcagcggagaccggatcaccacgctggcacttgatcagtcgttgcgggtgacgccgt\n"
     ]
    }
   ],
   "source": [
    "for i in design_instance.wt_eblocks:\n",
    "    print(i.name, i.sequence)"
   ]
  },
  {
   "cell_type": "markdown",
   "metadata": {},
   "source": [
    "In the process, for each mutation a different eBlock is created and a .gb file is made to easily view the clone in a sequence editor. "
   ]
  },
  {
   "cell_type": "markdown",
   "metadata": {},
   "source": []
  },
  {
   "cell_type": "code",
   "execution_count": 10,
   "metadata": {},
   "outputs": [],
   "source": [
    "# Remove all files in the output directory\n",
    "import os\n",
    "import shutil\n",
    "\n",
    "def remove_all_files_and_folders(directory):\n",
    "    # Check if the directory exists\n",
    "    if os.path.exists(directory):\n",
    "        shutil.rmtree(directory)  # Remove the entire directory and its contents\n",
    "        os.makedirs(directory)      # Recreate the empty directory\n",
    "    else:\n",
    "        print(f\"The directory {directory} does not exist.\")\n",
    "\n",
    "# Specify your directory here\n",
    "remove_all_files_and_folders('tutorial_output')\n"
   ]
  },
  {
   "cell_type": "code",
   "execution_count": 8,
   "metadata": {},
   "outputs": [
    {
     "name": "stdout",
     "output_type": "stream",
     "text": [
      "7871\n",
      "1509\n",
      "677\n"
     ]
    }
   ],
   "source": [
    "# try primer3\n",
    "\n",
    "import primer3\n",
    "\n",
    "# Your sequence\n",
    "sequence = \"tggccgctcttctAtgagcggttcatctgcggggtcctccttcgtgcacctgcacaaccacaccgagtattcgatgctggacggtgccgcgaagatcacgcccatgctcgccgaggtggagcggctggggatgcccgcggtggggatgaccgaccacggaaacatgttcggtgccagcgagttctacaactccgcgaccaaggccgggatcaagccgatcatcggcgtggaggcatacatcgcgccgggctcgcggttcgacacccggcgcatcctgtggggtgaccccagccaaaaggccgacgacgtctccggcagcggctcctacacgcacctgacgatgatggccgagaacgccaccggtctgcgcaacctgttcaagctgtcctcgcatgcttccttcgagggccagctgagcaagtggtcgcgcatggacgccgagctcatcgccgaacacgccgagggcatcatcatcaccaccggatgcccgtcgggggaggtgcagacccgcctgcggctcggccaggatcgggaggcgctcgaagccgcggcgaagtggcgggagatcgtcggaccggacaactacttccttgagctgatggaccacgggctgaccatcgaacgccgggtccgtgacggtctgctcgagatcggacgcgcgctcaacattccgcctcttgccaccaatgactgccactacgtgacccgcgacgccgcccacaaccatgaggctttgttgtgtgtgcagaccggcaagaccctctcggatccgaatcgcttcaagttcgacggtgacggctactacctgaagtcggccgccgagatgcgccagatctgggacgacgaagtgccgggcgcgtgtgactccaccttgttgatcgccgaacgggtgcagtcctacgccgacgtgtggacaccgcgcgaccggatgcccgtgtttccggtgcccgatgggcatgaccaggcgtcctggctgcgtcacgaggtggacgccgggcttcgccggcgatttccggccggtccgccggacgggtaccgcgagcgcgccgcctacgagatcgacgtcatctgctccaaaggtttcccatcgtactttctgatcgtcgccgacctgatcagctacgcgcggtcggcgggcataagggtgggtcccggccgcggctcggccgccggctcgctggtcgcctacgcgctgggcatcaccgacatcgacccgattccacacggtctgctgttcgagcggttcctcaaccccgagcgcacctcgatgcccgacatcgatatcgacttcgacgaccggcgccgcggtgagatggtgcgctacgcagccgacaagtggggccacgaccgggtcgcgcaggtcatcaccttcggcaccatcaaaaccaaagcggcgctgaaggattcggcgcgaatccactacgggcagcccgggttcgccatcgccgaccggatcaccaaggcgttgccgccggcgatcatggccaaagacatcccgctgtctgggatcaccgatcccagccacgaacggtacaaggaggccgccgaggtccgcggcctgatcgaaaccgacccggacgtacgcaccatctaccagaccgcacgcgggttggaaggcctgatccgcaacgcgggtgtgcacgcctgcgcggtgatcatgagcagcgagccgctgactgaggccatcccgttgtggaagcggccgcaggacggggccatcatcaccggctgggattacccggcgtgcgaggccatcggtctgctgaaaatggacttcctgggcctgcggaacctgacgatcatcggcgacgcgatcgacaacgtcagggccaacaggggtatcgacctcgacctggaatccgtgccgctggacgacaaggccacctatgagctgctgggccgcggcgacaccctgggcgtgttccagctcgacggcgggcccatgcgcgacctgctgcgccgcatgcagccgaccgggttcgaagacgtcgtcgccgttatcgcgctgtaccggcccggcccgatgggcatgaacgcacacaacgactatgccgaccgcaagaacaaccggcaggccatcaaacctattcacccggaactcgaagaaccgctgcgcgagatcctcgccgagacctacggcctcatcgtctatcaagagcagatcatgcgcatcgcgcagaaggtggcgagctactcgttggcccgcgccgacattctacgcaaggccatgggcaagaagaaacgcgaggtgctggagaaggagttcgagggcttctccgatggcatgcaggccaacgggttctctccggcggccatcaaggcgctgtgggacaccatcctgccgttcgctgactacgcgttcaacaagtcacatgccgccggctacggcatggtgtcctactggacggcctacctcaaggccaactatcccgccgagtacatggccggtctgttgacgtcggtcggcgacgataaagacaaggccgcggtttatctggccgactgccgcaagctcggcatcaccgtgctcccgcccgacgtcaacgaatctggcttgaacttcgcatcggtcggccaagacatccgctacgggctgggcgcggtgcgcaacgttggcgctaatgtcgtgggctcgttgctccaaacccgcaacgacaagggcaagttcaccgacttttcggactacctgaacaagatcgacatctcggcgtgcaacaagaaggtgaccgaatcgctgatcaaggcgggtgcgttcgactcgctggggcatgcccgcaagggtcttttcctggtgcacagcgatgcggtggactcggtgctgggcaccaagaaggccgaggcactggggcagttcgatctcttcggcagcaatgatgatgggaccggcaccgcagatcccgtgttcaccatcaaggtgcccgatgatgagtgggaggacaaacacaaactcgccctagagcgcgagatgctgggactgtacgtctcggggcatcccctcaacggtgtggcacacttgctggctgcccaggtcgacaccgcgatcccagcgatcctcgacggcgatgtccccaacgatgcccaagtgcgggtgggcggcatcctggcgtcggtgaaccggagggtcaacaaaaacggaatgccatgggcttcagcgcaattggaggatctcacgggcggcatcgaggtgatgttcttcccgcacacctactccagctatggtgccgacatcgtcgacgatgccgtcgtgctggtcaacgccaaggtggcggtccgtgacgaccgcatcgcattgatcgccaatgacctcacagtgcccgacttttccaacgccgaggtggagcggccgctggcggtcagcttgcccacccggcagtgcacctttgacaaggtgagtgcgctcaaacaggtgttggcgcgccaccccggcacctcgcaggtgcatctgcggctcatcagcggagaccggatcaccacgctggcacttgatcagtcgttgcgggtgacgccgtcgccggcgttgatgggtgacctcaaggagctgctcggccctggatgtctggggagttagtgaagagcggccaccgaggccgggagcggatttgaacgttgcgaagcaacggcccggagggtggcgggcaggacgcccgccataaactgccaggcatcaaattaagcagaaggccatcctgacggatggcctttttgcgtttctacaaactcttttgtttatttttctaaatacattcaaatatgtatccgctcatgaattccccgcgcgcgatgccctttcgtcttcgaataaatacctgtgacggaagatcacttcgcagaataaataaatcctggtgtccctgttgataccgggaagccctgggccaacttttggcgaaaatgagacgttgatcggcacgtaagaggttccaactttcaccataatgaaataagatcactaccgggcgtattttttgagttatcgagattttcaggagctaaggaagctaaaatggagaaaaaaatcactggatataccaccgttgatatatcccaatggcatcgtaaagaacattttgaggcatttcagtcagttgctcaatgtacctataaccagaccgttcagctggatattacggcctttttaaagaccgtaaagaaaaataagcacaagttttatccggcctttattcacattcttgcccgcctgatgaatgctcatccggaatttcgtatggcaatgaaagacggtgagctggtgatatgggatagtgttcacccttgttacaccgttttccatgagcaaactgaaacgttttcatcgctctggagtgaataccacgacgatttccggcagtttctacacatatattcgcaagatgtggcgtgttacggtgaaaacctggcctatttccctaaagggtttattgagaatatgtttttcgtctcagccaatccctgggtgagtttcaccagttttgatttaaacgtggcgaatatggacaacttcttcgcccccgttttcactatgggcaaatattatacgcaaggcgacaaggtgctgatgccgctggcgattcaggttcatcatgccgtctgtgatggcttccatgtcggcagaatgcttaatgaattacaacagtactgcgatgagtggcagggcggggcgtaatttttttaaggcagttattggtgcccttaaacgcctggttgctacgcctgaataagtgataataagcggatgaatggcagaaattcgagcccgcctaatgagcgggcttttttttagcccgcctaatgagcgggcttttttttcgaaagcaaattcgacccatcgcgcgcggggagtcaactcagcaaaagttcgatttattcaacaaagccacgttgtgtctcaaaatctctgatgttacattgcacaagataaaaatatatcatcatgcatgaccaaaatcccttaacgtgagttttcgttccactgagcgtcagaccccgtagaaaagatcaaaggatcttcttgagatcctttttttctgcgcgtaatctgctgcttgcaaacaaaaaaaccaccgctaccagcggtggtttgtttgccggatcaagagctaccaactctttttccgaaggtaactggcttcagcagagcgcagataccaaatactgtccttctagtgtagccgtagttaggccaccacttcaagaactctgtagcaccgcctacatacctcgctctgctaatcctgttaccagtggctgctgccagtggcgataagtcgtgtcttaccgggttggactcaagacgatagttaccggataaggcgcagcggtcgggctgaacggggggttcgtgcacacagcccagcttggagcgaacgacctacaccgaactgagatacctacagcgtgagctatgagaaagcgccacgcttcccgaagggagaaaggcggacaggtatccggtaagcggcagggtcggaacaggagagcgcacgagggagcttccagggggaaacgcctggtatctttatagtcctgtcgggtttcgccacctctgacttgagcgtcgatttttgtgatgctcgtcaggggggcggagcctatggaaaaacgccagcaacgcggcctttttacggttcctggccttttgctggccttttgctcacatgttctttcctgcgttatcccctgattctgtggataaccgtattaccgcctttgagtgagctgataccgctcgccgcagccgaacgaccgagcgcagcgagtcagtgagcgaggaagcggaagatcgggcccagccggcccacatatacctgccgttcactattatttagtgaaatgagatattatgatattttctgaattgtgattaaaaaggcaactttatgcccatgcaacagaaactataaaaaatacagagaatgaaaagaaacagatagattttttagttctttaggcccgtagtctgcaaatccttttatgattttctatcaaacaaaagaggaaaatagaccagttgcaatccaaacgagagtctaatagaatgaggtcgaaaagtaaatcgcgcgggtttgttactgataaagcaggcaagacctaaaatgtgtaaagggcaaagtgtatactttggcgtcaccccttacatattttaggtctttttttattgtgcgtaactaacttgccatcttcaaacaggagggctggaagaagcagaccgctaacacagtacataaaaaaggagacatgaacgatgaacatcaaaaagtttgcaaaacaagcaacagtattaacctttactaccgcactgctggcaggaggcgcaactcaagcgtttgcgaaagaaacgaaccaaaagccatataaggaaacatacggcatttcccatattacacgccatgatatgctgcaaatccctgaacagcaaaaaaatgaaaaatataaagttcctgagttcgattcgtccacaattaaaaatatctcttctgcaaaaggcctggacgtttgggacagctggccattacaaaacactgacggcactgtcgcaaactatcacggctaccacatcgtctttgcattagccggagatcctaaaaatgcggatgacacatcgatttacatgttctatcaaaaagtcggcgaaacttctattgacagctggaaaaacgctggccgcgtctttaaagacagcgacaaattcgatgcaaatgattctatcctaaaagaccaaacacaagaatggtcaggttcagccacatttacatctgacggaaaaatccgtttattctacactgatttctccggtaaacattacggcaaacaaacactgacaactgcacaagttaacgtatcagcatcagacagctctttgaacatcaacggtgtagaggattataaatcaatctttgacggtgacggaaaaacgtatcaaaatgtacagcagttcatcgatgaaggcaactacagctcaggcgacaaccatacgctgagagatcctcactacgtagaagataaaggccacaaatacttagtatttgaagcaaacactggaactgaagatggctaccaaggcgaagaatctttatttaacaaagcatactatggcaaaagcacatcattcttccgtcaagaaagtcaaaaacttctgcaaagcgataaaaaacgcacggctgagttagcaaacggcgctctcggtatgattgagctaaacgatgattacacactgaaaaaagtgatgaaaccgctgattgcatctaacacagtaacagatgaaattgaacgcgcgaacgtctttaaaatgaacggcaaatggtacctgttcactgactcccgcggatcaaaaatgacgattgacggcattacgtctaacgatatttacatgcttggttatgtttctaattctttaactggcccatacaagccgctgaacaaaactggccttgtgttaaaaatggatcttgatcctaacgatgtaacctttacttactcacacttcgctgtacctcaagcgaaaggaaacaatgtcgtgattacaagctatatgacaaacagaggattctacgcagacaaacaatcaacgtttgcgcctagcttcctgctgaacatcaaaggcaagaaaacatctgttgtcaaagacagcatccttgaacaaggacaattaacagttaacaaataaaaacgcaaaagaaaatgccgatatcctattggcattgcggccgcggtctcggcggtgggtcgtctagaggcatcaaataaaacgaaaggctcagtcgaaagactgggcctttcgttttatctgttgtttgtcggtgaacgctctcctgagtaggacaaatccgccgccctagacctagcggccggccgcaagcgctgcacggcctggt\"\n",
    "print(len(sequence))\n",
    "\n",
    "sequence_cover = \"caccgatcccagccacgaacggtacaaggaggccgccgaggtccgcggcctgatcgaaaccgacccggacgtacgcaccatctaccagaccgcacgcgggttggaaggcctgatccgcaacgcgggtgtgcacgcctgcgcggtgatcatgagcagcgagccgctgactgaggccatcccgttgtggaagcggccgcaggacggggccatcatcaccggctgggattacccggcgtgcgaggccatcggtctgctgaaaatggacttcctgggcctgcggaacctgacgatcatcggcgacgcgatcgacaacgtcagggccaacaggggtatcgacctcgacctggaatccgtgccgctggacgacaaggccacctatgagctgctgggccgcggcgacaccctgggcgtgttccagctcgacggcgggcccatgcgcgacctgctgcgccgcatgcagccgaccgggttcgaagacgtcgtcgccgttatcgcgctgtaccggcccggcccgatgggcatgaacgcacacaacgactatgccgaccgcaagaacaaccggcaggccatcaaacctattcacccggaactcgaagaaccgctgcgcgagatcctcgccgagacctacggcctcatcgtctatcaagagcagatcatgcgcatcgcgcagaaggtgg\"\n",
    "idx = sequence.find(sequence_cover)\n",
    "print(idx)\n",
    "print(len(sequence_cover))"
   ]
  },
  {
   "cell_type": "code",
   "execution_count": 9,
   "metadata": {},
   "outputs": [
    {
     "name": "stdout",
     "output_type": "stream",
     "text": [
      "960\n"
     ]
    }
   ],
   "source": [
    "sequence_template = 'GCTTGCATGCCTGCAGGTCGACTCTAGAGGATCCCCCTACATTTTAGCATCAGTGAGTACAGCATGCTTACTGGAAGAGAGGGTCATGCAACAGATTAGGAGGTAAGTTTGCAAAGGCAGGCTAAGGAGGAGACGCACTGAATGCCATGGTAAGAACTCTGGACATAAAAATATTGGAAGTTGTTGAGCAAGTNAAAAAAATGTTTGGAAGTGTTACTTTAGCAATGGCAAGAATGATAGTATGGAATAGATTGGCAGAATGAAGGCAAAATGATTAGACATATTGCATTAAGGTAAAAAATGATAACTGAAGAATTATGTGCCACACTTATTAATAAGAAAGAATATGTGAACCTTGCAGATGTTTCCCTCTAGTAG'\n",
    "sequence_template = 'tggccgctcttctAtgagcggttcatctgcggggtcctccttcgtgcacctgcacaaccacaccgagtattcgatgctggacggtgccgcgaagatcacgcccatgctcgccgaggtggagcggctggggatgcccgcggtggggatgaccgaccacggaaacatgttcggtgccagcgagttctacaactccgcgaccaaggccgggatcaagccgatcatcggcgtggaggcatacatcgcgccgggctcgcggttcgacacccggcgcatcctgtggggtgaccccagccaaaaggccgacgacgtctccggcagcggctcctacacgcacctgacgatgatggccgagaacgccaccggtctgcgcaacctgttcaagctgtcc'\n",
    "sequence_template = 'atatcgacttcgacgaccggcgccgcggtgagatggtgcgctacgcagccgacaagtggggccacgaccgggtcgcgcaggtcatcaccttcggcaccatcaaaaccaaagcggcgctgaaggattcggcgcgaatccactacgggcagcccgggttcgccatcgccgaccggatcaccaaggcgttgccgccggcgatcatggccaaagacatcccgctgtctgggatcaccgatcccagccacgaacggtacaaggaggccgccgaggtccgcggcctgatcgaaaccgacccggacgtacgcaccatctaccagaccgcacgcgggttggaaggcctgatccgcaacgcgggtgtgcacgcctgcgcggtgatcatgagcagcgagccgctgactgaggccatcccgttgtggaagcggccgcaggacggggccatcatcaccggctgggattacccggcgtgcgaggccatcggtctgctgaaaatggacttcctgggcctgcggaacctgacgatcatcggcgacgcgatcgacaacgtcagggccaacaggggtatcgacctcgacctggaatccgtgccgctggacgacaaggccacctatgagctgctgggccgcggcgacaccctgggcgtgttccagctcgacggcgggcccatgcgcgacctgctgcgccgcatgcagccgaccgggttcgaagacgtcgtcgccgttatcgcgctgtaccggcccggcccgatgggcatgaacgcacacaacgactatgccgaccgcaagaacaaccggcaggccatcaaacctattcacccggaactcgaagaaccgctgcgcgagatcctcgccgagacctacggcctcatcgtctatcaagagcagatcatgcgcatcgcgcagaaggtggcgagctactcgttggcccgcgccgacattctacgcaaggccatgggcaagaaga'\n",
    "print(len(sequence_template))\n",
    "\n",
    "# Define the deletion region\n",
    "\n",
    "\n",
    "# 'SEQUENCE_FORCE_LEFT_START': 230,\n",
    "# 'SEQUENCE_FORCE_RIGHT_START': 906,"
   ]
  },
  {
   "cell_type": "code",
   "execution_count": 10,
   "metadata": {},
   "outputs": [
    {
     "name": "stdout",
     "output_type": "stream",
     "text": [
      "100 Error\n",
      "101 Error\n",
      "102 Error\n",
      "103 Error\n",
      "104 Error\n",
      "105 Error\n",
      "106 Error\n",
      "107 Error\n",
      "108 Error\n",
      "109 Error\n",
      "110 Error\n",
      "111 Error\n",
      "112 Error\n",
      "113 Error\n",
      "114 Error\n",
      "115 Error\n",
      "116 Error\n",
      "117 Error\n",
      "118 Error\n",
      "119 Error\n",
      "120 Error\n",
      "121 Error\n",
      "122 Error\n",
      "123 Error\n",
      "124 Error\n",
      "125 Error\n",
      "126 Error\n",
      "127 Error\n",
      "128 Error\n",
      "129 Error\n",
      "130 Error\n",
      "131 Error\n",
      "132 Error\n",
      "133 Error\n",
      "134 Error\n",
      "135 Error\n",
      "136 Error\n",
      "137 Error\n",
      "138 Error\n",
      "139 Error\n",
      "140 Error\n",
      "141 Error\n",
      "142 Error\n",
      "143 Error\n",
      "144 Error\n",
      "145 Error\n",
      "146 Error\n",
      "147 Error\n",
      "148 Error\n",
      "149 Error\n",
      "150 Error\n",
      "151 Error\n",
      "152 Error\n",
      "153 Error\n",
      "154 Error\n",
      "155 Error\n",
      "156 Error\n",
      "157 Error\n",
      "158 Error\n",
      "159 Error\n",
      "160 Error\n",
      "161 Error\n",
      "162 Error\n",
      "163 Error\n",
      "164 Error\n",
      "165 Error\n",
      "166 Error\n",
      "167 Error\n",
      "168 Error\n",
      "169 Error\n",
      "170 Error\n",
      "171 Error\n",
      "172 Error\n",
      "173 Error\n",
      "174 Error\n",
      "175 Error\n",
      "176 Error\n",
      "177 Error\n",
      "178 Error\n",
      "179 Error\n",
      "180 Error\n",
      "181 Error\n",
      "182 Error\n",
      "183 Error\n",
      "184 Error\n",
      "185 Error\n",
      "186 Error\n",
      "187 Error\n",
      "188 Error\n",
      "189 Error\n"
     ]
    }
   ],
   "source": [
    "# Running Primer3 using included region and target region\n",
    "deletion_start = 100 # inclusive\n",
    "deletion_end = 190    # inclusive\n",
    "\n",
    "while True:\n",
    "\n",
    "    if deletion_start >= deletion_end:\n",
    "        break\n",
    "\n",
    "    try:\n",
    "        result = primer3.bindings.design_primers(\n",
    "            seq_args={\n",
    "                'SEQUENCE_ID': 'MH1000',\n",
    "                'SEQUENCE_TEMPLATE': sequence_template,\n",
    "                'SEQUENCE_INCLUDED_REGION': [0, 960],\n",
    "                'SEQUENCE_FORCE_LEFT_START': deletion_start,\n",
    "                'SEQUENCE_FORCE_RIGHT_START': deletion_end,\n",
    "            },\n",
    "            global_args={\n",
    "                'PRIMER_OPT_SIZE': 28,\n",
    "                'PRIMER_PICK_INTERNAL_OLIGO': 1,\n",
    "                'PRIMER_INTERNAL_MAX_SELF_END': 8,\n",
    "                'PRIMER_MIN_SIZE': 18,\n",
    "                'PRIMER_MAX_SIZE': 35,\n",
    "                'PRIMER_OPT_TM': 70.0,\n",
    "                'PRIMER_MIN_TM': 0.0,\n",
    "                'PRIMER_MAX_TM': 100.0,\n",
    "                'PRIMER_MIN_GC': 20.0,\n",
    "                'PRIMER_MAX_GC': 80.0,\n",
    "                'PRIMER_MAX_POLY_X': 100,\n",
    "                'PRIMER_INTERNAL_MAX_POLY_X': 100,\n",
    "                'PRIMER_SALT_MONOVALENT': 50.0,\n",
    "                'PRIMER_DNA_CONC': 50.0,\n",
    "                'PRIMER_MAX_NS_ACCEPTED': 0,\n",
    "                'PRIMER_MAX_SELF_ANY': 12,\n",
    "                'PRIMER_MAX_SELF_END': 8,\n",
    "                'PRIMER_PAIR_MAX_COMPL_ANY': 12,\n",
    "                'PRIMER_PAIR_MAX_COMPL_END': 8,\n",
    "                'PRIMER_PRODUCT_SIZE_RANGE': [\n",
    "                    [75, 100],[100, 125],[125, 150],  \n",
    "                    [150, 175],[175, 200],[200, 225],\n",
    "                    [300, 320],[320, 340],[300, 400]\n",
    "                ]\n",
    "            })\n",
    "        print(result['PRIMER_LEFT_0_SEQUENCE'])\n",
    "        print(result['PRIMER_RIGHT_0_SEQUENCE'])\n",
    "        break\n",
    "    except:\n",
    "        print(f'{deletion_start} Error')\n",
    "        deletion_start += 1"
   ]
  },
  {
   "cell_type": "code",
   "execution_count": 34,
   "metadata": {},
   "outputs": [
    {
     "data": {
      "text/plain": [
       "{'PRIMER_LEFT_EXPLAIN': 'considered 8, high tm 6, ok 2',\n",
       " 'PRIMER_RIGHT_EXPLAIN': 'considered 0, ok 0',\n",
       " 'PRIMER_INTERNAL_EXPLAIN': 'considered 0, ok 0',\n",
       " 'PRIMER_PAIR_EXPLAIN': 'considered 0, ok 0',\n",
       " 'PRIMER_LEFT_NUM_RETURNED': 0,\n",
       " 'PRIMER_RIGHT_NUM_RETURNED': 0,\n",
       " 'PRIMER_INTERNAL_NUM_RETURNED': 0,\n",
       " 'PRIMER_PAIR_NUM_RETURNED': 0,\n",
       " 'PRIMER_PAIR': [],\n",
       " 'PRIMER_LEFT': [],\n",
       " 'PRIMER_RIGHT': [],\n",
       " 'PRIMER_INTERNAL': []}"
      ]
     },
     "execution_count": 34,
     "metadata": {},
     "output_type": "execute_result"
    }
   ],
   "source": [
    "# left_start_range = 206\n",
    "# left_end_range = 220\n",
    "# right_start_range = 744\n",
    "# right_end_range = 758\n",
    "\n",
    "# left = left_start_range\n",
    "# right = right_start_range  \n",
    "\n",
    "\n",
    "\n",
    "result = primer3.bindings.design_primers(\n",
    "            seq_args={\n",
    "                'SEQUENCE_ID': 'MH1000',\n",
    "                'SEQUENCE_TEMPLATE': sequence_template,\n",
    "                'SEQUENCE_INCLUDED_REGION': [0, 960],\n",
    "                'SEQUENCE_FORCE_LEFT_START': 470,  # 757\n",
    "                'SEQUENCE_FORCE_RIGHT_START': 7404,  #215\n",
    "            },\n",
    "            global_args={\n",
    "                'PRIMER_OPT_SIZE': 20,\n",
    "                'PRIMER_PICK_INTERNAL_OLIGO': 1,\n",
    "                'PRIMER_INTERNAL_MAX_SELF_END': 8,\n",
    "                'PRIMER_MIN_SIZE': 18,\n",
    "                'PRIMER_MAX_SIZE': 25,\n",
    "                'PRIMER_OPT_TM': 60.0,\n",
    "                'PRIMER_MIN_TM': 57.0,\n",
    "                'PRIMER_MAX_TM': 63.0,\n",
    "                'PRIMER_MIN_GC': 20.0,\n",
    "                'PRIMER_MAX_GC': 80.0,\n",
    "                'PRIMER_MAX_POLY_X': 100,\n",
    "                'PRIMER_INTERNAL_MAX_POLY_X': 100,\n",
    "                'PRIMER_SALT_MONOVALENT': 50.0,\n",
    "                'PRIMER_DNA_CONC': 50.0,\n",
    "                'PRIMER_MAX_NS_ACCEPTED': 0,\n",
    "                'PRIMER_MAX_SELF_ANY': 12,\n",
    "                'PRIMER_MAX_SELF_END': 8,\n",
    "                'PRIMER_PAIR_MAX_COMPL_ANY': 12,\n",
    "                'PRIMER_PAIR_MAX_COMPL_END': 8,\n",
    "                'PRIMER_PAIR_MAX_DIFF_TM': 5.0,\n",
    "                'PRIMER_PRODUCT_SIZE_RANGE': [\n",
    "                    [75,100],[100,125],[125,150],\n",
    "                    [150,175],[175,200],[200,225],\n",
    "                    [300,320],[320,340],[300,400],\n",
    "                    [400,500],[500,600],[600,700],\n",
    "                ],})\n",
    "\n",
    "result"
   ]
  },
  {
   "cell_type": "code",
   "execution_count": 14,
   "metadata": {},
   "outputs": [
    {
     "ename": "KeyError",
     "evalue": "'COORDS'",
     "output_type": "error",
     "traceback": [
      "\u001b[1;31m---------------------------------------------------------------------------\u001b[0m",
      "\u001b[1;31mKeyError\u001b[0m                                  Traceback (most recent call last)",
      "Cell \u001b[1;32mIn[14], line 1\u001b[0m\n\u001b[1;32m----> 1\u001b[0m \u001b[43mresult\u001b[49m\u001b[43m[\u001b[49m\u001b[38;5;124;43m'\u001b[39;49m\u001b[38;5;124;43mCOORDS\u001b[39;49m\u001b[38;5;124;43m'\u001b[39;49m\u001b[43m]\u001b[49m\n",
      "\u001b[1;31mKeyError\u001b[0m: 'COORDS'"
     ]
    }
   ],
   "source": [
    "result['COORDS']"
   ]
  },
  {
   "cell_type": "code",
   "execution_count": 30,
   "metadata": {},
   "outputs": [],
   "source": [
    "def circular_index(index, sequence_length):\n",
    "    \"\"\"\n",
    "    This function returns the circular (=positive) index in a sequence.\n",
    "    \"\"\"\n",
    "    return (index + sequence_length) % sequence_length\n",
    "\n",
    "\n",
    "def find_primerpair(sequence, fw_range_start, fw_range_end, rv_range_start, rv_range_end, i_start, i_end):\n",
    "       \n",
    "    left = fw_range_start\n",
    "    right = rv_range_start \n",
    "\n",
    "    while True:\n",
    "        try:\n",
    "            result = primer3.bindings.design_primers(\n",
    "                seq_args={\n",
    "                    'SEQUENCE_ID': 'MH1000',\n",
    "                    'SEQUENCE_TEMPLATE': sequence,\n",
    "                    'SEQUENCE_INCLUDED_REGION': [0, len(sequence)],\n",
    "                    'SEQUENCE_FORCE_LEFT_START': left,\n",
    "                    'SEQUENCE_FORCE_RIGHT_START': right,\n",
    "                },\n",
    "                global_args={\n",
    "                    'PRIMER_OPT_SIZE': 20,\n",
    "                    'PRIMER_PICK_INTERNAL_OLIGO': 1,\n",
    "                    'PRIMER_INTERNAL_MAX_SELF_END': 8,\n",
    "                    'PRIMER_MIN_SIZE': 8,\n",
    "                    'PRIMER_MAX_SIZE': 25,\n",
    "                    'PRIMER_OPT_TM': 60.0,\n",
    "                    'PRIMER_MIN_TM': 57.0,\n",
    "                    'PRIMER_MAX_TM': 63.0,\n",
    "                    'PRIMER_MIN_GC': 20.0,\n",
    "                    'PRIMER_MAX_GC': 80.0,\n",
    "                    'PRIMER_MAX_POLY_X': 100,\n",
    "                    'PRIMER_INTERNAL_MAX_POLY_X': 100,\n",
    "                    'PRIMER_SALT_MONOVALENT': 50.0,\n",
    "                    'PRIMER_DNA_CONC': 50.0,\n",
    "                    'PRIMER_MAX_NS_ACCEPTED': 0,\n",
    "                    'PRIMER_MAX_SELF_ANY': 12,\n",
    "                    'PRIMER_MAX_SELF_END': 8,\n",
    "                    'PRIMER_PAIR_MAX_COMPL_ANY': 12,\n",
    "                    'PRIMER_PAIR_MAX_COMPL_END': 8,\n",
    "                    'PRIMER_PAIR_MAX_DIFF_TM': 5.0,\n",
    "                    'PRIMER_PRODUCT_SIZE_RANGE': [\n",
    "                        [75,100],[100,125],[125,150],\n",
    "                        [150,175],[175,200],[i_start, i_end],\n",
    "                    ],})\n",
    "        \n",
    "            fw = result['PRIMER_LEFT_0_SEQUENCE']\n",
    "            rv = result['PRIMER_RIGHT_0_SEQUENCE']\n",
    "            print(result)\n",
    "            print(\"left\", left, \"right\", right)\n",
    "            return fw, rv\n",
    "\n",
    "        except KeyError:\n",
    "            # Increment the left pointer\n",
    "            if left < fw_range_end:\n",
    "                left += 1\n",
    "            # If the left pointer has reached its maximum, reset and increment the right pointer\n",
    "            elif right < rv_range_end:\n",
    "                left = fw_range_start  # Reset left to the start range\n",
    "                right += 1\n",
    "            else:\n",
    "                # If both pointers have reached their limits, exit the loop\n",
    "                fw = None\n",
    "                rv = None\n",
    "                return fw, rv"
   ]
  },
  {
   "cell_type": "code",
   "execution_count": 33,
   "metadata": {},
   "outputs": [
    {
     "name": "stdout",
     "output_type": "stream",
     "text": [
      "{'PRIMER_LEFT_EXPLAIN': 'considered 18, low tm 9, high tm 6, ok 3', 'PRIMER_RIGHT_EXPLAIN': 'considered 18, low tm 8, high tm 8, high hairpin stability 1, ok 1', 'PRIMER_INTERNAL_EXPLAIN': 'considered 78495, GC content failed 2100, low tm 37340, high tm 16649, high any compl 6, high hairpin stability 9, ok 22391', 'PRIMER_PAIR_EXPLAIN': 'considered 33, unacceptable product size 30, ok 3', 'PRIMER_LEFT_NUM_RETURNED': 3, 'PRIMER_RIGHT_NUM_RETURNED': 3, 'PRIMER_INTERNAL_NUM_RETURNED': 3, 'PRIMER_PAIR_NUM_RETURNED': 3, 'PRIMER_PAIR': [{'PENALTY': 7.389456365633009, 'COMPL_ANY_TH': 0.0, 'COMPL_END_TH': 0.0, 'PRODUCT_SIZE': 6935, 'PRODUCT_TM': 89.84547178713098}, {'PENALTY': 8.966054285014081, 'COMPL_ANY_TH': 0.0, 'COMPL_END_TH': 0.0, 'PRODUCT_SIZE': 6935, 'PRODUCT_TM': 89.84547178713098}, {'PENALTY': 9.191900197454913, 'COMPL_ANY_TH': 0.0, 'COMPL_END_TH': 0.0, 'PRODUCT_SIZE': 6935, 'PRODUCT_TM': 89.84547178713098}], 'PRIMER_LEFT': [{'PENALTY': 2.2032517068304855, 'SEQUENCE': 'cccgatgggcatgaccag', 'COORDS': [470, 18], 'TM': 60.203251706830486, 'GC_PERCENT': 66.66666666666667, 'SELF_ANY_TH': 27.678991609883553, 'SELF_END_TH': 13.497165901997732, 'HAIRPIN_TH': 45.201400890315426, 'END_STABILITY': 4.0}, {'PENALTY': 3.7798496262115577, 'SEQUENCE': 'cccgatgggcatgaccagg', 'COORDS': [470, 19], 'TM': 62.77984962621156, 'GC_PERCENT': 68.42105263157895, 'SELF_ANY_TH': 27.678991609883553, 'SELF_END_TH': 22.105004425918366, 'HAIRPIN_TH': 45.201400890315426, 'END_STABILITY': 4.45}, {'PENALTY': 4.00569553865239, 'SEQUENCE': 'cccgatgggcatgacca', 'COORDS': [470, 17], 'TM': 58.99430446134761, 'GC_PERCENT': 64.70588235294117, 'SELF_ANY_TH': 26.053893642636638, 'SELF_END_TH': 26.053893642636638, 'HAIRPIN_TH': 46.23744271336113, 'END_STABILITY': 4.02}], 'PRIMER_RIGHT': [{'PENALTY': 5.186204658802524, 'SEQUENCE': 'agagcggccaaccagg', 'COORDS': [7404, 16], 'TM': 58.813795341197476, 'GC_PERCENT': 68.75, 'SELF_ANY_TH': 2.236646359005192, 'SELF_END_TH': 0.0, 'HAIRPIN_TH': 41.83913830563273, 'END_STABILITY': 4.45}, {'PENALTY': 5.186204658802524, 'SEQUENCE': 'agagcggccaaccagg', 'COORDS': [7404, 16], 'TM': 58.813795341197476, 'GC_PERCENT': 68.75, 'SELF_ANY_TH': 2.236646359005192, 'SELF_END_TH': 0.0, 'HAIRPIN_TH': 41.83913830563273, 'END_STABILITY': 4.45}, {'PENALTY': 5.186204658802524, 'SEQUENCE': 'agagcggccaaccagg', 'COORDS': [7404, 16], 'TM': 58.813795341197476, 'GC_PERCENT': 68.75, 'SELF_ANY_TH': 2.236646359005192, 'SELF_END_TH': 0.0, 'HAIRPIN_TH': 41.83913830563273, 'END_STABILITY': 4.45}], 'PRIMER_INTERNAL': [{'PENALTY': 0.021578954679455364, 'SEQUENCE': 'caaacaggtgttggcgcgcc', 'COORDS': [2923, 20], 'TM': 59.978421045320545, 'GC_PERCENT': 65.0, 'SELF_ANY_TH': 38.40558149698387, 'SELF_END_TH': 38.40558149698387, 'HAIRPIN_TH': 34.71130427324374}, {'PENALTY': 0.021578954679455364, 'SEQUENCE': 'caaacaggtgttggcgcgcc', 'COORDS': [2923, 20], 'TM': 59.978421045320545, 'GC_PERCENT': 65.0, 'SELF_ANY_TH': 38.40558149698387, 'SELF_END_TH': 38.40558149698387, 'HAIRPIN_TH': 34.71130427324374}, {'PENALTY': 0.021578954679455364, 'SEQUENCE': 'caaacaggtgttggcgcgcc', 'COORDS': [2923, 20], 'TM': 59.978421045320545, 'GC_PERCENT': 65.0, 'SELF_ANY_TH': 38.40558149698387, 'SELF_END_TH': 38.40558149698387, 'HAIRPIN_TH': 34.71130427324374}], 'PRIMER_PAIR_0_PENALTY': 7.389456365633009, 'PRIMER_LEFT_0_PENALTY': 2.2032517068304855, 'PRIMER_RIGHT_0_PENALTY': 5.186204658802524, 'PRIMER_INTERNAL_0_PENALTY': 0.021578954679455364, 'PRIMER_LEFT_0_SEQUENCE': 'cccgatgggcatgaccag', 'PRIMER_RIGHT_0_SEQUENCE': 'agagcggccaaccagg', 'PRIMER_INTERNAL_0_SEQUENCE': 'caaacaggtgttggcgcgcc', 'PRIMER_LEFT_0': [470, 18], 'PRIMER_RIGHT_0': [7404, 16], 'PRIMER_INTERNAL_0': [2923, 20], 'PRIMER_LEFT_0_TM': 60.203251706830486, 'PRIMER_RIGHT_0_TM': 58.813795341197476, 'PRIMER_INTERNAL_0_TM': 59.978421045320545, 'PRIMER_LEFT_0_GC_PERCENT': 66.66666666666667, 'PRIMER_RIGHT_0_GC_PERCENT': 68.75, 'PRIMER_INTERNAL_0_GC_PERCENT': 65.0, 'PRIMER_LEFT_0_SELF_ANY_TH': 27.678991609883553, 'PRIMER_RIGHT_0_SELF_ANY_TH': 2.236646359005192, 'PRIMER_INTERNAL_0_SELF_ANY_TH': 38.40558149698387, 'PRIMER_LEFT_0_SELF_END_TH': 13.497165901997732, 'PRIMER_RIGHT_0_SELF_END_TH': 0.0, 'PRIMER_INTERNAL_0_SELF_END_TH': 38.40558149698387, 'PRIMER_LEFT_0_HAIRPIN_TH': 45.201400890315426, 'PRIMER_RIGHT_0_HAIRPIN_TH': 41.83913830563273, 'PRIMER_INTERNAL_0_HAIRPIN_TH': 34.71130427324374, 'PRIMER_LEFT_0_END_STABILITY': 4.0, 'PRIMER_RIGHT_0_END_STABILITY': 4.45, 'PRIMER_PAIR_0_COMPL_ANY_TH': 0.0, 'PRIMER_PAIR_0_COMPL_END_TH': 0.0, 'PRIMER_PAIR_0_PRODUCT_SIZE': 6935, 'PRIMER_PAIR_0_PRODUCT_TM': 89.84547178713098, 'PRIMER_PAIR_1_PENALTY': 8.966054285014081, 'PRIMER_LEFT_1_PENALTY': 3.7798496262115577, 'PRIMER_RIGHT_1_PENALTY': 5.186204658802524, 'PRIMER_INTERNAL_1_PENALTY': 0.021578954679455364, 'PRIMER_LEFT_1_SEQUENCE': 'cccgatgggcatgaccagg', 'PRIMER_RIGHT_1_SEQUENCE': 'agagcggccaaccagg', 'PRIMER_INTERNAL_1_SEQUENCE': 'caaacaggtgttggcgcgcc', 'PRIMER_LEFT_1': [470, 19], 'PRIMER_RIGHT_1': [7404, 16], 'PRIMER_INTERNAL_1': [2923, 20], 'PRIMER_LEFT_1_TM': 62.77984962621156, 'PRIMER_RIGHT_1_TM': 58.813795341197476, 'PRIMER_INTERNAL_1_TM': 59.978421045320545, 'PRIMER_LEFT_1_GC_PERCENT': 68.42105263157895, 'PRIMER_RIGHT_1_GC_PERCENT': 68.75, 'PRIMER_INTERNAL_1_GC_PERCENT': 65.0, 'PRIMER_LEFT_1_SELF_ANY_TH': 27.678991609883553, 'PRIMER_RIGHT_1_SELF_ANY_TH': 2.236646359005192, 'PRIMER_INTERNAL_1_SELF_ANY_TH': 38.40558149698387, 'PRIMER_LEFT_1_SELF_END_TH': 22.105004425918366, 'PRIMER_RIGHT_1_SELF_END_TH': 0.0, 'PRIMER_INTERNAL_1_SELF_END_TH': 38.40558149698387, 'PRIMER_LEFT_1_HAIRPIN_TH': 45.201400890315426, 'PRIMER_RIGHT_1_HAIRPIN_TH': 41.83913830563273, 'PRIMER_INTERNAL_1_HAIRPIN_TH': 34.71130427324374, 'PRIMER_LEFT_1_END_STABILITY': 4.45, 'PRIMER_RIGHT_1_END_STABILITY': 4.45, 'PRIMER_PAIR_1_COMPL_ANY_TH': 0.0, 'PRIMER_PAIR_1_COMPL_END_TH': 0.0, 'PRIMER_PAIR_1_PRODUCT_SIZE': 6935, 'PRIMER_PAIR_1_PRODUCT_TM': 89.84547178713098, 'PRIMER_PAIR_2_PENALTY': 9.191900197454913, 'PRIMER_LEFT_2_PENALTY': 4.00569553865239, 'PRIMER_RIGHT_2_PENALTY': 5.186204658802524, 'PRIMER_INTERNAL_2_PENALTY': 0.021578954679455364, 'PRIMER_LEFT_2_SEQUENCE': 'cccgatgggcatgacca', 'PRIMER_RIGHT_2_SEQUENCE': 'agagcggccaaccagg', 'PRIMER_INTERNAL_2_SEQUENCE': 'caaacaggtgttggcgcgcc', 'PRIMER_LEFT_2': [470, 17], 'PRIMER_RIGHT_2': [7404, 16], 'PRIMER_INTERNAL_2': [2923, 20], 'PRIMER_LEFT_2_TM': 58.99430446134761, 'PRIMER_RIGHT_2_TM': 58.813795341197476, 'PRIMER_INTERNAL_2_TM': 59.978421045320545, 'PRIMER_LEFT_2_GC_PERCENT': 64.70588235294117, 'PRIMER_RIGHT_2_GC_PERCENT': 68.75, 'PRIMER_INTERNAL_2_GC_PERCENT': 65.0, 'PRIMER_LEFT_2_SELF_ANY_TH': 26.053893642636638, 'PRIMER_RIGHT_2_SELF_ANY_TH': 2.236646359005192, 'PRIMER_INTERNAL_2_SELF_ANY_TH': 38.40558149698387, 'PRIMER_LEFT_2_SELF_END_TH': 26.053893642636638, 'PRIMER_RIGHT_2_SELF_END_TH': 0.0, 'PRIMER_INTERNAL_2_SELF_END_TH': 38.40558149698387, 'PRIMER_LEFT_2_HAIRPIN_TH': 46.23744271336113, 'PRIMER_RIGHT_2_HAIRPIN_TH': 41.83913830563273, 'PRIMER_INTERNAL_2_HAIRPIN_TH': 34.71130427324374, 'PRIMER_LEFT_2_END_STABILITY': 4.02, 'PRIMER_RIGHT_2_END_STABILITY': 4.45, 'PRIMER_PAIR_2_COMPL_ANY_TH': 0.0, 'PRIMER_PAIR_2_COMPL_END_TH': 0.0, 'PRIMER_PAIR_2_PRODUCT_SIZE': 6935, 'PRIMER_PAIR_2_PRODUCT_TM': 89.84547178713098}\n",
      "left 470 right 7404\n"
     ]
    }
   ],
   "source": [
    "fw, rv = find_primerpair(sequence_template, 463, 473, 7398, 7408, 6874, 6974)"
   ]
  },
  {
   "cell_type": "code",
   "execution_count": null,
   "metadata": {},
   "outputs": [],
   "source": []
  },
  {
   "cell_type": "code",
   "execution_count": 39,
   "metadata": {},
   "outputs": [
    {
     "name": "stdout",
     "output_type": "stream",
     "text": [
      "7871\n",
      "eBlock-1 3 950 947 ccgctcttctAtgagcggttcatctgcggggtcctccttcgtgcacctgcacaaccacaccgagtattcgatgctggacggtgccgcgaagatcacgcccatgctcgccgaggtggagcggctggggatgcccgcggtggggatgaccgaccacggaaacatgttcggtgccagcgagttctacaactccgcgaccaaggccgggatcaagccgatcatcggcgtggaggcatacatcgcgccgggctcgcggttcgacacccggcgcatcctgtggggtgaccccagccaaaaggccgacgacgtctccggcagcggctcctacacgcacctgacgatgatggccgagaacgccaccggtctgcgcaacctgttcaagctgtcctcgcatgcttccttcgagggccagctgagcaagtggtcgcgcatggacgccgagctcatcgccgaacacgccgagggcatcatcatcaccaccggatgcccgtcgggggaggtgcagacccgcctgcggctcggccaggatcgggaggcgctcgaagccgcggcgaagtggcgggagatcgtcggaccggacaactacttccttgagctgatggaccacgggctgaccatcgaacgccgggtccgtgacggtctgctcgagatcggacgcgcgctcaacattccgcctcttgccaccaatgactgccactacgtgacccgcgacgccgcccacaaccatgaggctttgttgtgtgtgcagaccggcaagaccctctcggatccgaatcgcttcaagttcgacggtgacggctactacctgaagtcggccgccgagatgcgccagatctgggacgacgaagtgccgggcgcgtgtgactccaccttgttgatcgccgaacgggtgcagtcctacgccgacgtgtggacaccgcgcgaccggatgcccgtgtttccggtgcccg\n",
      "middle index 476\n",
      "length result 6924\n",
      "sequence template ccaccggatgcccgtcgggggaggtgcagacccgcctgcggctcggccaggatcgggaggcgctcgaagccgcggcgaagtggcgggagatcgtcggaccggacaactacttccttgagctgatggaccacgggctgaccatcgaacgccgggtccgtgacggtctgctcgagatcggacgcgcgctcaacattccgcctcttgccaccaatgactgccactacgtgacccgcgacgccgcccacaaccatgaggctttgttgtgtgtgcagaccggcaagaccctctcggatccgaatcgcttcaagttcgacggtgacggctactacctgaagtcggccgccgagatgcgccagatctgggacgacgaagtgccgggcgcgtgtgactccaccttgttgatcgccgaacgggtgcagtcctacgccgacgtgtggacaccgcgcgaccggatgcccgtgtttccggtgcccgatgggcatgaccaggcgtcctggctgcgtcacgaggtggacgccgggcttcgccggcgatttccggccggtccgccggacgggtaccgcgagcgcgccgcctacgagatcgacgtcatctgctccaaaggtttcccatcgtactttctgatcgtcgccgacctgatcagctacgcgcggtcggcgggcataagggtgggtcccggccgcggctcggccgccggctcgctggtcgcctacgcgctgggcatcaccgacatcgacccgattccacacggtctgctgttcgagcggttcctcaaccccgagcgcacctcgatgcccgacatcgatatcgacttcgacgaccggcgccgcggtgagatggtgcgctacgcagccgacaagtggggccacgaccgggtcgcgcaggtcatcaccttcggcaccatcaaaaccaaagcggcgctgaaggattcggcgcgaatccactacgggcagcccgggttcgccatcgccgaccggatcaccaaggcgttgccgccggcgatcatggccaaagacatcccgctgtctgggatcaccgatcccagccacgaacggtacaaggaggccgccgaggtccgcggcctgatcgaaaccgacccggacgtacgcaccatctaccagaccgcacgcgggttggaaggcctgatccgcaacgcgggtgtgcacgcctgcgcggtgatcatgagcagcgagccgctgactgaggccatcccgttgtggaagcggccgcaggacggggccatcatcaccggctgggattacccggcgtgcgaggccatcggtctgctgaaaatggacttcctgggcctgcggaacctgacgatcatcggcgacgcgatcgacaacgtcagggccaacaggggtatcgacctcgacctggaatccgtgccgctggacgacaaggccacctatgagctgctgggccgcggcgacaccctgggcgtgttccagctcgacggcgggcccatgcgcgacctgctgcgccgcatgcagccgaccgggttcgaagacgtcgtcgccgttatcgcgctgtaccggcccggcccgatgggcatgaacgcacacaacgactatgccgaccgcaagaacaaccggcaggccatcaaacctattcacccggaactcgaagaaccgctgcgcgagatcctcgccgagacctacggcctcatcgtctatcaagagcagatcatgcgcatcgcgcagaaggtggcgagctactcgttggcccgcgccgacattctacgcaaggccatgggcaagaagaaacgcgaggtgctggagaaggagttcgagggcttctccgatggcatgcaggccaacgggttctctccggcggccatcaaggcgctgtgggacaccatcctgccgttcgctgactacgcgttcaacaagtcacatgccgccggctacggcatggtgtcctactggacggcctacctcaaggccaactatcccgccgagtacatggccggtctgttgacgtcggtcggcgacgataaagacaaggccgcggtttatctggccgactgccgcaagctcggcatcaccgtgctcccgcccgacgtcaacgaatctggcttgaacttcgcatcggtcggccaagacatccgctacgggctgggcgcggtgcgcaacgttggcgctaatgtcgtgggctcgttgctccaaacccgcaacgacaagggcaagttcaccgacttttcggactacctgaacaagatcgacatctcggcgtgcaacaagaaggtgaccgaatcgctgatcaaggcgggtgcgttcgactcgctggggcatgcccgcaagggtcttttcctggtgcacagcgatgcggtggactcggtgctgggcaccaagaaggccgaggcactggggcagttcgatctcttcggcagcaatgatgatgggaccggcaccgcagatcccgtgttcaccatcaaggtgcccgatgatgagtgggaggacaaacacaaactcgccctagagcgcgagatgctgggactgtacgtctcggggcatcccctcaacggtgtggcacacttgctggctgcccaggtcgacaccgcgatcccagcgatcctcgacggcgatgtccccaacgatgcccaagtgcgggtgggcggcatcctggcgtcggtgaaccggagggtcaacaaaaacggaatgccatgggcttcagcgcaattggaggatctcacgggcggcatcgaggtgatgttcttcccgcacacctactccagctatggtgccgacatcgtcgacgatgccgtcgtgctggtcaacgccaaggtggcggtccgtgacgaccgcatcgcattgatcgccaatgacctcacagtgcccgacttttccaacgccgaggtggagcggccgctggcggtcagcttgcccacccggcagtgcacctttgacaaggtgagtgcgctcaaacaggtgttggcgcgccaccccggcacctcgcaggtgcatctgcggctcatcagcggagaccggatcaccacgctggcacttgatcagtcgttgcgggtgacgccgtcgccggcgttgatgggtgacctcaaggagctgctcggccctggatgtctggggagttagtgaagagcggccaccgaggccgggagcggatttgaacgttgcgaagcaacggcccggagggtggcgggcaggacgcccgccataaactgccaggcatcaaattaagcagaaggccatcctgacggatggcctttttgcgtttctacaaactcttttgtttatttttctaaatacattcaaatatgtatccgctcatgaattccccgcgcgcgatgccctttcgtcttcgaataaatacctgtgacggaagatcacttcgcagaataaataaatcctggtgtccctgttgataccgggaagccctgggccaacttttggcgaaaatgagacgttgatcggcacgtaagaggttccaactttcaccataatgaaataagatcactaccgggcgtattttttgagttatcgagattttcaggagctaaggaagctaaaatggagaaaaaaatcactggatataccaccgttgatatatcccaatggcatcgtaaagaacattttgaggcatttcagtcagttgctcaatgtacctataaccagaccgttcagctggatattacggcctttttaaagaccgtaaagaaaaataagcacaagttttatccggcctttattcacattcttgcccgcctgatgaatgctcatccggaatttcgtatggcaatgaaagacggtgagctggtgatatgggatagtgttcacccttgttacaccgttttccatgagcaaactgaaacgttttcatcgctctggagtgaataccacgacgatttccggcagtttctacacatatattcgcaagatgtggcgtgttacggtgaaaacctggcctatttccctaaagggtttattgagaatatgtttttcgtctcagccaatccctgggtgagtttcaccagttttgatttaaacgtggcgaatatggacaacttcttcgcccccgttttcactatgggcaaatattatacgcaaggcgacaaggtgctgatgccgctggcgattcaggttcatcatgccgtctgtgatggcttccatgtcggcagaatgcttaatgaattacaacagtactgcgatgagtggcagggcggggcgtaatttttttaaggcagttattggtgcccttaaacgcctggttgctacgcctgaataagtgataataagcggatgaatggcagaaattcgagcccgcctaatgagcgggcttttttttagcccgcctaatgagcgggcttttttttcgaaagcaaattcgacccatcgcgcgcggggagtcaactcagcaaaagttcgatttattcaacaaagccacgttgtgtctcaaaatctctgatgttacattgcacaagataaaaatatatcatcatgcatgaccaaaatcccttaacgtgagttttcgttccactgagcgtcagaccccgtagaaaagatcaaaggatcttcttgagatcctttttttctgcgcgtaatctgctgcttgcaaacaaaaaaaccaccgctaccagcggtggtttgtttgccggatcaagagctaccaactctttttccgaaggtaactggcttcagcagagcgcagataccaaatactgtccttctagtgtagccgtagttaggccaccacttcaagaactctgtagcaccgcctacatacctcgctctgctaatcctgttaccagtggctgctgccagtggcgataagtcgtgtcttaccgggttggactcaagacgatagttaccggataaggcgcagcggtcgggctgaacggggggttcgtgcacacagcccagcttggagcgaacgacctacaccgaactgagatacctacagcgtgagctatgagaaagcgccacgcttcccgaagggagaaaggcggacaggtatccggtaagcggcagggtcggaacaggagagcgcacgagggagcttccagggggaaacgcctggtatctttatagtcctgtcgggtttcgccacctctgacttgagcgtcgatttttgtgatgctcgtcaggggggcggagcctatggaaaaacgccagcaacgcggcctttttacggttcctggccttttgctggccttttgctcacatgttctttcctgcgttatcccctgattctgtggataaccgtattaccgcctttgagtgagctgataccgctcgccgcagccgaacgaccgagcgcagcgagtcagtgagcgaggaagcggaagatcgggcccagccggcccacatatacctgccgttcactattatttagtgaaatgagatattatgatattttctgaattgtgattaaaaaggcaactttatgcccatgcaacagaaactataaaaaatacagagaatgaaaagaaacagatagattttttagttctttaggcccgtagtctgcaaatccttttatgattttctatcaaacaaaagaggaaaatagaccagttgcaatccaaacgagagtctaatagaatgaggtcgaaaagtaaatcgcgcgggtttgttactgataaagcaggcaagacctaaaatgtgtaaagggcaaagtgtatactttggcgtcaccccttacatattttaggtctttttttattgtgcgtaactaacttgccatcttcaaacaggagggctggaagaagcagaccgctaacacagtacataaaaaaggagacatgaacgatgaacatcaaaaagtttgcaaaacaagcaacagtattaacctttactaccgcactgctggcaggaggcgcaactcaagcgtttgcgaaagaaacgaaccaaaagccatataaggaaacatacggcatttcccatattacacgccatgatatgctgcaaatccctgaacagcaaaaaaatgaaaaatataaagttcctgagttcgattcgtccacaattaaaaatatctcttctgcaaaaggcctggacgtttgggacagctggccattacaaaacactgacggcactgtcgcaaactatcacggctaccacatcgtctttgcattagccggagatcctaaaaatgcggatgacacatcgatttacatgttctatcaaaaagtcggcgaaacttctattgacagctggaaaaacgctggccgcgtctttaaagacagcgacaaattcgatgcaaatgattctatcctaaaagaccaaacacaagaatggtcaggttcagccacatttacatctgacggaaaaatccgtttattctacactgatttctccggtaaacattacggcaaacaaacactgacaactgcacaagttaacgtatcagcatcagacagctctttgaacatcaacggtgtagaggattataaatcaatctttgacggtgacggaaaaacgtatcaaaatgtacagcagttcatcgatgaaggcaactacagctcaggcgacaaccatacgctgagagatcctcactacgtagaagataaaggccacaaatacttagtatttgaagcaaacactggaactgaagatggctaccaaggcgaagaatctttatttaacaaagcatactatggcaaaagcacatcattcttccgtcaagaaagtcaaaaacttctgcaaagcgataaaaaacgcacggctgagttagcaaacggcgctctcggtatgattgagctaaacgatgattacacactgaaaaaagtgatgaaaccgctgattgcatctaacacagtaacagatgaaattgaacgcgcgaacgtctttaaaatgaacggcaaatggtacctgttcactgactcccgcggatcaaaaatgacgattgacggcattacgtctaacgatatttacatgcttggttatgtttctaattctttaactggcccatacaagccgctgaacaaaactggccttgtgttaaaaatggatcttgatcctaacgatgtaacctttacttactcacacttcgctgtacctcaagcgaaaggaaacaatgtcgtgattacaagctatatgacaaacagaggattctacgcagacaaacaatcaacgtttgcgcctagcttcctgctgaacatcaaaggcaagaaaacatctgttgtcaaagacagcatccttgaacaaggacaattaacagttaacaaataaaaacgcaaaagaaaatgccgatatcctattggcattgcggccgcggtctcggcggtgggtcgtctagaggcatcaaataaaacgaaaggctcagtcgaaagactgggcctttcgttttatctgttgtttgtcggtgaacgctctcctgagtaggacaaatccgccgccctagacctagcggccggccgcaagcgctgcacggcctggttggccgctcttctAtgagcggttcatctgcggggtcctccttcgtgcacctgcacaaccacaccgagtattcgatgctggacggtgccgcgaagatcacgcccatgctcgccgaggtggagcggctggggatgcccgcggtggggatgaccgaccacggaaacatgttcggtgccagcgagttctacaactccgcgaccaaggccgggatcaagccgatcatcggcgtggaggcatacatcgcgccgggctcgcggttcgacacccggcgcatcctgtggggtgaccccagccaaaaggccgacgacgtctccggcagcggctcctacacgcacctgacgatgatggccgagaacgccaccggtctgcgcaacctgttcaagctgtcctcgcatgcttccttcgagggccagctgagcaagtggtcgcgcatggacgccgagctcatcgccgaacacgccgagggcatcatcatca\n",
      "half eblock 473\n",
      "458 473 7398 7413 6874 6974\n",
      "{'PRIMER_LEFT_EXPLAIN': 'considered 18, low tm 9, high tm 6, ok 3', 'PRIMER_RIGHT_EXPLAIN': 'considered 18, low tm 8, high tm 8, high hairpin stability 1, ok 1', 'PRIMER_INTERNAL_EXPLAIN': 'considered 78495, GC content failed 2100, low tm 37340, high tm 16649, high any compl 6, high hairpin stability 9, ok 22391', 'PRIMER_PAIR_EXPLAIN': 'considered 33, unacceptable product size 30, ok 3', 'PRIMER_LEFT_NUM_RETURNED': 3, 'PRIMER_RIGHT_NUM_RETURNED': 3, 'PRIMER_INTERNAL_NUM_RETURNED': 3, 'PRIMER_PAIR_NUM_RETURNED': 3, 'PRIMER_PAIR': [{'PENALTY': 7.389456365633009, 'COMPL_ANY_TH': 0.0, 'COMPL_END_TH': 0.0, 'PRODUCT_SIZE': 6935, 'PRODUCT_TM': 89.84547178713098}, {'PENALTY': 8.966054285014081, 'COMPL_ANY_TH': 0.0, 'COMPL_END_TH': 0.0, 'PRODUCT_SIZE': 6935, 'PRODUCT_TM': 89.84547178713098}, {'PENALTY': 9.191900197454913, 'COMPL_ANY_TH': 0.0, 'COMPL_END_TH': 0.0, 'PRODUCT_SIZE': 6935, 'PRODUCT_TM': 89.84547178713098}], 'PRIMER_LEFT': [{'PENALTY': 2.2032517068304855, 'SEQUENCE': 'cccgatgggcatgaccag', 'COORDS': [470, 18], 'TM': 60.203251706830486, 'GC_PERCENT': 66.66666666666667, 'SELF_ANY_TH': 27.678991609883553, 'SELF_END_TH': 13.497165901997732, 'HAIRPIN_TH': 45.201400890315426, 'END_STABILITY': 4.0}, {'PENALTY': 3.7798496262115577, 'SEQUENCE': 'cccgatgggcatgaccagg', 'COORDS': [470, 19], 'TM': 62.77984962621156, 'GC_PERCENT': 68.42105263157895, 'SELF_ANY_TH': 27.678991609883553, 'SELF_END_TH': 22.105004425918366, 'HAIRPIN_TH': 45.201400890315426, 'END_STABILITY': 4.45}, {'PENALTY': 4.00569553865239, 'SEQUENCE': 'cccgatgggcatgacca', 'COORDS': [470, 17], 'TM': 58.99430446134761, 'GC_PERCENT': 64.70588235294117, 'SELF_ANY_TH': 26.053893642636638, 'SELF_END_TH': 26.053893642636638, 'HAIRPIN_TH': 46.23744271336113, 'END_STABILITY': 4.02}], 'PRIMER_RIGHT': [{'PENALTY': 5.186204658802524, 'SEQUENCE': 'agagcggccaaccagg', 'COORDS': [7404, 16], 'TM': 58.813795341197476, 'GC_PERCENT': 68.75, 'SELF_ANY_TH': 2.236646359005192, 'SELF_END_TH': 0.0, 'HAIRPIN_TH': 41.83913830563273, 'END_STABILITY': 4.45}, {'PENALTY': 5.186204658802524, 'SEQUENCE': 'agagcggccaaccagg', 'COORDS': [7404, 16], 'TM': 58.813795341197476, 'GC_PERCENT': 68.75, 'SELF_ANY_TH': 2.236646359005192, 'SELF_END_TH': 0.0, 'HAIRPIN_TH': 41.83913830563273, 'END_STABILITY': 4.45}, {'PENALTY': 5.186204658802524, 'SEQUENCE': 'agagcggccaaccagg', 'COORDS': [7404, 16], 'TM': 58.813795341197476, 'GC_PERCENT': 68.75, 'SELF_ANY_TH': 2.236646359005192, 'SELF_END_TH': 0.0, 'HAIRPIN_TH': 41.83913830563273, 'END_STABILITY': 4.45}], 'PRIMER_INTERNAL': [{'PENALTY': 0.021578954679455364, 'SEQUENCE': 'caaacaggtgttggcgcgcc', 'COORDS': [2923, 20], 'TM': 59.978421045320545, 'GC_PERCENT': 65.0, 'SELF_ANY_TH': 38.40558149698387, 'SELF_END_TH': 38.40558149698387, 'HAIRPIN_TH': 34.71130427324374}, {'PENALTY': 0.021578954679455364, 'SEQUENCE': 'caaacaggtgttggcgcgcc', 'COORDS': [2923, 20], 'TM': 59.978421045320545, 'GC_PERCENT': 65.0, 'SELF_ANY_TH': 38.40558149698387, 'SELF_END_TH': 38.40558149698387, 'HAIRPIN_TH': 34.71130427324374}, {'PENALTY': 0.021578954679455364, 'SEQUENCE': 'caaacaggtgttggcgcgcc', 'COORDS': [2923, 20], 'TM': 59.978421045320545, 'GC_PERCENT': 65.0, 'SELF_ANY_TH': 38.40558149698387, 'SELF_END_TH': 38.40558149698387, 'HAIRPIN_TH': 34.71130427324374}], 'PRIMER_PAIR_0_PENALTY': 7.389456365633009, 'PRIMER_LEFT_0_PENALTY': 2.2032517068304855, 'PRIMER_RIGHT_0_PENALTY': 5.186204658802524, 'PRIMER_INTERNAL_0_PENALTY': 0.021578954679455364, 'PRIMER_LEFT_0_SEQUENCE': 'cccgatgggcatgaccag', 'PRIMER_RIGHT_0_SEQUENCE': 'agagcggccaaccagg', 'PRIMER_INTERNAL_0_SEQUENCE': 'caaacaggtgttggcgcgcc', 'PRIMER_LEFT_0': [470, 18], 'PRIMER_RIGHT_0': [7404, 16], 'PRIMER_INTERNAL_0': [2923, 20], 'PRIMER_LEFT_0_TM': 60.203251706830486, 'PRIMER_RIGHT_0_TM': 58.813795341197476, 'PRIMER_INTERNAL_0_TM': 59.978421045320545, 'PRIMER_LEFT_0_GC_PERCENT': 66.66666666666667, 'PRIMER_RIGHT_0_GC_PERCENT': 68.75, 'PRIMER_INTERNAL_0_GC_PERCENT': 65.0, 'PRIMER_LEFT_0_SELF_ANY_TH': 27.678991609883553, 'PRIMER_RIGHT_0_SELF_ANY_TH': 2.236646359005192, 'PRIMER_INTERNAL_0_SELF_ANY_TH': 38.40558149698387, 'PRIMER_LEFT_0_SELF_END_TH': 13.497165901997732, 'PRIMER_RIGHT_0_SELF_END_TH': 0.0, 'PRIMER_INTERNAL_0_SELF_END_TH': 38.40558149698387, 'PRIMER_LEFT_0_HAIRPIN_TH': 45.201400890315426, 'PRIMER_RIGHT_0_HAIRPIN_TH': 41.83913830563273, 'PRIMER_INTERNAL_0_HAIRPIN_TH': 34.71130427324374, 'PRIMER_LEFT_0_END_STABILITY': 4.0, 'PRIMER_RIGHT_0_END_STABILITY': 4.45, 'PRIMER_PAIR_0_COMPL_ANY_TH': 0.0, 'PRIMER_PAIR_0_COMPL_END_TH': 0.0, 'PRIMER_PAIR_0_PRODUCT_SIZE': 6935, 'PRIMER_PAIR_0_PRODUCT_TM': 89.84547178713098, 'PRIMER_PAIR_1_PENALTY': 8.966054285014081, 'PRIMER_LEFT_1_PENALTY': 3.7798496262115577, 'PRIMER_RIGHT_1_PENALTY': 5.186204658802524, 'PRIMER_INTERNAL_1_PENALTY': 0.021578954679455364, 'PRIMER_LEFT_1_SEQUENCE': 'cccgatgggcatgaccagg', 'PRIMER_RIGHT_1_SEQUENCE': 'agagcggccaaccagg', 'PRIMER_INTERNAL_1_SEQUENCE': 'caaacaggtgttggcgcgcc', 'PRIMER_LEFT_1': [470, 19], 'PRIMER_RIGHT_1': [7404, 16], 'PRIMER_INTERNAL_1': [2923, 20], 'PRIMER_LEFT_1_TM': 62.77984962621156, 'PRIMER_RIGHT_1_TM': 58.813795341197476, 'PRIMER_INTERNAL_1_TM': 59.978421045320545, 'PRIMER_LEFT_1_GC_PERCENT': 68.42105263157895, 'PRIMER_RIGHT_1_GC_PERCENT': 68.75, 'PRIMER_INTERNAL_1_GC_PERCENT': 65.0, 'PRIMER_LEFT_1_SELF_ANY_TH': 27.678991609883553, 'PRIMER_RIGHT_1_SELF_ANY_TH': 2.236646359005192, 'PRIMER_INTERNAL_1_SELF_ANY_TH': 38.40558149698387, 'PRIMER_LEFT_1_SELF_END_TH': 22.105004425918366, 'PRIMER_RIGHT_1_SELF_END_TH': 0.0, 'PRIMER_INTERNAL_1_SELF_END_TH': 38.40558149698387, 'PRIMER_LEFT_1_HAIRPIN_TH': 45.201400890315426, 'PRIMER_RIGHT_1_HAIRPIN_TH': 41.83913830563273, 'PRIMER_INTERNAL_1_HAIRPIN_TH': 34.71130427324374, 'PRIMER_LEFT_1_END_STABILITY': 4.45, 'PRIMER_RIGHT_1_END_STABILITY': 4.45, 'PRIMER_PAIR_1_COMPL_ANY_TH': 0.0, 'PRIMER_PAIR_1_COMPL_END_TH': 0.0, 'PRIMER_PAIR_1_PRODUCT_SIZE': 6935, 'PRIMER_PAIR_1_PRODUCT_TM': 89.84547178713098, 'PRIMER_PAIR_2_PENALTY': 9.191900197454913, 'PRIMER_LEFT_2_PENALTY': 4.00569553865239, 'PRIMER_RIGHT_2_PENALTY': 5.186204658802524, 'PRIMER_INTERNAL_2_PENALTY': 0.021578954679455364, 'PRIMER_LEFT_2_SEQUENCE': 'cccgatgggcatgacca', 'PRIMER_RIGHT_2_SEQUENCE': 'agagcggccaaccagg', 'PRIMER_INTERNAL_2_SEQUENCE': 'caaacaggtgttggcgcgcc', 'PRIMER_LEFT_2': [470, 17], 'PRIMER_RIGHT_2': [7404, 16], 'PRIMER_INTERNAL_2': [2923, 20], 'PRIMER_LEFT_2_TM': 58.99430446134761, 'PRIMER_RIGHT_2_TM': 58.813795341197476, 'PRIMER_INTERNAL_2_TM': 59.978421045320545, 'PRIMER_LEFT_2_GC_PERCENT': 64.70588235294117, 'PRIMER_RIGHT_2_GC_PERCENT': 68.75, 'PRIMER_INTERNAL_2_GC_PERCENT': 65.0, 'PRIMER_LEFT_2_SELF_ANY_TH': 26.053893642636638, 'PRIMER_RIGHT_2_SELF_ANY_TH': 2.236646359005192, 'PRIMER_INTERNAL_2_SELF_ANY_TH': 38.40558149698387, 'PRIMER_LEFT_2_SELF_END_TH': 26.053893642636638, 'PRIMER_RIGHT_2_SELF_END_TH': 0.0, 'PRIMER_INTERNAL_2_SELF_END_TH': 38.40558149698387, 'PRIMER_LEFT_2_HAIRPIN_TH': 46.23744271336113, 'PRIMER_RIGHT_2_HAIRPIN_TH': 41.83913830563273, 'PRIMER_INTERNAL_2_HAIRPIN_TH': 34.71130427324374, 'PRIMER_LEFT_2_END_STABILITY': 4.02, 'PRIMER_RIGHT_2_END_STABILITY': 4.45, 'PRIMER_PAIR_2_COMPL_ANY_TH': 0.0, 'PRIMER_PAIR_2_COMPL_END_TH': 0.0, 'PRIMER_PAIR_2_PRODUCT_SIZE': 6935, 'PRIMER_PAIR_2_PRODUCT_TM': 89.84547178713098}\n",
      "left 470 right 7404\n",
      "------------------------------------------------------------------------------------\n",
      "eBlock-2 966 1322 356 gtcctggctgcgtcacgaggtggacgccgggcttcgccggcgatttccggccggtccgccggacgggtaccgcgagcgcgccgcctacgagatcgacgtcatctgctccaaaggtttcccatcgtactttctgatcgtcgccgacctgatcagctacgcgcggtcggcgggcataagggtgggtcccggccgcggctcggccgccggctcgctggtcgcctacgcgctgggcatcaccgacatcgacccgattccacacggtctgctgttcgagcggttcctcaaccccgagcgcacctcgatgcccgacatcgatatcgacttcgacgaccggcgccgcggtgagatggtgcgct\n",
      "middle index 1144\n",
      "length result 7515\n",
      "sequence template gtgggtcccggccgcggctcggccgccggctcgctggtcgcctacgcgctgggcatcaccgacatcgacccgattccacacggtctgctgttcgagcggttcctcaaccccgagcgcacctcgatgcccgacatcgatatcgacttcgacgaccggcgccgcggtgagatggtgcgctacgcagccgacaagtggggccacgaccgggtcgcgcaggtcatcaccttcggcaccatcaaaaccaaagcggcgctgaaggattcggcgcgaatccactacgggcagcccgggttcgccatcgccgaccggatcaccaaggcgttgccgccggcgatcatggccaaagacatcccgctgtctgggatcaccgatcccagccacgaacggtacaaggaggccgccgaggtccgcggcctgatcgaaaccgacccggacgtacgcaccatctaccagaccgcacgcgggttggaaggcctgatccgcaacgcgggtgtgcacgcctgcgcggtgatcatgagcagcgagccgctgactgaggccatcccgttgtggaagcggccgcaggacggggccatcatcaccggctgggattacccggcgtgcgaggccatcggtctgctgaaaatggacttcctgggcctgcggaacctgacgatcatcggcgacgcgatcgacaacgtcagggccaacaggggtatcgacctcgacctggaatccgtgccgctggacgacaaggccacctatgagctgctgggccgcggcgacaccctgggcgtgttccagctcgacggcgggcccatgcgcgacctgctgcgccgcatgcagccgaccgggttcgaagacgtcgtcgccgttatcgcgctgtaccggcccggcccgatgggcatgaacgcacacaacgactatgccgaccgcaagaacaaccggcaggccatcaaacctattcacccggaactcgaagaaccgctgcgcgagatcctcgccgagacctacggcctcatcgtctatcaagagcagatcatgcgcatcgcgcagaaggtggcgagctactcgttggcccgcgccgacattctacgcaaggccatgggcaagaagaaacgcgaggtgctggagaaggagttcgagggcttctccgatggcatgcaggccaacgggttctctccggcggccatcaaggcgctgtgggacaccatcctgccgttcgctgactacgcgttcaacaagtcacatgccgccggctacggcatggtgtcctactggacggcctacctcaaggccaactatcccgccgagtacatggccggtctgttgacgtcggtcggcgacgataaagacaaggccgcggtttatctggccgactgccgcaagctcggcatcaccgtgctcccgcccgacgtcaacgaatctggcttgaacttcgcatcggtcggccaagacatccgctacgggctgggcgcggtgcgcaacgttggcgctaatgtcgtgggctcgttgctccaaacccgcaacgacaagggcaagttcaccgacttttcggactacctgaacaagatcgacatctcggcgtgcaacaagaaggtgaccgaatcgctgatcaaggcgggtgcgttcgactcgctggggcatgcccgcaagggtcttttcctggtgcacagcgatgcggtggactcggtgctgggcaccaagaaggccgaggcactggggcagttcgatctcttcggcagcaatgatgatgggaccggcaccgcagatcccgtgttcaccatcaaggtgcccgatgatgagtgggaggacaaacacaaactcgccctagagcgcgagatgctgggactgtacgtctcggggcatcccctcaacggtgtggcacacttgctggctgcccaggtcgacaccgcgatcccagcgatcctcgacggcgatgtccccaacgatgcccaagtgcgggtgggcggcatcctggcgtcggtgaaccggagggtcaacaaaaacggaatgccatgggcttcagcgcaattggaggatctcacgggcggcatcgaggtgatgttcttcccgcacacctactccagctatggtgccgacatcgtcgacgatgccgtcgtgctggtcaacgccaaggtggcggtccgtgacgaccgcatcgcattgatcgccaatgacctcacagtgcccgacttttccaacgccgaggtggagcggccgctggcggtcagcttgcccacccggcagtgcacctttgacaaggtgagtgcgctcaaacaggtgttggcgcgccaccccggcacctcgcaggtgcatctgcggctcatcagcggagaccggatcaccacgctggcacttgatcagtcgttgcgggtgacgccgtcgccggcgttgatgggtgacctcaaggagctgctcggccctggatgtctggggagttagtgaagagcggccaccgaggccgggagcggatttgaacgttgcgaagcaacggcccggagggtggcgggcaggacgcccgccataaactgccaggcatcaaattaagcagaaggccatcctgacggatggcctttttgcgtttctacaaactcttttgtttatttttctaaatacattcaaatatgtatccgctcatgaattccccgcgcgcgatgccctttcgtcttcgaataaatacctgtgacggaagatcacttcgcagaataaataaatcctggtgtccctgttgataccgggaagccctgggccaacttttggcgaaaatgagacgttgatcggcacgtaagaggttccaactttcaccataatgaaataagatcactaccgggcgtattttttgagttatcgagattttcaggagctaaggaagctaaaatggagaaaaaaatcactggatataccaccgttgatatatcccaatggcatcgtaaagaacattttgaggcatttcagtcagttgctcaatgtacctataaccagaccgttcagctggatattacggcctttttaaagaccgtaaagaaaaataagcacaagttttatccggcctttattcacattcttgcccgcctgatgaatgctcatccggaatttcgtatggcaatgaaagacggtgagctggtgatatgggatagtgttcacccttgttacaccgttttccatgagcaaactgaaacgttttcatcgctctggagtgaataccacgacgatttccggcagtttctacacatatattcgcaagatgtggcgtgttacggtgaaaacctggcctatttccctaaagggtttattgagaatatgtttttcgtctcagccaatccctgggtgagtttcaccagttttgatttaaacgtggcgaatatggacaacttcttcgcccccgttttcactatgggcaaatattatacgcaaggcgacaaggtgctgatgccgctggcgattcaggttcatcatgccgtctgtgatggcttccatgtcggcagaatgcttaatgaattacaacagtactgcgatgagtggcagggcggggcgtaatttttttaaggcagttattggtgcccttaaacgcctggttgctacgcctgaataagtgataataagcggatgaatggcagaaattcgagcccgcctaatgagcgggcttttttttagcccgcctaatgagcgggcttttttttcgaaagcaaattcgacccatcgcgcgcggggagtcaactcagcaaaagttcgatttattcaacaaagccacgttgtgtctcaaaatctctgatgttacattgcacaagataaaaatatatcatcatgcatgaccaaaatcccttaacgtgagttttcgttccactgagcgtcagaccccgtagaaaagatcaaaggatcttcttgagatcctttttttctgcgcgtaatctgctgcttgcaaacaaaaaaaccaccgctaccagcggtggtttgtttgccggatcaagagctaccaactctttttccgaaggtaactggcttcagcagagcgcagataccaaatactgtccttctagtgtagccgtagttaggccaccacttcaagaactctgtagcaccgcctacatacctcgctctgctaatcctgttaccagtggctgctgccagtggcgataagtcgtgtcttaccgggttggactcaagacgatagttaccggataaggcgcagcggtcgggctgaacggggggttcgtgcacacagcccagcttggagcgaacgacctacaccgaactgagatacctacagcgtgagctatgagaaagcgccacgcttcccgaagggagaaaggcggacaggtatccggtaagcggcagggtcggaacaggagagcgcacgagggagcttccagggggaaacgcctggtatctttatagtcctgtcgggtttcgccacctctgacttgagcgtcgatttttgtgatgctcgtcaggggggcggagcctatggaaaaacgccagcaacgcggcctttttacggttcctggccttttgctggccttttgctcacatgttctttcctgcgttatcccctgattctgtggataaccgtattaccgcctttgagtgagctgataccgctcgccgcagccgaacgaccgagcgcagcgagtcagtgagcgaggaagcggaagatcgggcccagccggcccacatatacctgccgttcactattatttagtgaaatgagatattatgatattttctgaattgtgattaaaaaggcaactttatgcccatgcaacagaaactataaaaaatacagagaatgaaaagaaacagatagattttttagttctttaggcccgtagtctgcaaatccttttatgattttctatcaaacaaaagaggaaaatagaccagttgcaatccaaacgagagtctaatagaatgaggtcgaaaagtaaatcgcgcgggtttgttactgataaagcaggcaagacctaaaatgtgtaaagggcaaagtgtatactttggcgtcaccccttacatattttaggtctttttttattgtgcgtaactaacttgccatcttcaaacaggagggctggaagaagcagaccgctaacacagtacataaaaaaggagacatgaacgatgaacatcaaaaagtttgcaaaacaagcaacagtattaacctttactaccgcactgctggcaggaggcgcaactcaagcgtttgcgaaagaaacgaaccaaaagccatataaggaaacatacggcatttcccatattacacgccatgatatgctgcaaatccctgaacagcaaaaaaatgaaaaatataaagttcctgagttcgattcgtccacaattaaaaatatctcttctgcaaaaggcctggacgtttgggacagctggccattacaaaacactgacggcactgtcgcaaactatcacggctaccacatcgtctttgcattagccggagatcctaaaaatgcggatgacacatcgatttacatgttctatcaaaaagtcggcgaaacttctattgacagctggaaaaacgctggccgcgtctttaaagacagcgacaaattcgatgcaaatgattctatcctaaaagaccaaacacaagaatggtcaggttcagccacatttacatctgacggaaaaatccgtttattctacactgatttctccggtaaacattacggcaaacaaacactgacaactgcacaagttaacgtatcagcatcagacagctctttgaacatcaacggtgtagaggattataaatcaatctttgacggtgacggaaaaacgtatcaaaatgtacagcagttcatcgatgaaggcaactacagctcaggcgacaaccatacgctgagagatcctcactacgtagaagataaaggccacaaatacttagtatttgaagcaaacactggaactgaagatggctaccaaggcgaagaatctttatttaacaaagcatactatggcaaaagcacatcattcttccgtcaagaaagtcaaaaacttctgcaaagcgataaaaaacgcacggctgagttagcaaacggcgctctcggtatgattgagctaaacgatgattacacactgaaaaaagtgatgaaaccgctgattgcatctaacacagtaacagatgaaattgaacgcgcgaacgtctttaaaatgaacggcaaatggtacctgttcactgactcccgcggatcaaaaatgacgattgacggcattacgtctaacgatatttacatgcttggttatgtttctaattctttaactggcccatacaagccgctgaacaaaactggccttgtgttaaaaatggatcttgatcctaacgatgtaacctttacttactcacacttcgctgtacctcaagcgaaaggaaacaatgtcgtgattacaagctatatgacaaacagaggattctacgcagacaaacaatcaacgtttgcgcctagcttcctgctgaacatcaaaggcaagaaaacatctgttgtcaaagacagcatccttgaacaaggacaattaacagttaacaaataaaaacgcaaaagaaaatgccgatatcctattggcattgcggccgcggtctcggcggtgggtcgtctagaggcatcaaataaaacgaaaggctcagtcgaaagactgggcctttcgttttatctgttgtttgtcggtgaacgctctcctgagtaggacaaatccgccgccctagacctagcggccggccgcaagcgctgcacggcctggttggccgctcttctAtgagcggttcatctgcggggtcctccttcgtgcacctgcacaaccacaccgagtattcgatgctggacggtgccgcgaagatcacgcccatgctcgccgaggtggagcggctggggatgcccgcggtggggatgaccgaccacggaaacatgttcggtgccagcgagttctacaactccgcgaccaaggccgggatcaagccgatcatcggcgtggaggcatacatcgcgccgggctcgcggttcgacacccggcgcatcctgtggggtgaccccagccaaaaggccgacgacgtctccggcagcggctcctacacgcacctgacgatgatggccgagaacgccaccggtctgcgcaacctgttcaagctgtcctcgcatgcttccttcgagggccagctgagcaagtggtcgcgcatggacgccgagctcatcgccgaacacgccgagggcatcatcatcaccaccggatgcccgtcgggggaggtgcagacccgcctgcggctcggccaggatcgggaggcgctcgaagccgcggcgaagtggcgggagatcgtcggaccggacaactacttccttgagctgatggaccacgggctgaccatcgaacgccgggtccgtgacggtctgctcgagatcggacgcgcgctcaacattccgcctcttgccaccaatgactgccactacgtgacccgcgacgccgcccacaaccatgaggctttgttgtgtgtgcagaccggcaagaccctctcggatccgaatcgcttcaagttcgacggtgacggctactacctgaagtcggccgccgagatgcgccagatctgggacgacgaagtgccgggcgcgtgtgactccaccttgttgatcgccgaacgggtgcagtcctacgccgacgtgtggacaccgcgcgaccggatgcccgtgtttccggtgcccgatgggcatgaccaggcgtcctggctgcgtcacgaggtggacgccgggcttcgccggcgatttccggccggtccgccggacgggtaccgcgagcgcgccgcctacgagatcgacgtcatctgctccaaaggtttcccatcgtactttctgatcgtcgccgacctgatcagctacgcgcggtcggcgggcataagg\n",
      "half eblock 178\n",
      "163 178 7693 7708 7465 7565\n",
      "{'PRIMER_LEFT_EXPLAIN': 'considered 18, low tm 10, high tm 6, high hairpin stability 1, ok 1', 'PRIMER_RIGHT_EXPLAIN': 'considered 18, low tm 8, high tm 7, ok 3', 'PRIMER_INTERNAL_EXPLAIN': 'considered 78495, GC content failed 2066, low tm 37379, high tm 16601, high hairpin stability 9, ok 22440', 'PRIMER_PAIR_EXPLAIN': 'considered 33, unacceptable product size 30, ok 3', 'PRIMER_LEFT_NUM_RETURNED': 3, 'PRIMER_RIGHT_NUM_RETURNED': 3, 'PRIMER_INTERNAL_NUM_RETURNED': 3, 'PRIMER_PAIR_NUM_RETURNED': 3, 'PRIMER_PAIR': [{'PENALTY': 6.597099778211486, 'COMPL_ANY_TH': 0.0, 'COMPL_END_TH': 0.0, 'PRODUCT_SIZE': 7531, 'PRODUCT_TM': 90.18910958627065}, {'PENALTY': 6.935905553883856, 'COMPL_ANY_TH': 0.0, 'COMPL_END_TH': 0.0, 'PRODUCT_SIZE': 7531, 'PRODUCT_TM': 90.18910958627065}, {'PENALTY': 8.431839777769028, 'COMPL_ANY_TH': 0.0, 'COMPL_END_TH': 0.0, 'PRODUCT_SIZE': 7531, 'PRODUCT_TM': 90.18910958627065}], 'PRIMER_LEFT': [{'PENALTY': 3.693245174607682, 'SEQUENCE': 'gtgagatggtgcgctacg', 'COORDS': [163, 18], 'TM': 58.30675482539232, 'GC_PERCENT': 61.111111111111114, 'SELF_ANY_TH': 9.732052967213463, 'SELF_END_TH': 0.0, 'HAIRPIN_TH': 0.0, 'END_STABILITY': 3.51}, {'PENALTY': 3.693245174607682, 'SEQUENCE': 'gtgagatggtgcgctacg', 'COORDS': [163, 18], 'TM': 58.30675482539232, 'GC_PERCENT': 61.111111111111114, 'SELF_ANY_TH': 9.732052967213463, 'SELF_END_TH': 0.0, 'HAIRPIN_TH': 0.0, 'END_STABILITY': 3.51}, {'PENALTY': 3.693245174607682, 'SEQUENCE': 'gtgagatggtgcgctacg', 'COORDS': [163, 18], 'TM': 58.30675482539232, 'GC_PERCENT': 61.111111111111114, 'SELF_ANY_TH': 9.732052967213463, 'SELF_END_TH': 0.0, 'HAIRPIN_TH': 0.0, 'END_STABILITY': 3.51}], 'PRIMER_RIGHT': [{'PENALTY': 2.903854603603804, 'SEQUENCE': 'cgcctggtcatgcccatc', 'COORDS': [7693, 18], 'TM': 60.903854603603804, 'GC_PERCENT': 66.66666666666667, 'SELF_ANY_TH': 0.0, 'SELF_END_TH': 0.0, 'HAIRPIN_TH': 36.04078943869479, 'END_STABILITY': 3.51}, {'PENALTY': 3.242660379276174, 'SEQUENCE': 'cgcctggtcatgcccat', 'COORDS': [7693, 17], 'TM': 59.757339620723826, 'GC_PERCENT': 64.70588235294117, 'SELF_ANY_TH': 0.0, 'SELF_END_TH': 0.0, 'HAIRPIN_TH': 36.04078943869479, 'END_STABILITY': 4.0}, {'PENALTY': 4.738594603161346, 'SEQUENCE': 'cgcctggtcatgccca', 'COORDS': [7693, 16], 'TM': 59.261405396838654, 'GC_PERCENT': 68.75, 'SELF_ANY_TH': 0.0, 'SELF_END_TH': 0.0, 'HAIRPIN_TH': 36.04078943869479, 'END_STABILITY': 5.36}], 'PRIMER_INTERNAL': [{'PENALTY': 0.021578954679455364, 'SEQUENCE': 'caaacaggtgttggcgcgcc', 'COORDS': [2255, 20], 'TM': 59.978421045320545, 'GC_PERCENT': 65.0, 'SELF_ANY_TH': 38.40558149698387, 'SELF_END_TH': 38.40558149698387, 'HAIRPIN_TH': 34.71130427324374}, {'PENALTY': 0.021578954679455364, 'SEQUENCE': 'caaacaggtgttggcgcgcc', 'COORDS': [2255, 20], 'TM': 59.978421045320545, 'GC_PERCENT': 65.0, 'SELF_ANY_TH': 38.40558149698387, 'SELF_END_TH': 38.40558149698387, 'HAIRPIN_TH': 34.71130427324374}, {'PENALTY': 0.021578954679455364, 'SEQUENCE': 'caaacaggtgttggcgcgcc', 'COORDS': [2255, 20], 'TM': 59.978421045320545, 'GC_PERCENT': 65.0, 'SELF_ANY_TH': 38.40558149698387, 'SELF_END_TH': 38.40558149698387, 'HAIRPIN_TH': 34.71130427324374}], 'PRIMER_PAIR_0_PENALTY': 6.597099778211486, 'PRIMER_LEFT_0_PENALTY': 3.693245174607682, 'PRIMER_RIGHT_0_PENALTY': 2.903854603603804, 'PRIMER_INTERNAL_0_PENALTY': 0.021578954679455364, 'PRIMER_LEFT_0_SEQUENCE': 'gtgagatggtgcgctacg', 'PRIMER_RIGHT_0_SEQUENCE': 'cgcctggtcatgcccatc', 'PRIMER_INTERNAL_0_SEQUENCE': 'caaacaggtgttggcgcgcc', 'PRIMER_LEFT_0': [163, 18], 'PRIMER_RIGHT_0': [7693, 18], 'PRIMER_INTERNAL_0': [2255, 20], 'PRIMER_LEFT_0_TM': 58.30675482539232, 'PRIMER_RIGHT_0_TM': 60.903854603603804, 'PRIMER_INTERNAL_0_TM': 59.978421045320545, 'PRIMER_LEFT_0_GC_PERCENT': 61.111111111111114, 'PRIMER_RIGHT_0_GC_PERCENT': 66.66666666666667, 'PRIMER_INTERNAL_0_GC_PERCENT': 65.0, 'PRIMER_LEFT_0_SELF_ANY_TH': 9.732052967213463, 'PRIMER_RIGHT_0_SELF_ANY_TH': 0.0, 'PRIMER_INTERNAL_0_SELF_ANY_TH': 38.40558149698387, 'PRIMER_LEFT_0_SELF_END_TH': 0.0, 'PRIMER_RIGHT_0_SELF_END_TH': 0.0, 'PRIMER_INTERNAL_0_SELF_END_TH': 38.40558149698387, 'PRIMER_LEFT_0_HAIRPIN_TH': 0.0, 'PRIMER_RIGHT_0_HAIRPIN_TH': 36.04078943869479, 'PRIMER_INTERNAL_0_HAIRPIN_TH': 34.71130427324374, 'PRIMER_LEFT_0_END_STABILITY': 3.51, 'PRIMER_RIGHT_0_END_STABILITY': 3.51, 'PRIMER_PAIR_0_COMPL_ANY_TH': 0.0, 'PRIMER_PAIR_0_COMPL_END_TH': 0.0, 'PRIMER_PAIR_0_PRODUCT_SIZE': 7531, 'PRIMER_PAIR_0_PRODUCT_TM': 90.18910958627065, 'PRIMER_PAIR_1_PENALTY': 6.935905553883856, 'PRIMER_LEFT_1_PENALTY': 3.693245174607682, 'PRIMER_RIGHT_1_PENALTY': 3.242660379276174, 'PRIMER_INTERNAL_1_PENALTY': 0.021578954679455364, 'PRIMER_LEFT_1_SEQUENCE': 'gtgagatggtgcgctacg', 'PRIMER_RIGHT_1_SEQUENCE': 'cgcctggtcatgcccat', 'PRIMER_INTERNAL_1_SEQUENCE': 'caaacaggtgttggcgcgcc', 'PRIMER_LEFT_1': [163, 18], 'PRIMER_RIGHT_1': [7693, 17], 'PRIMER_INTERNAL_1': [2255, 20], 'PRIMER_LEFT_1_TM': 58.30675482539232, 'PRIMER_RIGHT_1_TM': 59.757339620723826, 'PRIMER_INTERNAL_1_TM': 59.978421045320545, 'PRIMER_LEFT_1_GC_PERCENT': 61.111111111111114, 'PRIMER_RIGHT_1_GC_PERCENT': 64.70588235294117, 'PRIMER_INTERNAL_1_GC_PERCENT': 65.0, 'PRIMER_LEFT_1_SELF_ANY_TH': 9.732052967213463, 'PRIMER_RIGHT_1_SELF_ANY_TH': 0.0, 'PRIMER_INTERNAL_1_SELF_ANY_TH': 38.40558149698387, 'PRIMER_LEFT_1_SELF_END_TH': 0.0, 'PRIMER_RIGHT_1_SELF_END_TH': 0.0, 'PRIMER_INTERNAL_1_SELF_END_TH': 38.40558149698387, 'PRIMER_LEFT_1_HAIRPIN_TH': 0.0, 'PRIMER_RIGHT_1_HAIRPIN_TH': 36.04078943869479, 'PRIMER_INTERNAL_1_HAIRPIN_TH': 34.71130427324374, 'PRIMER_LEFT_1_END_STABILITY': 3.51, 'PRIMER_RIGHT_1_END_STABILITY': 4.0, 'PRIMER_PAIR_1_COMPL_ANY_TH': 0.0, 'PRIMER_PAIR_1_COMPL_END_TH': 0.0, 'PRIMER_PAIR_1_PRODUCT_SIZE': 7531, 'PRIMER_PAIR_1_PRODUCT_TM': 90.18910958627065, 'PRIMER_PAIR_2_PENALTY': 8.431839777769028, 'PRIMER_LEFT_2_PENALTY': 3.693245174607682, 'PRIMER_RIGHT_2_PENALTY': 4.738594603161346, 'PRIMER_INTERNAL_2_PENALTY': 0.021578954679455364, 'PRIMER_LEFT_2_SEQUENCE': 'gtgagatggtgcgctacg', 'PRIMER_RIGHT_2_SEQUENCE': 'cgcctggtcatgccca', 'PRIMER_INTERNAL_2_SEQUENCE': 'caaacaggtgttggcgcgcc', 'PRIMER_LEFT_2': [163, 18], 'PRIMER_RIGHT_2': [7693, 16], 'PRIMER_INTERNAL_2': [2255, 20], 'PRIMER_LEFT_2_TM': 58.30675482539232, 'PRIMER_RIGHT_2_TM': 59.261405396838654, 'PRIMER_INTERNAL_2_TM': 59.978421045320545, 'PRIMER_LEFT_2_GC_PERCENT': 61.111111111111114, 'PRIMER_RIGHT_2_GC_PERCENT': 68.75, 'PRIMER_INTERNAL_2_GC_PERCENT': 65.0, 'PRIMER_LEFT_2_SELF_ANY_TH': 9.732052967213463, 'PRIMER_RIGHT_2_SELF_ANY_TH': 0.0, 'PRIMER_INTERNAL_2_SELF_ANY_TH': 38.40558149698387, 'PRIMER_LEFT_2_SELF_END_TH': 0.0, 'PRIMER_RIGHT_2_SELF_END_TH': 0.0, 'PRIMER_INTERNAL_2_SELF_END_TH': 38.40558149698387, 'PRIMER_LEFT_2_HAIRPIN_TH': 0.0, 'PRIMER_RIGHT_2_HAIRPIN_TH': 36.04078943869479, 'PRIMER_INTERNAL_2_HAIRPIN_TH': 34.71130427324374, 'PRIMER_LEFT_2_END_STABILITY': 3.51, 'PRIMER_RIGHT_2_END_STABILITY': 5.36, 'PRIMER_PAIR_2_COMPL_ANY_TH': 0.0, 'PRIMER_PAIR_2_COMPL_END_TH': 0.0, 'PRIMER_PAIR_2_PRODUCT_SIZE': 7531, 'PRIMER_PAIR_2_PRODUCT_TM': 90.18910958627065}\n",
      "left 163 right 7693\n",
      "------------------------------------------------------------------------------------\n",
      "eBlock-3 1509 1809 300 caccgatcccagccacgaacggtacaaggaggccgccgaggtccgcggcctgatcgaaaccgacccggacgtacgcaccatctaccagaccgcacgcgggttggaaggcctgatccgcaacgcgggtgtgcacgcctgcgcggtgatcatgagcagcgagccgctgactgaggccatcccgttgtggaagcggccgcaggacggggccatcatcaccggctgggattacccggcgtgcgaggccatcggtctgctgaaaatggacttcctgggcctgcggaacctgacgatcatcggcga\n",
      "middle index 1659\n",
      "length result 7571\n",
      "sequence template gagcagcgagccgctgactgaggccatcccgttgtggaagcggccgcaggacggggccatcatcaccggctgggattacccggcgtgcgaggccatcggtctgctgaaaatggacttcctgggcctgcggaacctgacgatcatcggcgacgcgatcgacaacgtcagggccaacaggggtatcgacctcgacctggaatccgtgccgctggacgacaaggccacctatgagctgctgggccgcggcgacaccctgggcgtgttccagctcgacggcgggcccatgcgcgacctgctgcgccgcatgcagccgaccgggttcgaagacgtcgtcgccgttatcgcgctgtaccggcccggcccgatgggcatgaacgcacacaacgactatgccgaccgcaagaacaaccggcaggccatcaaacctattcacccggaactcgaagaaccgctgcgcgagatcctcgccgagacctacggcctcatcgtctatcaagagcagatcatgcgcatcgcgcagaaggtggcgagctactcgttggcccgcgccgacattctacgcaaggccatgggcaagaagaaacgcgaggtgctggagaaggagttcgagggcttctccgatggcatgcaggccaacgggttctctccggcggccatcaaggcgctgtgggacaccatcctgccgttcgctgactacgcgttcaacaagtcacatgccgccggctacggcatggtgtcctactggacggcctacctcaaggccaactatcccgccgagtacatggccggtctgttgacgtcggtcggcgacgataaagacaaggccgcggtttatctggccgactgccgcaagctcggcatcaccgtgctcccgcccgacgtcaacgaatctggcttgaacttcgcatcggtcggccaagacatccgctacgggctgggcgcggtgcgcaacgttggcgctaatgtcgtgggctcgttgctccaaacccgcaacgacaagggcaagttcaccgacttttcggactacctgaacaagatcgacatctcggcgtgcaacaagaaggtgaccgaatcgctgatcaaggcgggtgcgttcgactcgctggggcatgcccgcaagggtcttttcctggtgcacagcgatgcggtggactcggtgctgggcaccaagaaggccgaggcactggggcagttcgatctcttcggcagcaatgatgatgggaccggcaccgcagatcccgtgttcaccatcaaggtgcccgatgatgagtgggaggacaaacacaaactcgccctagagcgcgagatgctgggactgtacgtctcggggcatcccctcaacggtgtggcacacttgctggctgcccaggtcgacaccgcgatcccagcgatcctcgacggcgatgtccccaacgatgcccaagtgcgggtgggcggcatcctggcgtcggtgaaccggagggtcaacaaaaacggaatgccatgggcttcagcgcaattggaggatctcacgggcggcatcgaggtgatgttcttcccgcacacctactccagctatggtgccgacatcgtcgacgatgccgtcgtgctggtcaacgccaaggtggcggtccgtgacgaccgcatcgcattgatcgccaatgacctcacagtgcccgacttttccaacgccgaggtggagcggccgctggcggtcagcttgcccacccggcagtgcacctttgacaaggtgagtgcgctcaaacaggtgttggcgcgccaccccggcacctcgcaggtgcatctgcggctcatcagcggagaccggatcaccacgctggcacttgatcagtcgttgcgggtgacgccgtcgccggcgttgatgggtgacctcaaggagctgctcggccctggatgtctggggagttagtgaagagcggccaccgaggccgggagcggatttgaacgttgcgaagcaacggcccggagggtggcgggcaggacgcccgccataaactgccaggcatcaaattaagcagaaggccatcctgacggatggcctttttgcgtttctacaaactcttttgtttatttttctaaatacattcaaatatgtatccgctcatgaattccccgcgcgcgatgccctttcgtcttcgaataaatacctgtgacggaagatcacttcgcagaataaataaatcctggtgtccctgttgataccgggaagccctgggccaacttttggcgaaaatgagacgttgatcggcacgtaagaggttccaactttcaccataatgaaataagatcactaccgggcgtattttttgagttatcgagattttcaggagctaaggaagctaaaatggagaaaaaaatcactggatataccaccgttgatatatcccaatggcatcgtaaagaacattttgaggcatttcagtcagttgctcaatgtacctataaccagaccgttcagctggatattacggcctttttaaagaccgtaaagaaaaataagcacaagttttatccggcctttattcacattcttgcccgcctgatgaatgctcatccggaatttcgtatggcaatgaaagacggtgagctggtgatatgggatagtgttcacccttgttacaccgttttccatgagcaaactgaaacgttttcatcgctctggagtgaataccacgacgatttccggcagtttctacacatatattcgcaagatgtggcgtgttacggtgaaaacctggcctatttccctaaagggtttattgagaatatgtttttcgtctcagccaatccctgggtgagtttcaccagttttgatttaaacgtggcgaatatggacaacttcttcgcccccgttttcactatgggcaaatattatacgcaaggcgacaaggtgctgatgccgctggcgattcaggttcatcatgccgtctgtgatggcttccatgtcggcagaatgcttaatgaattacaacagtactgcgatgagtggcagggcggggcgtaatttttttaaggcagttattggtgcccttaaacgcctggttgctacgcctgaataagtgataataagcggatgaatggcagaaattcgagcccgcctaatgagcgggcttttttttagcccgcctaatgagcgggcttttttttcgaaagcaaattcgacccatcgcgcgcggggagtcaactcagcaaaagttcgatttattcaacaaagccacgttgtgtctcaaaatctctgatgttacattgcacaagataaaaatatatcatcatgcatgaccaaaatcccttaacgtgagttttcgttccactgagcgtcagaccccgtagaaaagatcaaaggatcttcttgagatcctttttttctgcgcgtaatctgctgcttgcaaacaaaaaaaccaccgctaccagcggtggtttgtttgccggatcaagagctaccaactctttttccgaaggtaactggcttcagcagagcgcagataccaaatactgtccttctagtgtagccgtagttaggccaccacttcaagaactctgtagcaccgcctacatacctcgctctgctaatcctgttaccagtggctgctgccagtggcgataagtcgtgtcttaccgggttggactcaagacgatagttaccggataaggcgcagcggtcgggctgaacggggggttcgtgcacacagcccagcttggagcgaacgacctacaccgaactgagatacctacagcgtgagctatgagaaagcgccacgcttcccgaagggagaaaggcggacaggtatccggtaagcggcagggtcggaacaggagagcgcacgagggagcttccagggggaaacgcctggtatctttatagtcctgtcgggtttcgccacctctgacttgagcgtcgatttttgtgatgctcgtcaggggggcggagcctatggaaaaacgccagcaacgcggcctttttacggttcctggccttttgctggccttttgctcacatgttctttcctgcgttatcccctgattctgtggataaccgtattaccgcctttgagtgagctgataccgctcgccgcagccgaacgaccgagcgcagcgagtcagtgagcgaggaagcggaagatcgggcccagccggcccacatatacctgccgttcactattatttagtgaaatgagatattatgatattttctgaattgtgattaaaaaggcaactttatgcccatgcaacagaaactataaaaaatacagagaatgaaaagaaacagatagattttttagttctttaggcccgtagtctgcaaatccttttatgattttctatcaaacaaaagaggaaaatagaccagttgcaatccaaacgagagtctaatagaatgaggtcgaaaagtaaatcgcgcgggtttgttactgataaagcaggcaagacctaaaatgtgtaaagggcaaagtgtatactttggcgtcaccccttacatattttaggtctttttttattgtgcgtaactaacttgccatcttcaaacaggagggctggaagaagcagaccgctaacacagtacataaaaaaggagacatgaacgatgaacatcaaaaagtttgcaaaacaagcaacagtattaacctttactaccgcactgctggcaggaggcgcaactcaagcgtttgcgaaagaaacgaaccaaaagccatataaggaaacatacggcatttcccatattacacgccatgatatgctgcaaatccctgaacagcaaaaaaatgaaaaatataaagttcctgagttcgattcgtccacaattaaaaatatctcttctgcaaaaggcctggacgtttgggacagctggccattacaaaacactgacggcactgtcgcaaactatcacggctaccacatcgtctttgcattagccggagatcctaaaaatgcggatgacacatcgatttacatgttctatcaaaaagtcggcgaaacttctattgacagctggaaaaacgctggccgcgtctttaaagacagcgacaaattcgatgcaaatgattctatcctaaaagaccaaacacaagaatggtcaggttcagccacatttacatctgacggaaaaatccgtttattctacactgatttctccggtaaacattacggcaaacaaacactgacaactgcacaagttaacgtatcagcatcagacagctctttgaacatcaacggtgtagaggattataaatcaatctttgacggtgacggaaaaacgtatcaaaatgtacagcagttcatcgatgaaggcaactacagctcaggcgacaaccatacgctgagagatcctcactacgtagaagataaaggccacaaatacttagtatttgaagcaaacactggaactgaagatggctaccaaggcgaagaatctttatttaacaaagcatactatggcaaaagcacatcattcttccgtcaagaaagtcaaaaacttctgcaaagcgataaaaaacgcacggctgagttagcaaacggcgctctcggtatgattgagctaaacgatgattacacactgaaaaaagtgatgaaaccgctgattgcatctaacacagtaacagatgaaattgaacgcgcgaacgtctttaaaatgaacggcaaatggtacctgttcactgactcccgcggatcaaaaatgacgattgacggcattacgtctaacgatatttacatgcttggttatgtttctaattctttaactggcccatacaagccgctgaacaaaactggccttgtgttaaaaatggatcttgatcctaacgatgtaacctttacttactcacacttcgctgtacctcaagcgaaaggaaacaatgtcgtgattacaagctatatgacaaacagaggattctacgcagacaaacaatcaacgtttgcgcctagcttcctgctgaacatcaaaggcaagaaaacatctgttgtcaaagacagcatccttgaacaaggacaattaacagttaacaaataaaaacgcaaaagaaaatgccgatatcctattggcattgcggccgcggtctcggcggtgggtcgtctagaggcatcaaataaaacgaaaggctcagtcgaaagactgggcctttcgttttatctgttgtttgtcggtgaacgctctcctgagtaggacaaatccgccgccctagacctagcggccggccgcaagcgctgcacggcctggttggccgctcttctAtgagcggttcatctgcggggtcctccttcgtgcacctgcacaaccacaccgagtattcgatgctggacggtgccgcgaagatcacgcccatgctcgccgaggtggagcggctggggatgcccgcggtggggatgaccgaccacggaaacatgttcggtgccagcgagttctacaactccgcgaccaaggccgggatcaagccgatcatcggcgtggaggcatacatcgcgccgggctcgcggttcgacacccggcgcatcctgtggggtgaccccagccaaaaggccgacgacgtctccggcagcggctcctacacgcacctgacgatgatggccgagaacgccaccggtctgcgcaacctgttcaagctgtcctcgcatgcttccttcgagggccagctgagcaagtggtcgcgcatggacgccgagctcatcgccgaacacgccgagggcatcatcatcaccaccggatgcccgtcgggggaggtgcagacccgcctgcggctcggccaggatcgggaggcgctcgaagccgcggcgaagtggcgggagatcgtcggaccggacaactacttccttgagctgatggaccacgggctgaccatcgaacgccgggtccgtgacggtctgctcgagatcggacgcgcgctcaacattccgcctcttgccaccaatgactgccactacgtgacccgcgacgccgcccacaaccatgaggctttgttgtgtgtgcagaccggcaagaccctctcggatccgaatcgcttcaagttcgacggtgacggctactacctgaagtcggccgccgagatgcgccagatctgggacgacgaagtgccgggcgcgtgtgactccaccttgttgatcgccgaacgggtgcagtcctacgccgacgtgtggacaccgcgcgaccggatgcccgtgtttccggtgcccgatgggcatgaccaggcgtcctggctgcgtcacgaggtggacgccgggcttcgccggcgatttccggccggtccgccggacgggtaccgcgagcgcgccgcctacgagatcgacgtcatctgctccaaaggtttcccatcgtactttctgatcgtcgccgacctgatcagctacgcgcggtcggcgggcataagggtgggtcccggccgcggctcggccgccggctcgctggtcgcctacgcgctgggcatcaccgacatcgacccgattccacacggtctgctgttcgagcggttcctcaaccccgagcgcacctcgatgcccgacatcgatatcgacttcgacgaccggcgccgcggtgagatggtgcgctacgcagccgacaagtggggccacgaccgggtcgcgcaggtcatcaccttcggcaccatcaaaaccaaagcggcgctgaaggattcggcgcgaatccactacgggcagcccgggttcgccatcgccgaccggatcaccaaggcgttgccgccggcgatcatggccaaagacatcccgctgtctgggatcaccgatcccagccacgaacggtacaaggaggccgccgaggtccgcggcctgatcgaaaccgacccggacgtacgcaccatctaccagaccgcacgcgggttggaaggcctgatccgcaacgcgggtgtgcacgcctgcgcggtgatcat\n",
      "half eblock 150\n",
      "135 150 7721 7736 7521 7621\n",
      "{'PRIMER_LEFT_EXPLAIN': 'considered 18, low tm 9, high tm 5, high hairpin stability 2, ok 2', 'PRIMER_RIGHT_EXPLAIN': 'considered 18, low tm 9, high tm 5, high hairpin stability 3, ok 1', 'PRIMER_INTERNAL_EXPLAIN': 'considered 78495, GC content failed 2100, low tm 37366, high tm 16623, high hairpin stability 40, ok 22366', 'PRIMER_PAIR_EXPLAIN': 'considered 82, unacceptable product size 80, ok 2', 'PRIMER_LEFT_NUM_RETURNED': 2, 'PRIMER_RIGHT_NUM_RETURNED': 2, 'PRIMER_INTERNAL_NUM_RETURNED': 2, 'PRIMER_PAIR_NUM_RETURNED': 2, 'PRIMER_PAIR': [{'PENALTY': 7.7367636814788625, 'COMPL_ANY_TH': 0.0, 'COMPL_END_TH': 0.0, 'PRODUCT_SIZE': 7575, 'PRODUCT_TM': 90.25774263786423}, {'PENALTY': 9.95043761272774, 'COMPL_ANY_TH': 0.0, 'COMPL_END_TH': 0.0, 'PRODUCT_SIZE': 7575, 'PRODUCT_TM': 90.25774263786423}], 'PRIMER_LEFT': [{'PENALTY': 2.9774932829182603, 'SEQUENCE': 'gacgcgatcgacaacgtc', 'COORDS': [148, 18], 'TM': 59.02250671708174, 'GC_PERCENT': 61.111111111111114, 'SELF_ANY_TH': 23.314261661631633, 'SELF_END_TH': 23.314261661631633, 'HAIRPIN_TH': 46.64359636499938, 'END_STABILITY': 4.34}, {'PENALTY': 5.1911672141671374, 'SEQUENCE': 'gacgcgatcgacaacgt', 'COORDS': [148, 17], 'TM': 57.80883278583286, 'GC_PERCENT': 58.8235294117647, 'SELF_ANY_TH': 21.56937560762009, 'SELF_END_TH': 18.60703688094651, 'HAIRPIN_TH': 42.266585910554, 'END_STABILITY': 3.99}], 'PRIMER_RIGHT': [{'PENALTY': 4.759270398560602, 'SEQUENCE': 'tgatcccagacagcggg', 'COORDS': [7722, 17], 'TM': 58.2407296014394, 'GC_PERCENT': 64.70588235294117, 'SELF_ANY_TH': 0.0, 'SELF_END_TH': 0.0, 'HAIRPIN_TH': 46.03353275246849, 'END_STABILITY': 6.13}, {'PENALTY': 4.759270398560602, 'SEQUENCE': 'tgatcccagacagcggg', 'COORDS': [7722, 17], 'TM': 58.2407296014394, 'GC_PERCENT': 64.70588235294117, 'SELF_ANY_TH': 0.0, 'SELF_END_TH': 0.0, 'HAIRPIN_TH': 46.03353275246849, 'END_STABILITY': 6.13}], 'PRIMER_INTERNAL': [{'PENALTY': 0.021578954679455364, 'SEQUENCE': 'caaacaggtgttggcgcgcc', 'COORDS': [1740, 20], 'TM': 59.978421045320545, 'GC_PERCENT': 65.0, 'SELF_ANY_TH': 38.40558149698387, 'SELF_END_TH': 38.40558149698387, 'HAIRPIN_TH': 34.71130427324374}, {'PENALTY': 0.021578954679455364, 'SEQUENCE': 'caaacaggtgttggcgcgcc', 'COORDS': [1740, 20], 'TM': 59.978421045320545, 'GC_PERCENT': 65.0, 'SELF_ANY_TH': 38.40558149698387, 'SELF_END_TH': 38.40558149698387, 'HAIRPIN_TH': 34.71130427324374}], 'PRIMER_PAIR_0_PENALTY': 7.7367636814788625, 'PRIMER_LEFT_0_PENALTY': 2.9774932829182603, 'PRIMER_RIGHT_0_PENALTY': 4.759270398560602, 'PRIMER_INTERNAL_0_PENALTY': 0.021578954679455364, 'PRIMER_LEFT_0_SEQUENCE': 'gacgcgatcgacaacgtc', 'PRIMER_RIGHT_0_SEQUENCE': 'tgatcccagacagcggg', 'PRIMER_INTERNAL_0_SEQUENCE': 'caaacaggtgttggcgcgcc', 'PRIMER_LEFT_0': [148, 18], 'PRIMER_RIGHT_0': [7722, 17], 'PRIMER_INTERNAL_0': [1740, 20], 'PRIMER_LEFT_0_TM': 59.02250671708174, 'PRIMER_RIGHT_0_TM': 58.2407296014394, 'PRIMER_INTERNAL_0_TM': 59.978421045320545, 'PRIMER_LEFT_0_GC_PERCENT': 61.111111111111114, 'PRIMER_RIGHT_0_GC_PERCENT': 64.70588235294117, 'PRIMER_INTERNAL_0_GC_PERCENT': 65.0, 'PRIMER_LEFT_0_SELF_ANY_TH': 23.314261661631633, 'PRIMER_RIGHT_0_SELF_ANY_TH': 0.0, 'PRIMER_INTERNAL_0_SELF_ANY_TH': 38.40558149698387, 'PRIMER_LEFT_0_SELF_END_TH': 23.314261661631633, 'PRIMER_RIGHT_0_SELF_END_TH': 0.0, 'PRIMER_INTERNAL_0_SELF_END_TH': 38.40558149698387, 'PRIMER_LEFT_0_HAIRPIN_TH': 46.64359636499938, 'PRIMER_RIGHT_0_HAIRPIN_TH': 46.03353275246849, 'PRIMER_INTERNAL_0_HAIRPIN_TH': 34.71130427324374, 'PRIMER_LEFT_0_END_STABILITY': 4.34, 'PRIMER_RIGHT_0_END_STABILITY': 6.13, 'PRIMER_PAIR_0_COMPL_ANY_TH': 0.0, 'PRIMER_PAIR_0_COMPL_END_TH': 0.0, 'PRIMER_PAIR_0_PRODUCT_SIZE': 7575, 'PRIMER_PAIR_0_PRODUCT_TM': 90.25774263786423, 'PRIMER_PAIR_1_PENALTY': 9.95043761272774, 'PRIMER_LEFT_1_PENALTY': 5.1911672141671374, 'PRIMER_RIGHT_1_PENALTY': 4.759270398560602, 'PRIMER_INTERNAL_1_PENALTY': 0.021578954679455364, 'PRIMER_LEFT_1_SEQUENCE': 'gacgcgatcgacaacgt', 'PRIMER_RIGHT_1_SEQUENCE': 'tgatcccagacagcggg', 'PRIMER_INTERNAL_1_SEQUENCE': 'caaacaggtgttggcgcgcc', 'PRIMER_LEFT_1': [148, 17], 'PRIMER_RIGHT_1': [7722, 17], 'PRIMER_INTERNAL_1': [1740, 20], 'PRIMER_LEFT_1_TM': 57.80883278583286, 'PRIMER_RIGHT_1_TM': 58.2407296014394, 'PRIMER_INTERNAL_1_TM': 59.978421045320545, 'PRIMER_LEFT_1_GC_PERCENT': 58.8235294117647, 'PRIMER_RIGHT_1_GC_PERCENT': 64.70588235294117, 'PRIMER_INTERNAL_1_GC_PERCENT': 65.0, 'PRIMER_LEFT_1_SELF_ANY_TH': 21.56937560762009, 'PRIMER_RIGHT_1_SELF_ANY_TH': 0.0, 'PRIMER_INTERNAL_1_SELF_ANY_TH': 38.40558149698387, 'PRIMER_LEFT_1_SELF_END_TH': 18.60703688094651, 'PRIMER_RIGHT_1_SELF_END_TH': 0.0, 'PRIMER_INTERNAL_1_SELF_END_TH': 38.40558149698387, 'PRIMER_LEFT_1_HAIRPIN_TH': 42.266585910554, 'PRIMER_RIGHT_1_HAIRPIN_TH': 46.03353275246849, 'PRIMER_INTERNAL_1_HAIRPIN_TH': 34.71130427324374, 'PRIMER_LEFT_1_END_STABILITY': 3.99, 'PRIMER_RIGHT_1_END_STABILITY': 6.13, 'PRIMER_PAIR_1_COMPL_ANY_TH': 0.0, 'PRIMER_PAIR_1_COMPL_END_TH': 0.0, 'PRIMER_PAIR_1_PRODUCT_SIZE': 7575, 'PRIMER_PAIR_1_PRODUCT_TM': 90.25774263786423}\n",
      "left 148 right 7722\n",
      "------------------------------------------------------------------------------------\n",
      "eBlock-4 1767 2186 419 aatggacttcctgggcctgcggaacctgacgatcatcggcgacgcgatcgacaacgtcagggccaacaggggtatcgacctcgacctggaatccgtgccgctggacgacaaggccacctatgagctgctgggccgcggcgacaccctgggcgtgttccagctcgacggcgggcccatgcgcgacctgctgcgccgcatgcagccgaccgggttcgaagacgtcgtcgccgttatcgcgctgtaccggcccggcccgatgggcatgaacgcacacaacgactatgccgaccgcaagaacaaccggcaggccatcaaacctattcacccggaactcgaagaaccgctgcgcgagatcctcgccgagacctacggcctcatcgtctatcaagagcagatcatgcgcatcgcgcagaaggtgg\n",
      "middle index 1976\n",
      "length result 7452\n",
      "sequence template ggttcgaagacgtcgtcgccgttatcgcgctgtaccggcccggcccgatgggcatgaacgcacacaacgactatgccgaccgcaagaacaaccggcaggccatcaaacctattcacccggaactcgaagaaccgctgcgcgagatcctcgccgagacctacggcctcatcgtctatcaagagcagatcatgcgcatcgcgcagaaggtggcgagctactcgttggcccgcgccgacattctacgcaaggccatgggcaagaagaaacgcgaggtgctggagaaggagttcgagggcttctccgatggcatgcaggccaacgggttctctccggcggccatcaaggcgctgtgggacaccatcctgccgttcgctgactacgcgttcaacaagtcacatgccgccggctacggcatggtgtcctactggacggcctacctcaaggccaactatcccgccgagtacatggccggtctgttgacgtcggtcggcgacgataaagacaaggccgcggtttatctggccgactgccgcaagctcggcatcaccgtgctcccgcccgacgtcaacgaatctggcttgaacttcgcatcggtcggccaagacatccgctacgggctgggcgcggtgcgcaacgttggcgctaatgtcgtgggctcgttgctccaaacccgcaacgacaagggcaagttcaccgacttttcggactacctgaacaagatcgacatctcggcgtgcaacaagaaggtgaccgaatcgctgatcaaggcgggtgcgttcgactcgctggggcatgcccgcaagggtcttttcctggtgcacagcgatgcggtggactcggtgctgggcaccaagaaggccgaggcactggggcagttcgatctcttcggcagcaatgatgatgggaccggcaccgcagatcccgtgttcaccatcaaggtgcccgatgatgagtgggaggacaaacacaaactcgccctagagcgcgagatgctgggactgtacgtctcggggcatcccctcaacggtgtggcacacttgctggctgcccaggtcgacaccgcgatcccagcgatcctcgacggcgatgtccccaacgatgcccaagtgcgggtgggcggcatcctggcgtcggtgaaccggagggtcaacaaaaacggaatgccatgggcttcagcgcaattggaggatctcacgggcggcatcgaggtgatgttcttcccgcacacctactccagctatggtgccgacatcgtcgacgatgccgtcgtgctggtcaacgccaaggtggcggtccgtgacgaccgcatcgcattgatcgccaatgacctcacagtgcccgacttttccaacgccgaggtggagcggccgctggcggtcagcttgcccacccggcagtgcacctttgacaaggtgagtgcgctcaaacaggtgttggcgcgccaccccggcacctcgcaggtgcatctgcggctcatcagcggagaccggatcaccacgctggcacttgatcagtcgttgcgggtgacgccgtcgccggcgttgatgggtgacctcaaggagctgctcggccctggatgtctggggagttagtgaagagcggccaccgaggccgggagcggatttgaacgttgcgaagcaacggcccggagggtggcgggcaggacgcccgccataaactgccaggcatcaaattaagcagaaggccatcctgacggatggcctttttgcgtttctacaaactcttttgtttatttttctaaatacattcaaatatgtatccgctcatgaattccccgcgcgcgatgccctttcgtcttcgaataaatacctgtgacggaagatcacttcgcagaataaataaatcctggtgtccctgttgataccgggaagccctgggccaacttttggcgaaaatgagacgttgatcggcacgtaagaggttccaactttcaccataatgaaataagatcactaccgggcgtattttttgagttatcgagattttcaggagctaaggaagctaaaatggagaaaaaaatcactggatataccaccgttgatatatcccaatggcatcgtaaagaacattttgaggcatttcagtcagttgctcaatgtacctataaccagaccgttcagctggatattacggcctttttaaagaccgtaaagaaaaataagcacaagttttatccggcctttattcacattcttgcccgcctgatgaatgctcatccggaatttcgtatggcaatgaaagacggtgagctggtgatatgggatagtgttcacccttgttacaccgttttccatgagcaaactgaaacgttttcatcgctctggagtgaataccacgacgatttccggcagtttctacacatatattcgcaagatgtggcgtgttacggtgaaaacctggcctatttccctaaagggtttattgagaatatgtttttcgtctcagccaatccctgggtgagtttcaccagttttgatttaaacgtggcgaatatggacaacttcttcgcccccgttttcactatgggcaaatattatacgcaaggcgacaaggtgctgatgccgctggcgattcaggttcatcatgccgtctgtgatggcttccatgtcggcagaatgcttaatgaattacaacagtactgcgatgagtggcagggcggggcgtaatttttttaaggcagttattggtgcccttaaacgcctggttgctacgcctgaataagtgataataagcggatgaatggcagaaattcgagcccgcctaatgagcgggcttttttttagcccgcctaatgagcgggcttttttttcgaaagcaaattcgacccatcgcgcgcggggagtcaactcagcaaaagttcgatttattcaacaaagccacgttgtgtctcaaaatctctgatgttacattgcacaagataaaaatatatcatcatgcatgaccaaaatcccttaacgtgagttttcgttccactgagcgtcagaccccgtagaaaagatcaaaggatcttcttgagatcctttttttctgcgcgtaatctgctgcttgcaaacaaaaaaaccaccgctaccagcggtggtttgtttgccggatcaagagctaccaactctttttccgaaggtaactggcttcagcagagcgcagataccaaatactgtccttctagtgtagccgtagttaggccaccacttcaagaactctgtagcaccgcctacatacctcgctctgctaatcctgttaccagtggctgctgccagtggcgataagtcgtgtcttaccgggttggactcaagacgatagttaccggataaggcgcagcggtcgggctgaacggggggttcgtgcacacagcccagcttggagcgaacgacctacaccgaactgagatacctacagcgtgagctatgagaaagcgccacgcttcccgaagggagaaaggcggacaggtatccggtaagcggcagggtcggaacaggagagcgcacgagggagcttccagggggaaacgcctggtatctttatagtcctgtcgggtttcgccacctctgacttgagcgtcgatttttgtgatgctcgtcaggggggcggagcctatggaaaaacgccagcaacgcggcctttttacggttcctggccttttgctggccttttgctcacatgttctttcctgcgttatcccctgattctgtggataaccgtattaccgcctttgagtgagctgataccgctcgccgcagccgaacgaccgagcgcagcgagtcagtgagcgaggaagcggaagatcgggcccagccggcccacatatacctgccgttcactattatttagtgaaatgagatattatgatattttctgaattgtgattaaaaaggcaactttatgcccatgcaacagaaactataaaaaatacagagaatgaaaagaaacagatagattttttagttctttaggcccgtagtctgcaaatccttttatgattttctatcaaacaaaagaggaaaatagaccagttgcaatccaaacgagagtctaatagaatgaggtcgaaaagtaaatcgcgcgggtttgttactgataaagcaggcaagacctaaaatgtgtaaagggcaaagtgtatactttggcgtcaccccttacatattttaggtctttttttattgtgcgtaactaacttgccatcttcaaacaggagggctggaagaagcagaccgctaacacagtacataaaaaaggagacatgaacgatgaacatcaaaaagtttgcaaaacaagcaacagtattaacctttactaccgcactgctggcaggaggcgcaactcaagcgtttgcgaaagaaacgaaccaaaagccatataaggaaacatacggcatttcccatattacacgccatgatatgctgcaaatccctgaacagcaaaaaaatgaaaaatataaagttcctgagttcgattcgtccacaattaaaaatatctcttctgcaaaaggcctggacgtttgggacagctggccattacaaaacactgacggcactgtcgcaaactatcacggctaccacatcgtctttgcattagccggagatcctaaaaatgcggatgacacatcgatttacatgttctatcaaaaagtcggcgaaacttctattgacagctggaaaaacgctggccgcgtctttaaagacagcgacaaattcgatgcaaatgattctatcctaaaagaccaaacacaagaatggtcaggttcagccacatttacatctgacggaaaaatccgtttattctacactgatttctccggtaaacattacggcaaacaaacactgacaactgcacaagttaacgtatcagcatcagacagctctttgaacatcaacggtgtagaggattataaatcaatctttgacggtgacggaaaaacgtatcaaaatgtacagcagttcatcgatgaaggcaactacagctcaggcgacaaccatacgctgagagatcctcactacgtagaagataaaggccacaaatacttagtatttgaagcaaacactggaactgaagatggctaccaaggcgaagaatctttatttaacaaagcatactatggcaaaagcacatcattcttccgtcaagaaagtcaaaaacttctgcaaagcgataaaaaacgcacggctgagttagcaaacggcgctctcggtatgattgagctaaacgatgattacacactgaaaaaagtgatgaaaccgctgattgcatctaacacagtaacagatgaaattgaacgcgcgaacgtctttaaaatgaacggcaaatggtacctgttcactgactcccgcggatcaaaaatgacgattgacggcattacgtctaacgatatttacatgcttggttatgtttctaattctttaactggcccatacaagccgctgaacaaaactggccttgtgttaaaaatggatcttgatcctaacgatgtaacctttacttactcacacttcgctgtacctcaagcgaaaggaaacaatgtcgtgattacaagctatatgacaaacagaggattctacgcagacaaacaatcaacgtttgcgcctagcttcctgctgaacatcaaaggcaagaaaacatctgttgtcaaagacagcatccttgaacaaggacaattaacagttaacaaataaaaacgcaaaagaaaatgccgatatcctattggcattgcggccgcggtctcggcggtgggtcgtctagaggcatcaaataaaacgaaaggctcagtcgaaagactgggcctttcgttttatctgttgtttgtcggtgaacgctctcctgagtaggacaaatccgccgccctagacctagcggccggccgcaagcgctgcacggcctggttggccgctcttctAtgagcggttcatctgcggggtcctccttcgtgcacctgcacaaccacaccgagtattcgatgctggacggtgccgcgaagatcacgcccatgctcgccgaggtggagcggctggggatgcccgcggtggggatgaccgaccacggaaacatgttcggtgccagcgagttctacaactccgcgaccaaggccgggatcaagccgatcatcggcgtggaggcatacatcgcgccgggctcgcggttcgacacccggcgcatcctgtggggtgaccccagccaaaaggccgacgacgtctccggcagcggctcctacacgcacctgacgatgatggccgagaacgccaccggtctgcgcaacctgttcaagctgtcctcgcatgcttccttcgagggccagctgagcaagtggtcgcgcatggacgccgagctcatcgccgaacacgccgagggcatcatcatcaccaccggatgcccgtcgggggaggtgcagacccgcctgcggctcggccaggatcgggaggcgctcgaagccgcggcgaagtggcgggagatcgtcggaccggacaactacttccttgagctgatggaccacgggctgaccatcgaacgccgggtccgtgacggtctgctcgagatcggacgcgcgctcaacattccgcctcttgccaccaatgactgccactacgtgacccgcgacgccgcccacaaccatgaggctttgttgtgtgtgcagaccggcaagaccctctcggatccgaatcgcttcaagttcgacggtgacggctactacctgaagtcggccgccgagatgcgccagatctgggacgacgaagtgccgggcgcgtgtgactccaccttgttgatcgccgaacgggtgcagtcctacgccgacgtgtggacaccgcgcgaccggatgcccgtgtttccggtgcccgatgggcatgaccaggcgtcctggctgcgtcacgaggtggacgccgggcttcgccggcgatttccggccggtccgccggacgggtaccgcgagcgcgccgcctacgagatcgacgtcatctgctccaaaggtttcccatcgtactttctgatcgtcgccgacctgatcagctacgcgcggtcggcgggcataagggtgggtcccggccgcggctcggccgccggctcgctggtcgcctacgcgctgggcatcaccgacatcgacccgattccacacggtctgctgttcgagcggttcctcaaccccgagcgcacctcgatgcccgacatcgatatcgacttcgacgaccggcgccgcggtgagatggtgcgctacgcagccgacaagtggggccacgaccgggtcgcgcaggtcatcaccttcggcaccatcaaaaccaaagcggcgctgaaggattcggcgcgaatccactacgggcagcccgggttcgccatcgccgaccggatcaccaaggcgttgccgccggcgatcatggccaaagacatcccgctgtctgggatcaccgatcccagccacgaacggtacaaggaggccgccgaggtccgcggcctgatcgaaaccgacccggacgtacgcaccatctaccagaccgcacgcgggttggaaggcctgatccgcaacgcgggtgtgcacgcctgcgcggtgatcatgagcagcgagccgctgactgaggccatcccgttgtggaagcggccgcaggacggggccatcatcaccggctgggattacccggcgtgcgaggccatcggtctgctgaaaatggacttcctgggcctgcggaacctgacgatcatcggcgacgcgatcgacaacgtcagggccaacaggggtatcgacctcgacctggaatccgtgccgctggacgacaaggccacctatgagctgctgggccgcggcgacaccctgggcgtgttccagctcgacggcgggcccatgcgcgacctgctgcgccgcatgcagccgaccg\n",
      "half eblock 209\n",
      "194 209 7662 7677 7402 7502\n",
      "{'PRIMER_LEFT_EXPLAIN': 'considered 18, low tm 9, high tm 8, ok 1', 'PRIMER_RIGHT_EXPLAIN': 'considered 18, low tm 10, high tm 4, ok 4', 'PRIMER_INTERNAL_EXPLAIN': 'considered 78495, GC content failed 2097, low tm 37377, high tm 16599, high hairpin stability 45, ok 22377', 'PRIMER_PAIR_EXPLAIN': 'considered 24, unacceptable product size 20, ok 4', 'PRIMER_LEFT_NUM_RETURNED': 4, 'PRIMER_RIGHT_NUM_RETURNED': 4, 'PRIMER_INTERNAL_NUM_RETURNED': 4, 'PRIMER_PAIR_NUM_RETURNED': 4, 'PRIMER_PAIR': [{'PENALTY': 4.8786221159054435, 'COMPL_ANY_TH': 0.0, 'COMPL_END_TH': 0.0, 'PRODUCT_SIZE': 7469, 'PRODUCT_TM': 90.22676366956973}, {'PENALTY': 5.342721564421765, 'COMPL_ANY_TH': 0.0, 'COMPL_END_TH': 0.0, 'PRODUCT_SIZE': 7469, 'PRODUCT_TM': 90.22676366956973}, {'PENALTY': 7.216017460158071, 'COMPL_ANY_TH': 0.0, 'COMPL_END_TH': 0.0, 'PRODUCT_SIZE': 7469, 'PRODUCT_TM': 90.22676366956973}, {'PENALTY': 7.802924687088478, 'COMPL_ANY_TH': 0.0, 'COMPL_END_TH': 0.0, 'PRODUCT_SIZE': 7469, 'PRODUCT_TM': 90.22676366956973}], 'PRIMER_LEFT': [{'PENALTY': 3.5014196993598716, 'SEQUENCE': 'atcgcgcagaaggtggc', 'COORDS': [194, 17], 'TM': 60.50141969935987, 'GC_PERCENT': 64.70588235294117, 'SELF_ANY_TH': 8.74883535431286, 'SELF_END_TH': 0.0, 'HAIRPIN_TH': 0.0, 'END_STABILITY': 5.01}, {'PENALTY': 3.5014196993598716, 'SEQUENCE': 'atcgcgcagaaggtggc', 'COORDS': [194, 17], 'TM': 60.50141969935987, 'GC_PERCENT': 64.70588235294117, 'SELF_ANY_TH': 8.74883535431286, 'SELF_END_TH': 0.0, 'HAIRPIN_TH': 0.0, 'END_STABILITY': 5.01}, {'PENALTY': 3.5014196993598716, 'SEQUENCE': 'atcgcgcagaaggtggc', 'COORDS': [194, 17], 'TM': 60.50141969935987, 'GC_PERCENT': 64.70588235294117, 'SELF_ANY_TH': 8.74883535431286, 'SELF_END_TH': 0.0, 'HAIRPIN_TH': 0.0, 'END_STABILITY': 5.01}, {'PENALTY': 3.5014196993598716, 'SEQUENCE': 'atcgcgcagaaggtggc', 'COORDS': [194, 17], 'TM': 60.50141969935987, 'GC_PERCENT': 64.70588235294117, 'SELF_ANY_TH': 8.74883535431286, 'SELF_END_TH': 0.0, 'HAIRPIN_TH': 0.0, 'END_STABILITY': 5.01}], 'PRIMER_RIGHT': [{'PENALTY': 1.3772024165455719, 'SEQUENCE': 'tttcagcagaccgatggcc', 'COORDS': [7662, 19], 'TM': 60.37720241654557, 'GC_PERCENT': 57.89473684210526, 'SELF_ANY_TH': 0.0, 'SELF_END_TH': 0.0, 'HAIRPIN_TH': 0.0, 'END_STABILITY': 5.36}, {'PENALTY': 1.8413018650618937, 'SEQUENCE': 'tttcagcagaccgatggcct', 'COORDS': [7662, 20], 'TM': 61.841301865061894, 'GC_PERCENT': 55.0, 'SELF_ANY_TH': 3.3213477845341117, 'SELF_END_TH': 0.0, 'HAIRPIN_TH': 0.0, 'END_STABILITY': 5.19}, {'PENALTY': 3.714597760798199, 'SEQUENCE': 'tttcagcagaccgatggcctc', 'COORDS': [7662, 21], 'TM': 62.7145977607982, 'GC_PERCENT': 57.142857142857146, 'SELF_ANY_TH': 3.3213477845341117, 'SELF_END_TH': 0.0, 'HAIRPIN_TH': 0.0, 'END_STABILITY': 4.7}, {'PENALTY': 4.301504987728606, 'SEQUENCE': 'tttcagcagaccgatggc', 'COORDS': [7662, 18], 'TM': 57.698495012271394, 'GC_PERCENT': 55.55555555555556, 'SELF_ANY_TH': 0.0, 'SELF_END_TH': 0.0, 'HAIRPIN_TH': 0.0, 'END_STABILITY': 4.4}], 'PRIMER_INTERNAL': [{'PENALTY': 0.021578954679455364, 'SEQUENCE': 'caaacaggtgttggcgcgcc', 'COORDS': [1423, 20], 'TM': 59.978421045320545, 'GC_PERCENT': 65.0, 'SELF_ANY_TH': 38.40558149698387, 'SELF_END_TH': 38.40558149698387, 'HAIRPIN_TH': 34.71130427324374}, {'PENALTY': 0.021578954679455364, 'SEQUENCE': 'caaacaggtgttggcgcgcc', 'COORDS': [1423, 20], 'TM': 59.978421045320545, 'GC_PERCENT': 65.0, 'SELF_ANY_TH': 38.40558149698387, 'SELF_END_TH': 38.40558149698387, 'HAIRPIN_TH': 34.71130427324374}, {'PENALTY': 0.021578954679455364, 'SEQUENCE': 'caaacaggtgttggcgcgcc', 'COORDS': [1423, 20], 'TM': 59.978421045320545, 'GC_PERCENT': 65.0, 'SELF_ANY_TH': 38.40558149698387, 'SELF_END_TH': 38.40558149698387, 'HAIRPIN_TH': 34.71130427324374}, {'PENALTY': 0.021578954679455364, 'SEQUENCE': 'caaacaggtgttggcgcgcc', 'COORDS': [1423, 20], 'TM': 59.978421045320545, 'GC_PERCENT': 65.0, 'SELF_ANY_TH': 38.40558149698387, 'SELF_END_TH': 38.40558149698387, 'HAIRPIN_TH': 34.71130427324374}], 'PRIMER_PAIR_0_PENALTY': 4.8786221159054435, 'PRIMER_LEFT_0_PENALTY': 3.5014196993598716, 'PRIMER_RIGHT_0_PENALTY': 1.3772024165455719, 'PRIMER_INTERNAL_0_PENALTY': 0.021578954679455364, 'PRIMER_LEFT_0_SEQUENCE': 'atcgcgcagaaggtggc', 'PRIMER_RIGHT_0_SEQUENCE': 'tttcagcagaccgatggcc', 'PRIMER_INTERNAL_0_SEQUENCE': 'caaacaggtgttggcgcgcc', 'PRIMER_LEFT_0': [194, 17], 'PRIMER_RIGHT_0': [7662, 19], 'PRIMER_INTERNAL_0': [1423, 20], 'PRIMER_LEFT_0_TM': 60.50141969935987, 'PRIMER_RIGHT_0_TM': 60.37720241654557, 'PRIMER_INTERNAL_0_TM': 59.978421045320545, 'PRIMER_LEFT_0_GC_PERCENT': 64.70588235294117, 'PRIMER_RIGHT_0_GC_PERCENT': 57.89473684210526, 'PRIMER_INTERNAL_0_GC_PERCENT': 65.0, 'PRIMER_LEFT_0_SELF_ANY_TH': 8.74883535431286, 'PRIMER_RIGHT_0_SELF_ANY_TH': 0.0, 'PRIMER_INTERNAL_0_SELF_ANY_TH': 38.40558149698387, 'PRIMER_LEFT_0_SELF_END_TH': 0.0, 'PRIMER_RIGHT_0_SELF_END_TH': 0.0, 'PRIMER_INTERNAL_0_SELF_END_TH': 38.40558149698387, 'PRIMER_LEFT_0_HAIRPIN_TH': 0.0, 'PRIMER_RIGHT_0_HAIRPIN_TH': 0.0, 'PRIMER_INTERNAL_0_HAIRPIN_TH': 34.71130427324374, 'PRIMER_LEFT_0_END_STABILITY': 5.01, 'PRIMER_RIGHT_0_END_STABILITY': 5.36, 'PRIMER_PAIR_0_COMPL_ANY_TH': 0.0, 'PRIMER_PAIR_0_COMPL_END_TH': 0.0, 'PRIMER_PAIR_0_PRODUCT_SIZE': 7469, 'PRIMER_PAIR_0_PRODUCT_TM': 90.22676366956973, 'PRIMER_PAIR_1_PENALTY': 5.342721564421765, 'PRIMER_LEFT_1_PENALTY': 3.5014196993598716, 'PRIMER_RIGHT_1_PENALTY': 1.8413018650618937, 'PRIMER_INTERNAL_1_PENALTY': 0.021578954679455364, 'PRIMER_LEFT_1_SEQUENCE': 'atcgcgcagaaggtggc', 'PRIMER_RIGHT_1_SEQUENCE': 'tttcagcagaccgatggcct', 'PRIMER_INTERNAL_1_SEQUENCE': 'caaacaggtgttggcgcgcc', 'PRIMER_LEFT_1': [194, 17], 'PRIMER_RIGHT_1': [7662, 20], 'PRIMER_INTERNAL_1': [1423, 20], 'PRIMER_LEFT_1_TM': 60.50141969935987, 'PRIMER_RIGHT_1_TM': 61.841301865061894, 'PRIMER_INTERNAL_1_TM': 59.978421045320545, 'PRIMER_LEFT_1_GC_PERCENT': 64.70588235294117, 'PRIMER_RIGHT_1_GC_PERCENT': 55.0, 'PRIMER_INTERNAL_1_GC_PERCENT': 65.0, 'PRIMER_LEFT_1_SELF_ANY_TH': 8.74883535431286, 'PRIMER_RIGHT_1_SELF_ANY_TH': 3.3213477845341117, 'PRIMER_INTERNAL_1_SELF_ANY_TH': 38.40558149698387, 'PRIMER_LEFT_1_SELF_END_TH': 0.0, 'PRIMER_RIGHT_1_SELF_END_TH': 0.0, 'PRIMER_INTERNAL_1_SELF_END_TH': 38.40558149698387, 'PRIMER_LEFT_1_HAIRPIN_TH': 0.0, 'PRIMER_RIGHT_1_HAIRPIN_TH': 0.0, 'PRIMER_INTERNAL_1_HAIRPIN_TH': 34.71130427324374, 'PRIMER_LEFT_1_END_STABILITY': 5.01, 'PRIMER_RIGHT_1_END_STABILITY': 5.19, 'PRIMER_PAIR_1_COMPL_ANY_TH': 0.0, 'PRIMER_PAIR_1_COMPL_END_TH': 0.0, 'PRIMER_PAIR_1_PRODUCT_SIZE': 7469, 'PRIMER_PAIR_1_PRODUCT_TM': 90.22676366956973, 'PRIMER_PAIR_2_PENALTY': 7.216017460158071, 'PRIMER_LEFT_2_PENALTY': 3.5014196993598716, 'PRIMER_RIGHT_2_PENALTY': 3.714597760798199, 'PRIMER_INTERNAL_2_PENALTY': 0.021578954679455364, 'PRIMER_LEFT_2_SEQUENCE': 'atcgcgcagaaggtggc', 'PRIMER_RIGHT_2_SEQUENCE': 'tttcagcagaccgatggcctc', 'PRIMER_INTERNAL_2_SEQUENCE': 'caaacaggtgttggcgcgcc', 'PRIMER_LEFT_2': [194, 17], 'PRIMER_RIGHT_2': [7662, 21], 'PRIMER_INTERNAL_2': [1423, 20], 'PRIMER_LEFT_2_TM': 60.50141969935987, 'PRIMER_RIGHT_2_TM': 62.7145977607982, 'PRIMER_INTERNAL_2_TM': 59.978421045320545, 'PRIMER_LEFT_2_GC_PERCENT': 64.70588235294117, 'PRIMER_RIGHT_2_GC_PERCENT': 57.142857142857146, 'PRIMER_INTERNAL_2_GC_PERCENT': 65.0, 'PRIMER_LEFT_2_SELF_ANY_TH': 8.74883535431286, 'PRIMER_RIGHT_2_SELF_ANY_TH': 3.3213477845341117, 'PRIMER_INTERNAL_2_SELF_ANY_TH': 38.40558149698387, 'PRIMER_LEFT_2_SELF_END_TH': 0.0, 'PRIMER_RIGHT_2_SELF_END_TH': 0.0, 'PRIMER_INTERNAL_2_SELF_END_TH': 38.40558149698387, 'PRIMER_LEFT_2_HAIRPIN_TH': 0.0, 'PRIMER_RIGHT_2_HAIRPIN_TH': 0.0, 'PRIMER_INTERNAL_2_HAIRPIN_TH': 34.71130427324374, 'PRIMER_LEFT_2_END_STABILITY': 5.01, 'PRIMER_RIGHT_2_END_STABILITY': 4.7, 'PRIMER_PAIR_2_COMPL_ANY_TH': 0.0, 'PRIMER_PAIR_2_COMPL_END_TH': 0.0, 'PRIMER_PAIR_2_PRODUCT_SIZE': 7469, 'PRIMER_PAIR_2_PRODUCT_TM': 90.22676366956973, 'PRIMER_PAIR_3_PENALTY': 7.802924687088478, 'PRIMER_LEFT_3_PENALTY': 3.5014196993598716, 'PRIMER_RIGHT_3_PENALTY': 4.301504987728606, 'PRIMER_INTERNAL_3_PENALTY': 0.021578954679455364, 'PRIMER_LEFT_3_SEQUENCE': 'atcgcgcagaaggtggc', 'PRIMER_RIGHT_3_SEQUENCE': 'tttcagcagaccgatggc', 'PRIMER_INTERNAL_3_SEQUENCE': 'caaacaggtgttggcgcgcc', 'PRIMER_LEFT_3': [194, 17], 'PRIMER_RIGHT_3': [7662, 18], 'PRIMER_INTERNAL_3': [1423, 20], 'PRIMER_LEFT_3_TM': 60.50141969935987, 'PRIMER_RIGHT_3_TM': 57.698495012271394, 'PRIMER_INTERNAL_3_TM': 59.978421045320545, 'PRIMER_LEFT_3_GC_PERCENT': 64.70588235294117, 'PRIMER_RIGHT_3_GC_PERCENT': 55.55555555555556, 'PRIMER_INTERNAL_3_GC_PERCENT': 65.0, 'PRIMER_LEFT_3_SELF_ANY_TH': 8.74883535431286, 'PRIMER_RIGHT_3_SELF_ANY_TH': 0.0, 'PRIMER_INTERNAL_3_SELF_ANY_TH': 38.40558149698387, 'PRIMER_LEFT_3_SELF_END_TH': 0.0, 'PRIMER_RIGHT_3_SELF_END_TH': 0.0, 'PRIMER_INTERNAL_3_SELF_END_TH': 38.40558149698387, 'PRIMER_LEFT_3_HAIRPIN_TH': 0.0, 'PRIMER_RIGHT_3_HAIRPIN_TH': 0.0, 'PRIMER_INTERNAL_3_HAIRPIN_TH': 34.71130427324374, 'PRIMER_LEFT_3_END_STABILITY': 5.01, 'PRIMER_RIGHT_3_END_STABILITY': 4.4, 'PRIMER_PAIR_3_COMPL_ANY_TH': 0.0, 'PRIMER_PAIR_3_COMPL_END_TH': 0.0, 'PRIMER_PAIR_3_PRODUCT_SIZE': 7469, 'PRIMER_PAIR_3_PRODUCT_TM': 90.22676366956973}\n",
      "left 194 right 7662\n",
      "------------------------------------------------------------------------------------\n",
      "eBlock-5 2589 3509 920 cgggctgggcgcggtgcgcaacgttggcgctaatgtcgtgggctcgttgctccaaacccgcaacgacaagggcaagttcaccgacttttcggactacctgaacaagatcgacatctcggcgtgcaacaagaaggtgaccgaatcgctgatcaaggcgggtgcgttcgactcgctggggcatgcccgcaagggtcttttcctggtgcacagcgatgcggtggactcggtgctgggcaccaagaaggccgaggcactggggcagttcgatctcttcggcagcaatgatgatgggaccggcaccgcagatcccgtgttcaccatcaaggtgcccgatgatgagtgggaggacaaacacaaactcgccctagagcgcgagatgctgggactgtacgtctcggggcatcccctcaacggtgtggcacacttgctggctgcccaggtcgacaccgcgatcccagcgatcctcgacggcgatgtccccaacgatgcccaagtgcgggtgggcggcatcctggcgtcggtgaaccggagggtcaacaaaaacggaatgccatgggcttcagcgcaattggaggatctcacgggcggcatcgaggtgatgttcttcccgcacacctactccagctatggtgccgacatcgtcgacgatgccgtcgtgctggtcaacgccaaggtggcggtccgtgacgaccgcatcgcattgatcgccaatgacctcacagtgcccgacttttccaacgccgaggtggagcggccgctggcggtcagcttgcccacccggcagtgcacctttgacaaggtgagtgcgctcaaacaggtgttggcgcgccaccccggcacctcgcaggtgcatctgcggctcatcagcggagaccggatcaccacgctggcacttgatcagtcgttgcgggtgacgccgt\n",
      "middle index 3049\n",
      "length result 6951\n",
      "sequence template atcctcgacggcgatgtccccaacgatgcccaagtgcgggtgggcggcatcctggcgtcggtgaaccggagggtcaacaaaaacggaatgccatgggcttcagcgcaattggaggatctcacgggcggcatcgaggtgatgttcttcccgcacacctactccagctatggtgccgacatcgtcgacgatgccgtcgtgctggtcaacgccaaggtggcggtccgtgacgaccgcatcgcattgatcgccaatgacctcacagtgcccgacttttccaacgccgaggtggagcggccgctggcggtcagcttgcccacccggcagtgcacctttgacaaggtgagtgcgctcaaacaggtgttggcgcgccaccccggcacctcgcaggtgcatctgcggctcatcagcggagaccggatcaccacgctggcacttgatcagtcgttgcgggtgacgccgtcgccggcgttgatgggtgacctcaaggagctgctcggccctggatgtctggggagttagtgaagagcggccaccgaggccgggagcggatttgaacgttgcgaagcaacggcccggagggtggcgggcaggacgcccgccataaactgccaggcatcaaattaagcagaaggccatcctgacggatggcctttttgcgtttctacaaactcttttgtttatttttctaaatacattcaaatatgtatccgctcatgaattccccgcgcgcgatgccctttcgtcttcgaataaatacctgtgacggaagatcacttcgcagaataaataaatcctggtgtccctgttgataccgggaagccctgggccaacttttggcgaaaatgagacgttgatcggcacgtaagaggttccaactttcaccataatgaaataagatcactaccgggcgtattttttgagttatcgagattttcaggagctaaggaagctaaaatggagaaaaaaatcactggatataccaccgttgatatatcccaatggcatcgtaaagaacattttgaggcatttcagtcagttgctcaatgtacctataaccagaccgttcagctggatattacggcctttttaaagaccgtaaagaaaaataagcacaagttttatccggcctttattcacattcttgcccgcctgatgaatgctcatccggaatttcgtatggcaatgaaagacggtgagctggtgatatgggatagtgttcacccttgttacaccgttttccatgagcaaactgaaacgttttcatcgctctggagtgaataccacgacgatttccggcagtttctacacatatattcgcaagatgtggcgtgttacggtgaaaacctggcctatttccctaaagggtttattgagaatatgtttttcgtctcagccaatccctgggtgagtttcaccagttttgatttaaacgtggcgaatatggacaacttcttcgcccccgttttcactatgggcaaatattatacgcaaggcgacaaggtgctgatgccgctggcgattcaggttcatcatgccgtctgtgatggcttccatgtcggcagaatgcttaatgaattacaacagtactgcgatgagtggcagggcggggcgtaatttttttaaggcagttattggtgcccttaaacgcctggttgctacgcctgaataagtgataataagcggatgaatggcagaaattcgagcccgcctaatgagcgggcttttttttagcccgcctaatgagcgggcttttttttcgaaagcaaattcgacccatcgcgcgcggggagtcaactcagcaaaagttcgatttattcaacaaagccacgttgtgtctcaaaatctctgatgttacattgcacaagataaaaatatatcatcatgcatgaccaaaatcccttaacgtgagttttcgttccactgagcgtcagaccccgtagaaaagatcaaaggatcttcttgagatcctttttttctgcgcgtaatctgctgcttgcaaacaaaaaaaccaccgctaccagcggtggtttgtttgccggatcaagagctaccaactctttttccgaaggtaactggcttcagcagagcgcagataccaaatactgtccttctagtgtagccgtagttaggccaccacttcaagaactctgtagcaccgcctacatacctcgctctgctaatcctgttaccagtggctgctgccagtggcgataagtcgtgtcttaccgggttggactcaagacgatagttaccggataaggcgcagcggtcgggctgaacggggggttcgtgcacacagcccagcttggagcgaacgacctacaccgaactgagatacctacagcgtgagctatgagaaagcgccacgcttcccgaagggagaaaggcggacaggtatccggtaagcggcagggtcggaacaggagagcgcacgagggagcttccagggggaaacgcctggtatctttatagtcctgtcgggtttcgccacctctgacttgagcgtcgatttttgtgatgctcgtcaggggggcggagcctatggaaaaacgccagcaacgcggcctttttacggttcctggccttttgctggccttttgctcacatgttctttcctgcgttatcccctgattctgtggataaccgtattaccgcctttgagtgagctgataccgctcgccgcagccgaacgaccgagcgcagcgagtcagtgagcgaggaagcggaagatcgggcccagccggcccacatatacctgccgttcactattatttagtgaaatgagatattatgatattttctgaattgtgattaaaaaggcaactttatgcccatgcaacagaaactataaaaaatacagagaatgaaaagaaacagatagattttttagttctttaggcccgtagtctgcaaatccttttatgattttctatcaaacaaaagaggaaaatagaccagttgcaatccaaacgagagtctaatagaatgaggtcgaaaagtaaatcgcgcgggtttgttactgataaagcaggcaagacctaaaatgtgtaaagggcaaagtgtatactttggcgtcaccccttacatattttaggtctttttttattgtgcgtaactaacttgccatcttcaaacaggagggctggaagaagcagaccgctaacacagtacataaaaaaggagacatgaacgatgaacatcaaaaagtttgcaaaacaagcaacagtattaacctttactaccgcactgctggcaggaggcgcaactcaagcgtttgcgaaagaaacgaaccaaaagccatataaggaaacatacggcatttcccatattacacgccatgatatgctgcaaatccctgaacagcaaaaaaatgaaaaatataaagttcctgagttcgattcgtccacaattaaaaatatctcttctgcaaaaggcctggacgtttgggacagctggccattacaaaacactgacggcactgtcgcaaactatcacggctaccacatcgtctttgcattagccggagatcctaaaaatgcggatgacacatcgatttacatgttctatcaaaaagtcggcgaaacttctattgacagctggaaaaacgctggccgcgtctttaaagacagcgacaaattcgatgcaaatgattctatcctaaaagaccaaacacaagaatggtcaggttcagccacatttacatctgacggaaaaatccgtttattctacactgatttctccggtaaacattacggcaaacaaacactgacaactgcacaagttaacgtatcagcatcagacagctctttgaacatcaacggtgtagaggattataaatcaatctttgacggtgacggaaaaacgtatcaaaatgtacagcagttcatcgatgaaggcaactacagctcaggcgacaaccatacgctgagagatcctcactacgtagaagataaaggccacaaatacttagtatttgaagcaaacactggaactgaagatggctaccaaggcgaagaatctttatttaacaaagcatactatggcaaaagcacatcattcttccgtcaagaaagtcaaaaacttctgcaaagcgataaaaaacgcacggctgagttagcaaacggcgctctcggtatgattgagctaaacgatgattacacactgaaaaaagtgatgaaaccgctgattgcatctaacacagtaacagatgaaattgaacgcgcgaacgtctttaaaatgaacggcaaatggtacctgttcactgactcccgcggatcaaaaatgacgattgacggcattacgtctaacgatatttacatgcttggttatgtttctaattctttaactggcccatacaagccgctgaacaaaactggccttgtgttaaaaatggatcttgatcctaacgatgtaacctttacttactcacacttcgctgtacctcaagcgaaaggaaacaatgtcgtgattacaagctatatgacaaacagaggattctacgcagacaaacaatcaacgtttgcgcctagcttcctgctgaacatcaaaggcaagaaaacatctgttgtcaaagacagcatccttgaacaaggacaattaacagttaacaaataaaaacgcaaaagaaaatgccgatatcctattggcattgcggccgcggtctcggcggtgggtcgtctagaggcatcaaataaaacgaaaggctcagtcgaaagactgggcctttcgttttatctgttgtttgtcggtgaacgctctcctgagtaggacaaatccgccgccctagacctagcggccggccgcaagcgctgcacggcctggttggccgctcttctAtgagcggttcatctgcggggtcctccttcgtgcacctgcacaaccacaccgagtattcgatgctggacggtgccgcgaagatcacgcccatgctcgccgaggtggagcggctggggatgcccgcggtggggatgaccgaccacggaaacatgttcggtgccagcgagttctacaactccgcgaccaaggccgggatcaagccgatcatcggcgtggaggcatacatcgcgccgggctcgcggttcgacacccggcgcatcctgtggggtgaccccagccaaaaggccgacgacgtctccggcagcggctcctacacgcacctgacgatgatggccgagaacgccaccggtctgcgcaacctgttcaagctgtcctcgcatgcttccttcgagggccagctgagcaagtggtcgcgcatggacgccgagctcatcgccgaacacgccgagggcatcatcatcaccaccggatgcccgtcgggggaggtgcagacccgcctgcggctcggccaggatcgggaggcgctcgaagccgcggcgaagtggcgggagatcgtcggaccggacaactacttccttgagctgatggaccacgggctgaccatcgaacgccgggtccgtgacggtctgctcgagatcggacgcgcgctcaacattccgcctcttgccaccaatgactgccactacgtgacccgcgacgccgcccacaaccatgaggctttgttgtgtgtgcagaccggcaagaccctctcggatccgaatcgcttcaagttcgacggtgacggctactacctgaagtcggccgccgagatgcgccagatctgggacgacgaagtgccgggcgcgtgtgactccaccttgttgatcgccgaacgggtgcagtcctacgccgacgtgtggacaccgcgcgaccggatgcccgtgtttccggtgcccgatgggcatgaccaggcgtcctggctgcgtcacgaggtggacgccgggcttcgccggcgatttccggccggtccgccggacgggtaccgcgagcgcgccgcctacgagatcgacgtcatctgctccaaaggtttcccatcgtactttctgatcgtcgccgacctgatcagctacgcgcggtcggcgggcataagggtgggtcccggccgcggctcggccgccggctcgctggtcgcctacgcgctgggcatcaccgacatcgacccgattccacacggtctgctgttcgagcggttcctcaaccccgagcgcacctcgatgcccgacatcgatatcgacttcgacgaccggcgccgcggtgagatggtgcgctacgcagccgacaagtggggccacgaccgggtcgcgcaggtcatcaccttcggcaccatcaaaaccaaagcggcgctgaaggattcggcgcgaatccactacgggcagcccgggttcgccatcgccgaccggatcaccaaggcgttgccgccggcgatcatggccaaagacatcccgctgtctgggatcaccgatcccagccacgaacggtacaaggaggccgccgaggtccgcggcctgatcgaaaccgacccggacgtacgcaccatctaccagaccgcacgcgggttggaaggcctgatccgcaacgcgggtgtgcacgcctgcgcggtgatcatgagcagcgagccgctgactgaggccatcccgttgtggaagcggccgcaggacggggccatcatcaccggctgggattacccggcgtgcgaggccatcggtctgctgaaaatggacttcctgggcctgcggaacctgacgatcatcggcgacgcgatcgacaacgtcagggccaacaggggtatcgacctcgacctggaatccgtgccgctggacgacaaggccacctatgagctgctgggccgcggcgacaccctgggcgtgttccagctcgacggcgggcccatgcgcgacctgctgcgccgcatgcagccgaccgggttcgaagacgtcgtcgccgttatcgcgctgtaccggcccggcccgatgggcatgaacgcacacaacgactatgccgaccgcaagaacaaccggcaggccatcaaacctattcacccggaactcgaagaaccgctgcgcgagatcctcgccgagacctacggcctcatcgtctatcaagagcagatcatgcgcatcgcgcagaaggtggcgagctactcgttggcccgcgccgacattctacgcaaggccatgggcaagaagaaacgcgaggtgctggagaaggagttcgagggcttctccgatggcatgcaggccaacgggttctctccggcggccatcaaggcgctgtgggacaccatcctgccgttcgctgactacgcgttcaacaagtcacatgccgccggctacggcatggtgtcctactggacggcctacctcaaggccaactatcccgccgagtacatggccggtctgttgacgtcggtcggcgacgataaagacaaggccgcggtttatctggccgactgccgcaagctcggcatcaccgtgctcccgcccgacgtcaacgaatctggcttgaacttcgcatcggtcggccaagacatccgctacgggctgggcgcggtgcgcaacgttggcgctaatgtcgtgggctcgttgctccaaacccgcaacgacaagggcaagttcaccgacttttcggactacctgaacaagatcgacatctcggcgtgcaacaagaaggtgaccgaatcgctgatcaaggcgggtgcgttcgactcgctggggcatgcccgcaagggtcttttcctggtgcacagcgatgcggtggactcggtgctgggcaccaagaaggccgaggcactggggcagttcgatctcttcggcagcaatgatgatgggaccggcaccgcagatcccgtgttcaccatcaaggtgcccgatgatgagtgggaggacaaacacaaactcgccctagagcgcgagatgctgggactgtacgtctcggggcatcccctcaacggtgtggcacacttgctggctgcccaggtcgacaccgcgatcccagcg\n",
      "half eblock 460\n",
      "445 460 7411 7426 6901 7001\n",
      "{'PRIMER_LEFT_EXPLAIN': 'considered 18, GC content failed 9, low tm 5, high tm 3, ok 1', 'PRIMER_RIGHT_EXPLAIN': 'considered 18, low tm 10, high tm 5, high hairpin stability 2, ok 1', 'PRIMER_INTERNAL_EXPLAIN': 'considered 78495, GC content failed 2100, low tm 37374, high tm 16610, high hairpin stability 5, ok 22406', 'PRIMER_PAIR_EXPLAIN': 'considered 16, unacceptable product size 15, ok 1', 'PRIMER_LEFT_NUM_RETURNED': 1, 'PRIMER_RIGHT_NUM_RETURNED': 1, 'PRIMER_INTERNAL_NUM_RETURNED': 1, 'PRIMER_PAIR_NUM_RETURNED': 1, 'PRIMER_PAIR': [{'PENALTY': 9.329493391613084, 'COMPL_ANY_TH': 6.551301821165453, 'COMPL_END_TH': 3.7321372479410684, 'PRODUCT_SIZE': 6965, 'PRODUCT_TM': 90.01825277933062}], 'PRIMER_LEFT': [{'PENALTY': 5.202969875749659, 'SEQUENCE': 'cgggtgacgccgtcg', 'COORDS': [447, 15], 'TM': 60.20296987574966, 'GC_PERCENT': 80.0, 'SELF_ANY_TH': 13.183357839508403, 'SELF_END_TH': 0.0, 'HAIRPIN_TH': 42.42614360166698, 'END_STABILITY': 5.12}], 'PRIMER_RIGHT': [{'PENALTY': 4.1265235158634255, 'SEQUENCE': 'gtagcggatgtcttggcc', 'COORDS': [7411, 18], 'TM': 57.873476484136575, 'GC_PERCENT': 61.111111111111114, 'SELF_ANY_TH': 0.0, 'SELF_END_TH': 0.0, 'HAIRPIN_TH': 0.0, 'END_STABILITY': 5.36}], 'PRIMER_INTERNAL': [{'PENALTY': 0.022325893992729107, 'SEQUENCE': 'gatcgggaggcgctcgaagc', 'COORDS': [5348, 20], 'TM': 59.97767410600727, 'GC_PERCENT': 70.0, 'SELF_ANY_TH': 13.404831270818306, 'SELF_END_TH': 3.995484895515119, 'HAIRPIN_TH': 33.22528753648538}], 'PRIMER_PAIR_0_PENALTY': 9.329493391613084, 'PRIMER_LEFT_0_PENALTY': 5.202969875749659, 'PRIMER_RIGHT_0_PENALTY': 4.1265235158634255, 'PRIMER_INTERNAL_0_PENALTY': 0.022325893992729107, 'PRIMER_LEFT_0_SEQUENCE': 'cgggtgacgccgtcg', 'PRIMER_RIGHT_0_SEQUENCE': 'gtagcggatgtcttggcc', 'PRIMER_INTERNAL_0_SEQUENCE': 'gatcgggaggcgctcgaagc', 'PRIMER_LEFT_0': [447, 15], 'PRIMER_RIGHT_0': [7411, 18], 'PRIMER_INTERNAL_0': [5348, 20], 'PRIMER_LEFT_0_TM': 60.20296987574966, 'PRIMER_RIGHT_0_TM': 57.873476484136575, 'PRIMER_INTERNAL_0_TM': 59.97767410600727, 'PRIMER_LEFT_0_GC_PERCENT': 80.0, 'PRIMER_RIGHT_0_GC_PERCENT': 61.111111111111114, 'PRIMER_INTERNAL_0_GC_PERCENT': 70.0, 'PRIMER_LEFT_0_SELF_ANY_TH': 13.183357839508403, 'PRIMER_RIGHT_0_SELF_ANY_TH': 0.0, 'PRIMER_INTERNAL_0_SELF_ANY_TH': 13.404831270818306, 'PRIMER_LEFT_0_SELF_END_TH': 0.0, 'PRIMER_RIGHT_0_SELF_END_TH': 0.0, 'PRIMER_INTERNAL_0_SELF_END_TH': 3.995484895515119, 'PRIMER_LEFT_0_HAIRPIN_TH': 42.42614360166698, 'PRIMER_RIGHT_0_HAIRPIN_TH': 0.0, 'PRIMER_INTERNAL_0_HAIRPIN_TH': 33.22528753648538, 'PRIMER_LEFT_0_END_STABILITY': 5.12, 'PRIMER_RIGHT_0_END_STABILITY': 5.36, 'PRIMER_PAIR_0_COMPL_ANY_TH': 6.551301821165453, 'PRIMER_PAIR_0_COMPL_END_TH': 3.7321372479410684, 'PRIMER_PAIR_0_PRODUCT_SIZE': 6965, 'PRIMER_PAIR_0_PRODUCT_TM': 90.01825277933062}\n",
      "left 447 right 7411\n",
      "------------------------------------------------------------------------------------\n"
     ]
    }
   ],
   "source": [
    "# Process the sequence to allow for primer design with primer3\n",
    "\n",
    "min_OH = 15 # TODO fetch from the design instance\n",
    "primer_results = {}\n",
    "\n",
    "\n",
    "print(vector_instance.length)\n",
    "for eblock in design_instance.wt_eblocks:\n",
    "    print(eblock.name, eblock.start_index, eblock.end_index, len(eblock.sequence), eblock.sequence)\n",
    "\n",
    "    # Find the middle index of the eblock\n",
    "    middle_index = (eblock.start_index + eblock.end_index) // 2\n",
    "    print(\"middle index\", middle_index)\n",
    "\n",
    "    length_result = len(vector_instance.vector.seq) - len(eblock.sequence)\n",
    "    print(\"length result\", length_result)\n",
    "    len_start = length_result - 50\n",
    "    len_end = length_result + 50\n",
    "\n",
    "    # refactor the sequence\n",
    "    # sequence_template = vector_instance.vector.seq[middle_index:] + vector_instance.vector.seq[:middle_index]\n",
    "    sequence_template = vector_instance.vector.seq[middle_index:] + vector_instance.vector.seq[:middle_index]\n",
    "    print(\"sequence template\", sequence_template)\n",
    "\n",
    "    oh_sequence_left = eblock.end_index - min_OH\n",
    "    oh_sequence_right = eblock.start_index + min_OH\n",
    "\n",
    "    half_eblock = len(eblock.sequence) // 2\n",
    "    print(\"half eblock\", half_eblock)\n",
    "    fw_end_range = circular_index(half_eblock, len(vector_instance.vector.seq))\n",
    "    fw_start_range = circular_index(half_eblock - min_OH, len(vector_instance.vector.seq))\n",
    "\n",
    "    rv_start_range = circular_index(len(vector_instance.vector.seq) - half_eblock, len(vector_instance.vector.seq))\n",
    "    rv_end_range = circular_index(len(vector_instance.vector.seq) - half_eblock + min_OH, len(vector_instance.vector.seq))\n",
    "\n",
    "    print(fw_start_range, fw_end_range, rv_start_range, rv_end_range, len_start, len_end)\n",
    "    fw, rv = find_primerpair(sequence_template, fw_start_range, fw_end_range, rv_start_range, rv_end_range, len_start, len_end)\n",
    "    primer_results[eblock.name] = fw, rv\n",
    "\n",
    "    print('------------------------------------------------------------------------------------')\n"
   ]
  },
  {
   "cell_type": "code",
   "execution_count": 38,
   "metadata": {},
   "outputs": [
    {
     "name": "stdout",
     "output_type": "stream",
     "text": [
      "eBlock-1 ('cccgatgggcatgaccag', 'agagcggccaaccagg')\n",
      "eBlock-2 ('gtgagatggtgcgctacg', 'cgcctggtcatgcccatc')\n",
      "eBlock-3 ('gacgcgatcgacaacgtc', 'tgatcccagacagcggg')\n",
      "eBlock-4 ('atcgcgcagaaggtggc', 'tttcagcagaccgatggcc')\n",
      "eBlock-5 ('cgggtgacgccgtcg', 'gtagcggatgtcttggcc')\n"
     ]
    }
   ],
   "source": [
    "for key, value in primer_results.items():\n",
    "    print(key, value)"
   ]
  },
  {
   "cell_type": "code",
   "execution_count": 19,
   "metadata": {},
   "outputs": [],
   "source": [
    "### DESIGN SEQUENCING PRIMERS USING PRIMER 3\n",
    "\n",
    "# PRIMER_TASK=pick_sequencing_primers\n",
    "\n",
    "# circularity not a problem for sequencing primer\n",
    "# for each eBlock design a FW and RV primer to sequence the start and the end of the eBlock"
   ]
  },
  {
   "cell_type": "code",
   "execution_count": null,
   "metadata": {},
   "outputs": [],
   "source": []
  },
  {
   "cell_type": "code",
   "execution_count": 127,
   "metadata": {},
   "outputs": [],
   "source": [
    "def design_sequencing_primer(sequence, start, end, direction):\n",
    "    try:\n",
    "        result = primer3.bindings.design_primers(\n",
    "            seq_args={\n",
    "                'SEQUENCE_ID': 'SEQ0001',\n",
    "                'SEQUENCE_TEMPLATE': sequence,\n",
    "                'SEQUENCE_TARGET': [start, end],  # Avoid target region\n",
    "            },\n",
    "            global_args={\n",
    "                # Optimized parameters for sequencing primers\n",
    "                'PRIMER_TASK': 'pick_sequencing_primers',\n",
    "                'PRIMER_OPT_SIZE': 18,  # Optimal size for sequencing primer\n",
    "                'PRIMER_MIN_SIZE': 18,\n",
    "                'PRIMER_MAX_SIZE': 25,\n",
    "                'PRIMER_OPT_TM': 58.0,  # Optimal melting temperature for sequencing\n",
    "                'PRIMER_MIN_TM': 55.0,\n",
    "                'PRIMER_MAX_TM': 60.0,\n",
    "                'PRIMER_MIN_GC': 40.0,  # Balanced GC content\n",
    "                'PRIMER_MAX_GC': 60.0,\n",
    "                'PRIMER_MAX_POLY_X': 5,  # Avoid long homopolymer runs\n",
    "                'PRIMER_MAX_NS_ACCEPTED': 0,  # No degenerate bases allowed\n",
    "                'PRIMER_MAX_SELF_ANY': 8,  # Minimize self-complementarity\n",
    "                'PRIMER_MAX_SELF_END': 3,\n",
    "                'PRIMER_SALT_MONOVALENT': 50.0,\n",
    "                'PRIMER_DNA_CONC': 50.0,\n",
    "            })\n",
    "\n",
    "        # Check if a forward sequencing primer was found\n",
    "        # if direction == 'LEFT':\n",
    "        #     if 'PRIMER_LEFT_0_SEQUENCE' in result:\n",
    "        #         seqprimer = result['PRIMER_LEFT_0_SEQUENCE']\n",
    "        #         return seqprimer\n",
    "            \n",
    "        # elif direction == \"RIGHT\":\n",
    "        #     if 'PRIMER_RIGHT_0_SEQUENCE' in result:\n",
    "        #         seqprimer = result['PRIMER_RIGHT_0_SEQUENCE']\n",
    "        #         return seqprimer, result\n",
    "        return result\n",
    "            \n",
    "        # else:\n",
    "        #     raise ValueError(\"Invalid direction. Please specify 'LEFT' or 'RIGHT'.\")\n",
    "\n",
    "    except KeyError:  # If no suitable primer is found\n",
    "        print(f\"No sequencing primer found for {sequence}\")\n",
    "        return None\n",
    "    \n",
    "# Find primer closest to the end of the sequence\n",
    "def find_closest_higher_index(numbers, target):\n",
    "    higher_numbers = [num for num in numbers if num > target]\n",
    "    if not higher_numbers:\n",
    "        return None\n",
    "    closest_higher = min(higher_numbers)\n",
    "    return numbers.index(closest_higher)\n"
   ]
  },
  {
   "cell_type": "code",
   "execution_count": 41,
   "metadata": {},
   "outputs": [
    {
     "name": "stdout",
     "output_type": "stream",
     "text": [
      "tggccgctcttctAtgagcggttcatctgcggggtcctccttcgtgcacctgcacaaccacaccgagtattcgatgctggacggtgccgcgaagatcacgcccatgctcgccgaggtggagcggctggggatgcccgcggtggggatgaccgaccacggaaacatgttcggtgccagcgagttctacaactccgcgaccaaggccgggatcaagccgatcatcggcgtggaggcatacatcgcgccgggctcgcggttcgacacccggcgcatcctgtggggtgaccccagccaaaaggccgacgacgtctccggcagcggctcctacacgcacctgacgatgatggccgagaacgccaccggtctgcgcaacctgttcaagctgtcctcgcatgcttccttcgagggccagctgagcaagtggtcgcgcatggacgccgagctcatcgccgaacacgccgagggcatcatcatcaccaccggatgcccgtcgggggaggtgcagacccgcctgcggctcggccaggatcgggaggcgctcgaagccgcggcgaagtggcgggagatcgtcggaccggacaactacttccttgagctgatggaccacgggctgaccatcgaacgccgggtccgtgacggtctgctcgagatcggacgcgcgctcaacattccgcctcttgccaccaatgactgccactacgtgacccgcgacgccgcccacaaccatgaggctttgttgtgtgtgcagaccggcaagaccctctcggatccgaatcgcttcaagttcgacggtgacggctactacctgaagtcggccgccgagatgcgccagatctgggacgacgaagtgccgggcgcgtgtgactccaccttgttgatcgccgaacgggtgcagtcctacgccgacgtgtggacaccgcgcgaccggatgcccgtgtttccggtgcccgatgggcatgaccaggcgtcctggctgcgtcacgaggtggacgccgggcttcgccggcgatttccggccggtccgccggacgggtaccgcgagcgcgccgcctacgagatcgacgtcatctgctccaaaggtttcccatcgtactttctgatcgtcgccgacctgatcagctacgcgcggtcggcgggcataagggtgggtcccggccgcggctcggccgccggctcgctggtcgcctacgcgctgggcatcaccgacatcgacccgattccacacggtctgctgttcgagcggttcctcaaccccgagcgcacctcgatgcccgacatcgatatcgacttcgacgaccggcgccgcggtgagatggtgcgctacgcagccgacaagtggggccacgaccgggtcgcgcaggtcatcaccttcggcaccatcaaaaccaaagcggcgctgaaggattcggcgcgaatccactacgggcagcccgggttcgccatcgccgaccggatcaccaaggcgttgccgccggcgatcatggccaaagacatcccgctgtctgggatcaccgatcccagccacgaacggtacaaggaggccgccgaggtccgcggcctgatcgaaaccgacccggacgtacgcaccatctaccagaccgcacgcgggttggaaggcctgatccgcaacgcgggtgtgcacgcctgcgcggtgatcatgagcagcgagccgctgactgaggccatcccgttgtggaagcggccgcaggacggggccatcatcaccggctgggattacccggcgtgcgaggccatcggtctgctgaaaatggacttcctgggcctgcggaacctgacgatcatcggcgacgcgatcgacaacgtcagggccaacaggggtatcgacctcgacctggaatccgtgccgctggacgacaaggccacctatgagctgctgggccgcggcgacaccctgggcgtgttccagctcgacggcgggcccatgcgcgacctgctgcgccgcatgcagccgaccgggttcgaagacgtcgtcgccgttatcgcgctgtaccggcccggcccgatgggcatgaacgcacacaacgactatgccgaccgcaagaacaaccggcaggccatcaaacctattcacccggaactcgaagaaccgctgcgcgagatcctcgccgagacctacggcctcatcgtctatcaagagcagatcatgcgcatcgcgcagaaggtggcgagctactcgttggcccgcgccgacattctacgcaaggccatgggcaagaagaaacgcgaggtgctggagaaggagttcgagggcttctccgatggcatgcaggccaacgggttctctccggcggccatcaaggcgctgtgggacaccatcctgccgttcgctgactacgcgttcaacaagtcacatgccgccggctacggcatggtgtcctactggacggcctacctcaaggccaactatcccgccgagtacatggccggtctgttgacgtcggtcggcgacgataaagacaaggccgcggtttatctggccgactgccgcaagctcggcatcaccgtgctcccgcccgacgtcaacgaatctggcttgaacttcgcatcggtcggccaagacatccgctacgggctgggcgcggtgcgcaacgttggcgctaatgtcgtgggctcgttgctccaaacccgcaacgacaagggcaagttcaccgacttttcggactacctgaacaagatcgacatctcggcgtgcaacaagaaggtgaccgaatcgctgatcaaggcgggtgcgttcgactcgctggggcatgcccgcaagggtcttttcctggtgcacagcgatgcggtggactcggtgctgggcaccaagaaggccgaggcactggggcagttcgatctcttcggcagcaatgatgatgggaccggcaccgcagatcccgtgttcaccatcaaggtgcccgatgatgagtgggaggacaaacacaaactcgccctagagcgcgagatgctgggactgtacgtctcggggcatcccctcaacggtgtggcacacttgctggctgcccaggtcgacaccgcgatcccagcgatcctcgacggcgatgtccccaacgatgcccaagtgcgggtgggcggcatcctggcgtcggtgaaccggagggtcaacaaaaacggaatgccatgggcttcagcgcaattggaggatctcacgggcggcatcgaggtgatgttcttcccgcacacctactccagctatggtgccgacatcgtcgacgatgccgtcgtgctggtcaacgccaaggtggcggtccgtgacgaccgcatcgcattgatcgccaatgacctcacagtgcccgacttttccaacgccgaggtggagcggccgctggcggtcagcttgcccacccggcagtgcacctttgacaaggtgagtgcgctcaaacaggtgttggcgcgccaccccggcacctcgcaggtgcatctgcggctcatcagcggagaccggatcaccacgctggcacttgatcagtcgttgcgggtgacgccgtcgccggcgttgatgggtgacctcaaggagctgctcggccctggatgtctggggagttagtgaagagcggccaccgaggccgggagcggatttgaacgttgcgaagcaacggcccggagggtggcgggcaggacgcccgccataaactgccaggcatcaaattaagcagaaggccatcctgacggatggcctttttgcgtttctacaaactcttttgtttatttttctaaatacattcaaatatgtatccgctcatgaattccccgcgcgcgatgccctttcgtcttcgaataaatacctgtgacggaagatcacttcgcagaataaataaatcctggtgtccctgttgataccgggaagccctgggccaacttttggcgaaaatgagacgttgatcggcacgtaagaggttccaactttcaccataatgaaataagatcactaccgggcgtattttttgagttatcgagattttcaggagctaaggaagctaaaatggagaaaaaaatcactggatataccaccgttgatatatcccaatggcatcgtaaagaacattttgaggcatttcagtcagttgctcaatgtacctataaccagaccgttcagctggatattacggcctttttaaagaccgtaaagaaaaataagcacaagttttatccggcctttattcacattcttgcccgcctgatgaatgctcatccggaatttcgtatggcaatgaaagacggtgagctggtgatatgggatagtgttcacccttgttacaccgttttccatgagcaaactgaaacgttttcatcgctctggagtgaataccacgacgatttccggcagtttctacacatatattcgcaagatgtggcgtgttacggtgaaaacctggcctatttccctaaagggtttattgagaatatgtttttcgtctcagccaatccctgggtgagtttcaccagttttgatttaaacgtggcgaatatggacaacttcttcgcccccgttttcactatgggcaaatattatacgcaaggcgacaaggtgctgatgccgctggcgattcaggttcatcatgccgtctgtgatggcttccatgtcggcagaatgcttaatgaattacaacagtactgcgatgagtggcagggcggggcgtaatttttttaaggcagttattggtgcccttaaacgcctggttgctacgcctgaataagtgataataagcggatgaatggcagaaattcgagcccgcctaatgagcgggcttttttttagcccgcctaatgagcgggcttttttttcgaaagcaaattcgacccatcgcgcgcggggagtcaactcagcaaaagttcgatttattcaacaaagccacgttgtgtctcaaaatctctgatgttacattgcacaagataaaaatatatcatcatgcatgaccaaaatcccttaacgtgagttttcgttccactgagcgtcagaccccgtagaaaagatcaaaggatcttcttgagatcctttttttctgcgcgtaatctgctgcttgcaaacaaaaaaaccaccgctaccagcggtggtttgtttgccggatcaagagctaccaactctttttccgaaggtaactggcttcagcagagcgcagataccaaatactgtccttctagtgtagccgtagttaggccaccacttcaagaactctgtagcaccgcctacatacctcgctctgctaatcctgttaccagtggctgctgccagtggcgataagtcgtgtcttaccgggttggactcaagacgatagttaccggataaggcgcagcggtcgggctgaacggggggttcgtgcacacagcccagcttggagcgaacgacctacaccgaactgagatacctacagcgtgagctatgagaaagcgccacgcttcccgaagggagaaaggcggacaggtatccggtaagcggcagggtcggaacaggagagcgcacgagggagcttccagggggaaacgcctggtatctttatagtcctgtcgggtttcgccacctctgacttgagcgtcgatttttgtgatgctcgtcaggggggcggagcctatggaaaaacgccagcaacgcggcctttttacggttcctggccttttgctggccttttgctcacatgttctttcctgcgttatcccctgattctgtggataaccgtattaccgcctttgagtgagctgataccgctcgccgcagccgaacgaccgagcgcagcgagtcagtgagcgaggaagcggaagatcgggcccagccggcccacatatacctgccgttcactattatttagtgaaatgagatattatgatattttctgaattgtgattaaaaaggcaactttatgcccatgcaacagaaactataaaaaatacagagaatgaaaagaaacagatagattttttagttctttaggcccgtagtctgcaaatccttttatgattttctatcaaacaaaagaggaaaatagaccagttgcaatccaaacgagagtctaatagaatgaggtcgaaaagtaaatcgcgcgggtttgttactgataaagcaggcaagacctaaaatgtgtaaagggcaaagtgtatactttggcgtcaccccttacatattttaggtctttttttattgtgcgtaactaacttgccatcttcaaacaggagggctggaagaagcagaccgctaacacagtacataaaaaaggagacatgaacgatgaacatcaaaaagtttgcaaaacaagcaacagtattaacctttactaccgcactgctggcaggaggcgcaactcaagcgtttgcgaaagaaacgaaccaaaagccatataaggaaacatacggcatttcccatattacacgccatgatatgctgcaaatccctgaacagcaaaaaaatgaaaaatataaagttcctgagttcgattcgtccacaattaaaaatatctcttctgcaaaaggcctggacgtttgggacagctggccattacaaaacactgacggcactgtcgcaaactatcacggctaccacatcgtctttgcattagccggagatcctaaaaatgcggatgacacatcgatttacatgttctatcaaaaagtcggcgaaacttctattgacagctggaaaaacgctggccgcgtctttaaagacagcgacaaattcgatgcaaatgattctatcctaaaagaccaaacacaagaatggtcaggttcagccacatttacatctgacggaaaaatccgtttattctacactgatttctccggtaaacattacggcaaacaaacactgacaactgcacaagttaacgtatcagcatcagacagctctttgaacatcaacggtgtagaggattataaatcaatctttgacggtgacggaaaaacgtatcaaaatgtacagcagttcatcgatgaaggcaactacagctcaggcgacaaccatacgctgagagatcctcactacgtagaagataaaggccacaaatacttagtatttgaagcaaacactggaactgaagatggctaccaaggcgaagaatctttatttaacaaagcatactatggcaaaagcacatcattcttccgtcaagaaagtcaaaaacttctgcaaagcgataaaaaacgcacggctgagttagcaaacggcgctctcggtatgattgagctaaacgatgattacacactgaaaaaagtgatgaaaccgctgattgcatctaacacagtaacagatgaaattgaacgcgcgaacgtctttaaaatgaacggcaaatggtacctgttcactgactcccgcggatcaaaaatgacgattgacggcattacgtctaacgatatttacatgcttggttatgtttctaattctttaactggcccatacaagccgctgaacaaaactggccttgtgttaaaaatggatcttgatcctaacgatgtaacctttacttactcacacttcgctgtacctcaagcgaaaggaaacaatgtcgtgattacaagctatatgacaaacagaggattctacgcagacaaacaatcaacgtttgcgcctagcttcctgctgaacatcaaaggcaagaaaacatctgttgtcaaagacagcatccttgaacaaggacaattaacagttaacaaataaaaacgcaaaagaaaatgccgatatcctattggcattgcggccgcggtctcggcggtgggtcgtctagaggcatcaaataaaacgaaaggctcagtcgaaagactgggcctttcgttttatctgttgtttgtcggtgaacgctctcctgagtaggacaaatccgccgccctagacctagcggccggccgcaagcgctgcacggcctggt\n",
      "-7\n",
      "7864\n"
     ]
    }
   ],
   "source": [
    "test = 'gcctggttggccgct'\n",
    "\n",
    "print(vector_instance.vector.seq)\n",
    "vector_instance.vector.seq.find(test)\n",
    "\n",
    "newvector = vector_instance.vector.seq[-1000:] + vector_instance.vector.seq[0:-1000]  # Change the 0-point of the sequence\n",
    "\n",
    "newindex = newvector.find(test)\n",
    "\n",
    "idx = newindex - 1000\n",
    "print(idx)\n",
    "\n",
    "test = circular_index(idx, len(vector_instance.vector.seq))\n",
    "print(test)"
   ]
  },
  {
   "cell_type": "code",
   "execution_count": 151,
   "metadata": {},
   "outputs": [
    {
     "name": "stdout",
     "output_type": "stream",
     "text": [
      "eBlock-1 3 1322 1319 ccgctcttctAtgagcggttcatctgcggggtcctccttcgtgcacctgcacaaccacaccgagtattcgatgctggacggtgccgcgaagatcacgcccatgctcgccgaggtggagcggctggggatgcccgcggtggggatgaccgaccacggaaacatgttcggtgccagcgagttctacaactccgcgaccaaggccgggatcaagccgatcatcggcgtggaggcatacatcgcgccgggctcgcggttcgacacccggcgcatcctgtggggtgaccccagccaaaaggccgacgacgtctccggcagcggctcctacacgcacctgacgatgatggccgagaacgccaccggtctgcgcaacctgttcaagctgtcctcgcatgcttccttcgagggccagctgagcaagtggtcgcgcatggacgccgagctcatcgccgaacacgccgagggcatcatcatcaccaccggatgcccgtcgggggaggtgcagacccgcctgcggctcggccaggatcgggaggcgctcgaagccgcggcgaagtggcgggagatcgtcggaccggacaactacttccttgagctgatggaccacgggctgaccatcgaacgccgggtccgtgacggtctgctcgagatcggacgcgcgctcaacattccgcctcttgccaccaatgactgccactacgtgacccgcgacgccgcccacaaccatgaggctttgttgtgtgtgcagaccggcaagaccctctcggatccgaatcgcttcaagttcgacggtgacggctactacctgaagtcggccgccgagatgcgccagatctgggacgacgaagtgccgggcgcgtgtgactccaccttgttgatcgccgaacgggtgcagtcctacgccgacgtgtggacaccgcgcgaccggatgcccgtgtttccggtgcccgatgggcatgaccaggcgtcctggctgcgtcacgaggtggacgccgggcttcgccggcgatttccggccggtccgccggacgggtaccgcgagcgcgccgcctacgagatcgacgtcatctgctccaaaggtttcccatcgtactttctgatcgtcgccgacctgatcagctacgcgcggtcggcgggcataagggtgggtcccggccgcggctcggccgccggctcgctggtcgcctacgcgctgggcatcaccgacatcgacccgattccacacggtctgctgttcgagcggttcctcaaccccgagcgcacctcgatgcccgacatcgatatcgacttcgacgaccggcgccgcggtgagatggtgcgct\n",
      "7774\n",
      "103\n",
      "Changing 0-point of vector\n",
      "903\n",
      "1103\n",
      "rv start 1222\n",
      "rv end 1422\n",
      "[1387, 1888, 2378, 2887]\n",
      "1\n",
      "eBlock-2 1509 2186 677 caccgatcccagccacgaacggtacaaggaggccgccgaggtccgcggcctgatcgaaaccgacccggacgtacgcaccatctaccagaccgcacgcgggttggaaggcctgatccgcaacgcgggtgtgcacgcctgcgcggtgatcatgagcagcgagccgctgactgaggccatcccgttgtggaagcggccgcaggacggggccatcatcaccggctgggattacccggcgtgcgaggccatcggtctgctgaaaatggacttcctgggcctgcggaacctgacgatcatcggcgacgcgatcgacaacgtcagggccaacaggggtatcgacctcgacctggaatccgtgccgctggacgacaaggccacctatgagctgctgggccgcggcgacaccctgggcgtgttccagctcgacggcgggcccatgcgcgacctgctgcgccgcatgcagccgaccgggttcgaagacgtcgtcgccgttatcgcgctgtaccggcccggcccgatgggcatgaacgcacacaacgactatgccgaccgcaagaacaaccggcaggccatcaaacctattcacccggaactcgaagaaccgctgcgcgagatcctcgccgagacctacggcctcatcgtctatcaagagcagatcatgcgcatcgcgcagaaggtgg\n",
      "1409\n",
      "1609\n",
      "rv start 2086\n",
      "rv end 2286\n",
      "[2153, 2671, 3158, 3689, 4176]\n",
      "1\n",
      "eBlock-3 2589 3509 920 cgggctgggcgcggtgcgcaacgttggcgctaatgtcgtgggctcgttgctccaaacccgcaacgacaagggcaagttcaccgacttttcggactacctgaacaagatcgacatctcggcgtgcaacaagaaggtgaccgaatcgctgatcaaggcgggtgcgttcgactcgctggggcatgcccgcaagggtcttttcctggtgcacagcgatgcggtggactcggtgctgggcaccaagaaggccgaggcactggggcagttcgatctcttcggcagcaatgatgatgggaccggcaccgcagatcccgtgttcaccatcaaggtgcccgatgatgagtgggaggacaaacacaaactcgccctagagcgcgagatgctgggactgtacgtctcggggcatcccctcaacggtgtggcacacttgctggctgcccaggtcgacaccgcgatcccagcgatcctcgacggcgatgtccccaacgatgcccaagtgcgggtgggcggcatcctggcgtcggtgaaccggagggtcaacaaaaacggaatgccatgggcttcagcgcaattggaggatctcacgggcggcatcgaggtgatgttcttcccgcacacctactccagctatggtgccgacatcgtcgacgatgccgtcgtgctggtcaacgccaaggtggcggtccgtgacgaccgcatcgcattgatcgccaatgacctcacagtgcccgacttttccaacgccgaggtggagcggccgctggcggtcagcttgcccacccggcagtgcacctttgacaaggtgagtgcgctcaaacaggtgttggcgcgccaccccggcacctcgcaggtgcatctgcggctcatcagcggagaccggatcaccacgctggcacttgatcagtcgttgcgggtgacgccgt\n",
      "2489\n",
      "2689\n",
      "rv start 3409\n",
      "rv end 3609\n",
      "[3666, 4176, 4667, 5146, 5637]\n",
      "0\n"
     ]
    }
   ],
   "source": [
    "seqresults = {}\n",
    "\n",
    "for eblock in design_instance.wt_eblocks:\n",
    "    print(eblock.name, eblock.start_index, eblock.end_index, len(eblock.sequence), eblock.sequence)\n",
    "\n",
    "    start = circular_index(eblock.start_index - 100, len(vector_instance.vector.seq))\n",
    "    print(start)\n",
    "    end = circular_index(start + 200, len(vector_instance.vector.seq))\n",
    "    print(end)\n",
    "    if start > end:\n",
    "        print(\"Changing 0-point of vector\")\n",
    "        sequence = vector_instance.vector.seq[-1000:] + vector_instance.vector.seq[0:-1000]  # Change the 0-point of the sequence\n",
    "        idx_eblock = sequence.find(eblock.sequence)\n",
    "        start = circular_index(idx_eblock - 100, len(vector_instance.vector.seq))\n",
    "        print(start)\n",
    "        end = circular_index(start + 200, len(vector_instance.vector.seq))\n",
    "        print(end)\n",
    "    else:\n",
    "        sequence = vector_instance.vector.seq\n",
    "\n",
    "    # Obtain FW sequence\n",
    "    result  = design_sequencing_primer(sequence=sequence, start=start, end=end, direction=\"LEFT\")\n",
    "    fw_result = result['PRIMER_LEFT_0_SEQUENCE']\n",
    "    seqresults[eblock.name] = [(\"forward\", fw_result)]\n",
    "\n",
    "    # Obtain RV sequence\n",
    "    start = circular_index(eblock.end_index - 100 , len(vector_instance.vector.seq))\n",
    "    print(\"rv start\", start)\n",
    "    end = circular_index(start + 200, len(vector_instance.vector.seq))\n",
    "    print(\"rv end\", end)\n",
    "    result  = design_sequencing_primer(sequence=vector_instance.vector.seq, start=start, end=end, direction=\"RIGHT\")\n",
    "\n",
    "    possible_starts = []\n",
    "    for i in range(len(result) - 1):\n",
    "        try:\n",
    "            possible_starts.append(int(result['PRIMER_RIGHT'][i]['COORDS'][0]))\n",
    "        except:\n",
    "            break\n",
    "    \n",
    "    print(possible_starts)\n",
    "    index = find_closest_higher_index(possible_starts, end)\n",
    "    print(index)\n",
    "    rv_results = result['PRIMER_RIGHT'][index]['SEQUENCE']\n",
    "    seqresults[eblock.name].append([\"rv\", rv_results])\n",
    "    "
   ]
  },
  {
   "cell_type": "code",
   "execution_count": 153,
   "metadata": {},
   "outputs": [],
   "source": [
    "result  = design_sequencing_primer(sequence=sequence, start=start, end=end, direction=\"LEFT\")"
   ]
  },
  {
   "cell_type": "code",
   "execution_count": 157,
   "metadata": {},
   "outputs": [
    {
     "data": {
      "text/plain": [
       "[{'PENALTY': 0.6769995249792373,\n",
       "  'SEQUENCE': 'accgcatcgcattgatcg',\n",
       "  'COORDS': [3278, 18],\n",
       "  'TM': 58.67699952497924,\n",
       "  'GC_PERCENT': 55.55555555555556,\n",
       "  'SELF_ANY_TH': 0.0,\n",
       "  'SELF_END_TH': 0.0,\n",
       "  'HAIRPIN_TH': 34.13116417772386,\n",
       "  'END_STABILITY': 3.69},\n",
       " {'PENALTY': 0.10932641121172537,\n",
       "  'SEQUENCE': 'gcgatgccctttcgtctt',\n",
       "  'COORDS': [3777, 18],\n",
       "  'TM': 58.109326411211725,\n",
       "  'GC_PERCENT': 55.55555555555556,\n",
       "  'SELF_ANY_TH': 0.0,\n",
       "  'SELF_END_TH': 0.0,\n",
       "  'HAIRPIN_TH': 38.80567609355916,\n",
       "  'END_STABILITY': 3.01},\n",
       " {'PENALTY': 1.4127219289466098,\n",
       "  'SEQUENCE': 'acaccgttttccatgagca',\n",
       "  'COORDS': [4277, 19],\n",
       "  'TM': 57.58727807105339,\n",
       "  'GC_PERCENT': 47.36842105263158,\n",
       "  'SELF_ANY_TH': 0.0,\n",
       "  'SELF_END_TH': 0.0,\n",
       "  'HAIRPIN_TH': 0.0,\n",
       "  'END_STABILITY': 4.26},\n",
       " {'PENALTY': 0.2426023275804141,\n",
       "  'SEQUENCE': 'gcctaatgagcgggcttt',\n",
       "  'COORDS': [4783, 18],\n",
       "  'TM': 57.757397672419586,\n",
       "  'GC_PERCENT': 55.55555555555556,\n",
       "  'SELF_ANY_TH': 0.0,\n",
       "  'SELF_END_TH': 0.0,\n",
       "  'HAIRPIN_TH': 42.309714081163065,\n",
       "  'END_STABILITY': 3.51},\n",
       " {'PENALTY': 0.3062450674001411,\n",
       "  'SEQUENCE': 'accgggttggactcaaga',\n",
       "  'COORDS': [5273, 18],\n",
       "  'TM': 57.69375493259986,\n",
       "  'GC_PERCENT': 55.55555555555556,\n",
       "  'SELF_ANY_TH': 6.321193812222816,\n",
       "  'SELF_END_TH': 0.0,\n",
       "  'HAIRPIN_TH': 42.0023112647836,\n",
       "  'END_STABILITY': 3.02}]"
      ]
     },
     "execution_count": 157,
     "metadata": {},
     "output_type": "execute_result"
    }
   ],
   "source": [
    "result['PRIMER_LEFT'][]"
   ]
  },
  {
   "cell_type": "code",
   "execution_count": 154,
   "metadata": {},
   "outputs": [
    {
     "data": {
      "text/plain": [
       "{'PRIMER_WARNING': 'Increase PRIMER_NUM_RETURN to obtain all sequencing primers',\n",
       " 'PRIMER_LEFT_EXPLAIN': 'sequencing locations 8, considered 2419, GC content failed 1255, low tm 187, high tm 512, high hairpin stability 113, long poly-x seq 28, ok 8',\n",
       " 'PRIMER_RIGHT_EXPLAIN': 'sequencing locations 8, considered 2425, GC content failed 1192, low tm 174, high tm 610, high hairpin stability 56, long poly-x seq 29, ok 8',\n",
       " 'PRIMER_PAIR_EXPLAIN': 'considered 0, ok 0',\n",
       " 'PRIMER_LEFT_NUM_RETURNED': 5,\n",
       " 'PRIMER_RIGHT_NUM_RETURNED': 5,\n",
       " 'PRIMER_INTERNAL_NUM_RETURNED': 0,\n",
       " 'PRIMER_PAIR_NUM_RETURNED': 0,\n",
       " 'PRIMER_PAIR': [],\n",
       " 'PRIMER_LEFT': [{'PENALTY': 0.6769995249792373,\n",
       "   'SEQUENCE': 'accgcatcgcattgatcg',\n",
       "   'COORDS': [3278, 18],\n",
       "   'TM': 58.67699952497924,\n",
       "   'GC_PERCENT': 55.55555555555556,\n",
       "   'SELF_ANY_TH': 0.0,\n",
       "   'SELF_END_TH': 0.0,\n",
       "   'HAIRPIN_TH': 34.13116417772386,\n",
       "   'END_STABILITY': 3.69},\n",
       "  {'PENALTY': 0.10932641121172537,\n",
       "   'SEQUENCE': 'gcgatgccctttcgtctt',\n",
       "   'COORDS': [3777, 18],\n",
       "   'TM': 58.109326411211725,\n",
       "   'GC_PERCENT': 55.55555555555556,\n",
       "   'SELF_ANY_TH': 0.0,\n",
       "   'SELF_END_TH': 0.0,\n",
       "   'HAIRPIN_TH': 38.80567609355916,\n",
       "   'END_STABILITY': 3.01},\n",
       "  {'PENALTY': 1.4127219289466098,\n",
       "   'SEQUENCE': 'acaccgttttccatgagca',\n",
       "   'COORDS': [4277, 19],\n",
       "   'TM': 57.58727807105339,\n",
       "   'GC_PERCENT': 47.36842105263158,\n",
       "   'SELF_ANY_TH': 0.0,\n",
       "   'SELF_END_TH': 0.0,\n",
       "   'HAIRPIN_TH': 0.0,\n",
       "   'END_STABILITY': 4.26},\n",
       "  {'PENALTY': 0.2426023275804141,\n",
       "   'SEQUENCE': 'gcctaatgagcgggcttt',\n",
       "   'COORDS': [4783, 18],\n",
       "   'TM': 57.757397672419586,\n",
       "   'GC_PERCENT': 55.55555555555556,\n",
       "   'SELF_ANY_TH': 0.0,\n",
       "   'SELF_END_TH': 0.0,\n",
       "   'HAIRPIN_TH': 42.309714081163065,\n",
       "   'END_STABILITY': 3.51},\n",
       "  {'PENALTY': 0.3062450674001411,\n",
       "   'SEQUENCE': 'accgggttggactcaaga',\n",
       "   'COORDS': [5273, 18],\n",
       "   'TM': 57.69375493259986,\n",
       "   'GC_PERCENT': 55.55555555555556,\n",
       "   'SELF_ANY_TH': 6.321193812222816,\n",
       "   'SELF_END_TH': 0.0,\n",
       "   'HAIRPIN_TH': 42.0023112647836,\n",
       "   'END_STABILITY': 3.02}],\n",
       " 'PRIMER_RIGHT': [{'PENALTY': 2.233506451611788,\n",
       "   'SEQUENCE': 'tgatgcctggcagtttatgg',\n",
       "   'COORDS': [3666, 20],\n",
       "   'TM': 58.23350645161179,\n",
       "   'GC_PERCENT': 50.0,\n",
       "   'SELF_ANY_TH': 27.198215450520593,\n",
       "   'SELF_END_TH': 0.0,\n",
       "   'HAIRPIN_TH': 43.65434684378221,\n",
       "   'END_STABILITY': 2.74},\n",
       "  {'PENALTY': 1.7139358546660333,\n",
       "   'SEQUENCE': 'ggccggataaaacttgtgc',\n",
       "   'COORDS': [4176, 19],\n",
       "   'TM': 57.28606414533397,\n",
       "   'GC_PERCENT': 52.63157894736842,\n",
       "   'SELF_ANY_TH': 5.04613386687322,\n",
       "   'SELF_END_TH': 0.0,\n",
       "   'HAIRPIN_TH': 0.0,\n",
       "   'END_STABILITY': 4.57},\n",
       "  {'PENALTY': 0.7094330503136916,\n",
       "   'SEQUENCE': 'aaaaattacgccccgccc',\n",
       "   'COORDS': [4667, 18],\n",
       "   'TM': 58.70943305031369,\n",
       "   'GC_PERCENT': 55.55555555555556,\n",
       "   'SELF_ANY_TH': 0.0,\n",
       "   'SELF_END_TH': 0.0,\n",
       "   'HAIRPIN_TH': 0.0,\n",
       "   'END_STABILITY': 6.13},\n",
       "  {'PENALTY': 0.378774974123985,\n",
       "   'SEQUENCE': 'tggtatctgcgctctgct',\n",
       "   'COORDS': [5146, 18],\n",
       "   'TM': 58.378774974123985,\n",
       "   'GC_PERCENT': 55.55555555555556,\n",
       "   'SELF_ANY_TH': 9.732052967213463,\n",
       "   'SELF_END_TH': 0.0,\n",
       "   'HAIRPIN_TH': 46.62582415259857,\n",
       "   'END_STABILITY': 4.24},\n",
       "  {'PENALTY': 0.17430517058966188,\n",
       "   'SEQUENCE': 'caaaaggccaggaaccgt',\n",
       "   'COORDS': [5637, 18],\n",
       "   'TM': 57.82569482941034,\n",
       "   'GC_PERCENT': 55.55555555555556,\n",
       "   'SELF_ANY_TH': 5.008729417456038,\n",
       "   'SELF_END_TH': 0.0,\n",
       "   'HAIRPIN_TH': 0.0,\n",
       "   'END_STABILITY': 4.83}],\n",
       " 'PRIMER_INTERNAL': [],\n",
       " 'PRIMER_LEFT_0_PENALTY': 0.6769995249792373,\n",
       " 'PRIMER_RIGHT_0_PENALTY': 2.233506451611788,\n",
       " 'PRIMER_LEFT_0_SEQUENCE': 'accgcatcgcattgatcg',\n",
       " 'PRIMER_RIGHT_0_SEQUENCE': 'tgatgcctggcagtttatgg',\n",
       " 'PRIMER_LEFT_0': [3278, 18],\n",
       " 'PRIMER_RIGHT_0': [3666, 20],\n",
       " 'PRIMER_LEFT_0_TM': 58.67699952497924,\n",
       " 'PRIMER_RIGHT_0_TM': 58.23350645161179,\n",
       " 'PRIMER_LEFT_0_GC_PERCENT': 55.55555555555556,\n",
       " 'PRIMER_RIGHT_0_GC_PERCENT': 50.0,\n",
       " 'PRIMER_LEFT_0_SELF_ANY_TH': 0.0,\n",
       " 'PRIMER_RIGHT_0_SELF_ANY_TH': 27.198215450520593,\n",
       " 'PRIMER_LEFT_0_SELF_END_TH': 0.0,\n",
       " 'PRIMER_RIGHT_0_SELF_END_TH': 0.0,\n",
       " 'PRIMER_LEFT_0_HAIRPIN_TH': 34.13116417772386,\n",
       " 'PRIMER_RIGHT_0_HAIRPIN_TH': 43.65434684378221,\n",
       " 'PRIMER_LEFT_0_END_STABILITY': 3.69,\n",
       " 'PRIMER_RIGHT_0_END_STABILITY': 2.74,\n",
       " 'PRIMER_LEFT_1_PENALTY': 0.10932641121172537,\n",
       " 'PRIMER_RIGHT_1_PENALTY': 1.7139358546660333,\n",
       " 'PRIMER_LEFT_1_SEQUENCE': 'gcgatgccctttcgtctt',\n",
       " 'PRIMER_RIGHT_1_SEQUENCE': 'ggccggataaaacttgtgc',\n",
       " 'PRIMER_LEFT_1': [3777, 18],\n",
       " 'PRIMER_RIGHT_1': [4176, 19],\n",
       " 'PRIMER_LEFT_1_TM': 58.109326411211725,\n",
       " 'PRIMER_RIGHT_1_TM': 57.28606414533397,\n",
       " 'PRIMER_LEFT_1_GC_PERCENT': 55.55555555555556,\n",
       " 'PRIMER_RIGHT_1_GC_PERCENT': 52.63157894736842,\n",
       " 'PRIMER_LEFT_1_SELF_ANY_TH': 0.0,\n",
       " 'PRIMER_RIGHT_1_SELF_ANY_TH': 5.04613386687322,\n",
       " 'PRIMER_LEFT_1_SELF_END_TH': 0.0,\n",
       " 'PRIMER_RIGHT_1_SELF_END_TH': 0.0,\n",
       " 'PRIMER_LEFT_1_HAIRPIN_TH': 38.80567609355916,\n",
       " 'PRIMER_RIGHT_1_HAIRPIN_TH': 0.0,\n",
       " 'PRIMER_LEFT_1_END_STABILITY': 3.01,\n",
       " 'PRIMER_RIGHT_1_END_STABILITY': 4.57,\n",
       " 'PRIMER_LEFT_2_PENALTY': 1.4127219289466098,\n",
       " 'PRIMER_RIGHT_2_PENALTY': 0.7094330503136916,\n",
       " 'PRIMER_LEFT_2_SEQUENCE': 'acaccgttttccatgagca',\n",
       " 'PRIMER_RIGHT_2_SEQUENCE': 'aaaaattacgccccgccc',\n",
       " 'PRIMER_LEFT_2': [4277, 19],\n",
       " 'PRIMER_RIGHT_2': [4667, 18],\n",
       " 'PRIMER_LEFT_2_TM': 57.58727807105339,\n",
       " 'PRIMER_RIGHT_2_TM': 58.70943305031369,\n",
       " 'PRIMER_LEFT_2_GC_PERCENT': 47.36842105263158,\n",
       " 'PRIMER_RIGHT_2_GC_PERCENT': 55.55555555555556,\n",
       " 'PRIMER_LEFT_2_SELF_ANY_TH': 0.0,\n",
       " 'PRIMER_RIGHT_2_SELF_ANY_TH': 0.0,\n",
       " 'PRIMER_LEFT_2_SELF_END_TH': 0.0,\n",
       " 'PRIMER_RIGHT_2_SELF_END_TH': 0.0,\n",
       " 'PRIMER_LEFT_2_HAIRPIN_TH': 0.0,\n",
       " 'PRIMER_RIGHT_2_HAIRPIN_TH': 0.0,\n",
       " 'PRIMER_LEFT_2_END_STABILITY': 4.26,\n",
       " 'PRIMER_RIGHT_2_END_STABILITY': 6.13,\n",
       " 'PRIMER_LEFT_3_PENALTY': 0.2426023275804141,\n",
       " 'PRIMER_RIGHT_3_PENALTY': 0.378774974123985,\n",
       " 'PRIMER_LEFT_3_SEQUENCE': 'gcctaatgagcgggcttt',\n",
       " 'PRIMER_RIGHT_3_SEQUENCE': 'tggtatctgcgctctgct',\n",
       " 'PRIMER_LEFT_3': [4783, 18],\n",
       " 'PRIMER_RIGHT_3': [5146, 18],\n",
       " 'PRIMER_LEFT_3_TM': 57.757397672419586,\n",
       " 'PRIMER_RIGHT_3_TM': 58.378774974123985,\n",
       " 'PRIMER_LEFT_3_GC_PERCENT': 55.55555555555556,\n",
       " 'PRIMER_RIGHT_3_GC_PERCENT': 55.55555555555556,\n",
       " 'PRIMER_LEFT_3_SELF_ANY_TH': 0.0,\n",
       " 'PRIMER_RIGHT_3_SELF_ANY_TH': 9.732052967213463,\n",
       " 'PRIMER_LEFT_3_SELF_END_TH': 0.0,\n",
       " 'PRIMER_RIGHT_3_SELF_END_TH': 0.0,\n",
       " 'PRIMER_LEFT_3_HAIRPIN_TH': 42.309714081163065,\n",
       " 'PRIMER_RIGHT_3_HAIRPIN_TH': 46.62582415259857,\n",
       " 'PRIMER_LEFT_3_END_STABILITY': 3.51,\n",
       " 'PRIMER_RIGHT_3_END_STABILITY': 4.24,\n",
       " 'PRIMER_LEFT_4_PENALTY': 0.3062450674001411,\n",
       " 'PRIMER_RIGHT_4_PENALTY': 0.17430517058966188,\n",
       " 'PRIMER_LEFT_4_SEQUENCE': 'accgggttggactcaaga',\n",
       " 'PRIMER_RIGHT_4_SEQUENCE': 'caaaaggccaggaaccgt',\n",
       " 'PRIMER_LEFT_4': [5273, 18],\n",
       " 'PRIMER_RIGHT_4': [5637, 18],\n",
       " 'PRIMER_LEFT_4_TM': 57.69375493259986,\n",
       " 'PRIMER_RIGHT_4_TM': 57.82569482941034,\n",
       " 'PRIMER_LEFT_4_GC_PERCENT': 55.55555555555556,\n",
       " 'PRIMER_RIGHT_4_GC_PERCENT': 55.55555555555556,\n",
       " 'PRIMER_LEFT_4_SELF_ANY_TH': 6.321193812222816,\n",
       " 'PRIMER_RIGHT_4_SELF_ANY_TH': 5.008729417456038,\n",
       " 'PRIMER_LEFT_4_SELF_END_TH': 0.0,\n",
       " 'PRIMER_RIGHT_4_SELF_END_TH': 0.0,\n",
       " 'PRIMER_LEFT_4_HAIRPIN_TH': 42.0023112647836,\n",
       " 'PRIMER_RIGHT_4_HAIRPIN_TH': 0.0,\n",
       " 'PRIMER_LEFT_4_END_STABILITY': 3.02,\n",
       " 'PRIMER_RIGHT_4_END_STABILITY': 4.83}"
      ]
     },
     "execution_count": 154,
     "metadata": {},
     "output_type": "execute_result"
    }
   ],
   "source": [
    "result"
   ]
  },
  {
   "cell_type": "code",
   "execution_count": 145,
   "metadata": {},
   "outputs": [],
   "source": [
    "# result.keys()"
   ]
  },
  {
   "cell_type": "code",
   "execution_count": 144,
   "metadata": {},
   "outputs": [],
   "source": [
    "# result['PRIMER_RIGHT'][1]['SEQUENCE']"
   ]
  },
  {
   "cell_type": "code",
   "execution_count": 118,
   "metadata": {},
   "outputs": [],
   "source": [
    "# for i in result:\n",
    "#     print(i['PRIMER_RIGHT'])"
   ]
  },
  {
   "cell_type": "code",
   "execution_count": 117,
   "metadata": {},
   "outputs": [],
   "source": [
    "# result['PRIMER_RIGHT']"
   ]
  },
  {
   "cell_type": "code",
   "execution_count": 143,
   "metadata": {},
   "outputs": [],
   "source": [
    "# result.keys()"
   ]
  },
  {
   "cell_type": "code",
   "execution_count": 142,
   "metadata": {},
   "outputs": [],
   "source": [
    "# result['PRIMER_LEFT_0']"
   ]
  },
  {
   "cell_type": "code",
   "execution_count": 141,
   "metadata": {},
   "outputs": [],
   "source": [
    "# result['PRIMER_RIGHT'][0]['COORDS']"
   ]
  },
  {
   "cell_type": "code",
   "execution_count": 152,
   "metadata": {},
   "outputs": [
    {
     "name": "stdout",
     "output_type": "stream",
     "text": [
      "eBlock-1 [('forward', 'tgttgtcaaagacagcatcct'), ['rv', 'cataggtggccttgtcgtc']]\n",
      "eBlock-2 [('forward', 'tgcccgacatcgatatcg'), ['rv', 'cggtgaacttgcccttgt']]\n",
      "eBlock-3 [('forward', 'acggcatggtgtcctact'), ['rv', 'tgatgcctggcagtttatgg']]\n"
     ]
    }
   ],
   "source": [
    "for key, value in seqresults.items():\n",
    "    print(key, value)"
   ]
  },
  {
   "cell_type": "code",
   "execution_count": null,
   "metadata": {},
   "outputs": [],
   "source": []
  }
 ],
 "metadata": {
  "kernelspec": {
   "display_name": "eblocks_3",
   "language": "python",
   "name": "python3"
  },
  "language_info": {
   "codemirror_mode": {
    "name": "ipython",
    "version": 3
   },
   "file_extension": ".py",
   "mimetype": "text/x-python",
   "name": "python",
   "nbconvert_exporter": "python",
   "pygments_lexer": "ipython3",
   "version": "3.11.10"
  }
 },
 "nbformat": 4,
 "nbformat_minor": 2
}
