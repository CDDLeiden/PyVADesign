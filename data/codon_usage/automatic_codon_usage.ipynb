{
 "cells": [
  {
   "cell_type": "markdown",
   "metadata": {},
   "source": [
    "### 1. Importing Required Modules and Packages"
   ]
  },
  {
   "cell_type": "code",
   "execution_count": 1,
   "metadata": {},
   "outputs": [],
   "source": [
    "import os\n",
    "import sys\n",
    "\n",
    "sys.path.append('../..')\n",
    "os.environ[\"OMP_NUM_THREADS\"] = '1'  # KMeans is not parallelized, so set to 1 thread\n",
    "\n",
    "from src.mutation import Mutation\n",
    "from src.sequence import Plasmid\n",
    "from src.eblocks import Eblock, EblockDesign\n",
    "from src.primer import DesignPrimers\n",
    "from src.plot import Plot\n",
    "from src.utils import Utils, SnapGene\n",
    "\n",
    "%reload_ext autoreload\n",
    "%autoreload 2"
   ]
  },
  {
   "cell_type": "code",
   "execution_count": 8,
   "metadata": {},
   "outputs": [],
   "source": [
    "import itertools\n",
    "import tempfile\n",
    "import numpy as np\n",
    "import biotite.database.entrez as entrez\n",
    "import biotite.sequence as seq\n",
    "import biotite.sequence.io.fasta as fasta\n",
    "import biotite.sequence.io.genbank as gb\n",
    "from biotite.sequence import AnnotatedSequence"
   ]
  },
  {
   "cell_type": "code",
   "execution_count": 3,
   "metadata": {},
   "outputs": [],
   "source": [
    "# variables\n",
    "\n",
    "genome_id = \"U00096\" # Ecoli\n",
    "# genome_id = \"CP000480.1\" # smegmatis\n",
    "# genome_id = \"AL123456.3\" # Ecoli\n",
    "# genome_id = \"fakeidtest123\"\n",
    "\n",
    "# Make sure the the genome is a complete genome (perform some kind of check maybe?)"
   ]
  },
  {
   "cell_type": "code",
   "execution_count": 4,
   "metadata": {},
   "outputs": [],
   "source": [
    "def get_genome_features(genome_id):\n",
    "    \"\"\"\n",
    "    Get the CDS features of a genome\n",
    "    \"\"\"\n",
    "    try:\n",
    "        gb_file = gb.GenBankFile.read(\n",
    "            entrez.fetch(genome_id, tempfile.gettempdir(), \"gb\", \"nuccore\", \"gb\"))\n",
    "    except Exception as e:\n",
    "        print(f\"Error fetching genome with ID '{genome_id}': {e}\")\n",
    "        return None\n",
    "    genome = gb.get_annotated_sequence(gb_file, include_only=[\"CDS\"])\n",
    "    if isinstance(genome, AnnotatedSequence):\n",
    "        return genome\n",
    "    else:\n",
    "        raise ValueError(\"No CDS features found in genome\")\n",
    "\n",
    "\n",
    "def count_codons(genome):\n",
    "    \"\"\"\n",
    "    Count the occurrence of each codon in a genome\n",
    "    The symbols [0 1 2 3] represent ['A' 'C' 'G' 'T'] respectively\n",
    "    \"\"\"\n",
    "    codon_counter = {\n",
    "        codon: 0\n",
    "        for codon in itertools.product(*([range(len(genome.sequence.alphabet))] * 3))}\n",
    "    return codon_counter\n",
    "\n",
    "\n",
    "def get_codon_usage(genome_id, codon_counter):\n",
    "    \"\"\"\n",
    "    Get the codon usage of a genome\n",
    "    \"\"\"\n",
    "    genome = get_genome_features(genome_id)\n",
    "    if genome is None:\n",
    "        return None\n",
    "    codon_counter = count_codons(genome)\n",
    "    for feature in genome.annotation:\n",
    "        cds = genome[feature]  # Get the coding sequence\n",
    "        if len(cds) % 3 != 0:  # malformed CDS\n",
    "            continue\n",
    "        for i in range(0, len(cds), 3):  # Count the codons\n",
    "            codon_code = tuple(cds.code[i:i+3])\n",
    "            codon_counter[codon_code] += 1\n",
    "    return codon_counter\n",
    "\n",
    "\n",
    "def get_relative_frequencies(genome, codon_counter):\n",
    "    \"\"\"\n",
    "    Convert the total frequencies into relative frequencies\n",
    "    \"\"\"\n",
    "    table = seq.CodonTable.default_table()  # ID 11 is the bacterial codon table\n",
    "    relative_frequencies = {}\n",
    "    for amino_acid_code in range(20):\n",
    "        codon_codes_for_aa = table[amino_acid_code]\n",
    "        total = 0  # Get the total amount of codon occurrences for the amino acid\n",
    "        for codon_code in codon_codes_for_aa:\n",
    "            total += codon_counter[codon_code]\n",
    "        for codon_code in codon_codes_for_aa:\n",
    "            codon_counter[codon_code] /= total\n",
    "            amino_acid = seq.ProteinSequence.alphabet.decode(amino_acid_code)\n",
    "            codon = genome.sequence.alphabet.decode_multiple(codon_code)\n",
    "            codon = \"\".join(codon)\n",
    "            freq = codon_counter[codon_code]\n",
    "            if amino_acid not in relative_frequencies:  # Store relative frequencies in dictionary\n",
    "                relative_frequencies[amino_acid] = []\n",
    "            relative_frequencies[amino_acid].append((codon, round(freq, 3)))\n",
    "    return relative_frequencies\n",
    "\n",
    "\n",
    "def relative_frequencies_to_csv(genome_id, frequencies_dict):\n",
    "    \"\"\"\n",
    "    Save relative frequencies in a CSV file\n",
    "    \"\"\"\n",
    "    with open(f\"{genome_id}_codon_usage.csv\", \"w\") as file:\n",
    "        file.write(\"Amino Acid,Codon,Relative Frequency\\n\")\n",
    "        for amino_acid, codons in frequencies_dict.items():\n",
    "            for codon, freq in codons:\n",
    "                file.write(f\"{amino_acid},{codon},{freq}\\n\")"
   ]
  },
  {
   "cell_type": "code",
   "execution_count": 5,
   "metadata": {},
   "outputs": [],
   "source": [
    "genome = get_genome_features(genome_id)"
   ]
  },
  {
   "cell_type": "code",
   "execution_count": 6,
   "metadata": {},
   "outputs": [
    {
     "name": "stdout",
     "output_type": "stream",
     "text": [
      "{(0, 0, 0): 0, (0, 0, 1): 0, (0, 0, 2): 0, (0, 0, 3): 0, (0, 1, 0): 0, (0, 1, 1): 0, (0, 1, 2): 0, (0, 1, 3): 0, (0, 2, 0): 0, (0, 2, 1): 0, (0, 2, 2): 0, (0, 2, 3): 0, (0, 3, 0): 0, (0, 3, 1): 0, (0, 3, 2): 0, (0, 3, 3): 0, (1, 0, 0): 0, (1, 0, 1): 0, (1, 0, 2): 0, (1, 0, 3): 0, (1, 1, 0): 0, (1, 1, 1): 0, (1, 1, 2): 0, (1, 1, 3): 0, (1, 2, 0): 0, (1, 2, 1): 0, (1, 2, 2): 0, (1, 2, 3): 0, (1, 3, 0): 0, (1, 3, 1): 0, (1, 3, 2): 0, (1, 3, 3): 0, (2, 0, 0): 0, (2, 0, 1): 0, (2, 0, 2): 0, (2, 0, 3): 0, (2, 1, 0): 0, (2, 1, 1): 0, (2, 1, 2): 0, (2, 1, 3): 0, (2, 2, 0): 0, (2, 2, 1): 0, (2, 2, 2): 0, (2, 2, 3): 0, (2, 3, 0): 0, (2, 3, 1): 0, (2, 3, 2): 0, (2, 3, 3): 0, (3, 0, 0): 0, (3, 0, 1): 0, (3, 0, 2): 0, (3, 0, 3): 0, (3, 1, 0): 0, (3, 1, 1): 0, (3, 1, 2): 0, (3, 1, 3): 0, (3, 2, 0): 0, (3, 2, 1): 0, (3, 2, 2): 0, (3, 2, 3): 0, (3, 3, 0): 0, (3, 3, 1): 0, (3, 3, 2): 0, (3, 3, 3): 0}\n"
     ]
    }
   ],
   "source": [
    "codon_counter = count_codons(genome)\n",
    "print(codon_counter)"
   ]
  },
  {
   "cell_type": "code",
   "execution_count": 7,
   "metadata": {},
   "outputs": [
    {
     "name": "stdout",
     "output_type": "stream",
     "text": [
      "{(0, 0, 0): 45174, (0, 0, 1): 29019, (0, 0, 2): 13739, (0, 0, 3): 23449, (0, 1, 0): 9278, (0, 1, 1): 31499, (0, 1, 2): 19308, (0, 1, 3): 11910, (0, 2, 0): 2644, (0, 2, 1): 21580, (0, 2, 2): 1494, (0, 2, 3): 11635, (0, 3, 0): 5631, (0, 3, 1): 33893, (0, 3, 2): 37401, (0, 3, 3): 40900, (1, 0, 0): 20648, (1, 0, 1): 13034, (1, 0, 2): 38826, (1, 0, 3): 17224, (1, 1, 0): 11301, (1, 1, 1): 7295, (1, 1, 2): 31362, (1, 1, 3): 9319, (1, 2, 0): 4718, (1, 2, 1): 29656, (1, 2, 2): 7173, (1, 2, 3): 28336, (1, 3, 0): 5222, (1, 3, 1): 14949, (1, 3, 2): 71286, (1, 3, 3): 14737, (2, 0, 0): 53303, (2, 0, 1): 25701, (2, 0, 2): 23884, (2, 0, 3): 42970, (2, 1, 0): 27045, (2, 1, 1): 34388, (2, 1, 2): 45512, (2, 1, 3): 20462, (2, 2, 0): 10486, (2, 2, 1): 39976, (2, 2, 2): 14717, (2, 2, 3): 33270, (2, 3, 0): 14633, (2, 3, 1): 20531, (2, 3, 2): 35319, (2, 3, 3): 24576, (3, 0, 0): 2815, (3, 0, 1): 16379, (3, 0, 2): 319, (3, 0, 3): 21514, (3, 1, 0): 9468, (3, 1, 1): 11558, (3, 1, 2): 11960, (3, 1, 3): 11304, (3, 2, 0): 1316, (3, 2, 1): 8701, (3, 2, 2): 20437, (3, 2, 3): 6893, (3, 3, 0): 18521, (3, 3, 1): 22216, (3, 3, 2): 18319, (3, 3, 3): 29825}\n"
     ]
    }
   ],
   "source": [
    "codon_counter = get_codon_usage(genome_id, codon_counter)\n",
    "print(codon_counter)"
   ]
  },
  {
   "cell_type": "code",
   "execution_count": 8,
   "metadata": {},
   "outputs": [
    {
     "name": "stdout",
     "output_type": "stream",
     "text": [
      "{'A': [('GCA', 0.212), ('GCC', 0.27), ('GCG', 0.357), ('GCT', 0.161)], 'C': [('TGC', 0.558), ('TGT', 0.442)], 'D': [('GAC', 0.374), ('GAT', 0.626)], 'E': [('GAA', 0.691), ('GAG', 0.309)], 'F': [('TTC', 0.427), ('TTT', 0.573)], 'G': [('GGA', 0.107), ('GGC', 0.406), ('GGG', 0.149), ('GGT', 0.338)], 'H': [('CAC', 0.431), ('CAT', 0.569)], 'I': [('ATA', 0.07), ('ATC', 0.421), ('ATT', 0.509)], 'K': [('AAA', 0.767), ('AAG', 0.233)], 'L': [('CTA', 0.037), ('CTC', 0.105), ('CTG', 0.498), ('CTT', 0.103), ('TTA', 0.129), ('TTG', 0.128)], 'M': [('ATG', 1.0)], 'N': [('AAC', 0.553), ('AAT', 0.447)], 'P': [('CCA', 0.191), ('CCC', 0.123), ('CCG', 0.529), ('CCT', 0.157)], 'Q': [('CAA', 0.347), ('CAG', 0.653)], 'R': [('AGA', 0.036), ('AGG', 0.02), ('CGA', 0.064), ('CGC', 0.401), ('CGG', 0.097), ('CGT', 0.383)], 'S': [('AGC', 0.278), ('AGT', 0.15), ('TCA', 0.122), ('TCC', 0.149), ('TCG', 0.154), ('TCT', 0.146)], 'T': [('ACA', 0.129), ('ACC', 0.438), ('ACG', 0.268), ('ACT', 0.165)], 'V': [('GTA', 0.154), ('GTC', 0.216), ('GTG', 0.372), ('GTT', 0.259)], 'W': [('TGG', 1.0)], 'Y': [('TAC', 0.432), ('TAT', 0.568)]}\n"
     ]
    }
   ],
   "source": [
    "relative_frequencies = get_relative_frequencies(genome, codon_counter)\n",
    "print(relative_frequencies)"
   ]
  },
  {
   "cell_type": "code",
   "execution_count": 9,
   "metadata": {},
   "outputs": [],
   "source": [
    "relative_frequencies_to_csv(genome_id, relative_frequencies)"
   ]
  },
  {
   "cell_type": "code",
   "execution_count": 10,
   "metadata": {},
   "outputs": [],
   "source": [
    "genome_id = \"U00096\" # Ecoli"
   ]
  },
  {
   "cell_type": "code",
   "execution_count": 11,
   "metadata": {},
   "outputs": [
    {
     "name": "stdout",
     "output_type": "stream",
     "text": [
      "[(0, 0, 0), (0, 0, 1), (0, 0, 2), (0, 0, 3), (0, 1, 0), (0, 1, 1), (0, 1, 2), (0, 1, 3), (0, 2, 0), (0, 2, 1), (0, 2, 2), (0, 2, 3), (0, 3, 0), (0, 3, 1), (0, 3, 2), (0, 3, 3), (1, 0, 0), (1, 0, 1), (1, 0, 2), (1, 0, 3), (1, 1, 0), (1, 1, 1), (1, 1, 2), (1, 1, 3), (1, 2, 0), (1, 2, 1), (1, 2, 2), (1, 2, 3), (1, 3, 0), (1, 3, 1), (1, 3, 2), (1, 3, 3), (2, 0, 0), (2, 0, 1), (2, 0, 2), (2, 0, 3), (2, 1, 0), (2, 1, 1), (2, 1, 2), (2, 1, 3), (2, 2, 0), (2, 2, 1), (2, 2, 2), (2, 2, 3), (2, 3, 0), (2, 3, 1), (2, 3, 2), (2, 3, 3), (3, 0, 0), (3, 0, 1), (3, 0, 2), (3, 0, 3), (3, 1, 0), (3, 1, 1), (3, 1, 2), (3, 1, 3), (3, 2, 0), (3, 2, 1), (3, 2, 2), (3, 2, 3), (3, 3, 0), (3, 3, 1), (3, 3, 2), (3, 3, 3)]\n"
     ]
    }
   ],
   "source": [
    "import itertools\n",
    "import tempfile\n",
    "import numpy as np\n",
    "import biotite.database.entrez as entrez\n",
    "import biotite.sequence as seq\n",
    "import biotite.sequence.io.fasta as fasta\n",
    "import biotite.sequence.io.genbank as gb\n",
    "\n",
    "# Get the E. coli K-12 genome as annotated sequence\n",
    "gb_file = gb.GenBankFile.read(\n",
    "    entrez.fetch(genome_id, tempfile.gettempdir(), \"gb\", \"nuccore\", \"gb\")\n",
    ")\n",
    "# We are only interested in CDS features\n",
    "k12_genome = gb.get_annotated_sequence(gb_file, include_only=[\"CDS\"])\n",
    "\n",
    "\n",
    "# This dictionary will count how often each codon occurs in the genome\n",
    "# For increased performance the dictionary uses symbol codes ([0 3 2])\n",
    "# instead of symbols (['A' 'T' 'G']) as keys\n",
    "codon_counter = {\n",
    "    codon: 0\n",
    "    for codon in itertools.product(*([range(len(k12_genome.sequence.alphabet))] * 3))\n",
    "}\n",
    "# For demonstration purposes print the 64 codons in symbol code form\n",
    "print(list(codon_counter.keys()))"
   ]
  },
  {
   "cell_type": "code",
   "execution_count": 12,
   "metadata": {},
   "outputs": [
    {
     "name": "stdout",
     "output_type": "stream",
     "text": [
      "{'A': ['GCA', 'GCC', 'GCG', 'GCT'], 'C': ['TGC', 'TGT'], 'D': ['GAC', 'GAT'], 'E': ['GAA', 'GAG'], 'F': ['TTC', 'TTT'], 'G': ['GGA', 'GGC', 'GGG', 'GGT'], 'H': ['CAC', 'CAT'], 'I': ['ATA', 'ATC', 'ATT'], 'K': ['AAA', 'AAG'], 'L': ['CTA', 'CTC', 'CTG', 'CTT', 'TTA', 'TTG'], 'M': ['ATG'], 'N': ['AAC', 'AAT'], 'P': ['CCA', 'CCC', 'CCG', 'CCT'], 'Q': ['CAA', 'CAG'], 'R': ['AGA', 'AGG', 'CGA', 'CGC', 'CGG', 'CGT'], 'S': ['AGC', 'AGT', 'TCA', 'TCC', 'TCG', 'TCT'], 'T': ['ACA', 'ACC', 'ACG', 'ACT'], 'V': ['GTA', 'GTC', 'GTG', 'GTT'], 'W': ['TGG'], 'Y': ['TAC', 'TAT']}\n",
      "{'GCA': 'A', 'GCC': 'A', 'GCG': 'A', 'GCT': 'A', 'TGC': 'C', 'TGT': 'C', 'GAC': 'D', 'GAT': 'D', 'GAA': 'E', 'GAG': 'E', 'TTC': 'F', 'TTT': 'F', 'GGA': 'G', 'GGC': 'G', 'GGG': 'G', 'GGT': 'G', 'CAC': 'H', 'CAT': 'H', 'ATA': 'I', 'ATC': 'I', 'ATT': 'I', 'AAA': 'K', 'AAG': 'K', 'CTA': 'L', 'CTC': 'L', 'CTG': 'L', 'CTT': 'L', 'TTA': 'L', 'TTG': 'L', 'ATG': 'M', 'AAC': 'N', 'AAT': 'N', 'CCA': 'P', 'CCC': 'P', 'CCG': 'P', 'CCT': 'P', 'CAA': 'Q', 'CAG': 'Q', 'AGA': 'R', 'AGG': 'R', 'CGA': 'R', 'CGC': 'R', 'CGG': 'R', 'CGT': 'R', 'AGC': 'S', 'AGT': 'S', 'TCA': 'S', 'TCC': 'S', 'TCG': 'S', 'TCT': 'S', 'ACA': 'T', 'ACC': 'T', 'ACG': 'T', 'ACT': 'T', 'GTA': 'V', 'GTC': 'V', 'GTG': 'V', 'GTT': 'V', 'TGG': 'W', 'TAC': 'Y', 'TAT': 'Y', 'TAA': '*', 'TAG': '*', 'TGA': '*'}\n"
     ]
    }
   ],
   "source": [
    "table = seq.CodonTable.default_table()\n",
    "# Convert to dictionary with amino acid as key\n",
    "amino_acid_codon_dict = {}\n",
    "for amino_acid_code in range(20):\n",
    "    codon_codes_for_aa = table[amino_acid_code]\n",
    "    amino_acid = seq.ProteinSequence.alphabet.decode(amino_acid_code)\n",
    "    codons = []\n",
    "    for codon_code in codon_codes_for_aa:\n",
    "        codon = k12_genome.sequence.alphabet.decode_multiple(codon_code)\n",
    "        codon = \"\".join(codon)\n",
    "        codons.append(codon)\n",
    "    amino_acid_codon_dict[amino_acid] = codons\n",
    "print(amino_acid_codon_dict)\n",
    "\n",
    "# Change to format dict[codon] = amino acid\n",
    "codon_amino_acid_dict = {}\n",
    "for amino_acid, codons in amino_acid_codon_dict.items():\n",
    "    for codon in codons:\n",
    "        codon_amino_acid_dict[codon] = amino_acid\n",
    "codon_amino_acid_dict['TAA'] = '*'\n",
    "codon_amino_acid_dict['TAG'] = '*'\n",
    "codon_amino_acid_dict['TGA'] = '*'\n",
    "\n",
    "#print(table)\n",
    "print(codon_amino_acid_dict)"
   ]
  },
  {
   "cell_type": "code",
   "execution_count": 13,
   "metadata": {},
   "outputs": [
    {
     "data": {
      "text/plain": [
       "((3, 0, 1), (3, 0, 3))"
      ]
     },
     "execution_count": 13,
     "metadata": {},
     "output_type": "execute_result"
    }
   ],
   "source": [
    "codon_codes_for_aa"
   ]
  },
  {
   "cell_type": "code",
   "execution_count": 15,
   "metadata": {},
   "outputs": [
    {
     "data": {
      "text/plain": [
       "('ATG',)"
      ]
     },
     "execution_count": 15,
     "metadata": {},
     "output_type": "execute_result"
    }
   ],
   "source": [
    "table = seq.CodonTable.default_table()\n",
    "table['M']"
   ]
  },
  {
   "cell_type": "code",
   "execution_count": 12,
   "metadata": {},
   "outputs": [
    {
     "data": {
      "text/plain": [
       "'*'"
      ]
     },
     "execution_count": 12,
     "metadata": {},
     "output_type": "execute_result"
    }
   ],
   "source": [
    "table['TAG']"
   ]
  },
  {
   "cell_type": "code",
   "execution_count": 21,
   "metadata": {},
   "outputs": [
    {
     "data": {
      "text/plain": [
       "('ATG',)"
      ]
     },
     "execution_count": 21,
     "metadata": {},
     "output_type": "execute_result"
    }
   ],
   "source": [
    "table.start_codons()"
   ]
  },
  {
   "cell_type": "code",
   "execution_count": 3,
   "metadata": {},
   "outputs": [],
   "source": [
    "codon = 'ATG'\n",
    "default_codon_table = seq.CodonTable.default_table()"
   ]
  },
  {
   "cell_type": "code",
   "execution_count": 10,
   "metadata": {},
   "outputs": [
    {
     "name": "stdout",
     "output_type": "stream",
     "text": [
      "M\n"
     ]
    }
   ],
   "source": [
    "try:\n",
    "    result = default_codon_table['ATG']\n",
    "except:\n",
    "    result = None\n",
    "print(result)"
   ]
  },
  {
   "cell_type": "code",
   "execution_count": 14,
   "metadata": {},
   "outputs": [
    {
     "name": "stdout",
     "output_type": "stream",
     "text": [
      "G\n"
     ]
    }
   ],
   "source": [
    "result = seq.CodonTable.default_table()['GGT']\n",
    "print(result)"
   ]
  },
  {
   "cell_type": "code",
   "execution_count": null,
   "metadata": {},
   "outputs": [],
   "source": [
    "result = default_codon_table[codon.upper()] if codon.upper() in default_codon_table else None\n",
    "print(result)"
   ]
  },
  {
   "cell_type": "code",
   "execution_count": 15,
   "metadata": {},
   "outputs": [
    {
     "ename": "",
     "evalue": "",
     "output_type": "error",
     "traceback": [
      "\u001b[1;31mThe Kernel crashed while executing code in the current cell or a previous cell. \n",
      "\u001b[1;31mPlease review the code in the cell(s) to identify a possible cause of the failure. \n",
      "\u001b[1;31mClick <a href='https://aka.ms/vscodeJupyterKernelCrash'>here</a> for more info. \n",
      "\u001b[1;31mView Jupyter <a href='command:jupyter.viewOutput'>log</a> for further details."
     ]
    }
   ],
   "source": [
    "codon_table = seq.CodonTable.default_table()\n",
    "codon = 'XXX'\n",
    "result = codon_table[str(codon)] if str(codon) in codon_table else None\n",
    "print(result)"
   ]
  },
  {
   "cell_type": "code",
   "execution_count": 16,
   "metadata": {},
   "outputs": [
    {
     "name": "stdout",
     "output_type": "stream",
     "text": [
      "M\n"
     ]
    }
   ],
   "source": [
    "codon = 'ATG'\n",
    "\n",
    "try:\n",
    "    result = seq.CodonTable.default_table()[str(codon)]\n",
    "except:\n",
    "    result = None\n",
    "\n",
    "print(result)"
   ]
  },
  {
   "cell_type": "code",
   "execution_count": 18,
   "metadata": {},
   "outputs": [
    {
     "ename": "AttributeError",
     "evalue": "module 'biotite.sequence' has no attribute 'protein_alphabet'",
     "output_type": "error",
     "traceback": [
      "\u001b[1;31m---------------------------------------------------------------------------\u001b[0m",
      "\u001b[1;31mAttributeError\u001b[0m                            Traceback (most recent call last)",
      "Cell \u001b[1;32mIn[18], line 1\u001b[0m\n\u001b[1;32m----> 1\u001b[0m \u001b[43mseq\u001b[49m\u001b[38;5;241;43m.\u001b[39;49m\u001b[43mprotein_alphabet\u001b[49m\n",
      "\u001b[1;31mAttributeError\u001b[0m: module 'biotite.sequence' has no attribute 'protein_alphabet'"
     ]
    }
   ],
   "source": [
    "seq.protein_alphabet"
   ]
  },
  {
   "cell_type": "code",
   "execution_count": 26,
   "metadata": {},
   "outputs": [
    {
     "ename": "AttributeError",
     "evalue": "'str' object has no attribute 'seq'",
     "output_type": "error",
     "traceback": [
      "\u001b[1;31m---------------------------------------------------------------------------\u001b[0m",
      "\u001b[1;31mAttributeError\u001b[0m                            Traceback (most recent call last)",
      "Cell \u001b[1;32mIn[26], line 3\u001b[0m\n\u001b[0;32m      1\u001b[0m test \u001b[38;5;241m=\u001b[39m \u001b[38;5;124m'\u001b[39m\u001b[38;5;124mACTHGGGGILPM\u001b[39m\u001b[38;5;124m'\u001b[39m\n\u001b[1;32m----> 3\u001b[0m \u001b[43mtest\u001b[49m\u001b[38;5;241;43m.\u001b[39;49m\u001b[43mseq\u001b[49m\u001b[38;5;241m.\u001b[39mProteinSequence\u001b[38;5;241m.\u001b[39mis_valid()\n",
      "\u001b[1;31mAttributeError\u001b[0m: 'str' object has no attribute 'seq'"
     ]
    }
   ],
   "source": [
    "test = 'ACTHGGGGILPM'\n",
    "\n",
    "test.seq.ProteinSequence.is_valid()"
   ]
  },
  {
   "cell_type": "code",
   "execution_count": 1,
   "metadata": {},
   "outputs": [
    {
     "name": "stdout",
     "output_type": "stream",
     "text": [
      "Is the sequence 'ACGGTACG' valid?: True\n"
     ]
    }
   ],
   "source": [
    "from biotite.sequence import NucleotideSequence\n",
    "\n",
    "# Define your sequence\n",
    "sequence_str = \"ACGGTACG\"\n",
    "\n",
    "# Create a Biotite ProteinSequence object\n",
    "sequence = NucleotideSequence(sequence_str)\n",
    "\n",
    "# Use is_valid() to check if the sequence contains valid codes\n",
    "is_valid = sequence.is_valid()\n",
    "\n",
    "# Print the result\n",
    "print(f\"Is the sequence '{sequence_str}' valid?: {is_valid}\")"
   ]
  },
  {
   "cell_type": "code",
   "execution_count": 12,
   "metadata": {},
   "outputs": [
    {
     "ename": "ValueError",
     "evalue": "invalid literal for int() with base 10: 'A'",
     "output_type": "error",
     "traceback": [
      "\u001b[1;31m---------------------------------------------------------------------------\u001b[0m",
      "\u001b[1;31mValueError\u001b[0m                                Traceback (most recent call last)",
      "Cell \u001b[1;32mIn[12], line 3\u001b[0m\n\u001b[0;32m      1\u001b[0m sequence_str \u001b[38;5;241m=\u001b[39m \u001b[38;5;124m'\u001b[39m\u001b[38;5;124mATG\u001b[39m\u001b[38;5;124m'\u001b[39m\n\u001b[1;32m----> 3\u001b[0m \u001b[43mseq\u001b[49m\u001b[38;5;241;43m.\u001b[39;49m\u001b[43mCodonTable\u001b[49m\u001b[38;5;241;43m.\u001b[39;49m\u001b[43mdefault_table\u001b[49m\u001b[43m(\u001b[49m\u001b[43m)\u001b[49m\u001b[38;5;241;43m.\u001b[39;49m\u001b[43mis_start_codon\u001b[49m\u001b[43m(\u001b[49m\u001b[38;5;124;43m'\u001b[39;49m\u001b[38;5;124;43mATG\u001b[39;49m\u001b[38;5;124;43m'\u001b[39;49m\u001b[43m)\u001b[49m\n\u001b[0;32m      6\u001b[0m \u001b[38;5;66;03m# seq.CodonTable(sequence_str).is_start_codon('ATGCCG', starts='ATG')\u001b[39;00m\n",
      "File \u001b[1;32mc:\\Users\\Rosan\\Anaconda3\\envs\\eBlocks\\Lib\\site-packages\\biotite\\sequence\\codon.py:238\u001b[0m, in \u001b[0;36mCodonTable.is_start_codon\u001b[1;34m(self, codon_codes)\u001b[0m\n\u001b[0;32m    237\u001b[0m \u001b[38;5;28;01mdef\u001b[39;00m \u001b[38;5;21mis_start_codon\u001b[39m(\u001b[38;5;28mself\u001b[39m, codon_codes):\n\u001b[1;32m--> 238\u001b[0m     codon_numbers \u001b[38;5;241m=\u001b[39m \u001b[43mCodonTable\u001b[49m\u001b[38;5;241;43m.\u001b[39;49m\u001b[43m_to_number\u001b[49m\u001b[43m(\u001b[49m\u001b[43mcodon_codes\u001b[49m\u001b[43m)\u001b[49m\n\u001b[0;32m    239\u001b[0m     \u001b[38;5;28;01mreturn\u001b[39;00m np\u001b[38;5;241m.\u001b[39misin(codon_numbers, \u001b[38;5;28mself\u001b[39m\u001b[38;5;241m.\u001b[39m_starts)\n",
      "File \u001b[1;32mc:\\Users\\Rosan\\Anaconda3\\envs\\eBlocks\\Lib\\site-packages\\biotite\\sequence\\codon.py:345\u001b[0m, in \u001b[0;36mCodonTable._to_number\u001b[1;34m(codons)\u001b[0m\n\u001b[0;32m    342\u001b[0m \u001b[38;5;129m@staticmethod\u001b[39m\n\u001b[0;32m    343\u001b[0m \u001b[38;5;28;01mdef\u001b[39;00m \u001b[38;5;21m_to_number\u001b[39m(codons):\n\u001b[0;32m    344\u001b[0m     \u001b[38;5;28;01mif\u001b[39;00m \u001b[38;5;129;01mnot\u001b[39;00m \u001b[38;5;28misinstance\u001b[39m(codons, np\u001b[38;5;241m.\u001b[39mndarray):\n\u001b[1;32m--> 345\u001b[0m         codons \u001b[38;5;241m=\u001b[39m \u001b[43mnp\u001b[49m\u001b[38;5;241;43m.\u001b[39;49m\u001b[43marray\u001b[49m\u001b[43m(\u001b[49m\u001b[38;5;28;43mlist\u001b[39;49m\u001b[43m(\u001b[49m\u001b[43mcodons\u001b[49m\u001b[43m)\u001b[49m\u001b[43m,\u001b[49m\u001b[43m \u001b[49m\u001b[43mdtype\u001b[49m\u001b[38;5;241;43m=\u001b[39;49m\u001b[38;5;28;43mint\u001b[39;49m\u001b[43m)\u001b[49m\n\u001b[0;32m    346\u001b[0m     \u001b[38;5;28;01mreturn\u001b[39;00m np\u001b[38;5;241m.\u001b[39msum(_radix_multiplier \u001b[38;5;241m*\u001b[39m codons, axis\u001b[38;5;241m=\u001b[39m\u001b[38;5;241m-\u001b[39m\u001b[38;5;241m1\u001b[39m)\n",
      "\u001b[1;31mValueError\u001b[0m: invalid literal for int() with base 10: 'A'"
     ]
    }
   ],
   "source": [
    "sequence_str = 'ATG'\n",
    "\n",
    "seq.CodonTable.default_table().is_start_codon('ATG')\n",
    "\n",
    "\n",
    "# seq.CodonTable(sequence_str).is_start_codon('ATGCCG', starts='ATG')"
   ]
  },
  {
   "cell_type": "code",
   "execution_count": 37,
   "metadata": {},
   "outputs": [
    {
     "name": "stdout",
     "output_type": "stream",
     "text": [
      "TACGTTT\n",
      "TACGTTT\n",
      "TTTGCAT\n"
     ]
    }
   ],
   "source": [
    "sequence = 'aaacgta'\n",
    "\n",
    "sequence = seq.NucleotideSequence(sequence)\n",
    "result = sequence.reverse().complement()\n",
    "\n",
    "result2 = seq.NucleotideSequence(sequence).reverse().complement()\n",
    "result3 = seq.NucleotideSequence(sequence).complement()\n",
    "\n",
    "print(result)\n",
    "print(result2)\n",
    "print(result3)"
   ]
  },
  {
   "cell_type": "code",
   "execution_count": 38,
   "metadata": {},
   "outputs": [
    {
     "name": "stdout",
     "output_type": "stream",
     "text": [
      "tttgcat\n",
      "tacgttt\n"
     ]
    }
   ],
   "source": [
    "def reverse_complement(sequence):\n",
    "    \"\"\"\n",
    "    Reverse complement sequence\n",
    "    \"\"\"\n",
    "    pairs = {\"a\": \"t\", \"c\":\"g\", \"t\":\"a\", \"g\":\"c\"}\n",
    "    reverse = \"\"\n",
    "    for nucleotide in sequence:\n",
    "        rev_nucl = pairs[nucleotide]\n",
    "        reverse += rev_nucl\n",
    "    return reverse\n",
    "\n",
    "sequence = 'aaacgta'\n",
    "result = reverse_complement(sequence)\n",
    "print(result)\n",
    "\n",
    "complementary_inverted = result[::-1]\n",
    "print(complementary_inverted)\n",
    "\n"
   ]
  },
  {
   "cell_type": "code",
   "execution_count": 17,
   "metadata": {},
   "outputs": [],
   "source": [
    "def contains_start_stop_codon1(sequence: str) -> bool:\n",
    "    \"\"\"\n",
    "    This function checks if the sequence contains start and stop codons.\n",
    "    \"\"\"\n",
    "    start_codons = [\"ATG\"]\n",
    "    stop_codons = [\"TAA\", \"TAG\", \"TGA\"]\n",
    "    sequence = sequence.upper()\n",
    "    if sequence.upper().startswith(\"ATG\") and sequence.upper().endswith((\"TAA\", \"TAG\", \"TGA\")):\n",
    "        return True\n",
    "    else:\n",
    "        print(\"Please provide a sequence with start and stop codons\")"
   ]
  },
  {
   "cell_type": "code",
   "execution_count": 20,
   "metadata": {},
   "outputs": [
    {
     "name": "stdout",
     "output_type": "stream",
     "text": [
      "Please provide a sequence with start and stop codons\n",
      "Please provide a sequence with start and stop codons\n"
     ]
    }
   ],
   "source": [
    "def contains_start_stop_codon2(sequence: str) -> bool:\n",
    "    \"\"\"\n",
    "    This function checks if the sequence contains start and stop codons.\n",
    "    \"\"\"\n",
    "    stop_codons = [\"TAA\", \"TAG\", \"TGA\"]\n",
    "    sequence = sequence.upper()\n",
    "    if (sequence.startswith(\"ATG\")) and (sequence[-3:] in stop_codons):\n",
    "        return True\n",
    "    else:\n",
    "        print(\"Please provide a sequence with start and stop codons\")\n",
    "        return False\n",
    "\n",
    "\n",
    "sequence = 'ATGATGATGATGATGTGC'\n",
    "contains_start_stop_codon1(sequence)\n",
    "contains_start_stop_codon2(sequence)"
   ]
  },
  {
   "cell_type": "code",
   "execution_count": null,
   "metadata": {},
   "outputs": [],
   "source": []
  }
 ],
 "metadata": {
  "kernelspec": {
   "display_name": "eblocks_3",
   "language": "python",
   "name": "python3"
  },
  "language_info": {
   "codemirror_mode": {
    "name": "ipython",
    "version": 3
   },
   "file_extension": ".py",
   "mimetype": "text/x-python",
   "name": "python",
   "nbconvert_exporter": "python",
   "pygments_lexer": "ipython3",
   "version": "3.12.3"
  }
 },
 "nbformat": 4,
 "nbformat_minor": 2
}
