{
 "cells": [
  {
   "cell_type": "code",
   "execution_count": 61,
   "metadata": {},
   "outputs": [
    {
     "name": "stdout",
     "output_type": "stream",
     "text": [
      "The autoreload extension is already loaded. To reload it, use:\n",
      "  %reload_ext autoreload\n"
     ]
    }
   ],
   "source": [
    "import os\n",
    "import sys\n",
    "import random\n",
    "import pandas as pd\n",
    "from datetime import datetime\n",
    "import matplotlib.pyplot as plt\n",
    "\n",
    "sys.path.append('src')\n",
    "\n",
    "# from design_gene_blocks import DesignEblocks\n",
    "# from design_IVA_primers import DesignPrimers\n",
    "# from snapgene_output import SnapGeneOutput\n",
    "# from utils import natural_amino_acids, plot_vector, extract_snapgene_features\n",
    "\n",
    "# # For plasmid viewing\n",
    "# import biotite.sequence as seq\n",
    "# import biotite.sequence.io.genbank as gb\n",
    "# import biotite.sequence.graphics as graphics\n",
    "# import biotite.database.entrez as entrez\n",
    "# from biotite.sequence import Feature, Location, Annotation\n",
    "\n",
    "# !pip3 install openpyxl\n",
    "\n",
    "from eblocks import Mutation, Eblocks, EblockDesign, Sequence\n",
    "\n",
    "%load_ext autoreload\n",
    "%autoreload 2"
   ]
  },
  {
   "cell_type": "markdown",
   "metadata": {},
   "source": []
  },
  {
   "cell_type": "code",
   "execution_count": 62,
   "metadata": {},
   "outputs": [],
   "source": [
    "# Example usage\n",
    "eblocks_instance = Eblocks()"
   ]
  },
  {
   "cell_type": "code",
   "execution_count": 63,
   "metadata": {},
   "outputs": [],
   "source": [
    "design_instance = EblockDesign(eblocks_instance=eblocks_instance)"
   ]
  },
  {
   "cell_type": "code",
   "execution_count": 64,
   "metadata": {},
   "outputs": [],
   "source": [
    "# Design eblocks and set block_sequences in Eblocks instance\n",
    "design_instance.run_design_eblocks()"
   ]
  },
  {
   "cell_type": "code",
   "execution_count": 65,
   "metadata": {},
   "outputs": [
    {
     "name": "stdout",
     "output_type": "stream",
     "text": [
      "Eblocks Parameters: {'common_param': 'shared_value'}\n",
      "Block Sequences: ['sequence1', 'sequence2', 'sequence3']\n"
     ]
    }
   ],
   "source": [
    "# Display parameters from both Eblocks and Design instances\n",
    "eblocks_instance.display_parameters()"
   ]
  },
  {
   "cell_type": "code",
   "execution_count": 66,
   "metadata": {},
   "outputs": [
    {
     "name": "stdout",
     "output_type": "stream",
     "text": [
      "True\n",
      "\n"
     ]
    }
   ],
   "source": [
    "'AAAAAAAAAAAA'\n",
    "\n",
    "print(Sequence.is_dna('ATCGAAAAAAAAA'))\n",
    "\n",
    "print()"
   ]
  },
  {
   "cell_type": "code",
   "execution_count": 67,
   "metadata": {},
   "outputs": [
    {
     "name": "stdout",
     "output_type": "stream",
     "text": [
      "AGC\n"
     ]
    }
   ],
   "source": [
    "list = ['A', 'G', 'C']\n",
    "\n",
    "print(''.join(list))"
   ]
  },
  {
   "cell_type": "code",
   "execution_count": 73,
   "metadata": {},
   "outputs": [
    {
     "name": "stdout",
     "output_type": "stream",
     "text": [
      "Mutation ['S726I']\n",
      "Mutation ['N120T']\n",
      "Mutation ['L329T']\n",
      "Mutation ['L627I']\n",
      "Mutation ['I966Q']\n",
      "Mutation ['P220R']\n",
      "Mutation ['T62T']\n",
      "Mutation ['M490H']\n",
      "Mutation ['G868C']\n",
      "Mutation ['I399A']\n",
      "Mutation ['G383V']\n",
      "Mutation ['V99Y']\n",
      "Mutation ['E194Q']\n",
      "Mutation ['D975I']\n",
      "Mutation ['V1033R']\n",
      "Mutation ['I185I']\n",
      "Mutation ['R563C']\n",
      "Mutation ['K459W']\n",
      "Mutation ['G753Y']\n",
      "Mutation ['P495D']\n",
      "Combined ['L710C', 'D733D']\n",
      "Combined ['D1089G', 'Q1120S']\n",
      "Combined ['N225G', 'H228I', 'P253R', 'M271A']\n",
      "Insert K463-RWELIYK\n",
      "Insert Q638-LSDWRG\n",
      "Deletion M306-V308\n",
      "Deletion R858-Y859\n"
     ]
    },
    {
     "data": {
      "text/plain": [
       "[<eblocks.Mutation at 0x29d231d5c50>,\n",
       " <eblocks.Mutation at 0x29d231d51d0>,\n",
       " <eblocks.Mutation at 0x29d231d2cc0>,\n",
       " <eblocks.Mutation at 0x29d231d2860>,\n",
       " <eblocks.Mutation at 0x29d231d2898>,\n",
       " <eblocks.Mutation at 0x29d231d2278>,\n",
       " <eblocks.Mutation at 0x29d231d2320>,\n",
       " <eblocks.Mutation at 0x29d231d2748>,\n",
       " <eblocks.Mutation at 0x29d231d2908>,\n",
       " <eblocks.Mutation at 0x29d231d24e0>,\n",
       " <eblocks.Mutation at 0x29d231d2358>,\n",
       " <eblocks.Mutation at 0x29d231d2cf8>,\n",
       " <eblocks.Mutation at 0x29d231d2080>,\n",
       " <eblocks.Mutation at 0x29d231d2eb8>,\n",
       " <eblocks.Mutation at 0x29d231d2550>,\n",
       " <eblocks.Mutation at 0x29d231d2780>,\n",
       " <eblocks.Mutation at 0x29d231d2400>,\n",
       " <eblocks.Mutation at 0x29d231d2b38>,\n",
       " <eblocks.Mutation at 0x29d231d2f98>,\n",
       " <eblocks.Mutation at 0x29d231d2d30>,\n",
       " <eblocks.Mutation at 0x29d231d2828>,\n",
       " <eblocks.Mutation at 0x29d231d2240>,\n",
       " <eblocks.Mutation at 0x29d231d2c88>,\n",
       " <eblocks.Mutation at 0x29d231d20f0>,\n",
       " <eblocks.Mutation at 0x29d231d20b8>,\n",
       " <eblocks.Mutation at 0x29d231d26a0>,\n",
       " <eblocks.Mutation at 0x29d231d2710>]"
      ]
     },
     "execution_count": 73,
     "metadata": {},
     "output_type": "execute_result"
    }
   ],
   "source": [
    "instance = Mutation()\n",
    "mutations = instance.read_mutations('tests/files/valid_mutations_1.txt')\n",
    "for i in mutations:\n",
    "    print(i.type, i.mutation)\n",
    "\n",
    "instance.mutations"
   ]
  },
  {
   "cell_type": "code",
   "execution_count": 74,
   "metadata": {},
   "outputs": [
    {
     "name": "stdout",
     "output_type": "stream",
     "text": [
      "Please check for non-natural amino acids in mutation Combined X710C-D733D\n",
      "\n"
     ]
    },
    {
     "ename": "SystemExit",
     "evalue": "",
     "output_type": "error",
     "traceback": [
      "An exception has occurred, use %tb to see the full traceback.\n",
      "\u001b[1;31mSystemExit\u001b[0m\n"
     ]
    }
   ],
   "source": [
    "instance = Mutation()\n",
    "instance.parse_mutations('tests/files/invalid_mutations_1.txt')"
   ]
  },
  {
   "cell_type": "code",
   "execution_count": 75,
   "metadata": {},
   "outputs": [
    {
     "name": "stdout",
     "output_type": "stream",
     "text": [
      "L710C\n",
      "D733D\n",
      "D1089G\n",
      "Q1120S\n",
      "N225G\n",
      "H228I\n",
      "P253R\n",
      "M271A\n"
     ]
    }
   ],
   "source": [
    "instance = Mutation()\n",
    "instance.parse_mutations('tests/files/valid_mutations_1.txt')"
   ]
  },
  {
   "cell_type": "code",
   "execution_count": null,
   "metadata": {},
   "outputs": [],
   "source": []
  }
 ],
 "metadata": {
  "kernelspec": {
   "display_name": "eblocks_3",
   "language": "python",
   "name": "python3"
  },
  "language_info": {
   "codemirror_mode": {
    "name": "ipython",
    "version": 3
   },
   "file_extension": ".py",
   "mimetype": "text/x-python",
   "name": "python",
   "nbconvert_exporter": "python",
   "pygments_lexer": "ipython3",
   "version": "3.6.15"
  }
 },
 "nbformat": 4,
 "nbformat_minor": 2
}
