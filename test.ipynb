{
 "cells": [
  {
   "cell_type": "code",
   "execution_count": 22,
   "metadata": {},
   "outputs": [
    {
     "name": "stdout",
     "output_type": "stream",
     "text": [
      "The autoreload extension is already loaded. To reload it, use:\n",
      "  %reload_ext autoreload\n"
     ]
    }
   ],
   "source": [
    "import os\n",
    "import sys\n",
    "import random\n",
    "import pandas as pd\n",
    "from datetime import datetime\n",
    "import matplotlib.pyplot as plt\n",
    "\n",
    "sys.path.append('src')\n",
    "\n",
    "# from design_gene_blocks import DesignEblocks\n",
    "# from design_IVA_primers import DesignPrimers\n",
    "# from snapgene_output import SnapGeneOutput\n",
    "# from utils import natural_amino_acids, plot_vector, extract_snapgene_features\n",
    "\n",
    "# # For plasmid viewing\n",
    "# import biotite.sequence as seq\n",
    "# import biotite.sequence.io.genbank as gb\n",
    "# import biotite.sequence.graphics as graphics\n",
    "# import biotite.database.entrez as entrez\n",
    "# from biotite.sequence import Feature, Location, Annotation\n",
    "\n",
    "# !pip3 install openpyxl\n",
    "\n",
    "from eblocks import Mutation, Eblocks, EblockDesign, Sequence\n",
    "\n",
    "%load_ext autoreload\n",
    "%autoreload 2"
   ]
  },
  {
   "cell_type": "markdown",
   "metadata": {},
   "source": []
  },
  {
   "cell_type": "code",
   "execution_count": 23,
   "metadata": {},
   "outputs": [],
   "source": [
    "# Example usage\n",
    "eblocks_instance = Eblocks()"
   ]
  },
  {
   "cell_type": "code",
   "execution_count": 24,
   "metadata": {},
   "outputs": [],
   "source": [
    "design_instance = EblockDesign(eblocks_instance=eblocks_instance)"
   ]
  },
  {
   "cell_type": "code",
   "execution_count": 25,
   "metadata": {},
   "outputs": [],
   "source": [
    "# Design eblocks and set block_sequences in Eblocks instance\n",
    "design_instance.run_design_eblocks()"
   ]
  },
  {
   "cell_type": "code",
   "execution_count": 26,
   "metadata": {},
   "outputs": [
    {
     "name": "stdout",
     "output_type": "stream",
     "text": [
      "Eblocks Parameters: {'common_param': 'shared_value'}\n",
      "Block Sequences: ['sequence1', 'sequence2', 'sequence3']\n"
     ]
    }
   ],
   "source": [
    "# Display parameters from both Eblocks and Design instances\n",
    "eblocks_instance.display_parameters()"
   ]
  },
  {
   "cell_type": "code",
   "execution_count": 28,
   "metadata": {},
   "outputs": [
    {
     "name": "stdout",
     "output_type": "stream",
     "text": [
      "True\n"
     ]
    }
   ],
   "source": [
    "'AAAAAAAAAAAA'\n",
    "\n",
    "print(Sequence.is_dna('ATCGAAAAAAAAA'))\n",
    "\n",
    "print()"
   ]
  },
  {
   "cell_type": "code",
   "execution_count": 29,
   "metadata": {},
   "outputs": [
    {
     "name": "stdout",
     "output_type": "stream",
     "text": [
      "AGC\n"
     ]
    },
    {
     "ename": "",
     "evalue": "",
     "output_type": "error",
     "traceback": [
      "\u001b[1;31mThe Kernel crashed while executing code in the the current cell or a previous cell. Please review the code in the cell(s) to identify a possible cause of the failure. Click <a href='https://aka.ms/vscodeJupyterKernelCrash'>here</a> for more info. View Jupyter <a href='command:jupyter.viewOutput'>log</a> for further details."
     ]
    }
   ],
   "source": [
    "list = ['A', 'G', 'C']\n",
    "\n",
    "print(''.join(list))"
   ]
  },
  {
   "cell_type": "code",
   "execution_count": null,
   "metadata": {},
   "outputs": [],
   "source": []
  }
 ],
 "metadata": {
  "kernelspec": {
   "display_name": "eblocks_3",
   "language": "python",
   "name": "python3"
  },
  "language_info": {
   "codemirror_mode": {
    "name": "ipython",
    "version": 3
   },
   "file_extension": ".py",
   "mimetype": "text/x-python",
   "name": "python",
   "nbconvert_exporter": "python",
   "pygments_lexer": "ipython3",
   "version": "3.6.15"
  }
 },
 "nbformat": 4,
 "nbformat_minor": 2
}
