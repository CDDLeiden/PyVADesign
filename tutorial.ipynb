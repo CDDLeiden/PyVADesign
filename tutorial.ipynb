{
 "cells": [
  {
   "cell_type": "markdown",
   "metadata": {},
   "source": [
    "# Design eBlocks Tutorial\n",
    "\n",
    "Welcome to the Design eBlocks tutorial! In this tutorial, we will explore the process of designing eBlocks for a gene sequence using Jupyter Notebook.\n",
    "\n",
    "## What are eBlocks?\n",
    "\n",
    "eBlocks are synthetic DNA sequences that are designed to introduce specific mutations into a target gene. These mutations can include single point mutations, multiple point mutations, insertions, and deletions. eBlocks are a powerful tool for studying gene function and can be used in various applications such as protein engineering, gene expression analysis, and drug discovery.\n",
    "\n",
    "## Tutorial Overview\n",
    "\n",
    "In this tutorial, we will cover the following topics:\n",
    "\n",
    "1. Importing Required Modules and Packages\n",
    "2. Loading and Analyzing the Gene Sequence\n",
    "3. Parsing and Analyzing Mutation Data\n",
    "4. Designing eBlocks\n",
    "5. Visualizing eBlocks and Mutations\n",
    "6. Designing Primers for eBlock Amplification\n",
    "\n",
    "By the end of this tutorial, you will have a clear understanding of how to design eBlocks for a gene sequence and visualize the mutations introduced by these eBlocks.\n",
    "\n",
    "Let's get started with the first step: importing the required modules and packages."
   ]
  },
  {
   "cell_type": "markdown",
   "metadata": {},
   "source": [
    "### 1. Importing Required Modules and Packages"
   ]
  },
  {
   "cell_type": "code",
   "execution_count": 1,
   "metadata": {},
   "outputs": [],
   "source": [
    "import os\n",
    "import sys\n",
    "\n",
    "from src.mutation import Mutation\n",
    "from src.sequence import Vector, Gene\n",
    "from src.eblocks import Eblock, EblockDesign\n",
    "import biotite.sequence as seq\n",
    "from src.primer import DesignPrimers\n",
    "from src.plot import Plot\n",
    "\n",
    "%reload_ext autoreload\n",
    "%autoreload 2"
   ]
  },
  {
   "cell_type": "markdown",
   "metadata": {},
   "source": [
    "### 2. Loading and Analyzing the Gene Sequence\n",
    "\n",
    "The desired mutations should be added to a txt file. \n",
    "Here, we create a Mutation() object and parse the specified mutations. "
   ]
  },
  {
   "cell_type": "code",
   "execution_count": 2,
   "metadata": {},
   "outputs": [
    {
     "name": "stdout",
     "output_type": "stream",
     "text": [
      "The selected mutations are:\n",
      "\tMutation  \tS5K       \n",
      "\tMutation  \tV35Y      \n",
      "\tMutation  \tT84Y      \n",
      "\tInsert    \tR204-FTSMM\n",
      "\tMutation  \tS251R     \n",
      "\tCombined  \tS267M, D276I, D304L\n",
      "\tDeletion  \tS285-Q294 \n",
      "\tMutation  \tD326M     \n",
      "\tMutation  \tA327G     \n",
      "\tMutation  \tI352C     \n",
      "\tMutation  \tP380Y     \n",
      "\tMutation  \tR416H     \n",
      "\tMutation  \tD428G     \n",
      "\tMutation  \tY507V     \n",
      "\tInsert    \tG535-DDVIIC\n",
      "\tMutation  \tE556R     \n",
      "\tCombined  \tN593I, L639S, G635L, S616V, D640E, V617L, P618G, L619V\n",
      "\tMutation  \tD611G     \n",
      "\tMutation  \tP694P     \n",
      "\tMutation  \tQ716L     \n",
      "\tMutation  \tV867L     \n",
      "\tDeletion  \tA899-V904 \n",
      "\tCombined  \tV968Q, I1013Y\n",
      "\tMutation  \tL1002K    \n",
      "\tMutation  \tL1052E    \n",
      "\tMutation  \tF1061T    \n",
      "\tMutation  \tV1084M    \n",
      "\tMutation  \tL1157T    \n"
     ]
    }
   ],
   "source": [
    "# Create a Mutation object and parse the input mutations from the files/ directory\n",
    "\n",
    "mutations_file = os.path.join('example_data', 'Msmegmatis_DnaE1', 'Msmegmatis_DnaE1_mutations_N=27.txt')\n",
    "\n",
    "mutation_instance = Mutation()\n",
    "mutation_instance.parse_mutations(mutations_file)\n",
    "\n",
    "# Print the mutations that were parsed\n",
    "mutation_instance.print_mutations()"
   ]
  },
  {
   "cell_type": "markdown",
   "metadata": {},
   "source": [
    "Next, we read the gene sequence and the vector that contains our gene of interest."
   ]
  },
  {
   "cell_type": "code",
   "execution_count": 3,
   "metadata": {},
   "outputs": [],
   "source": [
    "# Create a Plasmid object and parse the input plasmid from the files/ directory\n",
    "\n",
    "sequence_file = os.path.join('example_data', 'Msmegmatis_DnaE1', 'A0QX55.fasta')\n",
    "vector_file = os.path.join('example_data', 'Msmegmatis_DnaE1', 'vector.dna')\n",
    "\n",
    "gene_instance = Gene()\n",
    "gene_instance.parse_sequence(sequence_file)\n",
    "\n",
    "vector_instance = Vector(gene=gene_instance)\n",
    "vector_instance.parse_vector(vector_file)"
   ]
  },
  {
   "cell_type": "markdown",
   "metadata": {},
   "source": [
    "We also define an output directory for the generated files and create a snapgene object for visualization"
   ]
  },
  {
   "cell_type": "code",
   "execution_count": 4,
   "metadata": {},
   "outputs": [],
   "source": [
    "# Create a SnapGene instance to write the eBlocks features to a snapgene file\n",
    "\n",
    "# Set output directory\n",
    "output_dir = os.path.join('tutorial_output')\n",
    "\n",
    "# snapgene_instance = SnapGene(vector_instance=vector_instance,\n",
    "#                              gene_instance=gene_instance,\n",
    "#                              output_dir=output_dir)"
   ]
  },
  {
   "cell_type": "markdown",
   "metadata": {},
   "source": [
    "We create an eBlockDesign instance that can initiate the design of the eblocks. Here, we choose as optimization method cost_optimization that aims to use as little basepairs as possible. Another option would be to do amount_optimization, that aims to cluster as many mutations as possible together, to get the lowest number of different eBlocks"
   ]
  },
  {
   "cell_type": "code",
   "execution_count": 8,
   "metadata": {},
   "outputs": [
    {
     "ename": "SyntaxError",
     "evalue": "(unicode error) 'unicodeescape' codec can't decode bytes in position 2-3: truncated \\UXXXXXXXX escape (1011297415.py, line 3)",
     "output_type": "error",
     "traceback": [
      "\u001b[1;36m  Cell \u001b[1;32mIn[8], line 3\u001b[1;36m\u001b[0m\n\u001b[1;33m    settingsfile = 'C:\\Users\\Rosan\\Documents\\git\\my_repositories\\design_gene_blocks\\settings\\eblock-settings.yml'\u001b[0m\n\u001b[1;37m                                                                                                                 ^\u001b[0m\n\u001b[1;31mSyntaxError\u001b[0m\u001b[1;31m:\u001b[0m (unicode error) 'unicodeescape' codec can't decode bytes in position 2-3: truncated \\UXXXXXXXX escape\n"
     ]
    }
   ],
   "source": [
    "# Create an Eblocks object based on the input mutations and the gene sequence\n",
    "\n",
    "settingsfile = os.path.join('settings', 'eblocks_settings.json')\n",
    "\n",
    "design_instance = EblockDesign(mutation_instance=mutation_instance,\n",
    "                               vector_instance=vector_instance,\n",
    "                               gene_instance=gene_instance,\n",
    "                               settingsfile=settingsfile,\n",
    "                               output_dir=output_dir)"
   ]
  },
  {
   "cell_type": "code",
   "execution_count": null,
   "metadata": {},
   "outputs": [],
   "source": []
  },
  {
   "cell_type": "code",
   "execution_count": null,
   "metadata": {},
   "outputs": [],
   "source": [
    "# Create a Plots object and check the input vector\n",
    "\n",
    "# Create the Plot object\n",
    "plot_instance = Plot(mutation_instance=mutation_instance,\n",
    "                     eblocks_design_instance=design_instance,\n",
    "                     vector_instance=vector_instance,\n",
    "                     gene_instance=gene_instance,\n",
    "                     output_dir=output_dir,\n",
    "                     show=True)\n",
    "\n",
    "# Check the input vector\n",
    "plot_instance.plot_vector(figsize=(5, 5))"
   ]
  },
  {
   "cell_type": "code",
   "execution_count": 36,
   "metadata": {},
   "outputs": [],
   "source": [
    "# TODO Add DnaE1 gene sequence to vector\n",
    "# TODO What are the other things in the vector that do not have a name?"
   ]
  },
  {
   "cell_type": "markdown",
   "metadata": {},
   "source": [
    "In our vector we can see that our vector contains the SacB gene, has an origin of replication and contains a CmR (chloramphenicol) resistance marker"
   ]
  },
  {
   "cell_type": "code",
   "execution_count": 37,
   "metadata": {},
   "outputs": [],
   "source": [
    "\n",
    "# TODO Show eBlocks in vector as well\n",
    "# TODO Add plasmid visaulization of eBlock features\n",
    "\n",
    "\n",
    "# from Bio import SeqIO\n",
    "# from Bio.Graphics import GenomeDiagram\n",
    "# from Bio.SeqFeature import SeqFeature, FeatureLocation\n",
    "\n",
    "# # Parse the plasmid sequence\n",
    "# plasmid_seq_record = SeqIO.read(\"plasmid_sequence.fasta\", \"fasta\")\n",
    "\n",
    "# # Create a GenomeDiagram object\n",
    "# gd_diagram = GenomeDiagram.Diagram(\"Plasmid Map\")\n",
    "\n",
    "# # Add the sequence track\n",
    "# gd_track = gd_diagram.new_track(1, name=\"Plasmid\")\n",
    "# gd_feature_set = gd_track.new_set()\n",
    "\n",
    "# # Add the plasmid sequence\n",
    "# gd_feature_set.add_feature(SeqFeature(FeatureLocation(0, len(plasmid_seq_record))), color=\"black\")\n",
    "\n",
    "# # Parse the GFF3 file to extract features\n",
    "# # Assuming you have a function parse_gff3() that returns feature information\n",
    "# features = parse_gff3(\"plasmid_features.gff3\")\n",
    "\n",
    "# # Add the features to the plasmid map\n",
    "# for feature in features:\n",
    "#     start = feature.start\n",
    "#     end = feature.end\n",
    "#     name = feature.attributes[\"Name\"]\n",
    "#     gd_feature_set.add_feature(SeqFeature(FeatureLocation(start, end)), color=\"blue\", label=True, label_position=\"middle\", label_size=8, label_angle=0, label_strand=0, name=name)\n",
    "\n",
    "# # Draw the plasmid map\n",
    "# gd_diagram.draw(format=\"linear\", pagesize=(15*len(plasmid_seq_record), 400), fragments=1)\n",
    "# gd_diagram.write(\"plasmid_map.png\", \"png\")\n"
   ]
  },
  {
   "cell_type": "code",
   "execution_count": 7,
   "metadata": {},
   "outputs": [
    {
     "name": "stdout",
     "output_type": "stream",
     "text": [
      "Calculating relative codon frequencies, based on the selected genome id U00096 ...\n",
      "Starting eBlock design ...\n",
      "Optimizing based on price per bp ...\n",
      "Lowest estimated cost: €1393.1 (given price per bp of €0.05)\n",
      "Directory tutorial_output\\clones\\S5K is not empty. Files might get overwritten or appended to.\n",
      "Directory tutorial_output\\clones\\V35Y is not empty. Files might get overwritten or appended to.\n",
      "Directory tutorial_output\\clones\\T84Y is not empty. Files might get overwritten or appended to.\n",
      "Directory tutorial_output\\clones\\R204-FTSMM is not empty. Files might get overwritten or appended to.\n",
      "Directory tutorial_output\\clones\\S251R is not empty. Files might get overwritten or appended to.\n",
      "Directory tutorial_output\\clones\\S267M-D276I-D304L is not empty. Files might get overwritten or appended to.\n",
      "Directory tutorial_output\\clones\\S285-Q294 is not empty. Files might get overwritten or appended to.\n",
      "Directory tutorial_output\\clones\\D326M is not empty. Files might get overwritten or appended to.\n",
      "Directory tutorial_output\\clones\\A327G is not empty. Files might get overwritten or appended to.\n",
      "Directory tutorial_output\\clones\\I352C is not empty. Files might get overwritten or appended to.\n",
      "Directory tutorial_output\\clones\\P380Y is not empty. Files might get overwritten or appended to.\n",
      "Directory tutorial_output\\clones\\R416H is not empty. Files might get overwritten or appended to.\n",
      "Directory tutorial_output\\clones\\D428G is not empty. Files might get overwritten or appended to.\n",
      "Directory tutorial_output\\clones\\Y507V is not empty. Files might get overwritten or appended to.\n",
      "Directory tutorial_output\\clones\\G535-DDVIIC is not empty. Files might get overwritten or appended to.\n",
      "Directory tutorial_output\\clones\\E556R is not empty. Files might get overwritten or appended to.\n",
      "Directory tutorial_output\\clones\\N593I-L639S-G635L-S616V-D640E-V617L-P618G-L619V is not empty. Files might get overwritten or appended to.\n",
      "Directory tutorial_output\\clones\\D611G is not empty. Files might get overwritten or appended to.\n",
      "Directory tutorial_output\\clones\\P694P is not empty. Files might get overwritten or appended to.\n",
      "Directory tutorial_output\\clones\\Q716L is not empty. Files might get overwritten or appended to.\n",
      "Directory tutorial_output\\clones\\V867L is not empty. Files might get overwritten or appended to.\n",
      "Directory tutorial_output\\clones\\A899-V904 is not empty. Files might get overwritten or appended to.\n",
      "Directory tutorial_output\\clones\\V968Q-I1013Y is not empty. Files might get overwritten or appended to.\n",
      "Directory tutorial_output\\clones\\L1002K is not empty. Files might get overwritten or appended to.\n",
      "Directory tutorial_output\\clones\\L1052E is not empty. Files might get overwritten or appended to.\n",
      "Directory tutorial_output\\clones\\F1061T is not empty. Files might get overwritten or appended to.\n",
      "Directory tutorial_output\\clones\\V1084M is not empty. Files might get overwritten or appended to.\n",
      "Directory tutorial_output\\clones\\L1157T is not empty. Files might get overwritten or appended to.\n",
      "Completed eBlock design.\n"
     ]
    }
   ],
   "source": [
    "# Run the eBlocks design and print the results\n",
    "\n",
    "design_instance.run_design_eblocks()"
   ]
  },
  {
   "cell_type": "code",
   "execution_count": null,
   "metadata": {},
   "outputs": [],
   "source": [
    "for i in design_instance.wt_eblocks:\n",
    "    print(i.name, i.sequence)\n",
    "\n"
   ]
  },
  {
   "cell_type": "markdown",
   "metadata": {},
   "source": [
    "In the process, for each mutation a different eBlock is created and a .gb file is made to easily view the clone in a sequence editor. "
   ]
  },
  {
   "cell_type": "markdown",
   "metadata": {},
   "source": []
  },
  {
   "cell_type": "code",
   "execution_count": null,
   "metadata": {},
   "outputs": [],
   "source": [
    "# Now that we have designed the eblocks, we can visualize them using the Plot class\n",
    "\n",
    "plot_instance.plot_eblocks_mutations(figure_length=20,\n",
    "                                     figure_width=5)"
   ]
  },
  {
   "cell_type": "code",
   "execution_count": 13,
   "metadata": {},
   "outputs": [],
   "source": [
    "# TODO Describe the eblocks here, what you can see with each color etc"
   ]
  },
  {
   "cell_type": "code",
   "execution_count": null,
   "metadata": {},
   "outputs": [],
   "source": [
    "# Each type of mutations (insertions, deletions, substitutions) is represented by a different color, you can see the legend below\n",
    "\n",
    "plot_instance.plot_mutation_legend()"
   ]
  },
  {
   "cell_type": "code",
   "execution_count": null,
   "metadata": {},
   "outputs": [],
   "source": [
    "# To see how many mutations can be made in each eBlock, we can plot a histogram\n",
    "\n",
    "plot_instance.plot_histogram_mutations()"
   ]
  },
  {
   "cell_type": "code",
   "execution_count": 16,
   "metadata": {},
   "outputs": [],
   "source": [
    "# TODO Do some explanation here"
   ]
  },
  {
   "cell_type": "code",
   "execution_count": 17,
   "metadata": {},
   "outputs": [],
   "source": [
    "# TODO Save the eblocks to a file"
   ]
  },
  {
   "cell_type": "code",
   "execution_count": null,
   "metadata": {},
   "outputs": [],
   "source": [
    "# TODO (At the end of tutorial) Remake the eBlocks but optimize for amount of eBlocks\n",
    "\n",
    "design_instance = EblockDesign(mutation_instance=mutation_instance,\n",
    "                               vector_instance=vector_instance,\n",
    "                               gene_instance=gene_instance,\n",
    "                               output_dir=output_dir,\n",
    "                               verbose=False,\n",
    "                               cost_optimization=False,\n",
    "                               amount_optimization=True)\n",
    "\n",
    "design_instance.run_design_eblocks()\n",
    "plot_instance.plot_eblocks_mutations(figure_length=20,\n",
    "                                     figure_width=5)"
   ]
  },
  {
   "cell_type": "code",
   "execution_count": 102,
   "metadata": {},
   "outputs": [],
   "source": [
    "# Remove all files in the output directory\n",
    "import os\n",
    "import shutil\n",
    "\n",
    "def remove_all_files_and_folders(directory):\n",
    "    # Check if the directory exists\n",
    "    if os.path.exists(directory):\n",
    "        shutil.rmtree(directory)  # Remove the entire directory and its contents\n",
    "        os.makedirs(directory)      # Recreate the empty directory\n",
    "    else:\n",
    "        print(f\"The directory {directory} does not exist.\")\n",
    "\n",
    "# Specify your directory here\n",
    "remove_all_files_and_folders('tutorial_output')\n"
   ]
  },
  {
   "cell_type": "code",
   "execution_count": null,
   "metadata": {},
   "outputs": [],
   "source": [
    "output_dir"
   ]
  },
  {
   "cell_type": "code",
   "execution_count": null,
   "metadata": {},
   "outputs": [],
   "source": [
    "# Create a primer design object and run the primer design process for IVA primers to amplify the eblocks\n",
    "\n",
    "settingsfile = 'settings/primer3-settings.txt'\n",
    "seq_settingsfile = 'settings/primer3-seq-settings.txt'\n",
    "\n",
    "primers_instance = DesignPrimers(mutation_instance=mutation_instance,\n",
    "                                 eblocks_design_instance=design_instance,\n",
    "                                 primers_settingsfile=settingsfile,\n",
    "                                 seqprimers_settingsfile=seq_settingsfile,\n",
    "                                 vector_instance=vector_instance,\n",
    "                                 output_dir=output_dir)\n",
    "\n",
    "primers_instance.run_design()"
   ]
  },
  {
   "cell_type": "code",
   "execution_count": null,
   "metadata": {},
   "outputs": [],
   "source": []
  },
  {
   "cell_type": "markdown",
   "metadata": {},
   "source": [
    "In this tutorial we will randomly design a number of mutations for the replicative DNA polymerase DnaE1 from *Mycobacterium smegmatis* to better understand it's function. <br>\n",
    "\n",
    "The expression plasmid containing Msmeg DnaE1 is XXX and is stored in XXX. <br>\n",
    "\n",
    "Gene from mycobrowser XXX and is stored in XXX <br>"
   ]
  },
  {
   "cell_type": "markdown",
   "metadata": {},
   "source": [
    "Now we will randomly design some mutations for this gene. Here, we will not generate any mutations in the N- or C- terminal region, to ensure we can create a 20bp overlap with the beginning or end of the gene in our eBlock design <br>\n",
    "\n",
    "1. **Single point mutations** <br>\n",
    "\n",
    "Single point mutations contain a single mutation per eBlock\n",
    "\n",
    "2. **Multiple point mutations in same eBlock**\n",
    "\n",
    "Multiple point mutations contain multiple mutations in the same eBlock\n",
    "\n",
    "3. **Inserts**\n",
    "\n",
    "Inserts contain addition of amino acids in the eBlock\n",
    "\n",
    "4. **Deletions**\n",
    "\n",
    "Deletions have parts of the gene deleted"
   ]
  }
 ],
 "metadata": {
  "kernelspec": {
   "display_name": "eblocks_3",
   "language": "python",
   "name": "python3"
  },
  "language_info": {
   "codemirror_mode": {
    "name": "ipython",
    "version": 3
   },
   "file_extension": ".py",
   "mimetype": "text/x-python",
   "name": "python",
   "nbconvert_exporter": "python",
   "pygments_lexer": "ipython3",
   "version": "3.11.10"
  }
 },
 "nbformat": 4,
 "nbformat_minor": 2
}
