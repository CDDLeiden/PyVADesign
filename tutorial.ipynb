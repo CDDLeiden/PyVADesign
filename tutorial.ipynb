{
 "cells": [
  {
   "cell_type": "markdown",
   "metadata": {},
   "source": [
    "# PyVADesign Tutorial\n",
    "\n",
    "Welcome to the PyVADesign tutorial! \n",
    "\n",
    "In this notebook, we will explore the process of designing dsDNA fragments and corresponding primers for a number of selected mutations.\n",
    "\n",
    "## Tutorial Overview\n",
    "\n",
    "In this tutorial, we will cover the following topics:\n",
    "\n",
    "1. Importing required modules and packages\n",
    "2. Loading the vector sequence and the Gene of Interest\n",
    "3. Parsing mutation data\n",
    "4. Designing dsDNA fragments\n",
    "5. Visualizing fragment regions and corresponding mutations\n",
    "6. Designing primers that prepare the target plasmid for insertion of the dsDNA fragment as well as sequencing primers\n",
    "\n",
    "Let's get started with the first step: importing the required modules and packages."
   ]
  },
  {
   "cell_type": "markdown",
   "metadata": {},
   "source": [
    "### 1. Importing Required Modules and Packages"
   ]
  },
  {
   "cell_type": "code",
   "execution_count": 3,
   "metadata": {},
   "outputs": [],
   "source": [
    "import os\n",
    "\n",
    "from src.mutation import Mutation\n",
    "from src.sequence import Vector, Gene\n",
    "from src.eblocks import EblockDesign\n",
    "from src.primer import DesignPrimers\n",
    "from src.plot import Plot"
   ]
  },
  {
   "cell_type": "markdown",
   "metadata": {},
   "source": [
    "### 2. Loading and Analyzing the Gene Sequence\n",
    "\n",
    "To successfully run the design process, the gene of interest must be provided in FASTA format and the plasmid sequence should be available in either DNA (.dna) or GenBank (.gb)\n",
    "\n",
    "For the purpose of this tutorial we will focus on Mycobacterial membrane protein Large 3 (MmpL3) of *Mycobacterium avium*. MmpL3 is a lipid transporter that has become a promising drug target for developing new anti-mycobacterial therapies. "
   ]
  },
  {
   "cell_type": "code",
   "execution_count": null,
   "metadata": {},
   "outputs": [],
   "source": [
    "# Create a gene object and parse the gene sequence from the data directory\n",
    "\n",
    "sequence_file = os.path.join('tutorial-data', 'A0A0H2ZYQ2.fasta')  # Gene sequence in fasta format\n",
    "gene_instance = Gene(stopcodon=False)\n",
    "gene_instance.parse_sequence(sequence_file)\n",
    "\n",
    "# Create a plasmid object and parse the input plasmid from the data directory\n",
    "\n",
    "vector_file = os.path.join('tutorial-data', 'pACE_mmpL3-Mav.dna')  # Vector sequence including MmpL3 in dna format\n",
    "vector_instance = Vector(gene=gene_instance)\n",
    "vector_instance.parse_vector(vector_file)"
   ]
  },
  {
   "cell_type": "markdown",
   "metadata": {},
   "source": [
    "### 3. Parsing mutation data\n",
    "\n",
    "The desired mutations should be listed in a text file.\n",
    "\n",
    "Here, we create a Mutation() object and parse the desired mutations. "
   ]
  },
  {
   "cell_type": "code",
   "execution_count": 11,
   "metadata": {},
   "outputs": [
    {
     "name": "stdout",
     "output_type": "stream",
     "text": [
      "The selected mutations are:\n",
      "\tMutation  \tV22F      \n",
      "\tInsert    \tS34-YLV   \n",
      "\tDeletion  \tV48-D57   \n",
      "\tDeletion  \tT65-T68   \n",
      "\tCombined  \tD76F, K116I, D122F, A77E\n",
      "\tDeletion  \tR80-N88   \n",
      "\tCombined  \tA102R, A146N, D150G, M151R\n",
      "\tMutation  \tL219S     \n",
      "\tDeletion  \tI221-G229 \n",
      "\tCombined  \tY233S, L252R, R257H, E260M\n",
      "\tInsert    \tE260-LGNSYSIL\n",
      "\tMutation  \tA279F     \n",
      "\tDeletion  \tL300-V305 \n",
      "\tCombined  \tR336W, G381C, S358N, T345Y\n",
      "\tMutation  \tE377D     \n",
      "\tMutation  \tN388Q     \n",
      "\tMutation  \tP400V     \n",
      "\tCombined  \tI477P, C498Y, R514D, V507L\n",
      "\tMutation  \tT481E     \n",
      "\tCombined  \tN496L, K529V, P497G\n",
      "\tMutation  \tA521D     \n",
      "\tCombined  \tA521I, L542N, D555A, R523L, F561S\n",
      "\tInsert    \tE553-TTGIFQCS\n",
      "\tCombined  \tK563P, P565A, G584A, S585Y\n",
      "\tCombined  \tI610W, R658C\n",
      "\tMutation  \tF622N     \n",
      "\tCombined  \tF622A, I632L, E647D\n",
      "\tMutation  \tL634T     \n",
      "\tDeletion  \tG732-R740 \n",
      "\tInsert    \tN747-MSVPRC\n"
     ]
    }
   ],
   "source": [
    "# Create a Mutation object and parse the input mutations from the files/ directory\n",
    "\n",
    "mutations_file = os.path.join('tutorial-data', 'mutations.txt')  # text file containing mutations\n",
    "mutation_instance = Mutation()\n",
    "mutation_instance.parse_mutations(mutations_file)\n",
    "\n",
    "# Print the mutations that were parsed\n",
    "\n",
    "mutation_instance.print_mutations()"
   ]
  },
  {
   "cell_type": "code",
   "execution_count": 17,
   "metadata": {},
   "outputs": [
    {
     "name": "stdout",
     "output_type": "stream",
     "text": [
      "Number of point mutations: 10\n",
      "Number of double mutations: 10\n",
      "Number of insertions: 4\n",
      "Number of deletions: 6\n",
      "-----------------------------------\n",
      "Total number of mutations: 30\n"
     ]
    }
   ],
   "source": [
    "# count number of mutations per type\n",
    "\n",
    "num_point_mutations = [i.type == 'Mutation' for i in mutation_instance.mutations].count(True)\n",
    "print(f'Number of point mutations: {num_point_mutations}')\n",
    "num_double_mutations = [i.type == 'Combined' for i in mutation_instance.mutations].count(True)\n",
    "print(f'Number of double mutations: {num_double_mutations}')\n",
    "num_insert = [i.type == 'Insert' for i in mutation_instance.mutations].count(True)\n",
    "print(f'Number of insertions: {num_insert}')\n",
    "num_deletion = [i.type == 'Deletion' for i in mutation_instance.mutations].count(True)\n",
    "print(f'Number of deletions: {num_deletion}')\n",
    "print('-----------------------------------')\n",
    "total_mutations = num_point_mutations + num_double_mutations + num_insert + num_deletion\n",
    "print(f'Total number of mutations: {total_mutations}')"
   ]
  },
  {
   "cell_type": "markdown",
   "metadata": {},
   "source": [
    "We also define an output directory for the generated files and create a snapgene object for visualization"
   ]
  },
  {
   "cell_type": "code",
   "execution_count": 18,
   "metadata": {},
   "outputs": [],
   "source": [
    "# Set output directory\n",
    "\n",
    "output_dir = os.path.join('tutorial_output')"
   ]
  },
  {
   "cell_type": "markdown",
   "metadata": {},
   "source": [
    "### 4. Designing dsDNA fragments"
   ]
  },
  {
   "cell_type": "markdown",
   "metadata": {},
   "source": [
    "Next, we create an design instance that can initiate the design of the dsDNA fragments. Here, we choose as optimization method cost_optimization that aims to use as little basepairs as possible. Another option would be to do amount_optimization, that aims to cluster as many mutations as possible together, to get the lowest number of different dsDNA fragments"
   ]
  },
  {
   "cell_type": "code",
   "execution_count": 28,
   "metadata": {},
   "outputs": [],
   "source": [
    "# we use a settingsfile that contains input parameters for the design class, such as the minimum and maximum length of the dsDNA fragments\n",
    "\n",
    "settingsfile = os.path.join('tutorial-data', 'dsDNA-Design-settings-CostOpt.txt')\n",
    "\n",
    "# Create an Eblocks object based on the input mutations and the gene sequence\n",
    "\n",
    "design_instance = EblockDesign(mutation_instance=mutation_instance,\n",
    "                               vector_instance=vector_instance,\n",
    "                               gene_instance=gene_instance,\n",
    "                               settings_file=settingsfile,\n",
    "                               output_dir=output_dir)"
   ]
  },
  {
   "cell_type": "markdown",
   "metadata": {},
   "source": [
    "Now we can run the design method to generate the dsDNA fragments"
   ]
  },
  {
   "cell_type": "code",
   "execution_count": 29,
   "metadata": {},
   "outputs": [
    {
     "name": "stdout",
     "output_type": "stream",
     "text": [
      "mutation_instance   : <src.mutation.Mutation object at 0x7fdb74fc55d0>\n",
      "vector_instance     : <src.sequence.Vector object at 0x7fdb74fc4970>\n",
      "gene_instance       : <src.sequence.Gene object at 0x7fdb74fc4e80>\n",
      "output_dir          : tutorial-output\n",
      "settings_file       : tutorial-data/dsDNA-Design-settings-CostOpt.txt\n",
      "cost_optimization   : True\n",
      "amount_optimization : True\n",
      "eblock_colors       : {0: '#1f77b4', 1: '#ff7f0e', 2: '#2ca02c', 3: '#d62728', 4: '#9467bd', 5: '#8c564b', 6: '#e377c2', 7: '#7f7f7f', 8: '#bcbd22', 9: '#17becf', 10: '#aec7e8', 11: '#ffbb78', 12: '#98df8a', 13: '#ff9896', 14: '#c5b0d5', 15: '#c49c94', 16: '#f7b6d2', 17: '#c7c7c7', 18: '#dbdb8d', 19: '#9edae5', 20: '#393b79', 21: '#ff7f0e', 22: '#2ca02c', 23: '#8c564b', 24: '#e377c2', 25: '#7f7f7f', 26: '#bcbd22', 27: '#17becf'}\n",
      "clone_files         : True\n",
      "verbose             : True\n",
      "codon_usage         : U00096\n",
      "bp_price            : 0.05\n",
      "max_eblock_length   : 1500\n",
      "min_eblock_length   : 300\n",
      "min_overlap         : 25\n",
      "min_order           : 24\n",
      "cost                : -1\n",
      "wt_eblocks          : []\n",
      "eblocks             : {}\n",
      "most_abundant_codons: {}\n",
      "Calculating relative codon frequencies, based on the selected genome id U00096 ...\n",
      "Clustering mutations ...\n",
      "Processing mutation: V22F\n",
      "Processing mutation: S34-YLV\n",
      "Processing mutation: V48-D57\n",
      "Deletion indices: 144, 171\n",
      "Processing mutation: T65-T68\n",
      "Deletion indices: 195, 204\n",
      "Processing mutation: D76F-K116I-D122F-A77E\n",
      "Multiple mutation indices: [228, 348, 366, 231]\n",
      "Multiple mutation constraints: [(102, 111), (144, 171), (195, 204), (228, 348, 366, 231)]\n",
      "Processing mutation: R80-N88\n",
      "Deletion indices: 240, 264\n",
      "Processing mutation: A102R-A146N-D150G-M151R\n",
      "Multiple mutation indices: [306, 438, 450, 453]\n",
      "Multiple mutation constraints: [(102, 111), (144, 171), (195, 204), (228, 348, 366, 231), (240, 264), (306, 438, 450, 453)]\n",
      "Processing mutation: L219S\n",
      "Processing mutation: I221-G229\n",
      "Deletion indices: 663, 687\n",
      "Processing mutation: Y233S-L252R-R257H-E260M\n",
      "Multiple mutation indices: [699, 756, 771, 780]\n",
      "Multiple mutation constraints: [(102, 111), (144, 171), (195, 204), (228, 348, 366, 231), (240, 264), (306, 438, 450, 453), (663, 687), (699, 756, 771, 780)]\n",
      "Processing mutation: E260-LGNSYSIL\n",
      "Processing mutation: A279F\n",
      "Processing mutation: L300-V305\n",
      "Deletion indices: 900, 915\n",
      "Processing mutation: R336W-G381C-S358N-T345Y\n",
      "Multiple mutation indices: [1008, 1143, 1074, 1035]\n",
      "Multiple mutation constraints: [(102, 111), (144, 171), (195, 204), (228, 348, 366, 231), (240, 264), (306, 438, 450, 453), (663, 687), (699, 756, 771, 780), (780, 804), (900, 915), (1008, 1143, 1074, 1035)]\n",
      "Processing mutation: E377D\n",
      "Processing mutation: N388Q\n",
      "Processing mutation: P400V\n",
      "Processing mutation: I477P-C498Y-R514D-V507L\n",
      "Multiple mutation indices: [1431, 1494, 1542, 1521]\n",
      "Multiple mutation constraints: [(102, 111), (144, 171), (195, 204), (228, 348, 366, 231), (240, 264), (306, 438, 450, 453), (663, 687), (699, 756, 771, 780), (780, 804), (900, 915), (1008, 1143, 1074, 1035), (1431, 1494, 1542, 1521)]\n",
      "Processing mutation: T481E\n",
      "Processing mutation: N496L-K529V-P497G\n",
      "Multiple mutation indices: [1488, 1587, 1491]\n",
      "Multiple mutation constraints: [(102, 111), (144, 171), (195, 204), (228, 348, 366, 231), (240, 264), (306, 438, 450, 453), (663, 687), (699, 756, 771, 780), (780, 804), (900, 915), (1008, 1143, 1074, 1035), (1431, 1494, 1542, 1521), (1488, 1587, 1491)]\n",
      "Processing mutation: A521D\n",
      "Processing mutation: A521I-L542N-D555A-R523L-F561S\n",
      "Multiple mutation indices: [1563, 1626, 1665, 1569, 1683]\n",
      "Multiple mutation constraints: [(102, 111), (144, 171), (195, 204), (228, 348, 366, 231), (240, 264), (306, 438, 450, 453), (663, 687), (699, 756, 771, 780), (780, 804), (900, 915), (1008, 1143, 1074, 1035), (1431, 1494, 1542, 1521), (1488, 1587, 1491), (1563, 1626, 1665, 1569, 1683)]\n",
      "Processing mutation: E553-TTGIFQCS\n",
      "Processing mutation: K563P-P565A-G584A-S585Y\n",
      "Multiple mutation indices: [1689, 1695, 1752, 1755]\n",
      "Multiple mutation constraints: [(102, 111), (144, 171), (195, 204), (228, 348, 366, 231), (240, 264), (306, 438, 450, 453), (663, 687), (699, 756, 771, 780), (780, 804), (900, 915), (1008, 1143, 1074, 1035), (1431, 1494, 1542, 1521), (1488, 1587, 1491), (1563, 1626, 1665, 1569, 1683), (1659, 1683), (1689, 1695, 1752, 1755)]\n",
      "Processing mutation: I610W-R658C\n",
      "Multiple mutation indices: [1830, 1974]\n",
      "Multiple mutation constraints: [(102, 111), (144, 171), (195, 204), (228, 348, 366, 231), (240, 264), (306, 438, 450, 453), (663, 687), (699, 756, 771, 780), (780, 804), (900, 915), (1008, 1143, 1074, 1035), (1431, 1494, 1542, 1521), (1488, 1587, 1491), (1563, 1626, 1665, 1569, 1683), (1659, 1683), (1689, 1695, 1752, 1755), (1830, 1974)]\n",
      "Processing mutation: F622N\n",
      "Processing mutation: F622A-I632L-E647D\n",
      "Multiple mutation indices: [1866, 1896, 1941]\n",
      "Multiple mutation constraints: [(102, 111), (144, 171), (195, 204), (228, 348, 366, 231), (240, 264), (306, 438, 450, 453), (663, 687), (699, 756, 771, 780), (780, 804), (900, 915), (1008, 1143, 1074, 1035), (1431, 1494, 1542, 1521), (1488, 1587, 1491), (1563, 1626, 1665, 1569, 1683), (1659, 1683), (1689, 1695, 1752, 1755), (1830, 1974), (1866, 1896, 1941)]\n",
      "Processing mutation: L634T\n",
      "Processing mutation: G732-R740\n",
      "Deletion indices: 2196, 2220\n",
      "Processing mutation: N747-MSVPRC\n",
      "Optimizing based on price per bp ...\n",
      "Lowest estimated cost: €2295.7 (given price per bp of €0.05)\n",
      "Starting eBlock design ...\n"
     ]
    },
    {
     "ename": "AttributeError",
     "evalue": "'NoneType' object has no attribute 'start_index'",
     "output_type": "error",
     "traceback": [
      "\u001b[0;31m---------------------------------------------------------------------------\u001b[0m",
      "\u001b[0;31mAttributeError\u001b[0m                            Traceback (most recent call last)",
      "Input \u001b[0;32mIn [29]\u001b[0m, in \u001b[0;36m<cell line: 1>\u001b[0;34m()\u001b[0m\n\u001b[0;32m----> 1\u001b[0m \u001b[43mdesign_instance\u001b[49m\u001b[38;5;241;43m.\u001b[39;49m\u001b[43mrun_design_eblocks\u001b[49m\u001b[43m(\u001b[49m\u001b[43m)\u001b[49m  \u001b[38;5;66;03m# Run the design\u001b[39;00m\n",
      "File \u001b[0;32m~/git/PyVADesign/src/eblocks.py:152\u001b[0m, in \u001b[0;36mEblockDesign.run_design_eblocks\u001b[0;34m(self)\u001b[0m\n\u001b[1;32m    150\u001b[0m results \u001b[38;5;241m=\u001b[39m {}\n\u001b[1;32m    151\u001b[0m \u001b[38;5;28;01mfor\u001b[39;00m mutation \u001b[38;5;129;01min\u001b[39;00m \u001b[38;5;28mself\u001b[39m\u001b[38;5;241m.\u001b[39mmutation_instance\u001b[38;5;241m.\u001b[39mmutations:\n\u001b[0;32m--> 152\u001b[0m     results \u001b[38;5;241m=\u001b[39m \u001b[38;5;28;43mself\u001b[39;49m\u001b[38;5;241;43m.\u001b[39;49m\u001b[43mmake_mutant_eblock\u001b[49m\u001b[43m(\u001b[49m\u001b[43mmutation\u001b[49m\u001b[43m,\u001b[49m\u001b[43m \u001b[49m\u001b[43mresults\u001b[49m\u001b[43m)\u001b[49m  \u001b[38;5;66;03m# Create mutated eBlock, based on mutation type\u001b[39;00m\n\u001b[1;32m    153\u001b[0m \u001b[38;5;66;03m# Check if all mutations could be mapped and remove mutations that could not be processed from mutation instance\u001b[39;00m\n\u001b[1;32m    154\u001b[0m \u001b[38;5;28mself\u001b[39m\u001b[38;5;241m.\u001b[39mcheck_eblocks(results)\n",
      "File \u001b[0;32m~/git/PyVADesign/src/eblocks.py:283\u001b[0m, in \u001b[0;36mEblockDesign.make_mutant_eblock\u001b[0;34m(self, mutation, results)\u001b[0m\n\u001b[1;32m    281\u001b[0m \u001b[38;5;28;01melif\u001b[39;00m (count_start \u001b[38;5;241m==\u001b[39m \u001b[38;5;241m1\u001b[39m) \u001b[38;5;129;01mand\u001b[39;00m (count_end \u001b[38;5;241m==\u001b[39m \u001b[38;5;241m1\u001b[39m):\n\u001b[1;32m    282\u001b[0m     eblock \u001b[38;5;241m=\u001b[39m eblock_start[\u001b[38;5;241m0\u001b[39m]\n\u001b[0;32m--> 283\u001b[0m eblock\u001b[38;5;241m.\u001b[39mmutation_start_index \u001b[38;5;241m=\u001b[39m \u001b[38;5;28;43mself\u001b[39;49m\u001b[38;5;241;43m.\u001b[39;49m\u001b[43meblock_index\u001b[49m\u001b[43m(\u001b[49m\u001b[43meblock\u001b[49m\u001b[43m,\u001b[49m\u001b[43m \u001b[49m\u001b[43mmutation\u001b[49m\u001b[38;5;241;43m.\u001b[39;49m\u001b[43midx_dna\u001b[49m\u001b[43m[\u001b[49m\u001b[38;5;241;43m0\u001b[39;49m\u001b[43m]\u001b[49m\u001b[43m)\u001b[49m\n\u001b[1;32m    284\u001b[0m \u001b[38;5;28mself\u001b[39m\u001b[38;5;241m.\u001b[39mcheck_wt_codon(eblock, mutation\u001b[38;5;241m.\u001b[39mmutation[\u001b[38;5;241m0\u001b[39m][\u001b[38;5;241m0\u001b[39m])  \u001b[38;5;66;03m# Check if WT codon at index is same residue as mutation\u001b[39;00m\n\u001b[1;32m    285\u001b[0m eblock\u001b[38;5;241m.\u001b[39mmutant_codon \u001b[38;5;241m=\u001b[39m \u001b[38;5;28mself\u001b[39m\u001b[38;5;241m.\u001b[39mselect_mut_codon(mutation\u001b[38;5;241m.\u001b[39mmutation[\u001b[38;5;241m0\u001b[39m][\u001b[38;5;241m-\u001b[39m\u001b[38;5;241m1\u001b[39m])\n",
      "File \u001b[0;32m~/git/PyVADesign/src/eblocks.py:199\u001b[0m, in \u001b[0;36mEblockDesign.eblock_index\u001b[0;34m(self, eblock, idx_mutation)\u001b[0m\n\u001b[1;32m    195\u001b[0m \u001b[38;5;28;01mdef\u001b[39;00m \u001b[38;5;21meblock_index\u001b[39m(\u001b[38;5;28mself\u001b[39m, eblock: Eblock, idx_mutation: \u001b[38;5;28mint\u001b[39m) \u001b[38;5;241m-\u001b[39m\u001b[38;5;241m>\u001b[39m \u001b[38;5;28mint\u001b[39m:\n\u001b[1;32m    196\u001b[0m \u001b[38;5;250m    \u001b[39m\u001b[38;5;124;03m\"\"\"\u001b[39;00m\n\u001b[1;32m    197\u001b[0m \u001b[38;5;124;03m    Find the index of a mutation in an eblock.\u001b[39;00m\n\u001b[1;32m    198\u001b[0m \u001b[38;5;124;03m    \"\"\"\u001b[39;00m\n\u001b[0;32m--> 199\u001b[0m     \u001b[38;5;28;01mif\u001b[39;00m (\u001b[43meblock\u001b[49m\u001b[38;5;241;43m.\u001b[39;49m\u001b[43mstart_index\u001b[49m \u001b[38;5;241m>\u001b[39m eblock\u001b[38;5;241m.\u001b[39mend_index) \u001b[38;5;129;01mand\u001b[39;00m (\u001b[38;5;28mself\u001b[39m\u001b[38;5;241m.\u001b[39mvector_instance\u001b[38;5;241m.\u001b[39mgene_start_idx \u001b[38;5;241m<\u001b[39m eblock\u001b[38;5;241m.\u001b[39mstart_index):\n\u001b[1;32m    200\u001b[0m         mutation_idx_in_gene  \u001b[38;5;241m=\u001b[39m \u001b[38;5;28mself\u001b[39m\u001b[38;5;241m.\u001b[39mvector_instance\u001b[38;5;241m.\u001b[39mgene_start_idx \u001b[38;5;241m+\u001b[39m idx_mutation\n\u001b[1;32m    201\u001b[0m         residues_to_end \u001b[38;5;241m=\u001b[39m \u001b[38;5;28mlen\u001b[39m(\u001b[38;5;28mself\u001b[39m\u001b[38;5;241m.\u001b[39mvector_instance\u001b[38;5;241m.\u001b[39mvector\u001b[38;5;241m.\u001b[39mseq) \u001b[38;5;241m-\u001b[39m eblock\u001b[38;5;241m.\u001b[39mstart_index\n",
      "\u001b[0;31mAttributeError\u001b[0m: 'NoneType' object has no attribute 'start_index'"
     ]
    }
   ],
   "source": [
    "design_instance.run_design_eblocks()  # Run the design"
   ]
  },
  {
   "cell_type": "code",
   "execution_count": 19,
   "metadata": {},
   "outputs": [],
   "source": [
    "# TODO Add DnaE1 gene sequence to vector\n",
    "# TODO What are the other things in the vector that do not have a name?"
   ]
  },
  {
   "cell_type": "markdown",
   "metadata": {},
   "source": [
    "In our vector we can see that our vector contains the SacB gene, has an origin of replication and contains a CmR (chloramphenicol) resistance marker"
   ]
  },
  {
   "cell_type": "code",
   "execution_count": 20,
   "metadata": {},
   "outputs": [],
   "source": [
    "\n",
    "# TODO Show eBlocks in vector as well\n",
    "# TODO Add plasmid visaulization of eBlock features\n",
    "\n",
    "\n",
    "# from Bio import SeqIO\n",
    "# from Bio.Graphics import GenomeDiagram\n",
    "# from Bio.SeqFeature import SeqFeature, FeatureLocation\n",
    "\n",
    "# # Parse the plasmid sequence\n",
    "# plasmid_seq_record = SeqIO.read(\"plasmid_sequence.fasta\", \"fasta\")\n",
    "\n",
    "# # Create a GenomeDiagram object\n",
    "# gd_diagram = GenomeDiagram.Diagram(\"Plasmid Map\")\n",
    "\n",
    "# # Add the sequence track\n",
    "# gd_track = gd_diagram.new_track(1, name=\"Plasmid\")\n",
    "# gd_feature_set = gd_track.new_set()\n",
    "\n",
    "# # Add the plasmid sequence\n",
    "# gd_feature_set.add_feature(SeqFeature(FeatureLocation(0, len(plasmid_seq_record))), color=\"black\")\n",
    "\n",
    "# # Parse the GFF3 file to extract features\n",
    "# # Assuming you have a function parse_gff3() that returns feature information\n",
    "# features = parse_gff3(\"plasmid_features.gff3\")\n",
    "\n",
    "# # Add the features to the plasmid map\n",
    "# for feature in features:\n",
    "#     start = feature.start\n",
    "#     end = feature.end\n",
    "#     name = feature.attributes[\"Name\"]\n",
    "#     gd_feature_set.add_feature(SeqFeature(FeatureLocation(start, end)), color=\"blue\", label=True, label_position=\"middle\", label_size=8, label_angle=0, label_strand=0, name=name)\n",
    "\n",
    "# # Draw the plasmid map\n",
    "# gd_diagram.draw(format=\"linear\", pagesize=(15*len(plasmid_seq_record), 400), fragments=1)\n",
    "# gd_diagram.write(\"plasmid_map.png\", \"png\")\n"
   ]
  },
  {
   "cell_type": "code",
   "execution_count": null,
   "metadata": {},
   "outputs": [
    {
     "name": "stdout",
     "output_type": "stream",
     "text": [
      "mutation_instance: <src.mutation.Mutation object at 0x0000017CB2044450>\n",
      "vector_instance: <src.sequence.Vector object at 0x0000017CAB563F10>\n",
      "gene_instance: <src.sequence.Gene object at 0x0000017CB3734550>\n",
      "output_dir: 'tutorial_output'\n",
      "settings_file: settings\\eblock-settings.txt\n",
      "cost_optimization: True\n",
      "amount_optimization: True\n",
      "eblock_colors: {0: '#1f77b4', 1: '#ff7f0e', 2: '#2ca02c', 3: '#d62728', 4: '#9467bd', 5: '#8c564b', 6: '#e377c2', 7: '#7f7f7f', 8: '#bcbd22', 9: '#17becf', 10: '#aec7e8', 11: '#ffbb78', 12: '#98df8a', 13: '#ff9896', 14: '#c5b0d5', 15: '#c49c94', 16: '#f7b6d2', 17: '#c7c7c7', 18: '#dbdb8d', 19: '#9edae5', 20: '#393b79', 21: '#ff7f0e', 22: '#2ca02c', 23: '#8c564b', 24: '#e377c2', 25: '#7f7f7f', 26: '#bcbd22', 27: '#17becf'}\n",
      "clone_files: True\n",
      "verbose: True\n",
      "codon_usage: U00096\n",
      "bp_price: 0.05\n",
      "max_eblock_length: 1500\n",
      "min_eblock_length: 300\n",
      "min_overlap: 25\n",
      "min_order: 24\n",
      "wt_eblocks: []\n",
      "eblocks: []\n",
      "most_abundant_codons: {}\n",
      "Calculating relative codon frequencies, based on the selected genome id U00096 ...\n",
      "Starting eBlock design ...\n",
      "Optimizing based on price per bp ...\n",
      "Lowest estimated cost: €1393.1 (given price per bp of €0.05)\n",
      "Directory 'tutorial_output'\\clones\\S5K is not empty. Files might get overwritten or appended to.\n",
      "Directory 'tutorial_output'\\clones\\V35Y is not empty. Files might get overwritten or appended to.\n",
      "Directory 'tutorial_output'\\clones\\T84Y is not empty. Files might get overwritten or appended to.\n",
      "Directory 'tutorial_output'\\clones\\R204-FTSMM is not empty. Files might get overwritten or appended to.\n",
      "Directory 'tutorial_output'\\clones\\S251R is not empty. Files might get overwritten or appended to.\n",
      "Directory 'tutorial_output'\\clones\\S267M-D276I-D304L is not empty. Files might get overwritten or appended to.\n",
      "Directory 'tutorial_output'\\clones\\S285-Q294 is not empty. Files might get overwritten or appended to.\n",
      "Directory 'tutorial_output'\\clones\\D326M is not empty. Files might get overwritten or appended to.\n",
      "Directory 'tutorial_output'\\clones\\A327G is not empty. Files might get overwritten or appended to.\n",
      "Directory 'tutorial_output'\\clones\\I352C is not empty. Files might get overwritten or appended to.\n",
      "Directory 'tutorial_output'\\clones\\P380Y is not empty. Files might get overwritten or appended to.\n",
      "Directory 'tutorial_output'\\clones\\R416H is not empty. Files might get overwritten or appended to.\n",
      "Directory 'tutorial_output'\\clones\\D428G is not empty. Files might get overwritten or appended to.\n",
      "Directory 'tutorial_output'\\clones\\Y507V is not empty. Files might get overwritten or appended to.\n",
      "Directory 'tutorial_output'\\clones\\G535-DDVIIC is not empty. Files might get overwritten or appended to.\n",
      "Directory 'tutorial_output'\\clones\\E556R is not empty. Files might get overwritten or appended to.\n",
      "Directory 'tutorial_output'\\clones\\N593I-L639S-G635L-S616V-D640E-V617L-P618G-L619V is not empty. Files might get overwritten or appended to.\n",
      "Directory 'tutorial_output'\\clones\\D611G is not empty. Files might get overwritten or appended to.\n",
      "Directory 'tutorial_output'\\clones\\P694P is not empty. Files might get overwritten or appended to.\n",
      "Directory 'tutorial_output'\\clones\\Q716L is not empty. Files might get overwritten or appended to.\n",
      "Directory 'tutorial_output'\\clones\\V867L is not empty. Files might get overwritten or appended to.\n",
      "Directory 'tutorial_output'\\clones\\A899-V904 is not empty. Files might get overwritten or appended to.\n",
      "Directory 'tutorial_output'\\clones\\V968Q-I1013Y is not empty. Files might get overwritten or appended to.\n",
      "Directory 'tutorial_output'\\clones\\L1002K is not empty. Files might get overwritten or appended to.\n",
      "Directory 'tutorial_output'\\clones\\L1052E is not empty. Files might get overwritten or appended to.\n",
      "Directory 'tutorial_output'\\clones\\F1061T is not empty. Files might get overwritten or appended to.\n",
      "Directory 'tutorial_output'\\clones\\V1084M is not empty. Files might get overwritten or appended to.\n",
      "Directory 'tutorial_output'\\clones\\L1157T is not empty. Files might get overwritten or appended to.\n",
      "Completed eBlock design.\n"
     ]
    }
   ],
   "source": []
  },
  {
   "cell_type": "code",
   "execution_count": null,
   "metadata": {},
   "outputs": [],
   "source": [
    "for i in design_instance.wt_eblocks:\n",
    "    print(i.name, i.sequence)\n",
    "\n"
   ]
  },
  {
   "cell_type": "markdown",
   "metadata": {},
   "source": [
    "In the process, for each mutation a different eBlock is created and a .gb file is made to easily view the clone in a sequence editor. "
   ]
  },
  {
   "cell_type": "markdown",
   "metadata": {},
   "source": []
  },
  {
   "cell_type": "code",
   "execution_count": null,
   "metadata": {},
   "outputs": [],
   "source": [
    "# Now that we have designed the eblocks, we can visualize them using the Plot class\n",
    "\n",
    "plot_instance.plot_eblocks_mutations(figure_length=20,\n",
    "                                     figure_width=5)"
   ]
  },
  {
   "cell_type": "code",
   "execution_count": 13,
   "metadata": {},
   "outputs": [],
   "source": [
    "# TODO Describe the eblocks here, what you can see with each color etc"
   ]
  },
  {
   "cell_type": "code",
   "execution_count": null,
   "metadata": {},
   "outputs": [],
   "source": [
    "# Each type of mutations (insertions, deletions, substitutions) is represented by a different color, you can see the legend below\n",
    "\n",
    "plot_instance.plot_mutation_legend()"
   ]
  },
  {
   "cell_type": "code",
   "execution_count": null,
   "metadata": {},
   "outputs": [],
   "source": [
    "# To see how many mutations can be made in each eBlock, we can plot a histogram\n",
    "\n",
    "plot_instance.plot_histogram_mutations()"
   ]
  },
  {
   "cell_type": "code",
   "execution_count": 16,
   "metadata": {},
   "outputs": [],
   "source": [
    "# TODO Do some explanation here"
   ]
  },
  {
   "cell_type": "code",
   "execution_count": 17,
   "metadata": {},
   "outputs": [],
   "source": [
    "# TODO Save the eblocks to a file"
   ]
  },
  {
   "cell_type": "code",
   "execution_count": null,
   "metadata": {},
   "outputs": [],
   "source": [
    "# TODO (At the end of tutorial) Remake the eBlocks but optimize for amount of eBlocks\n",
    "\n",
    "design_instance = EblockDesign(mutation_instance=mutation_instance,\n",
    "                               vector_instance=vector_instance,\n",
    "                               gene_instance=gene_instance,\n",
    "                               output_dir=output_dir,\n",
    "                               verbose=False,\n",
    "                               cost_optimization=False,\n",
    "                               amount_optimization=True)\n",
    "\n",
    "design_instance.run_design_eblocks()\n",
    "plot_instance.plot_eblocks_mutations(figure_length=20,\n",
    "                                     figure_width=5)"
   ]
  },
  {
   "cell_type": "code",
   "execution_count": 102,
   "metadata": {},
   "outputs": [],
   "source": [
    "# Remove all files in the output directory\n",
    "import os\n",
    "import shutil\n",
    "\n",
    "def remove_all_files_and_folders(directory):\n",
    "    # Check if the directory exists\n",
    "    if os.path.exists(directory):\n",
    "        shutil.rmtree(directory)  # Remove the entire directory and its contents\n",
    "        os.makedirs(directory)      # Recreate the empty directory\n",
    "    else:\n",
    "        print(f\"The directory {directory} does not exist.\")\n",
    "\n",
    "# Specify your directory here\n",
    "remove_all_files_and_folders('tutorial_output')\n"
   ]
  },
  {
   "cell_type": "code",
   "execution_count": null,
   "metadata": {},
   "outputs": [],
   "source": [
    "output_dir"
   ]
  },
  {
   "cell_type": "code",
   "execution_count": null,
   "metadata": {},
   "outputs": [],
   "source": [
    "# Create a primer design object and run the primer design process for IVA primers to amplify the eblocks\n",
    "\n",
    "settingsfile = 'settings/primer3-settings.txt'\n",
    "seq_settingsfile = 'settings/primer3-seq-settings.txt'\n",
    "\n",
    "primers_instance = DesignPrimers(mutation_instance=mutation_instance,\n",
    "                                 eblocks_design_instance=design_instance,\n",
    "                                 primers_settingsfile=settingsfile,\n",
    "                                 seqprimers_settingsfile=seq_settingsfile,\n",
    "                                 vector_instance=vector_instance,\n",
    "                                 output_dir=output_dir)\n",
    "\n",
    "primers_instance.run_design()"
   ]
  },
  {
   "cell_type": "code",
   "execution_count": null,
   "metadata": {},
   "outputs": [],
   "source": []
  },
  {
   "cell_type": "markdown",
   "metadata": {},
   "source": [
    "In this tutorial we will randomly design a number of mutations for the replicative DNA polymerase DnaE1 from *Mycobacterium smegmatis* to better understand it's function. <br>\n",
    "\n",
    "The expression plasmid containing Msmeg DnaE1 is XXX and is stored in XXX. <br>\n",
    "\n",
    "Gene from mycobrowser XXX and is stored in XXX <br>"
   ]
  },
  {
   "cell_type": "markdown",
   "metadata": {},
   "source": [
    "Now we will randomly design some mutations for this gene. Here, we will not generate any mutations in the N- or C- terminal region, to ensure we can create a 20bp overlap with the beginning or end of the gene in our eBlock design <br>\n",
    "\n",
    "1. **Single point mutations** <br>\n",
    "\n",
    "Single point mutations contain a single mutation per eBlock\n",
    "\n",
    "2. **Multiple point mutations in same eBlock**\n",
    "\n",
    "Multiple point mutations contain multiple mutations in the same eBlock\n",
    "\n",
    "3. **Inserts**\n",
    "\n",
    "Inserts contain addition of amino acids in the eBlock\n",
    "\n",
    "4. **Deletions**\n",
    "\n",
    "Deletions have parts of the gene deleted"
   ]
  }
 ],
 "metadata": {
  "kernelspec": {
   "display_name": "design_gene_blocks",
   "language": "python",
   "name": "python3"
  },
  "language_info": {
   "codemirror_mode": {
    "name": "ipython",
    "version": 3
   },
   "file_extension": ".py",
   "mimetype": "text/x-python",
   "name": "python",
   "nbconvert_exporter": "python",
   "pygments_lexer": "ipython3",
   "version": "3.10.15"
  }
 },
 "nbformat": 4,
 "nbformat_minor": 2
}
