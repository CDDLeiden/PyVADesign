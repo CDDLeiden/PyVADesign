{
 "cells": [
  {
   "cell_type": "code",
   "execution_count": 1,
   "metadata": {},
   "outputs": [],
   "source": [
    "import pandas as pd\n",
    "import numpy as np"
   ]
  },
  {
   "cell_type": "code",
   "execution_count": null,
   "metadata": {},
   "outputs": [],
   "source": [
    "path1 = r'C:\\Users\\Rosan\\Documents\\git\\my_repositories\\design_gene_blocks\\example\\example_output_2\\mut_gene_blocks.npy'\n",
    "path2 = r'C:\\Users\\Rosan\\Documents\\git\\my_repositories\\design_gene_blocks\\example\\example_output_2\\wt_gene_blocks.npy'"
   ]
  }
 ],
 "metadata": {
  "kernelspec": {
   "display_name": "eblocks_2",
   "language": "python",
   "name": "python3"
  },
  "language_info": {
   "codemirror_mode": {
    "name": "ipython",
    "version": 3
   },
   "file_extension": ".py",
   "mimetype": "text/x-python",
   "name": "python",
   "nbconvert_exporter": "python",
   "pygments_lexer": "ipython3",
   "version": "3.6.15"
  },
  "orig_nbformat": 4,
  "vscode": {
   "interpreter": {
    "hash": "d7d289948f61f5fcb13fbcf193359a612b9e5c1095e49523e79ec52da5e952f7"
   }
  }
 },
 "nbformat": 4,
 "nbformat_minor": 2
}
