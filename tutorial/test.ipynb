{
 "cells": [
  {
   "cell_type": "code",
   "execution_count": 1,
   "metadata": {},
   "outputs": [],
   "source": [
    "import pandas as pd\n",
    "import numpy as np\n",
    "import pickle"
   ]
  },
  {
   "cell_type": "code",
   "execution_count": 36,
   "metadata": {},
   "outputs": [],
   "source": [
    "path1 = r'C:\\Users\\Rosan\\Documents\\git\\my_repositories\\design_gene_blocks\\tests\\T2\\T2_out\\mut_gene_blocks.npy'\n",
    "path2 = r'C:\\Users\\Rosan\\Documents\\git\\my_repositories\\design_gene_blocks\\tests\\T2\\T2_out\\wt_gene_blocks.npy'"
   ]
  },
  {
   "cell_type": "code",
   "execution_count": 37,
   "metadata": {},
   "outputs": [],
   "source": [
    "def load_pickle(fp):\n",
    "    with open(fp, 'rb') as handle:\n",
    "        obj = pickle.load(handle)\n",
    "    return obj"
   ]
  },
  {
   "cell_type": "code",
   "execution_count": 38,
   "metadata": {},
   "outputs": [],
   "source": [
    "obj1 = load_pickle(path1)\n",
    "obj2 = load_pickle(path2)"
   ]
  },
  {
   "cell_type": "code",
   "execution_count": 40,
   "metadata": {},
   "outputs": [
    {
     "name": "stdout",
     "output_type": "stream",
     "text": [
      "Block_0_pos_206_805 acccatcatcgggatcgaggcctacatcgcgcccggttcccggttcgacaccaagcgcgtcacatggggcgacccgggccagaagggcgacgacgtctccggcagcggtgcgtacacgcacatgacgatggtcgccgagaacgcgacgggcctgcgcaacctgttcaagctgtcctcgctggcgtcgttcgaggggcagctgggcaagtggtcgcgtatggacgccgagatcatcgccgagcacgccgagggcatcatcgccaccaccggctgcccgtcgggcgaggtccagacccgcctgcgcctcggccacgagcgcgaggcgctcgaagccgcggcgaagtggcgcgagatcttcggcccggagaacttcttcctcgaactgatggaccacggtctcgacatcgagcgccgggtccgcgagggcctgctggagatcggccgcaagctcggcatcccgccgctggccaccaacgactgtcactacgtcacgcgtgaggccgcacgcaaccacgaggcgctgctgtgtgtgcagacgggcaagaccctctcggatcccacgcggttcaagttcgacggtgacggctacttcctcaagt\n",
      "Block_1_pos_805_1268 ccgccgaggagatgcgggcgctgtgggacagccaggtgcccggcgcgtgcgattcgacgctgctgatcggcgagcgggtgcagtcctacgccgacgtgtgggaaccgcgtgaccgcatgccggtgttcccggtgcccgaagggcacgaccaggcgtcgtggctcacccacgaggtgaaggccggtctggagcggcggttccgcggtggcccggtgcccgaggagtacaccacgcgcgccgagtacgagatcaaggtcatctgcgacaagggatttccgtcgtacttcctcatcgtcgccgacctgatcaactacgcgcgttcggtgggcatccgcgtggggcccggtcgtggttcggcggcgggatcgctcgtggcatacgccctcgggatcaccaacatcgacccgatcccgcacggtctgctgttcgagcgcttcctcaacccggagcgtccgtccgcgcc\n",
      "Block_2_pos_1268_2023 cgatatcgacatcgacttcgacgaccgtcgccgcggcgagatgctgcgctacgccgccaacaggtgggggagcgagcgcgtcgcgcaggtcatcacgttcggcaccatcaagaccaaggcggcgctgaaggattcggcccgcgtgaacttcggccagcccggtttcgcgatcgccgaccggatcaccaaggcgctgccgccgcccatcatggccaaggacatcccgctgtcgggtatcaccgacccgaaccacgagcggtacaaggaggccgccgaggtccgcggtctgatcgacaccgatccggacgtgcgcaccatctatgagaccgcgcgcggtctcgaaggcctggtccgcaacgcgggtgtgcacgcctgcgcggtgatcatgagctccgaaccgctcatcgacgcgatcccgctgtggaagcgtccgcaggacggcgcgatcatcaccggctgggactatccgtcgtgtgaggccatcggcctgctgaagatggacttcctgggcctgcgcaacctcacgatcatcggcgacgcgatcgccaacatcaaggccaaccgcggcatcgacctggacctggagacgctgccgctcgacgacccggcggcctacgaattgctctcgcgcggtgacaccctcggcgtgttccagctcgacggcgggcccatgcgcgacctgctgcggcgcatgcagcccacgggcttcaacgacatcgtcgcggtgctcgcgctgtaccgccccggtccgatgg\n",
      "Block_3_pos_2023_2414 gcatgaacgcccacaacgactacgccgaccgaaagaacggccggcaacccatcaagcccatccaccccgagctcgaagaaccgctcaaggacatcctggccgagacctacggcctgatcgtctaccaagagcagatcatgttcatcgcgcagaaggtcgcctcctacaccatgggtaaggccgacgcgctgcgaaaagccatgggcaagaagaagcttgaggtgctcgaggccgagtacaagggcttcaaggaaggcatgaccgccaacgggttctccgagggtgcggtcaaggcgctgtgggacacgatcctcccgttcgccggttacgcgttcaacaagtcgcacgccgcgggctacggcctggtgtcgtactggacggcctacctcaa\n",
      "Block_4_pos_2414_2872 ggccaactatccggccgagtacatggcaggcctgctcacctcggtcggtgacgacaaggacaaggccgcggtctacctggcggactgccggcgcctgggcatcacggtgctgccgccggacgtcaacgagtcggagcacaacttcgcctcggtcggcgacgacatccgattcggcctcggcgccatccgcaacgtcggcgccaacgtcgtctcgtcactgatcaagacccgcaccgagaagggcaagttcaccgacttctcggactacctcaacaagatcgacatcacggcctgcaacaagaaggtcaccgaatcgctgatcaaggcgggcgctttcgattcgttggggcatccgcgcaagggcctgttcctggtgcacaccgacgccgtcgactcggtgctgggtaccaagaaggccgaggcgatggggcagttcgacctgttcgggggcggcgagg\n"
     ]
    }
   ],
   "source": [
    "for key, value in obj2.items():\n",
    "    print(key, value)"
   ]
  },
  {
   "cell_type": "code",
   "execution_count": 8,
   "metadata": {},
   "outputs": [
    {
     "data": {
      "text/plain": [
       "84"
      ]
     },
     "execution_count": 8,
     "metadata": {},
     "output_type": "execute_result"
    }
   ],
   "source": [
    "28 * 3"
   ]
  },
  {
   "cell_type": "code",
   "execution_count": 17,
   "metadata": {},
   "outputs": [
    {
     "data": {
      "text/plain": [
       "84"
      ]
     },
     "execution_count": 17,
     "metadata": {},
     "output_type": "execute_result"
    }
   ],
   "source": [
    "318 - 234"
   ]
  },
  {
   "cell_type": "code",
   "execution_count": 5,
   "metadata": {},
   "outputs": [
    {
     "name": "stdout",
     "output_type": "stream",
     "text": [
      "F10A ['Block_0_pos_5_145', 'cggttcatctgcggggtcctccgccgtgcacctgcacaaccacaccgagtattcgatgctggacggtgccgcgaagatcacgcccatgctcgccgaggtggagcggctggggatgcccgcggtggggatgaccgaccacg', 25, 'gcc', 'Mutation']\n",
      "V11A-H12A-L13A ['Block_0_pos_5_145', 'cggttcatctgcggggtcctccttcgccgccgcccacaaccacaccgagtattcgatgctggacggtgccgcgaagatcacgcccatgctcgccgaggtggagcggctggggatgcccgcggtggggatgaccgaccacg', 34, 'gcc', 'Combined']\n",
      "H14A ['Block_0_pos_5_145', 'cggttcatctgcggggtcctccttcgtgcacctggccaaccacaccgagtattcgatgctggacggtgccgcgaagatcacgcccatgctcgccgaggtggagcggctggggatgcccgcggtggggatgaccgaccacg', 37, 'gcc', 'Mutation']\n",
      "N15A ['Block_0_pos_5_145', 'cggttcatctgcggggtcctccttcgtgcacctgcacgcccacaccgagtattcgatgctggacggtgccgcgaagatcacgcccatgctcgccgaggtggagcggctggggatgcccgcggtggggatgaccgaccacg', 40, 'gcc', 'Mutation']\n",
      "H16A ['Block_0_pos_5_145', 'cggttcatctgcggggtcctccttcgtgcacctgcacaacgccaccgagtattcgatgctggacggtgccgcgaagatcacgcccatgctcgccgaggtggagcggctggggatgcccgcggtggggatgaccgaccacg', 43, 'gcc', 'Mutation']\n",
      "T17A ['Block_0_pos_5_145', 'cggttcatctgcggggtcctccttcgtgcacctgcacaaccacgccgagtattcgatgctggacggtgccgcgaagatcacgcccatgctcgccgaggtggagcggctggggatgcccgcggtggggatgaccgaccacg', 46, 'gcc', 'Mutation']\n",
      "E18A ['Block_0_pos_5_145', 'cggttcatctgcggggtcctccttcgtgcacctgcacaaccacaccgcctattcgatgctggacggtgccgcgaagatcacgcccatgctcgccgaggtggagcggctggggatgcccgcggtggggatgaccgaccacg', 49, 'gcc', 'Mutation']\n",
      "Y19A ['Block_0_pos_5_145', 'cggttcatctgcggggtcctccttcgtgcacctgcacaaccacaccgaggcctcgatgctggacggtgccgcgaagatcacgcccatgctcgccgaggtggagcggctggggatgcccgcggtggggatgaccgaccacg', 52, 'gcc', 'Mutation']\n",
      "S20A ['Block_0_pos_5_145', 'cggttcatctgcggggtcctccttcgtgcacctgcacaaccacaccgagtatgccatgctggacggtgccgcgaagatcacgcccatgctcgccgaggtggagcggctggggatgcccgcggtggggatgaccgaccacg', 55, 'gcc', 'Mutation']\n",
      "M21A ['Block_0_pos_5_145', 'cggttcatctgcggggtcctccttcgtgcacctgcacaaccacaccgagtattcggccctggacggtgccgcgaagatcacgcccatgctcgccgaggtggagcggctggggatgcccgcggtggggatgaccgaccacg', 58, 'gcc', 'Mutation']\n",
      "L22A ['Block_0_pos_5_145', 'cggttcatctgcggggtcctccttcgtgcacctgcacaaccacaccgagtattcgatggccgacggtgccgcgaagatcacgcccatgctcgccgaggtggagcggctggggatgcccgcggtggggatgaccgaccacg', 61, 'gcc', 'Mutation']\n",
      "D23A ['Block_0_pos_5_145', 'cggttcatctgcggggtcctccttcgtgcacctgcacaaccacaccgagtattcgatgctggccggtgccgcgaagatcacgcccatgctcgccgaggtggagcggctggggatgcccgcggtggggatgaccgaccacg', 64, 'gcc', 'Mutation']\n",
      "G24A ['Block_0_pos_5_145', 'cggttcatctgcggggtcctccttcgtgcacctgcacaaccacaccgagtattcgatgctggacgccgccgcgaagatcacgcccatgctcgccgaggtggagcggctggggatgcccgcggtggggatgaccgaccacg', 67, 'gcc', 'Mutation']\n",
      "A25A ['Block_0_pos_5_145', 'cggttcatctgcggggtcctccttcgtgcacctgcacaaccacaccgagtattcgatgctggacggtgccgcgaagatcacgcccatgctcgccgaggtggagcggctggggatgcccgcggtggggatgaccgaccacg', 70, 'gcc', 'Mutation']\n",
      "A26G ['Block_0_pos_5_145', 'cggttcatctgcggggtcctccttcgtgcacctgcacaaccacaccgagtattcgatgctggacggtgccggcaagatcacgcccatgctcgccgaggtggagcggctggggatgcccgcggtggggatgaccgaccacg', 73, 'ggc', 'Mutation']\n",
      "K27A ['Block_0_pos_5_145', 'cggttcatctgcggggtcctccttcgtgcacctgcacaaccacaccgagtattcgatgctggacggtgccgcggccatcacgcccatgctcgccgaggtggagcggctggggatgcccgcggtggggatgaccgaccacg', 76, 'gcc', 'Mutation']\n",
      "I28A ['Block_0_pos_5_145', 'cggttcatctgcggggtcctccttcgtgcacctgcacaaccacaccgagtattcgatgctggacggtgccgcgaaggccacgcccatgctcgccgaggtggagcggctggggatgcccgcggtggggatgaccgaccacg', 79, 'gcc', 'Mutation']\n",
      "T29A ['Block_0_pos_5_145', 'cggttcatctgcggggtcctccttcgtgcacctgcacaaccacaccgagtattcgatgctggacggtgccgcgaagatcgcccccatgctcgccgaggtggagcggctggggatgcccgcggtggggatgaccgaccacg', 82, 'gcc', 'Mutation']\n",
      "P30A ['Block_0_pos_5_145', 'cggttcatctgcggggtcctccttcgtgcacctgcacaaccacaccgagtattcgatgctggacggtgccgcgaagatcacggccatgctcgccgaggtggagcggctggggatgcccgcggtggggatgaccgaccacg', 85, 'gcc', 'Mutation']\n",
      "M31A ['Block_0_pos_5_145', 'cggttcatctgcggggtcctccttcgtgcacctgcacaaccacaccgagtattcgatgctggacggtgccgcgaagatcacgcccgccctcgccgaggtggagcggctggggatgcccgcggtggggatgaccgaccacg', 88, 'gcc', 'Mutation']\n",
      "L32A ['Block_0_pos_5_145', 'cggttcatctgcggggtcctccttcgtgcacctgcacaaccacaccgagtattcgatgctggacggtgccgcgaagatcacgcccatggccgccgaggtggagcggctggggatgcccgcggtggggatgaccgaccacg', 91, 'gcc', 'Mutation']\n",
      "A33G ['Block_0_pos_5_145', 'cggttcatctgcggggtcctccttcgtgcacctgcacaaccacaccgagtattcgatgctggacggtgccgcgaagatcacgcccatgctcggcgaggtggagcggctggggatgcccgcggtggggatgaccgaccacg', 94, 'ggc', 'Mutation']\n",
      "E34A ['Block_0_pos_5_145', 'cggttcatctgcggggtcctccttcgtgcacctgcacaaccacaccgagtattcgatgctggacggtgccgcgaagatcacgcccatgctcgccgccgtggagcggctggggatgcccgcggtggggatgaccgaccacg', 97, 'gcc', 'Mutation']\n",
      "V35A ['Block_0_pos_5_145', 'cggttcatctgcggggtcctccttcgtgcacctgcacaaccacaccgagtattcgatgctggacggtgccgcgaagatcacgcccatgctcgccgaggccgagcggctggggatgcccgcggtggggatgaccgaccacg', 100, 'gcc', 'Mutation']\n",
      "E36A ['Block_0_pos_5_145', 'cggttcatctgcggggtcctccttcgtgcacctgcacaaccacaccgagtattcgatgctggacggtgccgcgaagatcacgcccatgctcgccgaggtggcccggctggggatgcccgcggtggggatgaccgaccacg', 103, 'gcc', 'Mutation']\n",
      "R37A ['Block_0_pos_5_145', 'cggttcatctgcggggtcctccttcgtgcacctgcacaaccacaccgagtattcgatgctggacggtgccgcgaagatcacgcccatgctcgccgaggtggaggccctggggatgcccgcggtggggatgaccgaccacg', 106, 'gcc', 'Mutation']\n",
      "L38A ['Block_0_pos_5_145', 'cggttcatctgcggggtcctccttcgtgcacctgcacaaccacaccgagtattcgatgctggacggtgccgcgaagatcacgcccatgctcgccgaggtggagcgggccgggatgcccgcggtggggatgaccgaccacg', 109, 'gcc', 'Mutation']\n",
      "G39A ['Block_0_pos_5_145', 'cggttcatctgcggggtcctccttcgtgcacctgcacaaccacaccgagtattcgatgctggacggtgccgcgaagatcacgcccatgctcgccgaggtggagcggctggccatgcccgcggtggggatgaccgaccacg', 112, 'gcc', 'Mutation']\n",
      "M40A ['Block_0_pos_5_145', 'cggttcatctgcggggtcctccttcgtgcacctgcacaaccacaccgagtattcgatgctggacggtgccgcgaagatcacgcccatgctcgccgaggtggagcggctgggggcccccgcggtggggatgaccgaccacg', 115, 'gcc', 'Mutation']\n"
     ]
    }
   ],
   "source": [
    "for key, value in obj1.items():\n",
    "    print(key, value)"
   ]
  },
  {
   "cell_type": "code",
   "execution_count": 29,
   "metadata": {},
   "outputs": [],
   "source": [
    "sm_dnae1_dna_seq = r'C:\\Users\\Rosan\\Documents\\git\\my_repositories\\design_gene_blocks\\tests\\T2\\T2_in\\Msmeg_DnaE1_sgresistant097.txt'"
   ]
  },
  {
   "cell_type": "code",
   "execution_count": 31,
   "metadata": {},
   "outputs": [
    {
     "name": "stdout",
     "output_type": "stream",
     "text": [
      "Smeg_DnaE1_sg-resistant097\n",
      "3555\n"
     ]
    }
   ],
   "source": [
    "from Bio import SeqIO\n",
    "\n",
    "for record in SeqIO.parse(sm_dnae1_dna_seq, \"fasta\"):\n",
    "    print(record.id)\n",
    "    sm_dnae1_dna = str(record.seq)\n",
    "\n",
    "print(len(sm_dnae1_dna))"
   ]
  },
  {
   "cell_type": "code",
   "execution_count": 24,
   "metadata": {},
   "outputs": [
    {
     "data": {
      "text/plain": [
       "'cgcgccc'"
      ]
     },
     "execution_count": 24,
     "metadata": {},
     "output_type": "execute_result"
    }
   ],
   "source": [
    "sm_dnae1_dna[233:240]\n",
    "# \"CCT\": \"P\", \"CCC\": \"P\", \"CCA\": \"P\", \"CCG\": \"P\","
   ]
  },
  {
   "cell_type": "code",
   "execution_count": 21,
   "metadata": {},
   "outputs": [
    {
     "name": "stdout",
     "output_type": "stream",
     "text": [
      "Mycobacterium\n"
     ]
    }
   ],
   "source": [
    "path = r'C:\\Users\\Rosan\\Documents\\git\\my_repositories\\design_gene_blocks\\tests\\T2\\T2_in\\sm_dnaE1_protseq.txt'\n",
    "\n",
    "for record in SeqIO.parse(path, \"fasta\"):\n",
    "    print(record.id)\n",
    "    sm_dnae1_prot = str(record.seq)"
   ]
  },
  {
   "cell_type": "code",
   "execution_count": 28,
   "metadata": {},
   "outputs": [
    {
     "name": "stdout",
     "output_type": "stream",
     "text": [
      "P\n",
      "P\n"
     ]
    }
   ],
   "source": [
    "print(sm_dnae1_prot[77])  # P\n",
    "print(sm_dnae1_prot[77])  # Y\n",
    "\n",
    "# AYIAP"
   ]
  },
  {
   "cell_type": "code",
   "execution_count": 27,
   "metadata": {},
   "outputs": [
    {
     "name": "stdout",
     "output_type": "stream",
     "text": [
      "GVEAYIAPGS\n"
     ]
    }
   ],
   "source": [
    "print(sm_dnae1_prot[70:80])  # Y"
   ]
  },
  {
   "cell_type": "code",
   "execution_count": 42,
   "metadata": {},
   "outputs": [],
   "source": [
    "def read_snapgene_dna_file(fp):\n",
    "    with open(fp, 'rb') as handle:\n",
    "        for record in SeqIO.parse(handle, \"snapgene\"):\n",
    "            return record"
   ]
  },
  {
   "cell_type": "code",
   "execution_count": 47,
   "metadata": {},
   "outputs": [],
   "source": [
    "tosearch = 'acccatcatcgggatcgaggcctacatcgcgcccggttcccggttcgacaccaagcgcgtcacatggggcgacccgggccagaagggcgacgacgtctccggcagcggtgcgtacacgcacatgacgatggtcgccgagaacgcgacgggcctgcgcaacctgttcaagctgtcctcgctggcgtcgttcgaggggcagctgggcaagtggtcgcgtatggacgccgagatcatcgccgagcacgccgagggcatcatcgccaccaccggctgcccgtcgggcgaggtccagacccgcctgcgcctcggccacgagcgcgaggcgctcgaagccgcggcgaagtggcgcgagatcttcggcccggagaacttcttcctcgaactgatggaccacggtctcgacatcgagcgccgggtccgcgagggcctgctggagatcggccgcaagctcggcatcccgccgctggccaccaacgactgtcactacgtcacgcgtgaggccgcacgcaaccacgaggcgctgctgtgtgtgcagacgggcaagaccctctcggatcccacgcggttcaagttcgacggtgacggctacttcctcaagt'"
   ]
  },
  {
   "cell_type": "code",
   "execution_count": 50,
   "metadata": {},
   "outputs": [
    {
     "name": "stdout",
     "output_type": "stream",
     "text": [
      "tggccgctcttctatgagcggcacagacggacggtcctcggggtcttttgtccacctgcataaccacactgagtactcgatgctggacggcgccgcgaagatcacgcccatgctggccgaggcgcagcggttggagatgcctgccatcggcatgaccgaccacgggaacatgttcggcgccagcgagttctacaactcggcgaccaaggccggcatcaaacccatcatcgggatcgaggcctacatcgcgcccggttcccggttcgacaccaagcgcgtcacatggggcgacccgggccagaagggcgacgacgtctccggcagcggtgcgtacacgcacatgacgatggtcgccgagaacgcgacgggcctgcgcaacctgttcaagctgtcctcgctggcgtcgttcgaggggcagctgggcaagtggtcgcgtatggacgccgagatcatcgccgagcacgccgagggcatcatcgccaccaccggctgcccgtcgggcgaggtccagacccgcctgcgcctcggccacgagcgcgaggcgctcgaagccgcggcgaagtggcgcgagatcttcggcccggagaacttcttcctcgaactgatggaccacggtctcgacatcgagcgccgggtccgcgagggcctgctggagatcggccgcaagctcggcatcccgccgctggccaccaacgactgtcactacgtcacgcgtgaggccgcacgcaaccacgaggcgctgctgtgtgtgcagacgggcaagaccctctcggatcccacgcggttcaagttcgacggtgacggctacttcctcaagtccgccgaggagatgcgggcgctgtgggacagccaggtgcccggcgcgtgcgattcgacgctgctgatcggcgagcgggtgcagtcctacgccgacgtgtgggaaccgcgtgaccgcatgccggtgttcccggtgcccgaagggcacgaccaggcgtcgtggctcacccacgaggtgaaggccggtctggagcggcggttccgcggtggcccggtgcccgaggagtacaccacgcgcgccgagtacgagatcaaggtcatctgcgacaagggatttccgtcgtacttcctcatcgtcgccgacctgatcaactacgcgcgttcggtgggcatccgcgtggggcccggtcgtggttcggcggcgggatcgctcgtggcatacgccctcgggatcaccaacatcgacccgatcccgcacggtctgctgttcgagcgcttcctcaacccggagcgtccgtccgcgcccgatatcgacatcgacttcgacgaccgtcgccgcggcgagatgctgcgctacgccgccaacaggtgggggagcgagcgcgtcgcgcaggtcatcacgttcggcaccatcaagaccaaggcggcgctgaaggattcggcccgcgtgaacttcggccagcccggtttcgcgatcgccgaccggatcaccaaggcgctgccgccgcccatcatggccaaggacatcccgctgtcgggtatcaccgacccgaaccacgagcggtacaaggaggccgccgaggtccgcggtctgatcgacaccgatccggacgtgcgcaccatctatgagaccgcgcgcggtctcgaaggcctggtccgcaacgcgggtgtgcacgcctgcgcggtgatcatgagctccgaaccgctcatcgacgcgatcccgctgtggaagcgtccgcaggacggcgcgatcatcaccggctgggactatccgtcgtgtgaggccatcggcctgctgaagatggacttcctgggcctgcgcaacctcacgatcatcggcgacgcgatcgccaacatcaaggccaaccgcggcatcgacctggacctggagacgctgccgctcgacgacccggcggcctacgaattgctctcgcgcggtgacaccctcggcgtgttccagctcgacggcgggcccatgcgcgacctgctgcggcgcatgcagcccacgggcttcaacgacatcgtcgcggtgctcgcgctgtaccgccccggtccgatgggcatgaacgcccacaacgactacgccgaccgaaagaacggccggcaacccatcaagcccatccaccccgagctcgaagaaccgctcaaggacatcctggccgagacctacggcctgatcgtctaccaagagcagatcatgttcatcgcgcagaaggtcgcctcctacaccatgggtaaggccgacgcgctgcgaaaagccatgggcaagaagaagcttgaggtgctcgaggccgagtacaagggcttcaaggaaggcatgaccgccaacgggttctccgagggtgcggtcaaggcgctgtgggacacgatcctcccgttcgccggttacgcgttcaacaagtcgcacgccgcgggctacggcctggtgtcgtactggacggcctacctcaaggccaactatccggccgagtacatggcaggcctgctcacctcggtcggtgacgacaaggacaaggccgcggtctacctggcggactgccggcgcctgggcatcacggtgctgccgccggacgtcaacgagtcggagcacaacttcgcctcggtcggcgacgacatccgattcggcctcggcgccatccgcaacgtcggcgccaacgtcgtctcgtcactgatcaagacccgcaccgagaagggcaagttcaccgacttctcggactacctcaacaagatcgacatcacggcctgcaacaagaaggtcaccgaatcgctgatcaaggcgggcgctttcgattcgttggggcatccgcgcaagggcctgttcctggtgcacaccgacgccgtcgactcggtgctgggtaccaagaaggccgaggcgatggggcagttcgacctgttcgggggcggcgaggacaccgggaccgacgcggtgttcaccatcaaggtccccgacgaggagtgggaggacaagcacaaactcgcactcgaacgcgagatgctcggcctctacgtgtccgggcacccgctcaacggcgtcgcgcacctgctggccaaccaggtcgacacccagatcccggcgatcctcgacggcgacgtcgccaacgacgcgcaggtgctggtgggcggcatcctggcctcggtcaaccgccgcgtcaacaagaacggtctgccgtgggcgtcggcccagttggaggacctcaccggtggtatcgaggtgctgttcttcccgcagacctactcgctgttcggcgccgacatcgccgacgacgtcgtggtgctagtcaaggccaaggtggccgcacgtgacgaccggatcgcgctgatcgcccacgagttgatcgtgcccgacttcagcagtgcgcaggccgatcgtccgttgtcggtcagccttcccacccggcagtgcaccatcgacaaggtcaccgcgctcaagcaggtgctcgccaaccaccccggcacgtcgcaggtccacctgcggttgatcagcggtgagcggatcaccacgctcgagctcgaccaatcgctgcgcgtgaccccgtcatcggcgttgatgggcgatctcaaggcgctgctcggccccggctgTctTggTgcatgaagagcggccaccgaggccgggagcggatttgaacgttgcgaagcaacggcccggagggtggcgggcaggacgcccgccataaactgccaggcatcaaattaagcagaaggccatcctgacggatggcctttttgcgtttctacaaactcttttgtttatttttctaaatacattcaaatatgtatccgctcatgaattccccgcgcgcgatgccctttcgtcttcgaataaatacctgtgacggaagatcacttcgcagaataaataaatcctggtgtccctgttgataccgggaagccctgggccaacttttggcgaaaatgagacgttgatcggcacgtaagaggttccaactttcaccataatgaaataagatcactaccgggcgtattttttgagttatcgagattttcaggagctaaggaagctaaaatggagaaaaaaatcactggatataccaccgttgatatatcccaatggcatcgtaaagaacattttgaggcatttcagtcagttgctcaatgtacctataaccagaccgttcagctggatattacggcctttttaaagaccgtaaagaaaaataagcacaagttttatccggcctttattcacattcttgcccgcctgatgaatgctcatccggaatttcgtatggcaatgaaagacggtgagctggtgatatgggatagtgttcacccttgttacaccgttttccatgagcaaactgaaacgttttcatcgctctggagtgaataccacgacgatttccggcagtttctacacatatattcgcaagatgtggcgtgttacggtgaaaacctggcctatttccctaaagggtttattgagaatatgtttttcgtctcagccaatccctgggtgagtttcaccagttttgatttaaacgtggcgaatatggacaacttcttcgcccccgttttcactatgggcaaatattatacgcaaggcgacaaggtgctgatgccgctggcgattcaggttcatcatgccgtctgtgatggcttccatgtcggcagaatgcttaatgaattacaacagtactgcgatgagtggcagggcggggcgtaatttttttaaggcagttattggtgcccttaaacgcctggttgctacgcctgaataagtgataataagcggatgaatggcagaaattcgagcccgcctaatgagcgggcttttttttagcccgcctaatgagcgggcttttttttcgaaagcaaattcgacccatcgcgcgcggggagtcaactcagcaaaagttcgatttattcaacaaagccacgttgtgtctcaaaatctctgatgttacattgcacaagataaaaatatatcatcatgcatgaccaaaatcccttaacgtgagttttcgttccactgagcgtcagaccccgtagaaaagatcaaaggatcttcttgagatcctttttttctgcgcgtaatctgctgcttgcaaacaaaaaaaccaccgctaccagcggtggtttgtttgccggatcaagagctaccaactctttttccgaaggtaactggcttcagcagagcgcagataccaaatactgtccttctagtgtagccgtagttaggccaccacttcaagaactctgtagcaccgcctacatacctcgctctgctaatcctgttaccagtggctgctgccagtggcgataagtcgtgtcttaccgggttggactcaagacgatagttaccggataaggcgcagcggtcgggctgaacggggggttcgtgcacacagcccagcttggagcgaacgacctacaccgaactgagatacctacagcgtgagctatgagaaagcgccacgcttcccgaagggagaaaggcggacaggtatccggtaagcggcagggtcggaacaggagagcgcacgagggagcttccagggggaaacgcctggtatctttatagtcctgtcgggtttcgccacctctgacttgagcgtcgatttttgtgatgctcgtcaggggggcggagcctatggaaaaacgccagcaacgcggcctttttacggttcctggccttttgctggccttttgctcacatgttctttcctgcgttatcccctgattctgtggataaccgtattaccgcctttgagtgagctgataccgctcgccgcagccgaacgaccgagcgcagcgagtcagtgagcgaggaagcggaagatcgggcccagccggcccacatatacctgccgttcactattatttagtgaaatgagatattatgatattttctgaattgtgattaaaaaggcaactttatgcccatgcaacagaaactataaaaaatacagagaatgaaaagaaacagatagattttttagttctttaggcccgtagtctgcaaatccttttatgattttctatcaaacaaaagaggaaaatagaccagttgcaatccaaacgagagtctaatagaatgaggtcgaaaagtaaatcgcgcgggtttgttactgataaagcaggcaagacctaaaatgtgtaaagggcaaagtgtatactttggcgtcaccccttacatattttaggtctttttttattgtgcgtaactaacttgccatcttcaaacaggagggctggaagaagcagaccgctaacacagtacataaaaaaggagacatgaacgatgaacatcaaaaagtttgcaaaacaagcaacagtattaacctttactaccgcactgctggcaggaggcgcaactcaagcgtttgcgaaagaaacgaaccaaaagccatataaggaaacatacggcatttcccatattacacgccatgatatgctgcaaatccctgaacagcaaaaaaatgaaaaatataaagttcctgagttcgattcgtccacaattaaaaatatctcttctgcaaaaggcctggacgtttgggacagctggccattacaaaacactgacggcactgtcgcaaactatcacggctaccacatcgtctttgcattagccggagatcctaaaaatgcggatgacacatcgatttacatgttctatcaaaaagtcggcgaaacttctattgacagctggaaaaacgctggccgcgtctttaaagacagcgacaaattcgatgcaaatgattctatcctaaaagaccaaacacaagaatggtcaggttcagccacatttacatctgacggaaaaatccgtttattctacactgatttctccggtaaacattacggcaaacaaacactgacaactgcacaagttaacgtatcagcatcagacagctctttgaacatcaacggtgtagaggattataaatcaatctttgacggtgacggaaaaacgtatcaaaatgtacagcagttcatcgatgaaggcaactacagctcaggcgacaaccatacgctgagagatcctcactacgtagaagataaaggccacaaatacttagtatttgaagcaaacactggaactgaagatggctaccaaggcgaagaatctttatttaacaaagcatactatggcaaaagcacatcattcttccgtcaagaaagtcaaaaacttctgcaaagcgataaaaaacgcacggctgagttagcaaacggcgctctcggtatgattgagctaaacgatgattacacactgaaaaaagtgatgaaaccgctgattgcatctaacacagtaacagatgaaattgaacgcgcgaacgtctttaaaatgaacggcaaatggtacctgttcactgactcccgcggatcaaaaatgacgattgacggcattacgtctaacgatatttacatgcttggttatgtttctaattctttaactggcccatacaagccgctgaacaaaactggccttgtgttaaaaatggatcttgatcctaacgatgtaacctttacttactcacacttcgctgtacctcaagcgaaaggaaacaatgtcgtgattacaagctatatgacaaacagaggattctacgcagacaaacaatcaacgtttgcgcctagcttcctgctgaacatcaaaggcaagaaaacatctgttgtcaaagacagcatccttgaacaaggacaattaacagttaacaaataaaaacgcaaaagaaaatgccgatatcctattggcattgcggccgcggtctcggcggtgggtcgtctagaggcatcaaataaaacgaaaggctcagtcgaaagactgggcctttcgttttatctgttgtttgtcggtgaacgctctcctgagtaggacaaatccgccgccctagacctagcggccggccgcaagcgctgcacggcctggt\n"
     ]
    }
   ],
   "source": [
    "# read snapgene file\n",
    "\n",
    "record = read_snapgene_dna_file(r'C:\\Users\\Rosan\\Documents\\git\\my_repositories\\design_gene_blocks\\tests\\T2\\T2_in\\Cloned_Msmeg_DnaE1_pINIT_sgResistant097.dna')\n",
    "length_seq = len(record.seq)\n",
    "print(record.seq)"
   ]
  },
  {
   "cell_type": "code",
   "execution_count": 51,
   "metadata": {},
   "outputs": [
    {
     "data": {
      "text/plain": [
       "219"
      ]
     },
     "execution_count": 51,
     "metadata": {},
     "output_type": "execute_result"
    },
    {
     "ename": "",
     "evalue": "",
     "output_type": "error",
     "traceback": [
      "\u001b[1;31mThe Kernel crashed while executing code in the the current cell or a previous cell. Please review the code in the cell(s) to identify a possible cause of the failure. Click <a href='https://aka.ms/vscodeJupyterKernelCrash'>here</a> for more info. View Jupyter <a href='command:jupyter.viewOutput'>log</a> for further details."
     ]
    }
   ],
   "source": [
    "str(record.seq).find(tosearch)"
   ]
  },
  {
   "cell_type": "code",
   "execution_count": null,
   "metadata": {},
   "outputs": [],
   "source": []
  }
 ],
 "metadata": {
  "kernelspec": {
   "display_name": "eblocks_2",
   "language": "python",
   "name": "python3"
  },
  "language_info": {
   "codemirror_mode": {
    "name": "ipython",
    "version": 3
   },
   "file_extension": ".py",
   "mimetype": "text/x-python",
   "name": "python",
   "nbconvert_exporter": "python",
   "pygments_lexer": "ipython3",
   "version": "3.6.15"
  },
  "orig_nbformat": 4,
  "vscode": {
   "interpreter": {
    "hash": "d7d289948f61f5fcb13fbcf193359a612b9e5c1095e49523e79ec52da5e952f7"
   }
  }
 },
 "nbformat": 4,
 "nbformat_minor": 2
}
