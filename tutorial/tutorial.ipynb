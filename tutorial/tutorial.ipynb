{
 "cells": [
  {
   "cell_type": "code",
   "execution_count": 24,
   "metadata": {},
   "outputs": [
    {
     "name": "stdout",
     "output_type": "stream",
     "text": [
      "The autoreload extension is already loaded. To reload it, use:\n",
      "  %reload_ext autoreload\n"
     ]
    }
   ],
   "source": [
    "import sys\n",
    "import pickle\n",
    "import numpy as np\n",
    "import pandas as pd\n",
    "\n",
    "sys.path.append('../src')\n",
    "sys.path.append('../src/data')\n",
    "\n",
    "from design_gene_blocks import DesignEblocks\n",
    "\n",
    "%load_ext autoreload\n",
    "%autoreload 2"
   ]
  },
  {
   "cell_type": "code",
   "execution_count": 25,
   "metadata": {},
   "outputs": [
    {
     "name": "stdout",
     "output_type": "stream",
     "text": [
      "Requirement already satisfied: openpyxl in c:\\users\\rosan\\anaconda3\\envs\\dnae\\lib\\site-packages (3.1.2)\n",
      "Requirement already satisfied: et-xmlfile in c:\\users\\rosan\\anaconda3\\envs\\dnae\\lib\\site-packages (from openpyxl) (1.1.0)\n"
     ]
    }
   ],
   "source": [
    "!pip3 install openpyxl"
   ]
  },
  {
   "cell_type": "code",
   "execution_count": 26,
   "metadata": {},
   "outputs": [],
   "source": [
    "mutations = 'files/mutations_ed.txt'\n",
    "vector = 'files/snapgene_vector.dna'\n",
    "gene = 'files/mtb_DnaE1_seq.txt'\n",
    "output_location = 'output/'\n",
    "species = 'Mycobacterium Smegmatis' # Mycobacterium Tuberculosis\n",
    "codon_usage_fp = r'C:\\Users\\Rosan\\Documents\\git\\my_repositories\\design_gene_blocks\\src\\data\\codon_usage'"
   ]
  },
  {
   "cell_type": "code",
   "execution_count": 27,
   "metadata": {},
   "outputs": [
    {
     "name": "stdout",
     "output_type": "stream",
     "text": [
      "G432E Mutation\n",
      "R436Q Mutation\n",
      "I451A Mutation\n",
      "A484S Mutation\n",
      "K562A Mutation\n",
      "I569V Mutation\n",
      "L584V Mutation\n",
      "T595S Mutation\n",
      "D599Y Mutation\n",
      "P618D Mutation\n",
      "N677H Mutation\n",
      "Q722V Mutation\n",
      "A770-PLR Insert\n",
      "D773E Mutation\n",
      "K922R Mutation\n",
      "E972G Mutation\n",
      "W973S Mutation\n",
      "Q1023R Mutation\n",
      "A1031T Mutation\n",
      "N1034Q Mutation\n",
      "N1038T Mutation\n",
      "S1046N Mutation\n",
      "L1052E Mutation\n",
      "V1086N Mutation\n",
      "R1090A Mutation\n",
      "N1096E Mutation\n",
      "A770\n",
      "Optimizing bin sizes ...\n",
      "201 325.7\n",
      "202 325.7\n",
      "203 517.4\n",
      "204 517.4\n",
      "205 482.75\n",
      "206 482.75\n",
      "207 482.75\n",
      "208 517.4\n",
      "209 517.4\n",
      "210 517.4\n",
      "211 517.4\n",
      "212 517.4\n",
      "213 517.4\n",
      "214 517.4\n",
      "215 517.4\n",
      "216 517.4\n",
      "217 517.4\n",
      "218 517.4\n",
      "219 517.4\n",
      "220 517.4\n",
      "221 517.4\n",
      "222 517.4\n",
      "223 517.4\n",
      "224 517.4\n",
      "225 517.4\n",
      "226 517.4\n",
      "227 517.4\n",
      "228 517.4\n",
      "229 517.4\n",
      "230 517.4\n",
      "231 553.1\n",
      "232 517.4\n",
      "233 517.4\n",
      "234 517.4\n",
      "235 517.4\n",
      "236 517.4\n",
      "237 517.4\n",
      "238 517.4\n",
      "239 517.4\n",
      "240 517.4\n",
      "241 517.4\n",
      "242 517.4\n",
      "243 517.4\n",
      "244 517.4\n",
      "245 517.4\n",
      "246 517.4\n",
      "247 517.4\n",
      "248 517.4\n",
      "249 517.4\n",
      "250 517.4\n",
      "251 517.4\n",
      "252 517.4\n",
      "253 517.4\n",
      "254 517.4\n",
      "255 517.4\n",
      "256 517.4\n",
      "257 517.4\n",
      "258 517.4\n",
      "259 517.4\n",
      "260 517.4\n",
      "261 517.4\n",
      "262 517.4\n",
      "263 517.4\n",
      "264 517.4\n",
      "265 517.4\n",
      "266 517.4\n",
      "267 517.4\n",
      "268 517.4\n",
      "269 517.4\n",
      "270 517.4\n",
      "271 517.4\n",
      "272 517.4\n",
      "273 517.4\n",
      "274 517.4\n",
      "275 517.4\n",
      "276 517.4\n",
      "277 517.4\n",
      "278 517.4\n",
      "279 517.4\n",
      "280 517.4\n",
      "281 517.4\n",
      "282 517.4\n",
      "283 517.4\n",
      "284 517.4\n",
      "285 517.4\n",
      "285 714.8\n",
      "292 517.4\n",
      "293 517.4\n",
      "294 517.4\n",
      "295 517.4\n",
      "296 517.4\n",
      "297 517.4\n",
      "298 517.4\n",
      "299 517.4\n",
      "300 517.4\n",
      "301 517.4\n",
      "302 517.4\n",
      "303 517.4\n",
      "303 714.8\n",
      "345 714.8\n",
      "{'cluster 0': [2766, 2916, 2919, 3069, 3093, 3102, 3114, 3138, 3156, 3258, 3270, 3288], 'cluster 1': [1296, 1308, 1353, 1452, 1686, 1707, 1752, 1785, 1797, 1854], 'cluster 2': [2031, 2166, 2310, 2319]}\n",
      "Lowest cost:  714.8 with 3 clusters\n",
      "G432E Mutation\n",
      "R436Q Mutation\n",
      "I451A Mutation\n",
      "A484S Mutation\n",
      "K562A Mutation\n",
      "I569V Mutation\n",
      "L584V Mutation\n",
      "T595S Mutation\n",
      "D599Y Mutation\n",
      "P618D Mutation\n",
      "N677H Mutation\n",
      "Q722V Mutation\n",
      "A770-PLR Insert\n",
      "D773E Mutation\n",
      "K922R Mutation\n",
      "E972G Mutation\n",
      "W973S Mutation\n",
      "Q1023R Mutation\n",
      "A1031T Mutation\n",
      "N1034Q Mutation\n",
      "N1038T Mutation\n",
      "S1046N Mutation\n",
      "L1052E Mutation\n",
      "V1086N Mutation\n",
      "R1090A Mutation\n",
      "N1096E Mutation\n"
     ]
    },
    {
     "data": {
      "image/png": "[encoded data removed]",
      "text/plain": [
       "<Figure size 640x480 with 1 Axes>"
      ]
     },
     "metadata": {},
     "output_type": "display_data"
    }
   ],
   "source": [
    "# Create instance of DesignEblocks\n",
    "\n",
    "eBlocks_instance = DesignEblocks(\n",
    "                        sequence_fp=gene,\n",
    "                        mutations_fp=mutations,\n",
    "                        output_fp=output_location,\n",
    "                        species=species,\n",
    "                        codon_usage_fp=codon_usage_fp)\n",
    "\n",
    "# run eblocks design\n",
    "\n",
    "eBlocks_instance.run()"
   ]
  },
  {
   "cell_type": "code",
   "execution_count": null,
   "metadata": {},
   "outputs": [],
   "source": []
  }
 ],
 "metadata": {
  "kernelspec": {
   "display_name": "eblocks_2",
   "language": "python",
   "name": "python3"
  },
  "language_info": {
   "codemirror_mode": {
    "name": "ipython",
    "version": 3
   },
   "file_extension": ".py",
   "mimetype": "text/x-python",
   "name": "python",
   "nbconvert_exporter": "python",
   "pygments_lexer": "ipython3",
   "version": "3.9.9"
  },
  "orig_nbformat": 4,
  "vscode": {
   "interpreter": {
    "hash": "d7d289948f61f5fcb13fbcf193359a612b9e5c1095e49523e79ec52da5e952f7"
   }
  }
 },
 "nbformat": 4,
 "nbformat_minor": 2
}
