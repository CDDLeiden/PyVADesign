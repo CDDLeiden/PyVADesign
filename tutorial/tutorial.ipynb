{
 "cells": [
  {
   "cell_type": "code",
   "execution_count": 93,
   "metadata": {},
   "outputs": [],
   "source": [
    "import os\n",
    "import sys\n",
    "\n",
    "sys.path.append('..')\n",
    "\n",
    "from src.mutation import Mutation\n",
    "from src.sequence import Plasmid\n",
    "from src.eblocks import Eblocks, EblockDesign\n",
    "from src.primer import DesignPrimers\n",
    "from src.plot import Plot\n",
    "\n",
    "%reload_ext autoreload\n",
    "%autoreload 2"
   ]
  },
  {
   "cell_type": "code",
   "execution_count": 94,
   "metadata": {},
   "outputs": [
    {
     "name": "stdout",
     "output_type": "stream",
     "text": [
      "The selected mutations are:\n",
      "\t['G432E']\n",
      "\t['R436Q']\n",
      "\t['I451A']\n",
      "\t['A484S']\n",
      "\t['K562A']\n",
      "\t['I569V']\n",
      "\t['L584V']\n",
      "\t['T595S']\n",
      "\t['D599Y']\n",
      "\t['P618D']\n",
      "\t['N677H']\n",
      "\t['Q722V']\n",
      "\tA770-PLR\n",
      "\t['D773E']\n",
      "\t['K922R']\n",
      "\t['E972G']\n",
      "\t['W973S']\n",
      "\t['Q1023R']\n",
      "\t['A1031T']\n",
      "\t['N1034Q']\n",
      "\t['N1038T']\n",
      "\t['S1046N']\n",
      "\t['L1052E']\n",
      "\t['V1086N']\n",
      "\t['R1090A']\n",
      "\t['N1096E']\n"
     ]
    }
   ],
   "source": [
    "# Create a Mutation object and parse the input mutations from the files/ directory\n",
    "\n",
    "mutations_file = 'files/mutations.txt'\n",
    "\n",
    "mutation_instance = Mutation()\n",
    "mutation_instance.parse_mutations(mutations_file)\n",
    "\n",
    "# TODO Format nicely\n",
    "print(\"The selected mutations are:\")\n",
    "for mutation in mutation_instance.mutations:\n",
    "    print(f\"\\t{mutation.mutation}\")"
   ]
  },
  {
   "cell_type": "code",
   "execution_count": null,
   "metadata": {},
   "outputs": [],
   "source": [
    "# Create a Plasmid object and parse the input plasmid from the files/ directory\n",
    "\n",
    "sequence_file = 'files/A0QX55.fasta'\n",
    "vector_file = 'files/vector.dna'\n",
    "\n",
    "sequence_instance = Plasmid()\n",
    "sequence_instance.parse_sequence(sequence_file)\n",
    "sequence_instance.parse_vector(vector_file)"
   ]
  },
  {
   "cell_type": "code",
   "execution_count": null,
   "metadata": {},
   "outputs": [],
   "source": [
    "# Create an Eblocks object based on the input mutations and the gene sequence\n",
    "\n",
    "eblocks_instance = Eblocks()\n",
    "design_instance = EblockDesign(eblocks_instance=eblocks_instance,\n",
    "                               mutation_instance=mutation_instance,\n",
    "                               sequence_instance=sequence_instance)"
   ]
  },
  {
   "cell_type": "code",
   "execution_count": null,
   "metadata": {},
   "outputs": [],
   "source": [
    "# Create a Plots object and check the input vector\n",
    "\n",
    "# Set output directory\n",
    "output_dir = 'output'\n",
    "\n",
    "# Create the Plot object\n",
    "plot_instance = Plot(mutation_instance=mutation_instance,\n",
    "                     eblocks_design_instance=design_instance,\n",
    "                     sequence_instance=sequence_instance,\n",
    "                     output_dir=output_dir)\n",
    "\n",
    "# Check the input vecto\n",
    "plot_instance.plot_vector(figsize=(7, 7));"
   ]
  },
  {
   "cell_type": "code",
   "execution_count": null,
   "metadata": {},
   "outputs": [],
   "source": [
    "# TODO Descibe the vector here, the gene etc"
   ]
  },
  {
   "cell_type": "code",
   "execution_count": null,
   "metadata": {},
   "outputs": [],
   "source": [
    "# Now that we have checked our vector, it is time to run the eBlock design process\n",
    "design_instance.run_design_eblocks()"
   ]
  },
  {
   "cell_type": "code",
   "execution_count": null,
   "metadata": {},
   "outputs": [],
   "source": [
    "# Now that we have designed the eblocks, we can visualize them using the Plot class\n",
    "\n",
    "plot_instance.plot_eblocks_mutations(figure_length=20,\n",
    "                                     figure_width=5)"
   ]
  },
  {
   "cell_type": "code",
   "execution_count": null,
   "metadata": {},
   "outputs": [],
   "source": [
    "# TODO Describe the eblocks here, what you can see with each color etc"
   ]
  },
  {
   "cell_type": "code",
   "execution_count": null,
   "metadata": {},
   "outputs": [],
   "source": [
    "# Each type of mutations (insertions, deletions, substitutions) is represented by a different color, you can see the legend below\n",
    "\n",
    "plot_instance.plot_mutation_legend()"
   ]
  },
  {
   "cell_type": "code",
   "execution_count": null,
   "metadata": {},
   "outputs": [],
   "source": [
    "# To see how many mutations can be made in each eBlock, we can plot a histogram\n",
    "\n",
    "plot_instance.plot_histogram_mutations()"
   ]
  },
  {
   "cell_type": "code",
   "execution_count": null,
   "metadata": {},
   "outputs": [],
   "source": [
    "# TODO Do some explanation here"
   ]
  },
  {
   "cell_type": "code",
   "execution_count": null,
   "metadata": {},
   "outputs": [],
   "source": [
    "# TODO Save the eblocks to a file"
   ]
  },
  {
   "cell_type": "code",
   "execution_count": null,
   "metadata": {},
   "outputs": [],
   "source": [
    "\n",
    "\n",
    "for k, v in design_instance.eblocks.items():\n",
    "    print(k, v)\n",
    "    print(k)"
   ]
  },
  {
   "cell_type": "code",
   "execution_count": null,
   "metadata": {},
   "outputs": [],
   "source": [
    "# Create a primer design object and run the primer design process for IVA primers to amplify the eblocks\n",
    "\n",
    "primers_instance = DesignPrimers(mutation_instance=mutation_instance,\n",
    "                                 eblock_instance=eblocks_instance,\n",
    "                                 eblocks_design_instance=design_instance,\n",
    "                                 sequence_instance=sequence_instance, \n",
    "                                 output_dir=output_dir)\n",
    "\n",
    "primers_instance.run_IVAprimer()\n",
    "\n",
    "# TODO Save the printed output to a file\n",
    "# TODO Do not show the data frame here, but save it to a file\n",
    "# TODO Remove fw_sequence and rv_sequence from df\n",
    "# TODO Save the begin and end index of the primer on the gene/vector sequence"
   ]
  },
  {
   "cell_type": "code",
   "execution_count": null,
   "metadata": {},
   "outputs": [],
   "source": [
    "# Also design sequencing primers to validate the insertion of the eblocks\n",
    "\n",
    "primers_instance.run_SEQprimer()"
   ]
  },
  {
   "cell_type": "code",
   "execution_count": null,
   "metadata": {},
   "outputs": [],
   "source": [
    "for k, v in design_instance.eblocks.items():\n",
    "    print(k, v)"
   ]
  },
  {
   "cell_type": "code",
   "execution_count": null,
   "metadata": {},
   "outputs": [],
   "source": [
    "sequence_instance.sequence[22:44]"
   ]
  },
  {
   "cell_type": "code",
   "execution_count": null,
   "metadata": {},
   "outputs": [],
   "source": [
    "(str(sequence_instance.sequence)).find('ccgaccacggaaacatgttc')"
   ]
  },
  {
   "cell_type": "code",
   "execution_count": null,
   "metadata": {},
   "outputs": [],
   "source": [
    "(str(sequence_instance.sequence)).find('tcatcatcaccaccggatg')"
   ]
  },
  {
   "cell_type": "code",
   "execution_count": null,
   "metadata": {},
   "outputs": [],
   "source": [
    "236 + 320"
   ]
  },
  {
   "cell_type": "code",
   "execution_count": null,
   "metadata": {},
   "outputs": [],
   "source": [
    "start_index = 0\n",
    "occurrences = 0\n",
    "substring = 'tcatcatcaccaccggatg' # 'ccgaccacggaaacatgttc'\n",
    "while True:\n",
    "    # Search for the substring starting from start_index\n",
    "    index = sequence_instance.vector.seq.find(substring, start_index)\n",
    "    # If the substring is not found, break the loop\n",
    "    if index == -1:\n",
    "        break\n",
    "    # Increment the count of occurrences\n",
    "    occurrences += 1\n",
    "    # Move the start_index to search for the next occurrence\n",
    "    start_index = index + len(substring)\n",
    "# Check if multiple occurrences were found\n",
    "if occurrences > 1:\n",
    "    print(\"Multiple occurrences found.\")\n",
    "else:\n",
    "    print(\"Only one occurrence found.\")"
   ]
  },
  {
   "cell_type": "code",
   "execution_count": null,
   "metadata": {},
   "outputs": [],
   "source": [
    "primers_instance.run_SEQprimer()"
   ]
  },
  {
   "cell_type": "code",
   "execution_count": null,
   "metadata": {},
   "outputs": [],
   "source": [
    "for k, v in design_instance.eblocks.items():\n",
    "    print(k, v[2], v)"
   ]
  },
  {
   "cell_type": "code",
   "execution_count": null,
   "metadata": {},
   "outputs": [],
   "source": []
  }
 ],
 "metadata": {
  "kernelspec": {
   "display_name": "eblocks_3",
   "language": "python",
   "name": "python3"
  },
  "language_info": {
   "codemirror_mode": {
    "name": "ipython",
    "version": 3
   },
   "file_extension": ".py",
   "mimetype": "text/x-python",
   "name": "python",
   "nbconvert_exporter": "python",
   "pygments_lexer": "ipython3",
   "version": "3.9.9"
  }
 },
 "nbformat": 4,
 "nbformat_minor": 2
}
