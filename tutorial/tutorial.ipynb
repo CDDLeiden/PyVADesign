{
 "cells": [
  {
   "cell_type": "code",
   "execution_count": 1,
   "metadata": {},
   "outputs": [],
   "source": [
    "import os\n",
    "import sys\n",
    "import random\n",
    "from datetime import datetime\n",
    "\n",
    "\n",
    "sys.path.append('../src')\n",
    "\n",
    "from design_gene_blocks import DesignEblocks\n",
    "from design_IVA_primers import DesignPrimers\n",
    "from snapgene_output import SnapGeneOutput\n",
    "\n",
    "%load_ext autoreload\n",
    "%autoreload 2"
   ]
  },
  {
   "cell_type": "code",
   "execution_count": 2,
   "metadata": {},
   "outputs": [],
   "source": [
    "# TODO INSTALL THIS IN ENVIRONMENT AND JUPYTER ENVIRONMENT (MAKE SAME ENVIRONMENT)\n",
    "# !pip3 install openpyxl"
   ]
  },
  {
   "cell_type": "code",
   "execution_count": 3,
   "metadata": {},
   "outputs": [],
   "source": [
    "# TODO ADD IMAGE OF THE VECTOR"
   ]
  },
  {
   "cell_type": "markdown",
   "metadata": {},
   "source": [
    "In this tutorial we will randomly design a number of mutations for the replicative DNA polymerase DnaE1 from *Mycobacterium smegmatis* to better understand it's function. <br>\n",
    "\n",
    "The expression plasmid containing Msmeg DnaE1 is XXX and is stored in XXX. <br>\n",
    "\n",
    "Gene from mycobrowser XXX and is stored in XXX <br>"
   ]
  },
  {
   "cell_type": "code",
   "execution_count": 4,
   "metadata": {},
   "outputs": [],
   "source": [
    "# File locations for input and output\n",
    "\n",
    "vector = 'files/snapgene_vector.dna' # TODO Change name and change vector (see snapgene computer which one to take)\n",
    "msmeg_dnae1 = 'files/A0QX55.fasta'  # M. smegmatis DnaE1 gene\n",
    "output_location = 'output/'  # Location to store the files created in this notebook\n",
    "codon_usage = 'Mycobacterium Smegmatis' # We want to use the codon usage of this organism\n",
    "codon_usage_fp = r\"C:\\Users\\Rosan\\Documents\\git\\my_repositories\\design_gene_blocks\\src\\data\\codon_usage\" # Location of the codon usage files"
   ]
  },
  {
   "cell_type": "markdown",
   "metadata": {},
   "source": [
    "First we open the nucleotide sequence of Msmeg DnaE1 and translate this to the protein sequence. Here, the start and stop codon are not translated "
   ]
  },
  {
   "cell_type": "code",
   "execution_count": 5,
   "metadata": {},
   "outputs": [
    {
     "name": "stdout",
     "output_type": "stream",
     "text": [
      "Nucleotide sequence:  atgagcggttcatctgcggggtcctccttcgtgcacctgcacaaccacaccgagtattcgatgctggacggtgccgcgaagatcacgcccatgctcgccgaggtggagcggctggggatgcccgcggtggggatgaccgaccacggaaacatgttcggtgccagcgagttctacaactccgcgaccaaggccgggatcaagccgatcatcggcgtggaggcatacatcgcgccgggctcgcggttcgacacccggcgcatcctgtggggtgaccccagccaaaaggccgacgacgtctccggcagcggctcctacacgcacctgacgatgatggccgagaacgccaccggtctgcgcaacctgttcaagctgtcctcgcatgcttccttcgagggccagctgagcaagtggtcgcgcatggacgccgagctcatcgccgaacacgccgagggcatcatcatcaccaccggatgcccgtcgggggaggtgcagacccgcctgcggctcggccaggatcgggaggcgctcgaagccgcggcgaagtggcgggagatcgtcggaccggacaactacttccttgagctgatggaccacgggctgaccatcgaacgccgggtccgtgacggtctgctcgagatcggacgcgcgctcaacattccgcctcttgccaccaatgactgccactacgtgacccgcgacgccgcccacaaccatgaggctttgttgtgtgtgcagaccggcaagaccctctcggatccgaatcgcttcaagttcgacggtgacggctactacctgaagtcggccgccgagatgcgccagatctgggacgacgaagtgccgggcgcgtgtgactccaccttgttgatcgccgaacgggtgcagtcctacgccgacgtgtggacaccgcgcgaccggatgcccgtgtttccggtgcccgatgggcatgaccaggcgtcctggctgcgtcacgaggtggacgccgggcttcgccggcgatttccggccggtccgccggacgggtaccgcgagcgcgccgcctacgagatcgacgtcatctgctccaaaggtttcccatcgtactttctgatcgtcgccgacctgatcagctacgcgcggtcggcgggcataagggtgggtcccggccgcggctcggccgccggctcgctggtcgcctacgcgctgggcatcaccgacatcgacccgattccacacggtctgctgttcgagcggttcctcaaccccgagcgcacctcgatgcccgacatcgatatcgacttcgacgaccggcgccgcggtgagatggtgcgctacgcagccgacaagtggggccacgaccgggtcgcgcaggtcatcaccttcggcaccatcaaaaccaaagcggcgctgaaggattcggcgcgaatccactacgggcagcccgggttcgccatcgccgaccggatcaccaaggcgttgccgccggcgatcatggccaaagacatcccgctgtctgggatcaccgatcccagccacgaacggtacaaggaggccgccgaggtccgcggcctgatcgaaaccgacccggacgtacgcaccatctaccagaccgcacgcgggttggaaggcctgatccgcaacgcgggtgtgcacgcctgcgcggtgatcatgagcagcgagccgctgactgaggccatcccgttgtggaagcggccgcaggacggggccatcatcaccggctgggattacccggcgtgcgaggccatcggtctgctgaaaatggacttcctgggcctgcggaacctgacgatcatcggcgacgcgatcgacaacgtcagggccaacaggggtatcgacctcgacctggaatccgtgccgctggacgacaaggccacctatgagctgctgggccgcggcgacaccctgggcgtgttccagctcgacggcgggcccatgcgcgacctgctgcgccgcatgcagccgaccgggttcgaagacgtcgtcgccgttatcgcgctgtaccggcccggcccgatgggcatgaacgcacacaacgactatgccgaccgcaagaacaaccggcaggccatcaaacctattcacccggaactcgaagaaccgctgcgcgagatcctcgccgagacctacggcctcatcgtctatcaagagcagatcatgcgcatcgcgcagaaggtggcgagctactcgttggcccgcgccgacattctacgcaaggccatgggcaagaagaaacgcgaggtgctggagaaggagttcgagggcttctccgatggcatgcaggccaacgggttctctccggcggccatcaaggcgctgtgggacaccatcctgccgttcgctgactacgcgttcaacaagtcacatgccgccggctacggcatggtgtcctactggacggcctacctcaaggccaactatcccgccgagtacatggccggtctgttgacgtcggtcggcgacgataaagacaaggccgcggtttatctggccgactgccgcaagctcggcatcaccgtgctcccgcccgacgtcaacgaatctggcttgaacttcgcatcggtcggccaagacatccgctacgggctgggcgcggtgcgcaacgttggcgctaatgtcgtgggctcgttgctccaaacccgcaacgacaagggcaagttcaccgacttttcggactacctgaacaagatcgacatctcggcgtgcaacaagaaggtgaccgaatcgctgatcaaggcgggtgcgttcgactcgctggggcatgcccgcaagggtcttttcctggtgcacagcgatgcggtggactcggtgctgggcaccaagaaggccgaggcactggggcagttcgatctcttcggcagcaatgatgatgggaccggcaccgcagatcccgtgttcaccatcaaggtgcccgatgatgagtgggaggacaaacacaaactcgccctagagcgcgagatgctgggactgtacgtctcggggcatcccctcaacggtgtggcacacttgctggctgcccaggtcgacaccgcgatcccagcgatcctcgacggcgatgtccccaacgatgcccaagtgcgggtgggcggcatcctggcgtcggtgaaccggagggtcaacaaaaacggaatgccatgggcttcagcgcaattggaggatctcacgggcggcatcgaggtgatgttcttcccgcacacctactccagctatggtgccgacatcgtcgacgatgccgtcgtgctggtcaacgccaaggtggcggtccgtgacgaccgcatcgcattgatcgccaatgacctcacagtgcccgacttttccaacgccgaggtggagcggccgctggcggtcagcttgcccacccggcagtgcacctttgacaaggtgagtgcgctcaaacaggtgttggcgcgccaccccggcacctcgcaggtgcatctgcggctcatcagcggagaccggatcaccacgctggcacttgatcagtcgttgcgggtgacgccgtcgccggcgttgatgggtgacctcaaggagctgctcggccctggatgtctggggagttag\n",
      "Protein sequence:  MSGSSAGSSFVHLHNHTEYSMLDGAAKITPMLAEVERLGMPAVGMTDHGNMFGASEFYNSATKAGIKPIIGVEAYIAPGSRFDTRRILWGDPSQKADDVSGSGSYTHLTMMAENATGLRNLFKLSSHASFEGQLSKWSRMDAELIAEHAEGIIITTGCPSGEVQTRLRLGQDREALEAAAKWREIVGPDNYFLELMDHGLTIERRVRDGLLEIGRALNIPPLATNDCHYVTRDAAHNHEALLCVQTGKTLSDPNRFKFDGDGYYLKSAAEMRQIWDDEVPGACDSTLLIAERVQSYADVWTPRDRMPVFPVPDGHDQASWLRHEVDAGLRRRFPAGPPDGYRERAAYEIDVICSKGFPSYFLIVADLISYARSAGIRVGPGRGSAAGSLVAYALGITDIDPIPHGLLFERFLNPERTSMPDIDIDFDDRRRGEMVRYAADKWGHDRVAQVITFGTIKTKAALKDSARIHYGQPGFAIADRITKALPPAIMAKDIPLSGITDPSHERYKEAAEVRGLIETDPDVRTIYQTARGLEGLIRNAGVHACAVIMSSEPLTEAIPLWKRPQDGAIITGWDYPACEAIGLLKMDFLGLRNLTIIGDAIDNVRANRGIDLDLESVPLDDKATYELLGRGDTLGVFQLDGGPMRDLLRRMQPTGFEDVVAVIALYRPGPMGMNAHNDYADRKNNRQAIKPIHPELEEPLREILAETYGLIVYQEQIMRIAQKVASYSLARADILRKAMGKKKREVLEKEFEGFSDGMQANGFSPAAIKALWDTILPFADYAFNKSHAAGYGMVSYWTAYLKANYPAEYMAGLLTSVGDDKDKAAVYLADCRKLGITVLPPDVNESGLNFASVGQDIRYGLGAVRNVGANVVGSLLQTRNDKGKFTDFSDYLNKIDISACNKKVTESLIKAGAFDSLGHARKGLFLVHSDAVDSVLGTKKAEALGQFDLFGSNDDGTGTADPVFTIKVPDDEWEDKHKLALEREMLGLYVSGHPLNGVAHLLAAQVDTAIPAILDGDVPNDAQVRVGGILASVNRRVNKNGMPWASAQLEDLTGGIEVMFFPHTYSSYGADIVDDAVVLVNAKVAVRDDRIALIANDLTVPDFSNAEVERPLAVSLPTRQCTFDKVSALKQVLARHPGTSQVHLRLISGDRITTLALDQSLRVTPSPALMGDLKELLGPGCLGS*\n",
      "Residues:  ['M1', 'S2', 'G3', 'S4', 'S5', 'A6', 'G7', 'S8', 'S9', 'F10', 'V11', 'H12', 'L13', 'H14', 'N15', 'H16', 'T17', 'E18', 'Y19', 'S20', 'M21', 'L22', 'D23', 'G24', 'A25', 'A26', 'K27', 'I28', 'T29', 'P30', 'M31', 'L32', 'A33', 'E34', 'V35', 'E36', 'R37', 'L38', 'G39', 'M40', 'P41', 'A42', 'V43', 'G44', 'M45', 'T46', 'D47', 'H48', 'G49', 'N50', 'M51', 'F52', 'G53', 'A54', 'S55', 'E56', 'F57', 'Y58', 'N59', 'S60', 'A61', 'T62', 'K63', 'A64', 'G65', 'I66', 'K67', 'P68', 'I69', 'I70', 'G71', 'V72', 'E73', 'A74', 'Y75', 'I76', 'A77', 'P78', 'G79', 'S80', 'R81', 'F82', 'D83', 'T84', 'R85', 'R86', 'I87', 'L88', 'W89', 'G90', 'D91', 'P92', 'S93', 'Q94', 'K95', 'A96', 'D97', 'D98', 'V99', 'S100', 'G101', 'S102', 'G103', 'S104', 'Y105', 'T106', 'H107', 'L108', 'T109', 'M110', 'M111', 'A112', 'E113', 'N114', 'A115', 'T116', 'G117', 'L118', 'R119', 'N120', 'L121', 'F122', 'K123', 'L124', 'S125', 'S126', 'H127', 'A128', 'S129', 'F130', 'E131', 'G132', 'Q133', 'L134', 'S135', 'K136', 'W137', 'S138', 'R139', 'M140', 'D141', 'A142', 'E143', 'L144', 'I145', 'A146', 'E147', 'H148', 'A149', 'E150', 'G151', 'I152', 'I153', 'I154', 'T155', 'T156', 'G157', 'C158', 'P159', 'S160', 'G161', 'E162', 'V163', 'Q164', 'T165', 'R166', 'L167', 'R168', 'L169', 'G170', 'Q171', 'D172', 'R173', 'E174', 'A175', 'L176', 'E177', 'A178', 'A179', 'A180', 'K181', 'W182', 'R183', 'E184', 'I185', 'V186', 'G187', 'P188', 'D189', 'N190', 'Y191', 'F192', 'L193', 'E194', 'L195', 'M196', 'D197', 'H198', 'G199', 'L200', 'T201', 'I202', 'E203', 'R204', 'R205', 'V206', 'R207', 'D208', 'G209', 'L210', 'L211', 'E212', 'I213', 'G214', 'R215', 'A216', 'L217', 'N218', 'I219', 'P220', 'P221', 'L222', 'A223', 'T224', 'N225', 'D226', 'C227', 'H228', 'Y229', 'V230', 'T231', 'R232', 'D233', 'A234', 'A235', 'H236', 'N237', 'H238', 'E239', 'A240', 'L241', 'L242', 'C243', 'V244', 'Q245', 'T246', 'G247', 'K248', 'T249', 'L250', 'S251', 'D252', 'P253', 'N254', 'R255', 'F256', 'K257', 'F258', 'D259', 'G260', 'D261', 'G262', 'Y263', 'Y264', 'L265', 'K266', 'S267', 'A268', 'A269', 'E270', 'M271', 'R272', 'Q273', 'I274', 'W275', 'D276', 'D277', 'E278', 'V279', 'P280', 'G281', 'A282', 'C283', 'D284', 'S285', 'T286', 'L287', 'L288', 'I289', 'A290', 'E291', 'R292', 'V293', 'Q294', 'S295', 'Y296', 'A297', 'D298', 'V299', 'W300', 'T301', 'P302', 'R303', 'D304', 'R305', 'M306', 'P307', 'V308', 'F309', 'P310', 'V311', 'P312', 'D313', 'G314', 'H315', 'D316', 'Q317', 'A318', 'S319', 'W320', 'L321', 'R322', 'H323', 'E324', 'V325', 'D326', 'A327', 'G328', 'L329', 'R330', 'R331', 'R332', 'F333', 'P334', 'A335', 'G336', 'P337', 'P338', 'D339', 'G340', 'Y341', 'R342', 'E343', 'R344', 'A345', 'A346', 'Y347', 'E348', 'I349', 'D350', 'V351', 'I352', 'C353', 'S354', 'K355', 'G356', 'F357', 'P358', 'S359', 'Y360', 'F361', 'L362', 'I363', 'V364', 'A365', 'D366', 'L367', 'I368', 'S369', 'Y370', 'A371', 'R372', 'S373', 'A374', 'G375', 'I376', 'R377', 'V378', 'G379', 'P380', 'G381', 'R382', 'G383', 'S384', 'A385', 'A386', 'G387', 'S388', 'L389', 'V390', 'A391', 'Y392', 'A393', 'L394', 'G395', 'I396', 'T397', 'D398', 'I399', 'D400', 'P401', 'I402', 'P403', 'H404', 'G405', 'L406', 'L407', 'F408', 'E409', 'R410', 'F411', 'L412', 'N413', 'P414', 'E415', 'R416', 'T417', 'S418', 'M419', 'P420', 'D421', 'I422', 'D423', 'I424', 'D425', 'F426', 'D427', 'D428', 'R429', 'R430', 'R431', 'G432', 'E433', 'M434', 'V435', 'R436', 'Y437', 'A438', 'A439', 'D440', 'K441', 'W442', 'G443', 'H444', 'D445', 'R446', 'V447', 'A448', 'Q449', 'V450', 'I451', 'T452', 'F453', 'G454', 'T455', 'I456', 'K457', 'T458', 'K459', 'A460', 'A461', 'L462', 'K463', 'D464', 'S465', 'A466', 'R467', 'I468', 'H469', 'Y470', 'G471', 'Q472', 'P473', 'G474', 'F475', 'A476', 'I477', 'A478', 'D479', 'R480', 'I481', 'T482', 'K483', 'A484', 'L485', 'P486', 'P487', 'A488', 'I489', 'M490', 'A491', 'K492', 'D493', 'I494', 'P495', 'L496', 'S497', 'G498', 'I499', 'T500', 'D501', 'P502', 'S503', 'H504', 'E505', 'R506', 'Y507', 'K508', 'E509', 'A510', 'A511', 'E512', 'V513', 'R514', 'G515', 'L516', 'I517', 'E518', 'T519', 'D520', 'P521', 'D522', 'V523', 'R524', 'T525', 'I526', 'Y527', 'Q528', 'T529', 'A530', 'R531', 'G532', 'L533', 'E534', 'G535', 'L536', 'I537', 'R538', 'N539', 'A540', 'G541', 'V542', 'H543', 'A544', 'C545', 'A546', 'V547', 'I548', 'M549', 'S550', 'S551', 'E552', 'P553', 'L554', 'T555', 'E556', 'A557', 'I558', 'P559', 'L560', 'W561', 'K562', 'R563', 'P564', 'Q565', 'D566', 'G567', 'A568', 'I569', 'I570', 'T571', 'G572', 'W573', 'D574', 'Y575', 'P576', 'A577', 'C578', 'E579', 'A580', 'I581', 'G582', 'L583', 'L584', 'K585', 'M586', 'D587', 'F588', 'L589', 'G590', 'L591', 'R592', 'N593', 'L594', 'T595', 'I596', 'I597', 'G598', 'D599', 'A600', 'I601', 'D602', 'N603', 'V604', 'R605', 'A606', 'N607', 'R608', 'G609', 'I610', 'D611', 'L612', 'D613', 'L614', 'E615', 'S616', 'V617', 'P618', 'L619', 'D620', 'D621', 'K622', 'A623', 'T624', 'Y625', 'E626', 'L627', 'L628', 'G629', 'R630', 'G631', 'D632', 'T633', 'L634', 'G635', 'V636', 'F637', 'Q638', 'L639', 'D640', 'G641', 'G642', 'P643', 'M644', 'R645', 'D646', 'L647', 'L648', 'R649', 'R650', 'M651', 'Q652', 'P653', 'T654', 'G655', 'F656', 'E657', 'D658', 'V659', 'V660', 'A661', 'V662', 'I663', 'A664', 'L665', 'Y666', 'R667', 'P668', 'G669', 'P670', 'M671', 'G672', 'M673', 'N674', 'A675', 'H676', 'N677', 'D678', 'Y679', 'A680', 'D681', 'R682', 'K683', 'N684', 'N685', 'R686', 'Q687', 'A688', 'I689', 'K690', 'P691', 'I692', 'H693', 'P694', 'E695', 'L696', 'E697', 'E698', 'P699', 'L700', 'R701', 'E702', 'I703', 'L704', 'A705', 'E706', 'T707', 'Y708', 'G709', 'L710', 'I711', 'V712', 'Y713', 'Q714', 'E715', 'Q716', 'I717', 'M718', 'R719', 'I720', 'A721', 'Q722', 'K723', 'V724', 'A725', 'S726', 'Y727', 'S728', 'L729', 'A730', 'R731', 'A732', 'D733', 'I734', 'L735', 'R736', 'K737', 'A738', 'M739', 'G740', 'K741', 'K742', 'K743', 'R744', 'E745', 'V746', 'L747', 'E748', 'K749', 'E750', 'F751', 'E752', 'G753', 'F754', 'S755', 'D756', 'G757', 'M758', 'Q759', 'A760', 'N761', 'G762', 'F763', 'S764', 'P765', 'A766', 'A767', 'I768', 'K769', 'A770', 'L771', 'W772', 'D773', 'T774', 'I775', 'L776', 'P777', 'F778', 'A779', 'D780', 'Y781', 'A782', 'F783', 'N784', 'K785', 'S786', 'H787', 'A788', 'A789', 'G790', 'Y791', 'G792', 'M793', 'V794', 'S795', 'Y796', 'W797', 'T798', 'A799', 'Y800', 'L801', 'K802', 'A803', 'N804', 'Y805', 'P806', 'A807', 'E808', 'Y809', 'M810', 'A811', 'G812', 'L813', 'L814', 'T815', 'S816', 'V817', 'G818', 'D819', 'D820', 'K821', 'D822', 'K823', 'A824', 'A825', 'V826', 'Y827', 'L828', 'A829', 'D830', 'C831', 'R832', 'K833', 'L834', 'G835', 'I836', 'T837', 'V838', 'L839', 'P840', 'P841', 'D842', 'V843', 'N844', 'E845', 'S846', 'G847', 'L848', 'N849', 'F850', 'A851', 'S852', 'V853', 'G854', 'Q855', 'D856', 'I857', 'R858', 'Y859', 'G860', 'L861', 'G862', 'A863', 'V864', 'R865', 'N866', 'V867', 'G868', 'A869', 'N870', 'V871', 'V872', 'G873', 'S874', 'L875', 'L876', 'Q877', 'T878', 'R879', 'N880', 'D881', 'K882', 'G883', 'K884', 'F885', 'T886', 'D887', 'F888', 'S889', 'D890', 'Y891', 'L892', 'N893', 'K894', 'I895', 'D896', 'I897', 'S898', 'A899', 'C900', 'N901', 'K902', 'K903', 'V904', 'T905', 'E906', 'S907', 'L908', 'I909', 'K910', 'A911', 'G912', 'A913', 'F914', 'D915', 'S916', 'L917', 'G918', 'H919', 'A920', 'R921', 'K922', 'G923', 'L924', 'F925', 'L926', 'V927', 'H928', 'S929', 'D930', 'A931', 'V932', 'D933', 'S934', 'V935', 'L936', 'G937', 'T938', 'K939', 'K940', 'A941', 'E942', 'A943', 'L944', 'G945', 'Q946', 'F947', 'D948', 'L949', 'F950', 'G951', 'S952', 'N953', 'D954', 'D955', 'G956', 'T957', 'G958', 'T959', 'A960', 'D961', 'P962', 'V963', 'F964', 'T965', 'I966', 'K967', 'V968', 'P969', 'D970', 'D971', 'E972', 'W973', 'E974', 'D975', 'K976', 'H977', 'K978', 'L979', 'A980', 'L981', 'E982', 'R983', 'E984', 'M985', 'L986', 'G987', 'L988', 'Y989', 'V990', 'S991', 'G992', 'H993', 'P994', 'L995', 'N996', 'G997', 'V998', 'A999', 'H1000', 'L1001', 'L1002', 'A1003', 'A1004', 'Q1005', 'V1006', 'D1007', 'T1008', 'A1009', 'I1010', 'P1011', 'A1012', 'I1013', 'L1014', 'D1015', 'G1016', 'D1017', 'V1018', 'P1019', 'N1020', 'D1021', 'A1022', 'Q1023', 'V1024', 'R1025', 'V1026', 'G1027', 'G1028', 'I1029', 'L1030', 'A1031', 'S1032', 'V1033', 'N1034', 'R1035', 'R1036', 'V1037', 'N1038', 'K1039', 'N1040', 'G1041', 'M1042', 'P1043', 'W1044', 'A1045', 'S1046', 'A1047', 'Q1048', 'L1049', 'E1050', 'D1051', 'L1052', 'T1053', 'G1054', 'G1055', 'I1056', 'E1057', 'V1058', 'M1059', 'F1060', 'F1061', 'P1062', 'H1063', 'T1064', 'Y1065', 'S1066', 'S1067', 'Y1068', 'G1069', 'A1070', 'D1071', 'I1072', 'V1073', 'D1074', 'D1075', 'A1076', 'V1077', 'V1078', 'L1079', 'V1080', 'N1081', 'A1082', 'K1083', 'V1084', 'A1085', 'V1086', 'R1087', 'D1088', 'D1089', 'R1090', 'I1091', 'A1092', 'L1093', 'I1094', 'A1095', 'N1096', 'D1097', 'L1098', 'T1099', 'V1100', 'P1101', 'D1102', 'F1103', 'S1104', 'N1105', 'A1106', 'E1107', 'V1108', 'E1109', 'R1110', 'P1111', 'L1112', 'A1113', 'V1114', 'S1115', 'L1116', 'P1117', 'T1118', 'R1119', 'Q1120', 'C1121', 'T1122', 'F1123', 'D1124', 'K1125', 'V1126', 'S1127', 'A1128', 'L1129', 'K1130', 'Q1131', 'V1132', 'L1133', 'A1134', 'R1135', 'H1136', 'P1137', 'G1138', 'T1139', 'S1140', 'Q1141', 'V1142', 'H1143', 'L1144', 'R1145', 'L1146', 'I1147', 'S1148', 'G1149', 'D1150', 'R1151', 'I1152', 'T1153', 'T1154', 'L1155', 'A1156', 'L1157', 'D1158', 'Q1159', 'S1160', 'L1161', 'R1162', 'V1163', 'T1164', 'P1165', 'S1166', 'P1167', 'A1168', 'L1169', 'M1170', 'G1171', 'D1172', 'L1173', 'K1174', 'E1175', 'L1176', 'L1177', 'G1178', 'P1179', 'G1180', 'C1181', 'L1182', 'G1183', 'S1184', '*1185']\n"
     ]
    }
   ],
   "source": [
    "# Load the nucleotide sequence\n",
    "\n",
    "msmeg_dnae1_dna = DesignEblocks.read_seq(msmeg_dnae1)\n",
    "print(\"Nucleotide sequence: \", msmeg_dnae1_dna)\n",
    "\n",
    "# Translate nucleotide to protein sequence\n",
    "\n",
    "msmeg_dnae1_protein = msmeg_dnae1_dna.translate()\n",
    "print(\"Protein sequence: \", msmeg_dnae1_protein)\n",
    "\n",
    "# Create a list of all DnaE1 residues\n",
    "\n",
    "msmeg_dnae1_residues = [i + str(j) for i, j in zip(msmeg_dnae1_protein, range(1, len(msmeg_dnae1_protein) + 1))]\n",
    "print(\"Residues: \", msmeg_dnae1_residues)"
   ]
  },
  {
   "cell_type": "markdown",
   "metadata": {},
   "source": [
    "Now we will randomly design some mutations for this gene. Here, we will not generate any mutations in the N- or C- terminal region, to ensure we can create a 20bp overlap with the beginning or end of the gene in our eBlock design <br>\n",
    "\n",
    "1. **Single point mutations** <br>\n",
    "\n",
    "Single point mutations contain a single mutation per eBlock\n",
    "\n",
    "2. **Multiple point mutations in same eBlock**\n",
    "\n",
    "Multiple point mutations contain multiple mutations in the same eBlock\n",
    "\n",
    "3. **Inserts**\n",
    "\n",
    "Inserts contain addition of amino acids in the eBlock\n",
    "\n",
    "4. **Deletions**\n",
    "\n",
    "Deletions have parts of the gene deleted"
   ]
  },
  {
   "cell_type": "code",
   "execution_count": 6,
   "metadata": {},
   "outputs": [],
   "source": [
    "# List containing all natural amino acids and options for our mutations\n",
    "choices = ['A', 'V', 'I', 'L', 'M', 'F', 'Y', 'W', 'S', 'T', 'N', 'Q', 'C', 'G', 'P', 'R', 'H', 'K', 'D', 'E']\n",
    "\n",
    "# Set of functions to randomly select mutations and insertions/deletions\n",
    "\n",
    "def random_single_mutation(residues, choices, n):\n",
    "    \"\"\"\n",
    "    Randomly select single mutations in a protein sequence.\n",
    "\n",
    "    Parameters\n",
    "    ----------\n",
    "    residues : list\n",
    "        List of residues in the protein sequence\n",
    "    choices : list\n",
    "        List of all natural amino acids\n",
    "    n : int\n",
    "        Number of mutations to sample\n",
    "    \"\"\"\n",
    "    res = random.sample(residues, n)\n",
    "    mut = random.sample(choices, n)\n",
    "    mutants = [i + j for i, j in zip(res, mut)]\n",
    "    return mutants\n",
    "\n",
    "\n",
    "def random_multiple_mutation(residues, choices, n, max_distance_between_mutants=5, max_number_mutations=4):\n",
    "    \"\"\"\n",
    "    Randomly select multiple mutations in a protein sequence that will be combined in one mutant.\n",
    "\n",
    "    Parameters\n",
    "    ----------\n",
    "    residues : list\n",
    "        List of residues in the protein sequence\n",
    "    choices : list\n",
    "        List of all natural amino acids\n",
    "    n : int\n",
    "        Number of mutations to sample\n",
    "    max_distance_between_mutants : int\n",
    "        Maximum distance (in residues) between the two mutations, default is set to 10\n",
    "    \"\"\"\n",
    "    mutants = []  # List to store the mutants\n",
    "    res1 = random.sample(residues, n)\n",
    "    var1=  random.sample(choices, n)\n",
    "    mut1 = [i + j for i, j in zip(res1, var1)]\n",
    "    for i in mut1:\n",
    "        temp_muts = []\n",
    "        num_mutations = random.sample(range(1, max_number_mutations), 1)[0]\n",
    "        pos_x = random.sample(range(1, max_distance_between_mutants), num_mutations)\n",
    "        vars_x = random.sample(choices, num_mutations)\n",
    "        for j, k in zip(pos_x, vars_x):\n",
    "            mut_x = residues[int(i[1:-1]) + j] + k\n",
    "            temp_muts.append(mut_x)\n",
    "        mutants.append(i + '-' + '-'.join(temp_muts))\n",
    "    return mutants\n",
    "\n",
    "\n",
    "def random_insert(residues, choices, n, max_length_insertion=10):\n",
    "    \"\"\"\n",
    "    Randomly generate insertions in a protein sequence.\n",
    "\n",
    "    Parameters\n",
    "    ----------\n",
    "    residues : list\n",
    "        List of residues in the protein sequence\n",
    "    choices : list\n",
    "        List of all natural amino acids\n",
    "    n : int\n",
    "        Number of insertions to sample\n",
    "    max_length_insertion : int \n",
    "        Maximum length of the insertion, default is set to 10\n",
    "    \"\"\"\n",
    "    inserts = []  # List to store the inserts\n",
    "    for i in range(n):\n",
    "        len_insertion = random.sample(range(1, max_length_insertion), 1)[0]\n",
    "        insertion = random.sample(choices, len_insertion)\n",
    "        insertion = ''.join(insertion)\n",
    "        residue = random.sample(residues, 1)[0]\n",
    "        insert = residue + '-' + insertion\n",
    "        inserts.append(insert)\n",
    "    return inserts\n",
    "\n",
    "\n",
    "def random_deletion(residues, n, max_length_deletion=10):\n",
    "    \"\"\"\n",
    "    Randomly generate deletions in a protein sequence.\n",
    "\n",
    "    Parameters\n",
    "    ----------\n",
    "    residues : list\n",
    "        List of residues in the protein sequence\n",
    "    n : int\n",
    "        Number of deletions to sample\n",
    "    max_length_deletion : int\n",
    "        Maximum length of the deletion, default is set to 10\n",
    "    \"\"\"\n",
    "    deletions = []\n",
    "    for i in range(n):\n",
    "        len_deletion = random.sample(range(1, max_length_deletion), 1)[0]\n",
    "        res_b = random.sample(residues, 1)[0]\n",
    "        res_e = residues[residues.index(res_b) + len_deletion]\n",
    "        deletion = res_b + '-' + res_e\n",
    "        deletions.append(deletion)\n",
    "    return deletions"
   ]
  },
  {
   "cell_type": "code",
   "execution_count": 7,
   "metadata": {},
   "outputs": [
    {
     "name": "stdout",
     "output_type": "stream",
     "text": [
      "Generated 20 single mutations:  ['G199I', 'S100A', 'P307G', 'Y370C', 'L193Y', 'S251P', 'D1051S', 'D971L', 'L591W', 'R480D', 'E212E', 'S1160N', 'V904T', 'S898F', 'T1118K', 'A393M', 'S929H', 'R686Q', 'I537V', 'N1081R']\n",
      "Generated 2 paired mutations:  ['G753L-A782T', 'L242W-M271M-R272A-E270Y']\n",
      "Generated 2 insertions:  ['R682-TSH', 'K1039-TFDHLQ']\n",
      "Generated 2 deletions:  ['D620-Y625', 'G958-D961']\n",
      "Total number of mutations: 26\n"
     ]
    }
   ],
   "source": [
    "# TODO FIX INDEX ERROR (INDEX OUT OF RANGE) FOR DOUBlE MUTATIONS\n",
    "\n",
    "# Randomly select single mutations\n",
    "number_single = 20\n",
    "selected_single_mutants = random_single_mutation(msmeg_dnae1_residues[25:-25], choices, number_single)\n",
    "print(f\"Generated {number_single} single mutations: \", selected_single_mutants)\n",
    "\n",
    "# Randomly select double mutations\n",
    "number_double = 2\n",
    "selected_double_mutants = random_multiple_mutation(msmeg_dnae1_residues[25:-25], choices, number_double)\n",
    "print(f\"Generated {number_double} paired mutations: \", selected_double_mutants)\n",
    "\n",
    "# Randomly select insertions\n",
    "number_insertions = 2\n",
    "selected_insertions = random_insert(msmeg_dnae1_residues[25:-25], choices, number_insertions)\n",
    "print(f\"Generated {number_insertions} insertions: \", selected_insertions)\n",
    "\n",
    "# Randomly select deletions\n",
    "number_deletions = 2\n",
    "selected_deletions = random_deletion(msmeg_dnae1_residues[25:-25], number_deletions)\n",
    "print(f\"Generated {number_deletions} deletions: \", selected_deletions)\n",
    "\n",
    "total_number_mutations = number_single + number_double + number_insertions + number_deletions\n",
    "print(f\"Total number of mutations: {total_number_mutations}\")"
   ]
  },
  {
   "cell_type": "code",
   "execution_count": 8,
   "metadata": {},
   "outputs": [],
   "source": [
    "# Formatting the mutations in a format that can be read by the DesignEblocks class, see documentation for more information about this\n",
    "\n",
    "now = datetime.now()\n",
    "dt_string = now.strftime(\"%d-%m-%Y_%H:%M\")\n",
    "mutationsfile = f'files/mutations_random_Msmeg_DnaE1_N{total_number_mutations}_{dt_string}.txt'\n",
    "\n",
    "with open(mutationsfile, 'w') as f:\n",
    "    for i in selected_single_mutants:\n",
    "        f.write(i + '\\n')\n",
    "    for i in selected_double_mutants:\n",
    "        f.write('Combined ' + i + '\\n')\n",
    "    for i in selected_insertions:\n",
    "        f.write('Insert ' + i + '\\n')\n",
    "    for i in selected_deletions:\n",
    "        f.write('Deletion ' + i + '\\n')"
   ]
  },
  {
   "cell_type": "markdown",
   "metadata": {},
   "source": [
    "Now that we have selected the mutations that we want to create, we can start the design of the eBlocks. <br>\n",
    "First, we create an instance of the DesignEblocks class and provide the information. Next we will start the design of the eBlocks. <br>\n",
    "<br>\n",
    "\n",
    "TODO: Describe the steps that are carried out in this class"
   ]
  },
  {
   "cell_type": "code",
   "execution_count": 9,
   "metadata": {},
   "outputs": [],
   "source": [
    "# Create instance of DesignEblocks to design the eBlocks per mutation\n",
    "\n",
    "eBlocks_instance = DesignEblocks(\n",
    "                        sequence_fp=msmeg_dnae1,\n",
    "                        mutations_fp=mutationsfile,\n",
    "                        output_fp=output_location,\n",
    "                        species=codon_usage,\n",
    "                        codon_usage_fp=codon_usage_fp)"
   ]
  },
  {
   "cell_type": "code",
   "execution_count": 10,
   "metadata": {},
   "outputs": [],
   "source": [
    "# TODO BEFORE STARTING ACTUALLY MAKE A PLOT OF HOW THE MUTATIONS ARE DIVIDED OVER THE PROTEIN\n",
    "# TODO THINK ABOUT HOW TO DO THIS \n",
    "# TODO DO USING SAME PACKAGE AS BELOW"
   ]
  },
  {
   "cell_type": "code",
   "execution_count": 16,
   "metadata": {},
   "outputs": [
    {
     "name": "stdout",
     "output_type": "stream",
     "text": [
      "['Mutation', 'Mutation', 'Mutation', 'Mutation', 'Mutation', 'Mutation', 'Mutation', 'Mutation', 'Mutation', 'Mutation', 'Mutation', 'Mutation', 'Mutation', 'Mutation', 'Mutation', 'Mutation', 'Mutation', 'Mutation', 'Mutation', 'Mutation', 'Combined', 'Combined', 'Insert', 'Insert', 'Deletion', 'Deletion']\n"
     ]
    }
   ],
   "source": [
    "print(eBlocks_instance.mutation_types)"
   ]
  },
  {
   "cell_type": "code",
   "execution_count": 45,
   "metadata": {},
   "outputs": [
    {
     "name": "stdout",
     "output_type": "stream",
     "text": [
      "idx_dna  [597, 300, 921, 1110, 579, 753, 3153, 2913, 1773, 1440, 636, 3480, 2712, 2694, 3354, 1179, 2787, 2058, 1611, 3243, 2259, 2346, 726, 813, 816, 810, 2046, 3117, 1860, 2874]\n",
      "idx_dna_tups  [['G199I', 597], ['S100A', 300], ['P307G', 921], ['Y370C', 1110], ['L193Y', 579], ['S251P', 753], ['D1051S', 3153], ['D971L', 2913], ['L591W', 1773], ['R480D', 1440], ['E212E', 636], ['S1160N', 3480], ['V904T', 2712], ['S898F', 2694], ['T1118K', 3354], ['A393M', 1179], ['S929H', 2787], ['R686Q', 2058], ['I537V', 1611], ['N1081R', 3243], [['G753L', 2259], ['A782T', 2346]], [['L242W', 726], ['M271M', 813], ['R272A', 816], ['E270Y', 810]], ['R682-TSH', 2046], ['K1039-TFDHLQ', 3117], ['D620-Y625', 1860], ['G958-D961', 2874]]\n",
      "30 26\n",
      "Optimizing bin sizes ...\n",
      "Optimal bandwidth:  279\n",
      "Clusters:  {'cluster 0': [597, 300, 921, 1110, 579, 753, 636, 1179, 726, 813, 816, 810], 'cluster 1': [3153, 2913, 3480, 2712, 2694, 3354, 2787, 3243, 3117, 2874], 'cluster 2': [2058, 2259, 2346, 2046], 'cluster 3': [1773, 1440, 1611, 1860]}\n",
      "Bins:  [275, 1204, 1415, 1885, 2021, 2371, 2669, 3505]\n",
      "all_gene_blocks  {'Block_0_pos_275_1204': 'cagccaaaaggccgacgacgtctccggcagcggctcctacacgcacctgacgatgatggccgagaacgccaccggtctgcgcaacctgttcaagctgtcctcgcatgcttccttcgagggccagctgagcaagtggtcgcgcatggacgccgagctcatcgccgaacacgccgagggcatcatcatcaccaccggatgcccgtcgggggaggtgcagacccgcctgcggctcggccaggatcgggaggcgctcgaagccgcggcgaagtggcgggagatcgtcggaccggacaactacttccttgagctgatggaccacgggctgaccatcgaacgccgggtccgtgacggtctgctcgagatcggacgcgcgctcaacattccgcctcttgccaccaatgactgccactacgtgacccgcgacgccgcccacaaccatgaggctttgttgtgtgtgcagaccggcaagaccctctcggatccgaatcgcttcaagttcgacggtgacggctactacctgaagtcggccgccgagatgcgccagatctgggacgacgaagtgccgggcgcgtgtgactccaccttgttgatcgccgaacgggtgcagtcctacgccgacgtgtggacaccgcgcgaccggatgcccgtgtttccggtgcccgatgggcatgaccaggcgtcctggctgcgtcacgaggtggacgccgggcttcgccggcgatttccggccggtccgccggacgggtaccgcgagcgcgccgcctacgagatcgacgtcatctgctccaaaggtttcccatcgtactttctgatcgtcgccgacctgatcagctacgcgcggtcggcgggcataagggtgggtcccggccgcggctcggccgccggctcgctggtcgcctacgcgctgggcatcaccgacatcgacccga', 'Block_1_pos_1204_1415': 'ttccacacggtctgctgttcgagcggttcctcaaccccgagcgcacctcgatgcccgacatcgatatcgacttcgacgaccggcgccgcggtgagatggtgcgctacgcagccgacaagtggggccacgaccgggtcgcgcaggtcatcaccttcggcaccatcaaaaccaaagcggcgctgaaggattcggcgcgaatccactacgggca', 'Block_2_pos_1415_1885': 'gcccgggttcgccatcgccgaccggatcaccaaggcgttgccgccggcgatcatggccaaagacatcccgctgtctgggatcaccgatcccagccacgaacggtacaaggaggccgccgaggtccgcggcctgatcgaaaccgacccggacgtacgcaccatctaccagaccgcacgcgggttggaaggcctgatccgcaacgcgggtgtgcacgcctgcgcggtgatcatgagcagcgagccgctgactgaggccatcccgttgtggaagcggccgcaggacggggccatcatcaccggctgggattacccggcgtgcgaggccatcggtctgctgaaaatggacttcctgggcctgcggaacctgacgatcatcggcgacgcgatcgacaacgtcagggccaacaggggtatcgacctcgacctggaatccgtgccgctggacgacaaggccacctatgagctgctgg', 'Block_3_pos_1885_2021': 'gccgcggcgacaccctgggcgtgttccagctcgacggcgggcccatgcgcgacctgctgcgccgcatgcagccgaccgggttcgaagacgtcgtcgccgttatcgcgctgtaccggcccggcccgatgggcatgaa', 'Block_4_pos_2021_2371': 'cgcacacaacgactatgccgaccgcaagaacaaccggcaggccatcaaacctattcacccggaactcgaagaaccgctgcgcgagatcctcgccgagacctacggcctcatcgtctatcaagagcagatcatgcgcatcgcgcagaaggtggcgagctactcgttggcccgcgccgacattctacgcaaggccatgggcaagaagaaacgcgaggtgctggagaaggagttcgagggcttctccgatggcatgcaggccaacgggttctctccggcggccatcaaggcgctgtgggacaccatcctgccgttcgctgactacgcgttcaacaagtcacatgccgccggct', 'Block_5_pos_2371_2669': 'acggcatggtgtcctactggacggcctacctcaaggccaactatcccgccgagtacatggccggtctgttgacgtcggtcggcgacgataaagacaaggccgcggtttatctggccgactgccgcaagctcggcatcaccgtgctcccgcccgacgtcaacgaatctggcttgaacttcgcatcggtcggccaagacatccgctacgggctgggcgcggtgcgcaacgttggcgctaatgtcgtgggctcgttgctccaaacccgcaacgacaagggcaagttcaccgacttttcgga', 'Block_6_pos_2669_3505': 'ctacctgaacaagatcgacatctcggcgtgcaacaagaaggtgaccgaatcgctgatcaaggcgggtgcgttcgactcgctggggcatgcccgcaagggtcttttcctggtgcacagcgatgcggtggactcggtgctgggcaccaagaaggccgaggcactggggcagttcgatctcttcggcagcaatgatgatgggaccggcaccgcagatcccgtgttcaccatcaaggtgcccgatgatgagtgggaggacaaacacaaactcgccctagagcgcgagatgctgggactgtacgtctcggggcatcccctcaacggtgtggcacacttgctggctgcccaggtcgacaccgcgatcccagcgatcctcgacggcgatgtccccaacgatgcccaagtgcgggtgggcggcatcctggcgtcggtgaaccggagggtcaacaaaaacggaatgccatgggcttcagcgcaattggaggatctcacgggcggcatcgaggtgatgttcttcccgcacacctactccagctatggtgccgacatcgtcgacgatgccgtcgtgctggtcaacgccaaggtggcggtccgtgacgaccgcatcgcattgatcgccaatgacctcacagtgcccgacttttccaacgccgaggtggagcggccgctggcggtcagcttgcccacccggcagtgcacctttgacaaggtgagtgcgctcaaacaggtgttggcgcgccaccccggcacctcgcaggtgcatctgcggctcatcagcggagaccggatcaccacgctggcacttgatcagtcgttgcgggtgacgccgtcgccggcgt'}\n",
      "gene_blocks  {'Block_1_pos_275_1204': 'cagccaaaaggccgacgacgtctccggcagcggctcctacacgcacctgacgatgatggccgagaacgccaccggtctgcgcaacctgttcaagctgtcctcgcatgcttccttcgagggccagctgagcaagtggtcgcgcatggacgccgagctcatcgccgaacacgccgagggcatcatcatcaccaccggatgcccgtcgggggaggtgcagacccgcctgcggctcggccaggatcgggaggcgctcgaagccgcggcgaagtggcgggagatcgtcggaccggacaactacttccttgagctgatggaccacgggctgaccatcgaacgccgggtccgtgacggtctgctcgagatcggacgcgcgctcaacattccgcctcttgccaccaatgactgccactacgtgacccgcgacgccgcccacaaccatgaggctttgttgtgtgtgcagaccggcaagaccctctcggatccgaatcgcttcaagttcgacggtgacggctactacctgaagtcggccgccgagatgcgccagatctgggacgacgaagtgccgggcgcgtgtgactccaccttgttgatcgccgaacgggtgcagtcctacgccgacgtgtggacaccgcgcgaccggatgcccgtgtttccggtgcccgatgggcatgaccaggcgtcctggctgcgtcacgaggtggacgccgggcttcgccggcgatttccggccggtccgccggacgggtaccgcgagcgcgccgcctacgagatcgacgtcatctgctccaaaggtttcccatcgtactttctgatcgtcgccgacctgatcagctacgcgcggtcggcgggcataagggtgggtcccggccgcggctcggccgccggctcgctggtcgcctacgcgctgggcatcaccgacatcgacccga', 'Block_2_pos_1415_1885': 'gcccgggttcgccatcgccgaccggatcaccaaggcgttgccgccggcgatcatggccaaagacatcccgctgtctgggatcaccgatcccagccacgaacggtacaaggaggccgccgaggtccgcggcctgatcgaaaccgacccggacgtacgcaccatctaccagaccgcacgcgggttggaaggcctgatccgcaacgcgggtgtgcacgcctgcgcggtgatcatgagcagcgagccgctgactgaggccatcccgttgtggaagcggccgcaggacggggccatcatcaccggctgggattacccggcgtgcgaggccatcggtctgctgaaaatggacttcctgggcctgcggaacctgacgatcatcggcgacgcgatcgacaacgtcagggccaacaggggtatcgacctcgacctggaatccgtgccgctggacgacaaggccacctatgagctgctgg', 'Block_3_pos_2021_2371': 'cgcacacaacgactatgccgaccgcaagaacaaccggcaggccatcaaacctattcacccggaactcgaagaaccgctgcgcgagatcctcgccgagacctacggcctcatcgtctatcaagagcagatcatgcgcatcgcgcagaaggtggcgagctactcgttggcccgcgccgacattctacgcaaggccatgggcaagaagaaacgcgaggtgctggagaaggagttcgagggcttctccgatggcatgcaggccaacgggttctctccggcggccatcaaggcgctgtgggacaccatcctgccgttcgctgactacgcgttcaacaagtcacatgccgccggct', 'Block_4_pos_2669_3505': 'ctacctgaacaagatcgacatctcggcgtgcaacaagaaggtgaccgaatcgctgatcaaggcgggtgcgttcgactcgctggggcatgcccgcaagggtcttttcctggtgcacagcgatgcggtggactcggtgctgggcaccaagaaggccgaggcactggggcagttcgatctcttcggcagcaatgatgatgggaccggcaccgcagatcccgtgttcaccatcaaggtgcccgatgatgagtgggaggacaaacacaaactcgccctagagcgcgagatgctgggactgtacgtctcggggcatcccctcaacggtgtggcacacttgctggctgcccaggtcgacaccgcgatcccagcgatcctcgacggcgatgtccccaacgatgcccaagtgcgggtgggcggcatcctggcgtcggtgaaccggagggtcaacaaaaacggaatgccatgggcttcagcgcaattggaggatctcacgggcggcatcgaggtgatgttcttcccgcacacctactccagctatggtgccgacatcgtcgacgatgccgtcgtgctggtcaacgccaaggtggcggtccgtgacgaccgcatcgcattgatcgccaatgacctcacagtgcccgacttttccaacgccgaggtggagcggccgctggcggtcagcttgcccacccggcagtgcacctttgacaaggtgagtgcgctcaaacaggtgttggcgcgccaccccggcacctcgcaggtgcatctgcggctcatcagcggagaccggatcaccacgctggcacttgatcagtcgttgcgggtgacgccgtcgccggcgt'}\n"
     ]
    },
    {
     "ename": "SystemExit",
     "evalue": "",
     "output_type": "error",
     "traceback": [
      "An exception has occurred, use %tb to see the full traceback.\n",
      "\u001b[1;31mSystemExit\u001b[0m\n"
     ]
    },
    {
     "name": "stderr",
     "output_type": "stream",
     "text": [
      "c:\\Users\\Rosan\\Anaconda3\\envs\\dnae\\lib\\site-packages\\IPython\\core\\interactiveshell.py:3450: UserWarning: To exit: use 'exit', 'quit', or Ctrl-D.\n",
      "  warn(\"To exit: use 'exit', 'quit', or Ctrl-D.\", stacklevel=1)\n"
     ]
    },
    {
     "data": {
      "image/png": "[encoded data removed]",
      "text/plain": [
       "<Figure size 2000x380 with 1 Axes>"
      ]
     },
     "metadata": {},
     "output_type": "display_data"
    }
   ],
   "source": [
    "# Run the design of the eBlocks\n",
    "\n",
    "eBlocks_instance.run()"
   ]
  },
  {
   "cell_type": "code",
   "execution_count": null,
   "metadata": {},
   "outputs": [],
   "source": [
    "# TODO ADD THE MUTATIONS IN THE PLOT AS WELL\n",
    "# TODO DECRIBE COLORS IN THE PLOT (MAKE INTO STATIS METHOD)\n",
    "# TODO TRY WITH 100 mutations as well\n",
    "# TODO PLOT THE COUNT PER EBLOCK AS WELL\n"
   ]
  },
  {
   "cell_type": "code",
   "execution_count": 70,
   "metadata": {},
   "outputs": [],
   "source": [
    "# PRINT TOTAL NUMBER OF EBLOCKS HERE TO HIGHLIGHT THE GAIN WITH THE APPROACH"
   ]
  },
  {
   "cell_type": "code",
   "execution_count": 72,
   "metadata": {},
   "outputs": [
    {
     "name": "stdout",
     "output_type": "stream",
     "text": [
      "output/\n"
     ]
    }
   ],
   "source": [
    "print(eBlocks_instance.output_fp)"
   ]
  },
  {
   "cell_type": "code",
   "execution_count": 73,
   "metadata": {},
   "outputs": [
    {
     "name": "stdout",
     "output_type": "stream",
     "text": [
      "output/design_gene_blocks.log\n"
     ]
    }
   ],
   "source": [
    "print(eBlocks_instance.logfile)"
   ]
  },
  {
   "cell_type": "code",
   "execution_count": 76,
   "metadata": {},
   "outputs": [
    {
     "name": "stdout",
     "output_type": "stream",
     "text": [
      "S60\n",
      "D428\n",
      "A491\n",
      "H127\n",
      "Optimizing bin sizes ...\n",
      "201\n",
      "566.95\n",
      "202\n",
      "566.95\n",
      "203\n",
      "566.95\n",
      "204\n",
      "661.75\n",
      "205\n",
      "661.75\n",
      "206\n",
      "661.75\n",
      "207\n",
      "661.75\n",
      "208\n",
      "661.75\n",
      "209\n",
      "661.75\n",
      "210\n",
      "612.85\n",
      "211\n",
      "612.85\n",
      "212\n",
      "612.85\n",
      "213\n",
      "612.85\n",
      "214\n",
      "661.75\n",
      "215\n",
      "566.95\n",
      "216\n",
      "566.95\n",
      "217\n",
      "566.95\n",
      "218\n",
      "566.95\n",
      "219\n",
      "566.95\n",
      "220\n",
      "566.95\n",
      "221\n",
      "566.95\n",
      "222\n",
      "566.95\n",
      "223\n",
      "593.95\n",
      "224\n",
      "593.95\n",
      "225\n",
      "518.35\n",
      "226\n",
      "566.65\n",
      "227\n",
      "518.05\n",
      "228\n",
      "566.95\n",
      "229\n",
      "661.75\n",
      "230\n",
      "674.65\n",
      "231\n",
      "674.65\n",
      "232\n",
      "661.75\n",
      "233\n",
      "661.75\n",
      "234\n",
      "661.75\n",
      "235\n",
      "674.65\n",
      "236\n",
      "674.65\n",
      "237\n",
      "674.65\n",
      "238\n",
      "674.65\n",
      "239\n",
      "674.65\n",
      "240\n",
      "674.65\n",
      "241\n",
      "674.65\n",
      "242\n",
      "674.65\n",
      "243\n",
      "674.65\n",
      "243\n",
      "752.8\n",
      "240\n",
      "674.65\n",
      "241\n",
      "674.65\n",
      "242\n",
      "674.65\n",
      "243\n",
      "674.65\n",
      "243\n",
      "752.8\n",
      "202\n",
      "566.95\n",
      "203\n",
      "566.95\n",
      "204\n",
      "661.75\n",
      "205\n",
      "661.75\n",
      "206\n",
      "661.75\n",
      "207\n",
      "661.75\n",
      "208\n",
      "661.75\n",
      "209\n",
      "661.75\n",
      "210\n",
      "612.85\n",
      "211\n",
      "612.85\n",
      "212\n",
      "612.85\n",
      "213\n",
      "612.85\n",
      "214\n",
      "661.75\n",
      "215\n",
      "566.95\n",
      "216\n",
      "566.95\n",
      "217\n",
      "566.95\n",
      "218\n",
      "566.95\n",
      "219\n",
      "566.95\n",
      "220\n",
      "566.95\n",
      "221\n",
      "566.95\n",
      "222\n",
      "566.95\n",
      "223\n",
      "593.95\n",
      "224\n",
      "593.95\n",
      "225\n",
      "518.35\n",
      "226\n",
      "566.65\n",
      "227\n",
      "518.05\n",
      "228\n",
      "566.95\n",
      "229\n",
      "661.75\n",
      "230\n",
      "674.65\n",
      "231\n",
      "674.65\n",
      "232\n",
      "661.75\n",
      "233\n",
      "661.75\n",
      "234\n",
      "661.75\n",
      "235\n",
      "674.65\n",
      "236\n",
      "674.65\n",
      "237\n",
      "674.65\n",
      "238\n",
      "674.65\n",
      "239\n",
      "674.65\n",
      "240\n",
      "674.65\n",
      "241\n",
      "674.65\n",
      "242\n",
      "674.65\n",
      "243\n",
      "674.65\n",
      "243\n",
      "752.8\n",
      "276\n",
      "688.75\n",
      "276\n",
      "752.8\n",
      "321\n",
      "752.8\n",
      "347\n",
      "770.95\n",
      "347\n",
      "752.8\n",
      "307\n",
      "688.75\n",
      "308\n",
      "688.75\n",
      "308\n",
      "752.8\n",
      "{'cluster 0': [453, 648, 597, 540, 612, 696, 315, 333, 300, 330, 180, 381], 'cluster 1': [1722, 1194, 1443, 1452, 1494, 1284, 1473], 'cluster 2': [3324, 3123, 2973, 3105, 3393], 'cluster 3': [2481, 2367, 2352, 2769]}\n",
      "Lowest cost:  752.8 with 4 clusters\n",
      "V1108I\n",
      "Mutation\n",
      "G1041T\n",
      "Mutation\n",
      "Y827R\n",
      "Mutation\n",
      "G151C\n",
      "Mutation\n",
      "D574W\n",
      "Mutation\n",
      "A216K\n",
      "Mutation\n",
      "G199D\n",
      "Mutation\n",
      "D398Q\n",
      "Mutation\n",
      "A789N\n",
      "Mutation\n",
      "I481L\n",
      "Mutation\n",
      "S991S\n",
      "Mutation\n",
      "N784H\n",
      "Mutation\n",
      "R1035P\n",
      "Mutation\n",
      "A180E\n",
      "Mutation\n",
      "A484V\n",
      "Mutation\n",
      "G498G\n",
      "Mutation\n",
      "R204F\n",
      "Mutation\n",
      "R232M\n",
      "Mutation\n",
      "G923A\n",
      "Mutation\n",
      "Q1131Y\n",
      "Mutation\n",
      "Y105S-M111F\n",
      "Combined\n",
      "315\n",
      "Block_0_pos_155_721\n",
      "cggtgccagcgagttctacaactccgcgaccaaggccgggatcaagccgatcatcggcgtggaggcatacatcgcgccgggctcgcggttcgacacccggcgcatcctgtggggtgaccccagccaaaaggccgacgacgtctccggcagcggctcctacacgcacctgacgatgatggccgagaacgccaccggtctgcgcaacctgttcaagctgtcctcgcatgcttccttcgagggccagctgagcaagtggtcgcgcatggacgccgagctcatcgccgaacacgccgagggcatcatcatcaccaccggatgcccgtcgggggaggtgcagacccgcctgcggctcggccaggatcgggaggcgctcgaagccgcggcgaagtggcgggagatcgtcggaccggacaactacttccttgagctgatggaccacgggctgaccatcgaacgccgggtccgtgacggtctgctcgagatcggacgcgcgctcaacattccgcctcttgccaccaatgactgccactacgtgacccgcgacgccgcccacaaccatgaggcttS100F-M110Q\n",
      "Combined\n",
      "300\n",
      "Block_0_pos_155_721\n",
      "cggtgccagcgagttctacaactccgcgaccaaggccgggatcaagccgatcatcggcgtggaggcatacatcgcgccgggctcgcggttcgacacccggcgcatcctgtggggtgaccccagccaaaaggccgacgacgtctccggcagcggctcctacacgcacctgacgatgatggccgagaacgccaccggtctgcgcaacctgttcaagctgtcctcgcatgcttccttcgagggccagctgagcaagtggtcgcgcatggacgccgagctcatcgccgaacacgccgagggcatcatcatcaccaccggatgcccgtcgggggaggtgcagacccgcctgcggctcggccaggatcgggaggcgctcgaagccgcggcgaagtggcgggagatcgtcggaccggacaactacttccttgagctgatggaccacgggctgaccatcgaacgccgggtccgtgacggtctgctcgagatcggacgcgcgctcaacattccgcctcttgccaccaatgactgccactacgtgacccgcgacgccgcccacaaccatgaggcttS60-YWVGSC\n",
      "Insert\n",
      "D428-CSGR\n",
      "Insert\n",
      "A491-S497\n",
      "Deletion\n",
      "1473\n",
      "1491\n",
      "H127-K136\n",
      "Deletion\n",
      "381\n",
      "408\n"
     ]
    },
    {
     "data": {
      "image/png": "[encoded data removed]",
      "text/plain": [
       "<Figure size 640x480 with 1 Axes>"
      ]
     },
     "metadata": {},
     "output_type": "display_data"
    }
   ],
   "source": [
    "# run eblocks design\n",
    "\n"
   ]
  },
  {
   "cell_type": "code",
   "execution_count": 75,
   "metadata": {},
   "outputs": [],
   "source": [
    "# TODO DESCRIBE WHAT CAN BE SEEN IN THE PLOT"
   ]
  },
  {
   "cell_type": "code",
   "execution_count": null,
   "metadata": {},
   "outputs": [],
   "source": [
    "# DESCIBE WHAT OTHER FILES ARE CREATED\n",
    "\n"
   ]
  },
  {
   "cell_type": "code",
   "execution_count": null,
   "metadata": {},
   "outputs": [],
   "source": [
    "# DECRIBE THE NEXT STEPS"
   ]
  },
  {
   "cell_type": "code",
   "execution_count": 77,
   "metadata": {},
   "outputs": [
    {
     "name": "stdout",
     "output_type": "stream",
     "text": [
      "Block_2_pos_1169_1747\n",
      "Block_6_pos_2948_3418\n",
      "Block_4_pos_2327_2794\n",
      "Block_0_pos_155_721\n",
      "The template temperatures for Fw and Rv primer of Block_2_pos_1169_1747 exceed max Tm difference 4 degrees\n",
      "The overhang temperatures for Fw and Rv primer of Block_0_pos_155_721 exceed max Tm difference of 4 degrees\n",
      "Complementarity between the primers for Block_2_pos_1169_1747 exceeds threshold of 4\n",
      "Complementarity between the primers for Block_6_pos_2948_3418 exceeds threshold of 4\n",
      "Complementarity between the primers for Block_4_pos_2327_2794 exceeds threshold of 4\n",
      "Primers written to file\n",
      "Make sure that primer binds nowhere else in sequence\n",
      "{'Block_2_pos_1169_1747': [1183, 1761], 'Block_6_pos_2948_3418': [2962, 3432], 'Block_4_pos_2327_2794': [2341, 2808], 'Block_0_pos_155_721': [169, 735]}\n",
      "3335 3337\n",
      "3134 3136\n",
      "2492 2494\n",
      "464 466\n",
      "1733 1735\n",
      "659 661\n",
      "608 610\n",
      "1205 1207\n",
      "2378 2380\n",
      "1454 1456\n",
      "2984 2986\n",
      "2363 2365\n",
      "3116 3118\n",
      "551 553\n",
      "1463 1465\n",
      "1505 1507\n",
      "623 625\n",
      "707 709\n",
      "2780 2782\n",
      "3404 3406\n",
      "344 346\n",
      "341 343\n",
      "191 193\n",
      "1295 1297\n",
      "1484 1486\n",
      "392 394\n"
     ]
    }
   ],
   "source": [
    "# Next; design IVA primers to open up destination plasmid\n",
    "\n",
    "mut_gene_blocks_fp = os.path.join(output_location, \"mut_gene_blocks.npy\")\n",
    "wt_gene_blocks_fp = os.path.join(output_location, \"wt_gene_blocks.npy\")\n",
    "\n",
    "# Create class instance\n",
    "\n",
    "design_primers = DesignPrimers(wt_gene_blocks_fp=wt_gene_blocks_fp, \n",
    "                               mut_gene_blocks_fp=mut_gene_blocks_fp, \n",
    "                               output_location=output_location,\n",
    "                               input_gene_path=gene,\n",
    "                               snapgene_file=vector)\n",
    "\n",
    "# Design the primers\n",
    "\n",
    "design_primers.run()\n",
    "\n",
    "# Also write results to files that SnapGene can open\n",
    "primers_fp = os.path.join(output_location, \"IVA_primers.csv\")\n",
    "gene_blocks_mutation_info_fp = os.path.join(output_location, \"gene_blocks.txt\")\n",
    "\n",
    "# If you have SnapGene installed, you can add the mutations as features in this file\n",
    "\n",
    "snapgene_output = SnapGeneOutput(wt_gene_blocks_fp = wt_gene_blocks_fp,\n",
    "                                 mut_gene_blocks_fp = mut_gene_blocks_fp,\n",
    "                                 primers_fp = primers_fp,\n",
    "                                 output_location = output_location,\n",
    "                                 snapgene_file = vector,\n",
    "                                 gene_blocks_info_fp = gene_blocks_mutation_info_fp)\n",
    "snapgene_output.run()\n"
   ]
  },
  {
   "cell_type": "code",
   "execution_count": 78,
   "metadata": {},
   "outputs": [],
   "source": [
    "# TODO CLEANUP AND REMOVE UNNECCESSARY FILES"
   ]
  },
  {
   "cell_type": "code",
   "execution_count": null,
   "metadata": {},
   "outputs": [],
   "source": []
  }
 ],
 "metadata": {
  "kernelspec": {
   "display_name": "eblocks_2",
   "language": "python",
   "name": "python3"
  },
  "language_info": {
   "codemirror_mode": {
    "name": "ipython",
    "version": 3
   },
   "file_extension": ".py",
   "mimetype": "text/x-python",
   "name": "python",
   "nbconvert_exporter": "python",
   "pygments_lexer": "ipython3",
   "version": "3.9.9"
  },
  "orig_nbformat": 4,
  "vscode": {
   "interpreter": {
    "hash": "d7d289948f61f5fcb13fbcf193359a612b9e5c1095e49523e79ec52da5e952f7"
   }
  }
 },
 "nbformat": 4,
 "nbformat_minor": 2
}
