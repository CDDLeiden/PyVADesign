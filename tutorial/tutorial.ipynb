{
 "cells": [
  {
   "cell_type": "markdown",
   "metadata": {},
   "source": [
    "# Design eBlocks Tutorial\n",
    "\n",
    "Welcome to the Design eBlocks tutorial! In this tutorial, we will explore the process of designing eBlocks for a gene sequence using Jupyter Notebook.\n",
    "\n",
    "## What are eBlocks?\n",
    "\n",
    "eBlocks are synthetic DNA sequences that are designed to introduce specific mutations into a target gene. These mutations can include single point mutations, multiple point mutations, insertions, and deletions. eBlocks are a powerful tool for studying gene function and can be used in various applications such as protein engineering, gene expression analysis, and drug discovery.\n",
    "\n",
    "## Tutorial Overview\n",
    "\n",
    "In this tutorial, we will cover the following topics:\n",
    "\n",
    "1. Importing Required Modules and Packages\n",
    "2. Loading and Analyzing the Gene Sequence\n",
    "3. Parsing and Analyzing Mutation Data\n",
    "4. Designing eBlocks\n",
    "5. Visualizing eBlocks and Mutations\n",
    "6. Designing Primers for eBlock Amplification\n",
    "\n",
    "By the end of this tutorial, you will have a clear understanding of how to design eBlocks for a gene sequence and visualize the mutations introduced by these eBlocks.\n",
    "\n",
    "Let's get started with the first step: importing the required modules and packages."
   ]
  },
  {
   "cell_type": "markdown",
   "metadata": {},
   "source": [
    "### 1. Importing Required Modules and Packages"
   ]
  },
  {
   "cell_type": "code",
   "execution_count": 13,
   "metadata": {},
   "outputs": [],
   "source": [
    "import os\n",
    "import sys\n",
    "\n",
    "sys.path.append('..')\n",
    "os.environ[\"OMP_NUM_THREADS\"] = '1'  # KMeans is not parallelized, so set to 1 thread\n",
    "\n",
    "from src.mutation import Mutation\n",
    "from src.sequence import Plasmid\n",
    "from src.eblocks import Eblock, EblockDesign\n",
    "import biotite.sequence as seq\n",
    "from src.primer import DesignPrimers\n",
    "from src.plot import Plot\n",
    "from src.utils import Utils, SnapGene\n",
    "\n",
    "%reload_ext autoreload\n",
    "%autoreload 2"
   ]
  },
  {
   "cell_type": "markdown",
   "metadata": {},
   "source": [
    "### 2. Loading and Analyzing the Gene Sequence\n",
    "\n",
    "The desired mutations should be added to a txt file. \n",
    "Here, we create a Mutation() object and parse the specified mutations. "
   ]
  },
  {
   "cell_type": "code",
   "execution_count": 2,
   "metadata": {},
   "outputs": [
    {
     "name": "stdout",
     "output_type": "stream",
     "text": [
      "The selected mutations are:\n",
      "\tMutation  \tG432E     \n",
      "\tMutation  \tR436Q     \n",
      "\tMutation  \tI451A     \n",
      "\tMutation  \tA484S     \n",
      "\tMutation  \tK562A     \n",
      "\tMutation  \tI569V     \n",
      "\tMutation  \tL584V     \n",
      "\tMutation  \tT595S     \n",
      "\tMutation  \tD599Y     \n",
      "\tMutation  \tP618D     \n",
      "\tMutation  \tN677H     \n",
      "\tMutation  \tQ722V     \n",
      "\tInsert    \tA770-PLR  \n",
      "\tMutation  \tD773E     \n",
      "\tMutation  \tK922R     \n",
      "\tMutation  \tE972G     \n",
      "\tMutation  \tW973S     \n",
      "\tMutation  \tQ1023R    \n",
      "\tMutation  \tA1031T    \n",
      "\tMutation  \tN1034Q    \n",
      "\tMutation  \tN1038T    \n",
      "\tMutation  \tS1046N    \n",
      "\tMutation  \tL1052E    \n",
      "\tMutation  \tV1086N    \n",
      "\tMutation  \tR1090A    \n",
      "\tMutation  \tN1096E    \n"
     ]
    }
   ],
   "source": [
    "# Create a Mutation object and parse the input mutations from the files/ directory\n",
    "\n",
    "mutations_file = 'files/mutations.txt'\n",
    "\n",
    "mutation_instance = Mutation()\n",
    "mutation_instance.parse_mutations(mutations_file)\n",
    "\n",
    "# Print the mutations that were parsed\n",
    "mutation_instance.print_mutations()"
   ]
  },
  {
   "cell_type": "markdown",
   "metadata": {},
   "source": [
    "Next, we read the gene sequence and the vector that contains our gene of interest."
   ]
  },
  {
   "cell_type": "code",
   "execution_count": 3,
   "metadata": {},
   "outputs": [
    {
     "name": "stdout",
     "output_type": "stream",
     "text": [
      "0000\n"
     ]
    },
    {
     "data": {
      "text/plain": [
       "1"
      ]
     },
     "execution_count": 3,
     "metadata": {},
     "output_type": "execute_result"
    }
   ],
   "source": [
    "# Create a Plasmid object and parse the input plasmid from the files/ directory\n",
    "\n",
    "sequence_file = 'files/A0QX55.fasta'\n",
    "vector_file = 'files/vector.dna'\n",
    "\n",
    "sequence_instance = Plasmid()\n",
    "sequence_instance.parse_vector(vector_file)\n",
    "sequence_instance.parse_sequence(sequence_file)"
   ]
  },
  {
   "cell_type": "markdown",
   "metadata": {},
   "source": [
    "We also define an output directory for the generated files and create a snapgene object for visualization"
   ]
  },
  {
   "cell_type": "code",
   "execution_count": 4,
   "metadata": {},
   "outputs": [],
   "source": [
    "# Create a SnapGene instance to write the eBlocks features to a snapgene file\n",
    "\n",
    "# Set output directory\n",
    "output_dir = 'output'\n",
    "\n",
    "snapgene_instance = SnapGene(sequence_instance=sequence_instance,\n",
    "                             output_dir=output_dir)"
   ]
  },
  {
   "cell_type": "markdown",
   "metadata": {},
   "source": [
    "We create an eBlockDesign instance that can initiate the design of the eblocks. Here, we choose as optimization method cost_optimization that aims to use as little basepairs as possible. Another option would be to do amount_optimization, that aims to cluster as many mutations as possible together, to get the lowest number of different eBlocks"
   ]
  },
  {
   "cell_type": "code",
   "execution_count": 5,
   "metadata": {},
   "outputs": [],
   "source": [
    "# Create an Eblocks object based on the input mutations and the gene sequence\n",
    "\n",
    "design_instance = EblockDesign(mutation_instance=mutation_instance,\n",
    "                               sequence_instance=sequence_instance,\n",
    "                               output_dir=output_dir,\n",
    "                               verbose=True,\n",
    "                               cost_optimization=False,\n",
    "                               amount_optimization=True)"
   ]
  },
  {
   "cell_type": "code",
   "execution_count": 6,
   "metadata": {},
   "outputs": [
    {
     "data": {
      "image/png": "[encoded data removed]",
      "text/plain": [
       "<Figure size 500x500 with 1 Axes>"
      ]
     },
     "metadata": {},
     "output_type": "display_data"
    }
   ],
   "source": [
    "# Create a Plots object and check the input vector\n",
    "\n",
    "# Create the Plot object\n",
    "plot_instance = Plot(mutation_instance=mutation_instance,\n",
    "                     eblocks_design_instance=design_instance,\n",
    "                     sequence_instance=sequence_instance,\n",
    "                     output_dir=output_dir,\n",
    "                     show=True)\n",
    "\n",
    "# Check the input vector\n",
    "plot_instance.plot_vector(figsize=(5, 5));"
   ]
  },
  {
   "cell_type": "code",
   "execution_count": 7,
   "metadata": {},
   "outputs": [],
   "source": [
    "# TODO Add DnaE1 gene sequence to vector\n",
    "# TODO What are the other things in the vector that do not have a name?"
   ]
  },
  {
   "cell_type": "markdown",
   "metadata": {},
   "source": [
    "In our vector we can see that our vector contains the SacB gene, has an origin of replication and contains a CmR (chloramphenicol) resistance marker"
   ]
  },
  {
   "cell_type": "code",
   "execution_count": 8,
   "metadata": {},
   "outputs": [],
   "source": [
    "\n",
    "# TODO Show eBlocks in vector as well\n",
    "# TODO Add plasmid visaulization of eBlock features\n",
    "\n",
    "\n",
    "# from Bio import SeqIO\n",
    "# from Bio.Graphics import GenomeDiagram\n",
    "# from Bio.SeqFeature import SeqFeature, FeatureLocation\n",
    "\n",
    "# # Parse the plasmid sequence\n",
    "# plasmid_seq_record = SeqIO.read(\"plasmid_sequence.fasta\", \"fasta\")\n",
    "\n",
    "# # Create a GenomeDiagram object\n",
    "# gd_diagram = GenomeDiagram.Diagram(\"Plasmid Map\")\n",
    "\n",
    "# # Add the sequence track\n",
    "# gd_track = gd_diagram.new_track(1, name=\"Plasmid\")\n",
    "# gd_feature_set = gd_track.new_set()\n",
    "\n",
    "# # Add the plasmid sequence\n",
    "# gd_feature_set.add_feature(SeqFeature(FeatureLocation(0, len(plasmid_seq_record))), color=\"black\")\n",
    "\n",
    "# # Parse the GFF3 file to extract features\n",
    "# # Assuming you have a function parse_gff3() that returns feature information\n",
    "# features = parse_gff3(\"plasmid_features.gff3\")\n",
    "\n",
    "# # Add the features to the plasmid map\n",
    "# for feature in features:\n",
    "#     start = feature.start\n",
    "#     end = feature.end\n",
    "#     name = feature.attributes[\"Name\"]\n",
    "#     gd_feature_set.add_feature(SeqFeature(FeatureLocation(start, end)), color=\"blue\", label=True, label_position=\"middle\", label_size=8, label_angle=0, label_strand=0, name=name)\n",
    "\n",
    "# # Draw the plasmid map\n",
    "# gd_diagram.draw(format=\"linear\", pagesize=(15*len(plasmid_seq_record), 400), fragments=1)\n",
    "# gd_diagram.write(\"plasmid_map.png\", \"png\")\n"
   ]
  },
  {
   "cell_type": "code",
   "execution_count": 16,
   "metadata": {},
   "outputs": [
    {
     "name": "stdout",
     "output_type": "stream",
     "text": [
      "Calculating relative codon frequencies, based on the selected genome id U00096 ...\n",
      "Starting eBlock design ...\n",
      "cluster N=2 {1: [1296, 1308, 1353, 1452, 1686, 1707, 1752, 1785, 1797, 1854, 2031, 2166, 2310, 2319, 2319], 0: [2766, 2916, 2919, 3069, 3093, 3102, 3114, 3138, 3156, 3258, 3270, 3288]}\n",
      "cluster N=3 {1: [1296, 1308, 1353, 1452, 1686, 1707, 1752, 1785, 1797, 1854], 2: [2031, 2166, 2310, 2319, 2319], 0: [2766, 2916, 2919, 3069, 3093, 3102, 3114, 3138, 3156, 3258, 3270, 3288]}\n",
      "Optimizing based on number of eBlocks ...\n",
      "Lowest number of eBlocks: 2\n",
      "GGT\n",
      "G\n",
      "G\n",
      "CGC\n",
      "R\n",
      "R\n",
      "ATC\n",
      "I\n",
      "I\n",
      "GCG\n",
      "A\n",
      "A\n",
      "AAG\n",
      "K\n",
      "K\n",
      "ATC\n",
      "I\n",
      "I\n",
      "CTG\n",
      "L\n",
      "L\n",
      "ACG\n",
      "T\n",
      "T\n",
      "GAC\n",
      "D\n",
      "D\n",
      "CCG\n",
      "P\n",
      "P\n",
      "AAC\n",
      "N\n",
      "N\n",
      "CAG\n",
      "Q\n",
      "Q\n",
      "GCG\n",
      "A\n",
      "A\n",
      "GAC\n",
      "D\n",
      "D\n",
      "AAG\n",
      "K\n",
      "K\n",
      "GAG\n",
      "E\n",
      "E\n",
      "TGG\n",
      "W\n",
      "W\n",
      "CAA\n",
      "Q\n",
      "Q\n",
      "GCG\n",
      "A\n",
      "A\n",
      "AAC\n",
      "N\n",
      "N\n",
      "AAC\n",
      "N\n",
      "N\n",
      "TCA\n",
      "S\n",
      "S\n",
      "CTC\n",
      "L\n",
      "L\n",
      "GTC\n",
      "V\n",
      "V\n",
      "CGC\n",
      "R\n",
      "R\n",
      "AAT\n",
      "N\n",
      "N\n",
      "Directory output\\clones\\G432E is not empty. Files might get overwritten or appended to.\n",
      "eBlock-1 [1284, 2357, '#ff7f0e']\n",
      "dnaE1 [13, 3568, '#d3d3d3']\n",
      "G432E [1306, 1309, 'black']\n",
      "Directory output\\clones\\R436Q is not empty. Files might get overwritten or appended to.\n",
      "eBlock-1 [1284, 2357, '#ff7f0e']\n",
      "dnaE1 [13, 3568, '#d3d3d3']\n",
      "R436Q [1318, 1321, 'black']\n",
      "Directory output\\clones\\I451A is not empty. Files might get overwritten or appended to.\n",
      "eBlock-1 [1284, 2357, '#ff7f0e']\n",
      "dnaE1 [13, 3568, '#d3d3d3']\n",
      "I451A [1363, 1366, 'black']\n",
      "Directory output\\clones\\A484S is not empty. Files might get overwritten or appended to.\n",
      "eBlock-1 [1284, 2357, '#ff7f0e']\n",
      "dnaE1 [13, 3568, '#d3d3d3']\n",
      "A484S [1462, 1465, 'black']\n",
      "Directory output\\clones\\K562A is not empty. Files might get overwritten or appended to.\n",
      "eBlock-1 [1284, 2357, '#ff7f0e']\n",
      "dnaE1 [13, 3568, '#d3d3d3']\n",
      "K562A [1696, 1699, 'black']\n",
      "Directory output\\clones\\I569V is not empty. Files might get overwritten or appended to.\n",
      "eBlock-1 [1284, 2357, '#ff7f0e']\n",
      "dnaE1 [13, 3568, '#d3d3d3']\n",
      "I569V [1717, 1720, 'black']\n",
      "Directory output\\clones\\L584V is not empty. Files might get overwritten or appended to.\n",
      "eBlock-1 [1284, 2357, '#ff7f0e']\n",
      "dnaE1 [13, 3568, '#d3d3d3']\n",
      "L584V [1762, 1765, 'black']\n",
      "Directory output\\clones\\T595S is not empty. Files might get overwritten or appended to.\n",
      "eBlock-1 [1284, 2357, '#ff7f0e']\n",
      "dnaE1 [13, 3568, '#d3d3d3']\n",
      "T595S [1795, 1798, 'black']\n",
      "Directory output\\clones\\D599Y is not empty. Files might get overwritten or appended to.\n",
      "eBlock-1 [1284, 2357, '#ff7f0e']\n",
      "dnaE1 [13, 3568, '#d3d3d3']\n",
      "D599Y [1807, 1810, 'black']\n",
      "Directory output\\clones\\P618D is not empty. Files might get overwritten or appended to.\n",
      "eBlock-1 [1284, 2357, '#ff7f0e']\n",
      "dnaE1 [13, 3568, '#d3d3d3']\n",
      "P618D [1864, 1867, 'black']\n",
      "Directory output\\clones\\N677H is not empty. Files might get overwritten or appended to.\n",
      "eBlock-1 [1284, 2357, '#ff7f0e']\n",
      "dnaE1 [13, 3568, '#d3d3d3']\n",
      "N677H [2041, 2044, 'black']\n",
      "Directory output\\clones\\Q722V is not empty. Files might get overwritten or appended to.\n",
      "eBlock-1 [1284, 2357, '#ff7f0e']\n",
      "dnaE1 [13, 3568, '#d3d3d3']\n",
      "Q722V [2176, 2179, 'black']\n",
      "Directory output\\clones\\A770-PLR is not empty. Files might get overwritten or appended to.\n",
      "A770-PLR [2320, 2332, 'red']\n",
      "eBlock-1 [1284, 2366, '#ff7f0e']\n",
      "dnaE1 [13, 3577, '#d3d3d3']\n",
      "Directory output\\clones\\D773E is not empty. Files might get overwritten or appended to.\n",
      "eBlock-1 [1284, 2357, '#ff7f0e']\n",
      "dnaE1 [13, 3568, '#d3d3d3']\n",
      "D773E [2329, 2332, 'black']\n",
      "Directory output\\clones\\K922R is not empty. Files might get overwritten or appended to.\n",
      "eBlock-2 [2754, 3326, '#2ca02c']\n",
      "dnaE1 [13, 3568, '#d3d3d3']\n",
      "K922R [2776, 2779, 'black']\n",
      "Directory output\\clones\\E972G is not empty. Files might get overwritten or appended to.\n",
      "eBlock-2 [2754, 3326, '#2ca02c']\n",
      "dnaE1 [13, 3568, '#d3d3d3']\n",
      "E972G [2926, 2929, 'black']\n",
      "Directory output\\clones\\W973S is not empty. Files might get overwritten or appended to.\n",
      "eBlock-2 [2754, 3326, '#2ca02c']\n",
      "dnaE1 [13, 3568, '#d3d3d3']\n",
      "W973S [2929, 2932, 'black']\n",
      "Directory output\\clones\\Q1023R is not empty. Files might get overwritten or appended to.\n",
      "eBlock-2 [2754, 3326, '#2ca02c']\n",
      "dnaE1 [13, 3568, '#d3d3d3']\n",
      "Q1023R [3079, 3082, 'black']\n",
      "Directory output\\clones\\A1031T is not empty. Files might get overwritten or appended to.\n",
      "eBlock-2 [2754, 3326, '#2ca02c']\n",
      "dnaE1 [13, 3568, '#d3d3d3']\n",
      "A1031T [3103, 3106, 'black']\n",
      "Directory output\\clones\\N1034Q is not empty. Files might get overwritten or appended to.\n",
      "eBlock-2 [2754, 3326, '#2ca02c']\n",
      "dnaE1 [13, 3568, '#d3d3d3']\n",
      "N1034Q [3112, 3115, 'black']\n",
      "Directory output\\clones\\N1038T is not empty. Files might get overwritten or appended to.\n",
      "eBlock-2 [2754, 3326, '#2ca02c']\n",
      "dnaE1 [13, 3568, '#d3d3d3']\n",
      "N1038T [3124, 3127, 'black']\n",
      "Directory output\\clones\\S1046N is not empty. Files might get overwritten or appended to.\n",
      "eBlock-2 [2754, 3326, '#2ca02c']\n",
      "dnaE1 [13, 3568, '#d3d3d3']\n",
      "S1046N [3148, 3151, 'black']\n",
      "Directory output\\clones\\L1052E is not empty. Files might get overwritten or appended to.\n",
      "eBlock-2 [2754, 3326, '#2ca02c']\n",
      "dnaE1 [13, 3568, '#d3d3d3']\n",
      "L1052E [3166, 3169, 'black']\n",
      "Directory output\\clones\\V1086N is not empty. Files might get overwritten or appended to.\n",
      "eBlock-2 [2754, 3326, '#2ca02c']\n",
      "dnaE1 [13, 3568, '#d3d3d3']\n",
      "V1086N [3268, 3271, 'black']\n",
      "Directory output\\clones\\R1090A is not empty. Files might get overwritten or appended to.\n",
      "eBlock-2 [2754, 3326, '#2ca02c']\n",
      "dnaE1 [13, 3568, '#d3d3d3']\n",
      "R1090A [3280, 3283, 'black']\n",
      "Directory output\\clones\\N1096E is not empty. Files might get overwritten or appended to.\n",
      "eBlock-2 [2754, 3326, '#2ca02c']\n",
      "dnaE1 [13, 3568, '#d3d3d3']\n",
      "N1096E [3298, 3301, 'black']\n",
      "Completed eBlock design.\n"
     ]
    }
   ],
   "source": [
    "# Run the eBlocks design and print the results\n",
    "\n",
    "design_instance.run_design_eblocks()"
   ]
  },
  {
   "cell_type": "code",
   "execution_count": 18,
   "metadata": {},
   "outputs": [
    {
     "ename": "",
     "evalue": "",
     "output_type": "error",
     "traceback": [
      "\u001b[1;31mThe Kernel crashed while executing code in the current cell or a previous cell. \n",
      "\u001b[1;31mPlease review the code in the cell(s) to identify a possible cause of the failure. \n",
      "\u001b[1;31mClick <a href='https://aka.ms/vscodeJupyterKernelCrash'>here</a> for more info. \n",
      "\u001b[1;31mView Jupyter <a href='command:jupyter.viewOutput'>log</a> for further details."
     ]
    }
   ],
   "source": [
    "codon_table = seq.CodonTable.default_table()\n",
    "codon = 'XXX'\n",
    "result = codon_table[str(codon)] if str(codon) in codon_table else None\n",
    "print(result)"
   ]
  },
  {
   "cell_type": "markdown",
   "metadata": {},
   "source": [
    "In the process, for each mutation a different eBlock is created and a .gb file is made to easily view the clone in a sequence editor. "
   ]
  },
  {
   "cell_type": "markdown",
   "metadata": {},
   "source": []
  },
  {
   "cell_type": "code",
   "execution_count": null,
   "metadata": {},
   "outputs": [],
   "source": [
    "# Now that we have designed the eblocks, we can visualize them using the Plot class\n",
    "\n",
    "plot_instance.plot_eblocks_mutations(figure_length=20,\n",
    "                                     figure_width=5)"
   ]
  },
  {
   "cell_type": "code",
   "execution_count": 11,
   "metadata": {},
   "outputs": [],
   "source": [
    "# TODO Describe the eblocks here, what you can see with each color etc"
   ]
  },
  {
   "cell_type": "code",
   "execution_count": null,
   "metadata": {},
   "outputs": [],
   "source": [
    "# Each type of mutations (insertions, deletions, substitutions) is represented by a different color, you can see the legend below\n",
    "\n",
    "plot_instance.plot_mutation_legend()"
   ]
  },
  {
   "cell_type": "code",
   "execution_count": null,
   "metadata": {},
   "outputs": [],
   "source": [
    "# To see how many mutations can be made in each eBlock, we can plot a histogram\n",
    "\n",
    "plot_instance.plot_histogram_mutations()"
   ]
  },
  {
   "cell_type": "code",
   "execution_count": null,
   "metadata": {},
   "outputs": [],
   "source": [
    "for eblock, mutation in design_instance.eblocks.items():\n",
    "    print(f\"{eblock}: {mutation}\")"
   ]
  },
  {
   "cell_type": "code",
   "execution_count": 15,
   "metadata": {},
   "outputs": [],
   "source": [
    "# TODO Do some explanation here"
   ]
  },
  {
   "cell_type": "code",
   "execution_count": 16,
   "metadata": {},
   "outputs": [],
   "source": [
    "# TODO Save the eblocks to a file"
   ]
  },
  {
   "cell_type": "code",
   "execution_count": 17,
   "metadata": {},
   "outputs": [],
   "source": [
    "# TODO (At the end of tutorial) Remake the eBlocks but optimize for amount of eBlocks"
   ]
  },
  {
   "cell_type": "code",
   "execution_count": 18,
   "metadata": {},
   "outputs": [],
   "source": [
    "# Create a primer design object and run the primer design process for IVA primers to amplify the eblocks\n",
    "\n",
    "primers_instance = DesignPrimers(mutation_instance=mutation_instance,\n",
    "                                 eblocks_design_instance=design_instance,\n",
    "                                 sequence_instance=sequence_instance, \n",
    "                                 output_dir=output_dir,\n",
    "                                 snapgene_instance=snapgene_instance)\n",
    "\n",
    "primers_instance.run_design()"
   ]
  },
  {
   "cell_type": "code",
   "execution_count": null,
   "metadata": {},
   "outputs": [],
   "source": [
    "59 - 14"
   ]
  },
  {
   "cell_type": "markdown",
   "metadata": {},
   "source": [
    "In this tutorial we will randomly design a number of mutations for the replicative DNA polymerase DnaE1 from *Mycobacterium smegmatis* to better understand it's function. <br>\n",
    "\n",
    "The expression plasmid containing Msmeg DnaE1 is XXX and is stored in XXX. <br>\n",
    "\n",
    "Gene from mycobrowser XXX and is stored in XXX <br>"
   ]
  },
  {
   "cell_type": "markdown",
   "metadata": {},
   "source": [
    "# TODO AT THE END OF THE TURORIAL CREATE A PDF WITH ALL THE PLOTS AND THE SEQUENCES"
   ]
  },
  {
   "cell_type": "markdown",
   "metadata": {},
   "source": [
    "# TODO TRY RUNNING TESTS FROM COMMAND LINE AS WELL AND SEE IF THIS WORKS"
   ]
  },
  {
   "cell_type": "markdown",
   "metadata": {},
   "source": [
    "Now we will randomly design some mutations for this gene. Here, we will not generate any mutations in the N- or C- terminal region, to ensure we can create a 20bp overlap with the beginning or end of the gene in our eBlock design <br>\n",
    "\n",
    "1. **Single point mutations** <br>\n",
    "\n",
    "Single point mutations contain a single mutation per eBlock\n",
    "\n",
    "2. **Multiple point mutations in same eBlock**\n",
    "\n",
    "Multiple point mutations contain multiple mutations in the same eBlock\n",
    "\n",
    "3. **Inserts**\n",
    "\n",
    "Inserts contain addition of amino acids in the eBlock\n",
    "\n",
    "4. **Deletions**\n",
    "\n",
    "Deletions have parts of the gene deleted"
   ]
  },
  {
   "cell_type": "markdown",
   "metadata": {},
   "source": []
  },
  {
   "cell_type": "markdown",
   "metadata": {},
   "source": []
  },
  {
   "cell_type": "markdown",
   "metadata": {},
   "source": []
  },
  {
   "cell_type": "markdown",
   "metadata": {},
   "source": []
  }
 ],
 "metadata": {
  "kernelspec": {
   "display_name": "eblocks_3",
   "language": "python",
   "name": "python3"
  },
  "language_info": {
   "codemirror_mode": {
    "name": "ipython",
    "version": 3
   },
   "file_extension": ".py",
   "mimetype": "text/x-python",
   "name": "python",
   "nbconvert_exporter": "python",
   "pygments_lexer": "ipython3",
   "version": "3.12.3"
  }
 },
 "nbformat": 4,
 "nbformat_minor": 2
}
