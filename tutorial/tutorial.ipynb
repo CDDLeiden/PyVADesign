{
 "cells": [
  {
   "cell_type": "code",
   "execution_count": 1,
   "metadata": {},
   "outputs": [],
   "source": [
    "import os\n",
    "import sys\n",
    "\n",
    "sys.path.append('..')\n",
    "\n",
    "from src.mutation import Mutation\n",
    "from src.sequence import Plasmid\n",
    "from src.eblocks import Eblocks, EblockDesign\n",
    "from src.primer import DesignPrimers\n",
    "from src.plot import Plot\n",
    "from src.utils import Utils, SnapGene\n",
    "\n",
    "%reload_ext autoreload\n",
    "%autoreload 2"
   ]
  },
  {
   "cell_type": "code",
   "execution_count": 2,
   "metadata": {},
   "outputs": [
    {
     "name": "stdout",
     "output_type": "stream",
     "text": [
      "The selected mutations are:\n",
      "\tMutation\tG432E\n",
      "\tMutation\tR436Q\n",
      "\tMutation\tI451A\n",
      "\tMutation\tA484S\n",
      "\tMutation\tK562A\n",
      "\tMutation\tI569V\n",
      "\tMutation\tL584V\n",
      "\tMutation\tT595S\n",
      "\tMutation\tD599Y\n",
      "\tMutation\tP618D\n",
      "\tMutation\tN677H\n",
      "\tMutation\tQ722V\n",
      "\tInsert\tA770-PLR\n",
      "\tMutation\tD773E\n",
      "\tMutation\tK922R\n",
      "\tMutation\tE972G\n",
      "\tMutation\tW973S\n",
      "\tMutation\tQ1023R\n",
      "\tMutation\tA1031T\n",
      "\tMutation\tN1034Q\n",
      "\tMutation\tN1038T\n",
      "\tMutation\tS1046N\n",
      "\tMutation\tL1052E\n",
      "\tMutation\tV1086N\n",
      "\tMutation\tR1090A\n",
      "\tMutation\tN1096E\n"
     ]
    }
   ],
   "source": [
    "# Create a Mutation object and parse the input mutations from the files/ directory\n",
    "\n",
    "mutations_file = 'files/mutations.txt'\n",
    "\n",
    "mutation_instance = Mutation()\n",
    "mutation_instance.parse_mutations(mutations_file)\n",
    "\n",
    "# Print the mutations that were parsed\n",
    "\n",
    "mutation_instance.print_mutations()"
   ]
  },
  {
   "cell_type": "code",
   "execution_count": 3,
   "metadata": {},
   "outputs": [],
   "source": [
    "# Create a Plasmid object and parse the input plasmid from the files/ directory\n",
    "\n",
    "sequence_file = 'files/A0QX55.fasta'\n",
    "vector_file = 'files/vector.dna'\n",
    "\n",
    "sequence_instance = Plasmid()\n",
    "sequence_instance.parse_sequence(sequence_file)\n",
    "sequence_instance.parse_vector(vector_file)"
   ]
  },
  {
   "cell_type": "code",
   "execution_count": 6,
   "metadata": {},
   "outputs": [],
   "source": [
    "# Create a SnapGene instance to write the eBlocks features to a snapgene file\n",
    "\n",
    "# Set output directory\n",
    "output_dir = 'output'\n",
    "\n",
    "snapgene_instance = SnapGene(sequence_instance=sequence_instance,\n",
    "                             output_dir=output_dir)"
   ]
  },
  {
   "cell_type": "code",
   "execution_count": 7,
   "metadata": {},
   "outputs": [],
   "source": [
    "# Create an Eblocks object based on the input mutations and the gene sequence\n",
    "\n",
    "# Print some information about the processes\n",
    "verbose = True  # TODO\n",
    "\n",
    "eblocks_instance = Eblocks()\n",
    "design_instance = EblockDesign(eblocks_instance=eblocks_instance,\n",
    "                               mutation_instance=mutation_instance,\n",
    "                               sequence_instance=sequence_instance,\n",
    "                               snapgene_instance=snapgene_instance)"
   ]
  },
  {
   "cell_type": "code",
   "execution_count": null,
   "metadata": {},
   "outputs": [],
   "source": [
    "# Create a Plots object and check the input vector\n",
    "\n",
    "# Create the Plot object\n",
    "plot_instance = Plot(mutation_instance=mutation_instance,\n",
    "                     eblocks_design_instance=design_instance,\n",
    "                     sequence_instance=sequence_instance,\n",
    "                     output_dir=output_dir)\n",
    "\n",
    "# Check the input vecto\n",
    "plot_instance.plot_vector(figsize=(7, 7));"
   ]
  },
  {
   "cell_type": "code",
   "execution_count": null,
   "metadata": {},
   "outputs": [],
   "source": [
    "# TODO Descibe the vector here, the gene etc"
   ]
  },
  {
   "cell_type": "code",
   "execution_count": null,
   "metadata": {},
   "outputs": [],
   "source": [
    "# Now that we have checked our vector, it is time to run the eBlock design process\n",
    "\n",
    "design_instance.run_design_eblocks()"
   ]
  },
  {
   "cell_type": "code",
   "execution_count": null,
   "metadata": {},
   "outputs": [],
   "source": [
    "# Now that we have designed the eblocks, we can visualize them using the Plot class\n",
    "\n",
    "plot_instance.plot_eblocks_mutations(figure_length=20,\n",
    "                                     figure_width=5)\n",
    "\n",
    "# TODO Get fixed colorscheme for the eBlocks\n",
    "# TODO Mycobacterium tuberculosis H37Rv rather than Mycobacterium"
   ]
  },
  {
   "cell_type": "code",
   "execution_count": null,
   "metadata": {},
   "outputs": [],
   "source": [
    "# TODO Describe the eblocks here, what you can see with each color etc"
   ]
  },
  {
   "cell_type": "code",
   "execution_count": null,
   "metadata": {},
   "outputs": [],
   "source": [
    "# Each type of mutations (insertions, deletions, substitutions) is represented by a different color, you can see the legend below\n",
    "\n",
    "plot_instance.plot_mutation_legend()"
   ]
  },
  {
   "cell_type": "code",
   "execution_count": null,
   "metadata": {},
   "outputs": [],
   "source": [
    "# To see how many mutations can be made in each eBlock, we can plot a histogram\n",
    "\n",
    "plot_instance.plot_histogram_mutations()"
   ]
  },
  {
   "cell_type": "code",
   "execution_count": null,
   "metadata": {},
   "outputs": [],
   "source": [
    "# TODO Do some explanation here"
   ]
  },
  {
   "cell_type": "code",
   "execution_count": null,
   "metadata": {},
   "outputs": [],
   "source": [
    "# TODO Save the eblocks to a file"
   ]
  },
  {
   "cell_type": "code",
   "execution_count": null,
   "metadata": {},
   "outputs": [],
   "source": [
    "# TODO (At the end of tutorial) Remake the eBlocks but optimize for amount of eBlocks"
   ]
  },
  {
   "cell_type": "code",
   "execution_count": null,
   "metadata": {},
   "outputs": [],
   "source": [
    "for k,v in design_instance.wt_eblocks.items():\n",
    "    print(k)\n",
    "    print(v)\n",
    "    print('\\n')"
   ]
  },
  {
   "cell_type": "code",
   "execution_count": null,
   "metadata": {},
   "outputs": [],
   "source": []
  },
  {
   "cell_type": "code",
   "execution_count": null,
   "metadata": {},
   "outputs": [],
   "source": [
    "# Create a primer design object and run the primer design process for IVA primers to amplify the eblocks\n",
    "\n",
    "primers_instance = DesignPrimers(mutation_instance=mutation_instance,\n",
    "                                 eblock_instance=eblocks_instance,\n",
    "                                 eblocks_design_instance=design_instance,\n",
    "                                 sequence_instance=sequence_instance, \n",
    "                                 output_dir=output_dir,\n",
    "                                 snapgene_instance=snapgene_instance)\n",
    "\n",
    "primers_instance.run_IVAprimer()\n",
    "\n",
    "# TODO Save the printed output to a file\n",
    "# TODO Do not show the data frame here, but save it to a file\n",
    "# TODO Remove fw_sequence and rv_sequence from df\n",
    "# TODO Save the begin and end index of the primer on the gene/vector sequence\n",
    "# TODO Indexes in SnapGene"
   ]
  },
  {
   "cell_type": "code",
   "execution_count": null,
   "metadata": {},
   "outputs": [],
   "source": [
    "# Also design sequencing primers to validate the insertion of the eblocks\n",
    "\n",
    "primers_instance.run_SEQprimer()"
   ]
  },
  {
   "cell_type": "code",
   "execution_count": null,
   "metadata": {},
   "outputs": [],
   "source": [
    "start_index = 0\n",
    "occurrences = 0\n",
    "substring = 'tcatcatcaccaccggatg' # 'ccgaccacggaaacatgttc'\n",
    "while True:\n",
    "    # Search for the substring starting from start_index\n",
    "    index = sequence_instance.vector.seq.find(substring, start_index)\n",
    "    # If the substring is not found, break the loop\n",
    "    if index == -1:\n",
    "        break\n",
    "    # Increment the count of occurrences\n",
    "    occurrences += 1\n",
    "    # Move the start_index to search for the next occurrence\n",
    "    start_index = index + len(substring)\n",
    "# Check if multiple occurrences were found\n",
    "if occurrences > 1:\n",
    "    print(\"Multiple occurrences found.\")\n",
    "else:\n",
    "    print(\"Only one occurrence found.\")"
   ]
  },
  {
   "cell_type": "code",
   "execution_count": null,
   "metadata": {},
   "outputs": [],
   "source": [
    "primers_instance.run_SEQprimer()"
   ]
  },
  {
   "cell_type": "code",
   "execution_count": null,
   "metadata": {},
   "outputs": [],
   "source": [
    "for k, v in design_instance.eblocks.items():\n",
    "    print(k, v[2], v)"
   ]
  },
  {
   "cell_type": "code",
   "execution_count": null,
   "metadata": {},
   "outputs": [],
   "source": []
  }
 ],
 "metadata": {
  "kernelspec": {
   "display_name": "eblocks_3",
   "language": "python",
   "name": "python3"
  },
  "language_info": {
   "codemirror_mode": {
    "name": "ipython",
    "version": 3
   },
   "file_extension": ".py",
   "mimetype": "text/x-python",
   "name": "python",
   "nbconvert_exporter": "python",
   "pygments_lexer": "ipython3",
   "version": "3.6.15"
  }
 },
 "nbformat": 4,
 "nbformat_minor": 2
}
