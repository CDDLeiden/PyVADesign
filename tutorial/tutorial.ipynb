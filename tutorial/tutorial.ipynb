{
 "cells": [
  {
   "cell_type": "code",
   "execution_count": 7,
   "metadata": {},
   "outputs": [],
   "source": [
    "import sys\n",
    "import pickle\n",
    "import numpy as np\n",
    "import pandas as pd\n",
    "\n",
    "sys.path.append('../src')\n",
    "sys.path.append('../src/data')\n",
    "\n",
    "from design_gene_blocks import DesignEblocks"
   ]
  },
  {
   "cell_type": "code",
   "execution_count": 8,
   "metadata": {},
   "outputs": [],
   "source": [
    "mutations = 'files/mutations_ed.txt'\n",
    "vector = 'files/snapgene_vector.dna'\n",
    "gene = 'files/mtb_DnaE1_seq.txt'\n",
    "output_location = 'output/'\n",
    "species = 'mtb' # Mycobacterium Tuberculosis\n",
    "codon_usage = 'src/data/codon_usage/'"
   ]
  },
  {
   "cell_type": "code",
   "execution_count": 9,
   "metadata": {},
   "outputs": [
    {
     "name": "stdout",
     "output_type": "stream",
     "text": [
      "G432E Mutation\n",
      "R436Q Mutation\n",
      "I451A Mutation\n",
      "I477D Mutation\n",
      "I477D-A484S Combined\n",
      "A484S Mutation\n",
      "I537-K562 Deletion\n",
      "A540L Mutation\n",
      "K562A Mutation\n",
      "I569V Mutation\n",
      "L584V Mutation\n",
      "T595S Mutation\n",
      "D599Y Mutation\n",
      "P618D Mutation\n",
      "N677H Mutation\n",
      "Q722V Mutation\n",
      "A770-PLR Insert\n",
      "D773E Mutation\n",
      "K922R Mutation\n",
      "E972G Mutation\n",
      "W973S Mutation\n",
      "Q1023R Mutation\n",
      "A1031T Mutation\n",
      "N1034Q Mutation\n",
      "N1038T Mutation\n",
      "S1046N Mutation\n",
      "L1052E Mutation\n",
      "V1086N Mutation\n",
      "R1090A Mutation\n",
      "N1096E Mutation\n"
     ]
    },
    {
     "ename": "FileNotFoundError",
     "evalue": "[WinError 3] The system cannot find the path specified: 'data/codon_usage'",
     "output_type": "error",
     "traceback": [
      "\u001b[1;31m---------------------------------------------------------------------------\u001b[0m",
      "\u001b[1;31mFileNotFoundError\u001b[0m                         Traceback (most recent call last)",
      "\u001b[1;32mc:\\Users\\Rosan\\Documents\\git\\my_repositories\\design_gene_blocks\\tutorial\\tutorial.ipynb Cell 3\u001b[0m line \u001b[0;36m3\n\u001b[0;32m      <a href='vscode-notebook-cell:/c%3A/Users/Rosan/Documents/git/my_repositories/design_gene_blocks/tutorial/tutorial.ipynb#X11sZmlsZQ%3D%3D?line=0'>1</a>\u001b[0m \u001b[39m# Create instance of DesignEblocks\u001b[39;00m\n\u001b[1;32m----> <a href='vscode-notebook-cell:/c%3A/Users/Rosan/Documents/git/my_repositories/design_gene_blocks/tutorial/tutorial.ipynb#X11sZmlsZQ%3D%3D?line=2'>3</a>\u001b[0m eBlocks_instance \u001b[39m=\u001b[39m DesignEblocks(\n\u001b[0;32m      <a href='vscode-notebook-cell:/c%3A/Users/Rosan/Documents/git/my_repositories/design_gene_blocks/tutorial/tutorial.ipynb#X11sZmlsZQ%3D%3D?line=3'>4</a>\u001b[0m                         sequence_fp\u001b[39m=\u001b[39;49mgene,\n\u001b[0;32m      <a href='vscode-notebook-cell:/c%3A/Users/Rosan/Documents/git/my_repositories/design_gene_blocks/tutorial/tutorial.ipynb#X11sZmlsZQ%3D%3D?line=4'>5</a>\u001b[0m                         mutations_fp\u001b[39m=\u001b[39;49mmutations,\n\u001b[0;32m      <a href='vscode-notebook-cell:/c%3A/Users/Rosan/Documents/git/my_repositories/design_gene_blocks/tutorial/tutorial.ipynb#X11sZmlsZQ%3D%3D?line=5'>6</a>\u001b[0m                         output_fp\u001b[39m=\u001b[39;49moutput_location,\n\u001b[0;32m      <a href='vscode-notebook-cell:/c%3A/Users/Rosan/Documents/git/my_repositories/design_gene_blocks/tutorial/tutorial.ipynb#X11sZmlsZQ%3D%3D?line=6'>7</a>\u001b[0m                         species\u001b[39m=\u001b[39;49m\u001b[39m'\u001b[39;49m\u001b[39mmtb\u001b[39;49m\u001b[39m'\u001b[39;49m)\n",
      "File \u001b[1;32mc:\\Users\\Rosan\\Documents\\git\\my_repositories\\design_gene_blocks\\tutorial\\../src\\design_gene_blocks.py:46\u001b[0m, in \u001b[0;36mDesignEblocks.__init__\u001b[1;34m(self, sequence_fp, mutations_fp, output_fp, species, min_bin_overlap, idt_max_length_fragment, idt_min_length_fragment, idt_min_order)\u001b[0m\n\u001b[0;32m     44\u001b[0m \u001b[39mself\u001b[39m\u001b[39m.\u001b[39mdna_seq \u001b[39m=\u001b[39m \u001b[39mself\u001b[39m\u001b[39m.\u001b[39mread_seq(sequence_fp)\n\u001b[0;32m     45\u001b[0m \u001b[39mself\u001b[39m\u001b[39m.\u001b[39mmutations, \u001b[39mself\u001b[39m\u001b[39m.\u001b[39mmutation_types \u001b[39m=\u001b[39m \u001b[39mself\u001b[39m\u001b[39m.\u001b[39mread_mutations(mutations_fp)  \u001b[39m# Types > Mutation, Insert, Deletion\u001b[39;00m\n\u001b[1;32m---> 46\u001b[0m \u001b[39mself\u001b[39m\u001b[39m.\u001b[39mcodon_usage \u001b[39m=\u001b[39m \u001b[39mself\u001b[39;49m\u001b[39m.\u001b[39;49mcheck_existance_codon_usage_table()\n",
      "File \u001b[1;32mc:\\Users\\Rosan\\Documents\\git\\my_repositories\\design_gene_blocks\\tutorial\\../src\\design_gene_blocks.py:209\u001b[0m, in \u001b[0;36mDesignEblocks.check_existance_codon_usage_table\u001b[1;34m(self)\u001b[0m\n\u001b[0;32m    208\u001b[0m \u001b[39mdef\u001b[39;00m \u001b[39mcheck_existance_codon_usage_table\u001b[39m(\u001b[39mself\u001b[39m):\n\u001b[1;32m--> 209\u001b[0m     codon_usage_present \u001b[39m=\u001b[39m [file \u001b[39mfor\u001b[39;00m file \u001b[39min\u001b[39;00m os\u001b[39m.\u001b[39;49mlistdir(\u001b[39mr\u001b[39;49m\u001b[39m\"\u001b[39;49m\u001b[39mdata/codon_usage\u001b[39;49m\u001b[39m\"\u001b[39;49m)]\n\u001b[0;32m    210\u001b[0m     organisms_present \u001b[39m=\u001b[39m [file\u001b[39m.\u001b[39msplit(\u001b[39m'\u001b[39m\u001b[39m.\u001b[39m\u001b[39m'\u001b[39m)[\u001b[39m0\u001b[39m:\u001b[39m-\u001b[39m\u001b[39m1\u001b[39m] \u001b[39mfor\u001b[39;00m file \u001b[39min\u001b[39;00m codon_usage_present]\n\u001b[0;32m    211\u001b[0m     organisms_present \u001b[39m=\u001b[39m [i[\u001b[39m0\u001b[39m] \u001b[39mfor\u001b[39;00m i \u001b[39min\u001b[39;00m organisms_present]\n",
      "\u001b[1;31mFileNotFoundError\u001b[0m: [WinError 3] The system cannot find the path specified: 'data/codon_usage'"
     ]
    }
   ],
   "source": [
    "# Create instance of DesignEblocks\n",
    "\n",
    "eBlocks_instance = DesignEblocks(\n",
    "                        sequence_fp=gene,\n",
    "                        mutations_fp=mutations,\n",
    "                        output_fp=output_location,\n",
    "                        species='mtb')\n",
    "\n"
   ]
  },
  {
   "cell_type": "code",
   "execution_count": null,
   "metadata": {},
   "outputs": [],
   "source": []
  }
 ],
 "metadata": {
  "kernelspec": {
   "display_name": "eblocks_2",
   "language": "python",
   "name": "python3"
  },
  "language_info": {
   "codemirror_mode": {
    "name": "ipython",
    "version": 3
   },
   "file_extension": ".py",
   "mimetype": "text/x-python",
   "name": "python",
   "nbconvert_exporter": "python",
   "pygments_lexer": "ipython3",
   "version": "3.9.9"
  },
  "orig_nbformat": 4,
  "vscode": {
   "interpreter": {
    "hash": "d7d289948f61f5fcb13fbcf193359a612b9e5c1095e49523e79ec52da5e952f7"
   }
  }
 },
 "nbformat": 4,
 "nbformat_minor": 2
}
